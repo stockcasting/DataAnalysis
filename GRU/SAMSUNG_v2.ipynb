{
 "cells": [
  {
   "cell_type": "code",
   "execution_count": 1,
   "metadata": {
    "ExecuteTime": {
     "end_time": "2020-09-08T06:08:59.101013Z",
     "start_time": "2020-09-08T06:08:55.399675Z"
    }
   },
   "outputs": [],
   "source": [
    "import numpy as np\n",
    "import pandas as pd\n",
    "import matplotlib.pyplot as plt\n",
    "import mplfinance as mpf\n",
    "import matplotlib as mpl\n",
    "import os \n",
    "from sklearn.preprocessing import MinMaxScaler, StandardScaler\n",
    "from tensorflow.keras.models import Sequential\n",
    "from tensorflow.keras.layers import Dense\n",
    "from tensorflow.keras.callbacks import EarlyStopping, ModelCheckpoint\n",
    "from tensorflow.keras.layers import LSTM, Conv1D, Conv2D, GRU\n",
    "from tensorflow.keras.layers import TimeDistributed\n",
    "from tensorflow import keras"
   ]
  },
  {
   "cell_type": "code",
   "execution_count": 2,
   "metadata": {
    "ExecuteTime": {
     "end_time": "2020-09-08T06:08:59.162906Z",
     "start_time": "2020-09-08T06:08:59.147909Z"
    }
   },
   "outputs": [],
   "source": [
    "plt.rcParams['font.family'] = 'NanumbarunGothic'\n",
    "mpl.rcParams['axes.unicode_minus'] = False"
   ]
  },
  {
   "cell_type": "code",
   "execution_count": 3,
   "metadata": {
    "ExecuteTime": {
     "end_time": "2020-09-08T06:08:59.210827Z",
     "start_time": "2020-09-08T06:08:59.180821Z"
    }
   },
   "outputs": [],
   "source": [
    "samsung = pd.read_csv('./data/SSE2015-01-01_2020-06-30.csv')\n",
    "samsung.drop('Change', axis=1, inplace=True)\n",
    "samsung = samsung[samsung['Open']!=0]\n",
    "samsung.index = pd.to_datetime(samsung.Date)\n",
    "samsung.drop('Date', axis=1, inplace=True)\n",
    "samsung = samsung['2018-01-01':]"
   ]
  },
  {
   "cell_type": "code",
   "execution_count": 4,
   "metadata": {
    "ExecuteTime": {
     "end_time": "2020-09-08T06:08:59.242085Z",
     "start_time": "2020-09-08T06:08:59.227646Z"
    }
   },
   "outputs": [],
   "source": [
    "def investing_preprocessing(filepath):\n",
    "    data = pd.read_csv(str(filepath))[::-1].reset_index(drop=True)\n",
    "    if '날짜' in data.keys():\n",
    "        data['날짜'] = data['날짜'].str.replace('([0-9]{4})년 ([0-9]{2})월 ([0-9]{2})일', '\\\\1-\\\\2-\\\\3')\n",
    "        data.rename(columns={'날짜':'Date'}, inplace=True)\n",
    "    data.index = pd.to_datetime(data['Date'])\n",
    "    data.drop('Date', axis=1, inplace=True)\n",
    "    return data\n",
    "\n",
    "def process_Volume(volume):\n",
    "    if volume == '-':\n",
    "        return np.nan\n",
    "    \n",
    "    scale = volume[-1]\n",
    "    val = float(volume[:-1])\n",
    "    \n",
    "    if scale == 'K':\n",
    "        val = val*1e3\n",
    "    elif scale == 'M':\n",
    "        val = val*1e6\n",
    "    elif scale == 'B':\n",
    "        val = val*1e9\n",
    "        \n",
    "    return val"
   ]
  },
  {
   "cell_type": "raw",
   "metadata": {},
   "source": [
    "시가,고가,저가,종가,거래량,나스닥 종합,환율,반도체 지수,외국인 거래량,기관거래량,코스피,1년채권,PBR,PER,ROE"
   ]
  },
  {
   "cell_type": "code",
   "execution_count": 5,
   "metadata": {
    "ExecuteTime": {
     "end_time": "2020-09-08T06:08:59.290038Z",
     "start_time": "2020-09-08T06:08:59.260010Z"
    }
   },
   "outputs": [
    {
     "data": {
      "text/plain": [
       "Date\n",
       "2018-01-02    7006.90\n",
       "2018-01-03    7065.53\n",
       "Name: 종가, dtype: float64"
      ]
     },
     "execution_count": 5,
     "metadata": {},
     "output_type": "execute_result"
    }
   ],
   "source": [
    "nasdaq = investing_preprocessing('./data/NASDAQ.csv')\n",
    "nasdaq['거래량'] = nasdaq['거래량'].apply(process_Volume)\n",
    "nasdaq.keys()\n",
    "nasdaq = nasdaq['종가'].str.replace(\",\", '').astype(float)\n",
    "nasdaq.head(2)"
   ]
  },
  {
   "cell_type": "code",
   "execution_count": 7,
   "metadata": {
    "ExecuteTime": {
     "end_time": "2020-09-08T06:08:59.369757Z",
     "start_time": "2020-09-08T06:08:59.339864Z"
    }
   },
   "outputs": [
    {
     "data": {
      "text/plain": [
       "Date\n",
       "2018-01-01    1067.38\n",
       "2018-01-02    1067.23\n",
       "Name: Open, dtype: float64"
      ]
     },
     "execution_count": 7,
     "metadata": {},
     "output_type": "execute_result"
    }
   ],
   "source": [
    "exchange = investing_preprocessing('./data/exchange.csv')\n",
    "exchange = exchange['Open'].str.replace(\",\", '').astype(float)[::-1]['2018-01-01':]\n",
    "exchange.head(2)"
   ]
  },
  {
   "cell_type": "code",
   "execution_count": 8,
   "metadata": {
    "ExecuteTime": {
     "end_time": "2020-09-08T06:09:00.096972Z",
     "start_time": "2020-09-08T06:09:00.056952Z"
    },
    "scrolled": true
   },
   "outputs": [
    {
     "data": {
      "text/plain": [
       "Date\n",
       "2018-01-02    1287.70\n",
       "2018-01-03    1309.86\n",
       "Name: 종가, dtype: float64"
      ]
     },
     "execution_count": 8,
     "metadata": {},
     "output_type": "execute_result"
    }
   ],
   "source": [
    "Semiconductor = investing_preprocessing('./data/Philadelphia Semiconductor Index.csv')\n",
    "Semiconductor = Semiconductor['종가'].str.replace(\",\", '').astype(float)['2018-01-01':]\n",
    "Semiconductor.head(2)"
   ]
  },
  {
   "cell_type": "code",
   "execution_count": 9,
   "metadata": {
    "ExecuteTime": {
     "end_time": "2020-09-08T06:09:00.444663Z",
     "start_time": "2020-09-08T06:09:00.240453Z"
    }
   },
   "outputs": [
    {
     "data": {
      "text/html": [
       "<div>\n",
       "<style scoped>\n",
       "    .dataframe tbody tr th:only-of-type {\n",
       "        vertical-align: middle;\n",
       "    }\n",
       "\n",
       "    .dataframe tbody tr th {\n",
       "        vertical-align: top;\n",
       "    }\n",
       "\n",
       "    .dataframe thead th {\n",
       "        text-align: right;\n",
       "    }\n",
       "</style>\n",
       "<table border=\"1\" class=\"dataframe\">\n",
       "  <thead>\n",
       "    <tr style=\"text-align: right;\">\n",
       "      <th></th>\n",
       "      <th>기관 순매매량</th>\n",
       "      <th>외국인 순매매량</th>\n",
       "    </tr>\n",
       "    <tr>\n",
       "      <th>Date</th>\n",
       "      <th></th>\n",
       "      <th></th>\n",
       "    </tr>\n",
       "  </thead>\n",
       "  <tbody>\n",
       "    <tr>\n",
       "      <th>2018-01-02</th>\n",
       "      <td>-23405.0</td>\n",
       "      <td>-18019.0</td>\n",
       "    </tr>\n",
       "    <tr>\n",
       "      <th>2018-01-03</th>\n",
       "      <td>-47563.0</td>\n",
       "      <td>45759.0</td>\n",
       "    </tr>\n",
       "  </tbody>\n",
       "</table>\n",
       "</div>"
      ],
      "text/plain": [
       "            기관 순매매량  외국인 순매매량\n",
       "Date                         \n",
       "2018-01-02 -23405.0  -18019.0\n",
       "2018-01-03 -47563.0   45759.0"
      ]
     },
     "execution_count": 9,
     "metadata": {},
     "output_type": "execute_result"
    }
   ],
   "source": [
    "foreign = pd.read_excel('./data/SSEforeign2017-2020.xlsx')\n",
    "foreign.index = pd.to_datetime(foreign['Date'])\n",
    "foreign.drop('Date', axis=1, inplace=True)\n",
    "foreign['기관 순매매량'] = foreign['기관 순매매량'].str.replace(\",\", '').astype(float)\n",
    "foreign['외국인 순매매량'] = foreign['외국인 순매매량'].str.replace(\",\", '').astype(float)\n",
    "foreign = foreign[['기관 순매매량', '외국인 순매매량']][::-1]['2018-01-01':]\n",
    "foreign.head(2)"
   ]
  },
  {
   "cell_type": "code",
   "execution_count": 10,
   "metadata": {
    "ExecuteTime": {
     "end_time": "2020-09-08T06:09:00.870948Z",
     "start_time": "2020-09-08T06:09:00.839988Z"
    }
   },
   "outputs": [
    {
     "data": {
      "text/plain": [
       "Date\n",
       "2018-01-02    2479.65\n",
       "2018-01-03    2486.35\n",
       "Name: 종가, dtype: float64"
      ]
     },
     "execution_count": 10,
     "metadata": {},
     "output_type": "execute_result"
    }
   ],
   "source": [
    "KOSPI = investing_preprocessing('./data/KOSPI.csv')\n",
    "KOSPI = KOSPI['종가'].str.replace(\",\", '').astype(float)\n",
    "KOSPI.head(2)"
   ]
  },
  {
   "cell_type": "code",
   "execution_count": 11,
   "metadata": {
    "ExecuteTime": {
     "end_time": "2020-09-08T06:09:01.175818Z",
     "start_time": "2020-09-08T06:09:01.140913Z"
    }
   },
   "outputs": [
    {
     "data": {
      "text/plain": [
       "Date\n",
       "2018-01-02    1.816\n",
       "2018-01-03    1.792\n",
       "Name: 종가, dtype: float64"
      ]
     },
     "execution_count": 11,
     "metadata": {},
     "output_type": "execute_result"
    }
   ],
   "source": [
    "Korea_bond_1year = investing_preprocessing('./data/KOREA_bond_1year.csv')\n",
    "Korea_bond_1year = Korea_bond_1year['종가']['2018-01-01':]\n",
    "Korea_bond_1year.head(2)"
   ]
  },
  {
   "cell_type": "code",
   "execution_count": 12,
   "metadata": {
    "ExecuteTime": {
     "end_time": "2020-09-08T06:09:01.363828Z",
     "start_time": "2020-09-08T06:09:01.343807Z"
    }
   },
   "outputs": [
    {
     "data": {
      "text/html": [
       "<div>\n",
       "<style scoped>\n",
       "    .dataframe tbody tr th:only-of-type {\n",
       "        vertical-align: middle;\n",
       "    }\n",
       "\n",
       "    .dataframe tbody tr th {\n",
       "        vertical-align: top;\n",
       "    }\n",
       "\n",
       "    .dataframe thead th {\n",
       "        text-align: right;\n",
       "    }\n",
       "</style>\n",
       "<table border=\"1\" class=\"dataframe\">\n",
       "  <thead>\n",
       "    <tr style=\"text-align: right;\">\n",
       "      <th></th>\n",
       "      <th>PBR</th>\n",
       "      <th>PER</th>\n",
       "      <th>ROE</th>\n",
       "    </tr>\n",
       "    <tr>\n",
       "      <th>Date</th>\n",
       "      <th></th>\n",
       "      <th></th>\n",
       "      <th></th>\n",
       "    </tr>\n",
       "  </thead>\n",
       "  <tbody>\n",
       "    <tr>\n",
       "      <th>2018-01-02</th>\n",
       "      <td>0.037682</td>\n",
       "      <td>0.265244</td>\n",
       "      <td>0.142064</td>\n",
       "    </tr>\n",
       "    <tr>\n",
       "      <th>2018-01-03</th>\n",
       "      <td>0.038125</td>\n",
       "      <td>0.268364</td>\n",
       "      <td>0.142064</td>\n",
       "    </tr>\n",
       "  </tbody>\n",
       "</table>\n",
       "</div>"
      ],
      "text/plain": [
       "                 PBR       PER       ROE\n",
       "Date                                    \n",
       "2018-01-02  0.037682  0.265244  0.142064\n",
       "2018-01-03  0.038125  0.268364  0.142064"
      ]
     },
     "execution_count": 12,
     "metadata": {},
     "output_type": "execute_result"
    }
   ],
   "source": [
    "PBR_PER_ROE = investing_preprocessing(\"./data/PBR_PER_ROE.csv\")\n",
    "PBR_PER_ROE = PBR_PER_ROE[['PBR', 'PER', 'ROE']][::-1]['2018-01-01':]\n",
    "PBR_PER_ROE.head(2)"
   ]
  },
  {
   "cell_type": "code",
   "execution_count": 13,
   "metadata": {
    "ExecuteTime": {
     "end_time": "2020-09-08T06:09:02.164019Z",
     "start_time": "2020-09-08T06:09:02.141965Z"
    }
   },
   "outputs": [],
   "source": [
    "inputdata = pd.concat([samsung, nasdaq, exchange, Semiconductor, foreign, KOSPI, Korea_bond_1year, PBR_PER_ROE], axis=1)"
   ]
  },
  {
   "cell_type": "code",
   "execution_count": 14,
   "metadata": {
    "ExecuteTime": {
     "end_time": "2020-09-08T06:09:02.349663Z",
     "start_time": "2020-09-08T06:09:02.341280Z"
    }
   },
   "outputs": [],
   "source": [
    "inputdata.columns = [\"Open\", \"High\", \"Low\", \"Close\", \"Volume\", \"nasdaq\", \n",
    "                     \"exchange\", \"Semiconductor\", \"foreign\", \"institution\", \n",
    "                     \"KOSPI\", \"Korea_bond_1year\", \"PBR\", \"PER\", \"ROE\"]"
   ]
  },
  {
   "cell_type": "code",
   "execution_count": 15,
   "metadata": {
    "ExecuteTime": {
     "end_time": "2020-09-08T06:09:02.562327Z",
     "start_time": "2020-09-08T06:09:02.552282Z"
    }
   },
   "outputs": [],
   "source": [
    "inputdata.dropna(subset=['Close'], inplace=True)"
   ]
  },
  {
   "cell_type": "code",
   "execution_count": 16,
   "metadata": {
    "ExecuteTime": {
     "end_time": "2020-09-08T06:09:03.037185Z",
     "start_time": "2020-09-08T06:09:03.024175Z"
    }
   },
   "outputs": [
    {
     "data": {
      "text/plain": [
       "Open                 0\n",
       "High                 0\n",
       "Low                  0\n",
       "Close                0\n",
       "Volume               0\n",
       "nasdaq              19\n",
       "exchange             0\n",
       "Semiconductor       19\n",
       "foreign              0\n",
       "institution          0\n",
       "KOSPI                0\n",
       "Korea_bond_1year     1\n",
       "PBR                  0\n",
       "PER                  0\n",
       "ROE                  0\n",
       "dtype: int64"
      ]
     },
     "execution_count": 16,
     "metadata": {},
     "output_type": "execute_result"
    }
   ],
   "source": [
    "inputdata.isnull().sum()"
   ]
  },
  {
   "cell_type": "code",
   "execution_count": 17,
   "metadata": {
    "ExecuteTime": {
     "end_time": "2020-09-08T06:09:03.384620Z",
     "start_time": "2020-09-08T06:09:03.367633Z"
    }
   },
   "outputs": [],
   "source": [
    "inputdata.dropna(inplace=True)"
   ]
  },
  {
   "cell_type": "code",
   "execution_count": 18,
   "metadata": {
    "ExecuteTime": {
     "end_time": "2020-09-08T06:09:03.605770Z",
     "start_time": "2020-09-08T06:09:03.584826Z"
    }
   },
   "outputs": [
    {
     "data": {
      "text/plain": [
       "array([], dtype=bool)"
      ]
     },
     "execution_count": 18,
     "metadata": {},
     "output_type": "execute_result"
    }
   ],
   "source": [
    "inputdata[inputdata.nasdaq.isnull()].index == inputdata[inputdata.Semiconductor.isnull()].index"
   ]
  },
  {
   "cell_type": "code",
   "execution_count": 19,
   "metadata": {
    "ExecuteTime": {
     "end_time": "2020-09-08T06:09:03.777803Z",
     "start_time": "2020-09-08T06:09:03.766006Z"
    }
   },
   "outputs": [
    {
     "data": {
      "text/plain": [
       "DatetimeIndex([], dtype='datetime64[ns]', name='Date', freq=None)"
      ]
     },
     "execution_count": 19,
     "metadata": {},
     "output_type": "execute_result"
    }
   ],
   "source": [
    "inputdata[inputdata.nasdaq.isnull()].index"
   ]
  },
  {
   "cell_type": "code",
   "execution_count": 20,
   "metadata": {
    "ExecuteTime": {
     "end_time": "2020-09-08T06:09:03.965799Z",
     "start_time": "2020-09-08T06:09:03.956632Z"
    }
   },
   "outputs": [
    {
     "data": {
      "text/plain": [
       "Index([], dtype='object', name='Date')"
      ]
     },
     "execution_count": 20,
     "metadata": {},
     "output_type": "execute_result"
    }
   ],
   "source": [
    "inputdata[inputdata.nasdaq.isnull()].index.day_name()"
   ]
  },
  {
   "cell_type": "code",
   "execution_count": 21,
   "metadata": {
    "ExecuteTime": {
     "end_time": "2020-09-08T06:09:04.295480Z",
     "start_time": "2020-09-08T06:09:04.269453Z"
    }
   },
   "outputs": [
    {
     "data": {
      "text/html": [
       "<div>\n",
       "<style scoped>\n",
       "    .dataframe tbody tr th:only-of-type {\n",
       "        vertical-align: middle;\n",
       "    }\n",
       "\n",
       "    .dataframe tbody tr th {\n",
       "        vertical-align: top;\n",
       "    }\n",
       "\n",
       "    .dataframe thead th {\n",
       "        text-align: right;\n",
       "    }\n",
       "</style>\n",
       "<table border=\"1\" class=\"dataframe\">\n",
       "  <thead>\n",
       "    <tr style=\"text-align: right;\">\n",
       "      <th></th>\n",
       "      <th>Open</th>\n",
       "      <th>High</th>\n",
       "      <th>Low</th>\n",
       "      <th>Close</th>\n",
       "      <th>Volume</th>\n",
       "      <th>nasdaq</th>\n",
       "      <th>exchange</th>\n",
       "      <th>Semiconductor</th>\n",
       "      <th>foreign</th>\n",
       "      <th>institution</th>\n",
       "      <th>KOSPI</th>\n",
       "      <th>Korea_bond_1year</th>\n",
       "      <th>PBR</th>\n",
       "      <th>PER</th>\n",
       "      <th>ROE</th>\n",
       "    </tr>\n",
       "    <tr>\n",
       "      <th>Date</th>\n",
       "      <th></th>\n",
       "      <th></th>\n",
       "      <th></th>\n",
       "      <th></th>\n",
       "      <th></th>\n",
       "      <th></th>\n",
       "      <th></th>\n",
       "      <th></th>\n",
       "      <th></th>\n",
       "      <th></th>\n",
       "      <th></th>\n",
       "      <th></th>\n",
       "      <th></th>\n",
       "      <th></th>\n",
       "      <th></th>\n",
       "    </tr>\n",
       "  </thead>\n",
       "  <tbody>\n",
       "    <tr>\n",
       "      <th>2018-01-02</th>\n",
       "      <td>51380.0</td>\n",
       "      <td>51400.0</td>\n",
       "      <td>50780.0</td>\n",
       "      <td>51020.0</td>\n",
       "      <td>169485.0</td>\n",
       "      <td>7006.90</td>\n",
       "      <td>1067.23</td>\n",
       "      <td>1287.70</td>\n",
       "      <td>-23405.0</td>\n",
       "      <td>-18019.0</td>\n",
       "      <td>2479.65</td>\n",
       "      <td>1.816</td>\n",
       "      <td>0.037682</td>\n",
       "      <td>0.265244</td>\n",
       "      <td>0.142064</td>\n",
       "    </tr>\n",
       "    <tr>\n",
       "      <th>2018-01-03</th>\n",
       "      <td>52540.0</td>\n",
       "      <td>52560.0</td>\n",
       "      <td>51420.0</td>\n",
       "      <td>51620.0</td>\n",
       "      <td>200270.0</td>\n",
       "      <td>7065.53</td>\n",
       "      <td>1062.88</td>\n",
       "      <td>1309.86</td>\n",
       "      <td>-47563.0</td>\n",
       "      <td>45759.0</td>\n",
       "      <td>2486.35</td>\n",
       "      <td>1.792</td>\n",
       "      <td>0.038125</td>\n",
       "      <td>0.268364</td>\n",
       "      <td>0.142064</td>\n",
       "    </tr>\n",
       "  </tbody>\n",
       "</table>\n",
       "</div>"
      ],
      "text/plain": [
       "               Open     High      Low    Close    Volume   nasdaq  exchange  \\\n",
       "Date                                                                          \n",
       "2018-01-02  51380.0  51400.0  50780.0  51020.0  169485.0  7006.90   1067.23   \n",
       "2018-01-03  52540.0  52560.0  51420.0  51620.0  200270.0  7065.53   1062.88   \n",
       "\n",
       "            Semiconductor  foreign  institution    KOSPI  Korea_bond_1year  \\\n",
       "Date                                                                         \n",
       "2018-01-02        1287.70 -23405.0     -18019.0  2479.65             1.816   \n",
       "2018-01-03        1309.86 -47563.0      45759.0  2486.35             1.792   \n",
       "\n",
       "                 PBR       PER       ROE  \n",
       "Date                                      \n",
       "2018-01-02  0.037682  0.265244  0.142064  \n",
       "2018-01-03  0.038125  0.268364  0.142064  "
      ]
     },
     "execution_count": 21,
     "metadata": {},
     "output_type": "execute_result"
    }
   ],
   "source": [
    "inputdata.head(2)"
   ]
  },
  {
   "cell_type": "code",
   "execution_count": null,
   "metadata": {},
   "outputs": [],
   "source": []
  },
  {
   "cell_type": "code",
   "execution_count": null,
   "metadata": {},
   "outputs": [],
   "source": []
  },
  {
   "cell_type": "code",
   "execution_count": 21,
   "metadata": {
    "ExecuteTime": {
     "end_time": "2020-09-08T05:37:11.901746Z",
     "start_time": "2020-09-08T05:37:11.871804Z"
    }
   },
   "outputs": [
    {
     "data": {
      "text/html": [
       "<div>\n",
       "<style scoped>\n",
       "    .dataframe tbody tr th:only-of-type {\n",
       "        vertical-align: middle;\n",
       "    }\n",
       "\n",
       "    .dataframe tbody tr th {\n",
       "        vertical-align: top;\n",
       "    }\n",
       "\n",
       "    .dataframe thead th {\n",
       "        text-align: right;\n",
       "    }\n",
       "</style>\n",
       "<table border=\"1\" class=\"dataframe\">\n",
       "  <thead>\n",
       "    <tr style=\"text-align: right;\">\n",
       "      <th></th>\n",
       "      <th>Open</th>\n",
       "      <th>High</th>\n",
       "      <th>Low</th>\n",
       "      <th>Close</th>\n",
       "      <th>Volume</th>\n",
       "      <th>nasdaq</th>\n",
       "      <th>exchange</th>\n",
       "      <th>Semiconductor</th>\n",
       "      <th>foreign</th>\n",
       "      <th>institution</th>\n",
       "      <th>KOSPI</th>\n",
       "      <th>Korea_bond_1year</th>\n",
       "      <th>PBR</th>\n",
       "      <th>PER</th>\n",
       "      <th>ROE</th>\n",
       "    </tr>\n",
       "  </thead>\n",
       "  <tbody>\n",
       "    <tr>\n",
       "      <th>0</th>\n",
       "      <td>0.567413</td>\n",
       "      <td>0.5520</td>\n",
       "      <td>0.572074</td>\n",
       "      <td>0.546076</td>\n",
       "      <td>0.000429</td>\n",
       "      <td>0.206675</td>\n",
       "      <td>0.058961</td>\n",
       "      <td>0.233419</td>\n",
       "      <td>0.711073</td>\n",
       "      <td>0.339060</td>\n",
       "      <td>0.896068</td>\n",
       "      <td>0.855892</td>\n",
       "      <td>0.003531</td>\n",
       "      <td>0.001045</td>\n",
       "      <td>0.693746</td>\n",
       "    </tr>\n",
       "    <tr>\n",
       "      <th>1</th>\n",
       "      <td>0.614664</td>\n",
       "      <td>0.5984</td>\n",
       "      <td>0.598357</td>\n",
       "      <td>0.570221</td>\n",
       "      <td>0.000915</td>\n",
       "      <td>0.221562</td>\n",
       "      <td>0.037834</td>\n",
       "      <td>0.257113</td>\n",
       "      <td>0.710345</td>\n",
       "      <td>0.340881</td>\n",
       "      <td>0.901942</td>\n",
       "      <td>0.839731</td>\n",
       "      <td>0.003776</td>\n",
       "      <td>0.001080</td>\n",
       "      <td>0.693746</td>\n",
       "    </tr>\n",
       "    <tr>\n",
       "      <th>2</th>\n",
       "      <td>0.597556</td>\n",
       "      <td>0.5832</td>\n",
       "      <td>0.566324</td>\n",
       "      <td>0.548491</td>\n",
       "      <td>0.001446</td>\n",
       "      <td>0.224705</td>\n",
       "      <td>0.047353</td>\n",
       "      <td>0.265004</td>\n",
       "      <td>0.710580</td>\n",
       "      <td>0.340335</td>\n",
       "      <td>0.884503</td>\n",
       "      <td>0.845118</td>\n",
       "      <td>0.003556</td>\n",
       "      <td>0.001048</td>\n",
       "      <td>0.693746</td>\n",
       "    </tr>\n",
       "    <tr>\n",
       "      <th>3</th>\n",
       "      <td>0.564155</td>\n",
       "      <td>0.5808</td>\n",
       "      <td>0.589322</td>\n",
       "      <td>0.590342</td>\n",
       "      <td>0.000747</td>\n",
       "      <td>0.239597</td>\n",
       "      <td>0.040019</td>\n",
       "      <td>0.274060</td>\n",
       "      <td>0.711953</td>\n",
       "      <td>0.339847</td>\n",
       "      <td>0.911736</td>\n",
       "      <td>0.832323</td>\n",
       "      <td>0.003980</td>\n",
       "      <td>0.001110</td>\n",
       "      <td>0.693746</td>\n",
       "    </tr>\n",
       "    <tr>\n",
       "      <th>4</th>\n",
       "      <td>0.608961</td>\n",
       "      <td>0.5968</td>\n",
       "      <td>0.601643</td>\n",
       "      <td>0.586318</td>\n",
       "      <td>0.000400</td>\n",
       "      <td>0.244886</td>\n",
       "      <td>0.034871</td>\n",
       "      <td>0.284570</td>\n",
       "      <td>0.711238</td>\n",
       "      <td>0.339833</td>\n",
       "      <td>0.925553</td>\n",
       "      <td>0.837710</td>\n",
       "      <td>0.003940</td>\n",
       "      <td>0.001104</td>\n",
       "      <td>0.693746</td>\n",
       "    </tr>\n",
       "  </tbody>\n",
       "</table>\n",
       "</div>"
      ],
      "text/plain": [
       "       Open    High       Low     Close    Volume    nasdaq  exchange  \\\n",
       "0  0.567413  0.5520  0.572074  0.546076  0.000429  0.206675  0.058961   \n",
       "1  0.614664  0.5984  0.598357  0.570221  0.000915  0.221562  0.037834   \n",
       "2  0.597556  0.5832  0.566324  0.548491  0.001446  0.224705  0.047353   \n",
       "3  0.564155  0.5808  0.589322  0.590342  0.000747  0.239597  0.040019   \n",
       "4  0.608961  0.5968  0.601643  0.586318  0.000400  0.244886  0.034871   \n",
       "\n",
       "   Semiconductor   foreign  institution     KOSPI  Korea_bond_1year       PBR  \\\n",
       "0       0.233419  0.711073     0.339060  0.896068          0.855892  0.003531   \n",
       "1       0.257113  0.710345     0.340881  0.901942          0.839731  0.003776   \n",
       "2       0.265004  0.710580     0.340335  0.884503          0.845118  0.003556   \n",
       "3       0.274060  0.711953     0.339847  0.911736          0.832323  0.003980   \n",
       "4       0.284570  0.711238     0.339833  0.925553          0.837710  0.003940   \n",
       "\n",
       "        PER       ROE  \n",
       "0  0.001045  0.693746  \n",
       "1  0.001080  0.693746  \n",
       "2  0.001048  0.693746  \n",
       "3  0.001110  0.693746  \n",
       "4  0.001104  0.693746  "
      ]
     },
     "execution_count": 21,
     "metadata": {},
     "output_type": "execute_result"
    }
   ],
   "source": [
    "scaler = MinMaxScaler()\n",
    "df_scaled = scaler.fit_transform(inputdata)\n",
    "\n",
    "df_scaled = pd.DataFrame(df_scaled)\n",
    "df_scaled.columns = inputdata.keys()\n",
    "\n",
    "df_scaled.head()"
   ]
  },
  {
   "cell_type": "code",
   "execution_count": 22,
   "metadata": {
    "ExecuteTime": {
     "end_time": "2020-09-08T05:37:41.053200Z",
     "start_time": "2020-09-08T05:37:41.039204Z"
    }
   },
   "outputs": [
    {
     "data": {
      "text/plain": [
       "Open                0\n",
       "High                0\n",
       "Low                 0\n",
       "Close               0\n",
       "Volume              0\n",
       "nasdaq              0\n",
       "exchange            0\n",
       "Semiconductor       0\n",
       "foreign             0\n",
       "institution         0\n",
       "KOSPI               0\n",
       "Korea_bond_1year    0\n",
       "PBR                 0\n",
       "PER                 0\n",
       "ROE                 0\n",
       "dtype: int64"
      ]
     },
     "execution_count": 22,
     "metadata": {},
     "output_type": "execute_result"
    }
   ],
   "source": [
    "df_scaled.isna().sum()"
   ]
  },
  {
   "cell_type": "code",
   "execution_count": 23,
   "metadata": {
    "ExecuteTime": {
     "end_time": "2020-09-08T05:37:11.933704Z",
     "start_time": "2020-09-08T05:37:11.921129Z"
    }
   },
   "outputs": [],
   "source": [
    "TEST_SIZE = 100\n",
    "train = df_scaled[:-TEST_SIZE]\n",
    "test = df_scaled[-TEST_SIZE:]"
   ]
  },
  {
   "cell_type": "code",
   "execution_count": 24,
   "metadata": {
    "ExecuteTime": {
     "end_time": "2020-09-08T05:37:11.949713Z",
     "start_time": "2020-09-08T05:37:11.936190Z"
    }
   },
   "outputs": [],
   "source": [
    "def make_dataset(data, label, window_size=365, predsize = None):\n",
    "    feature_list = []\n",
    "    label_list = []\n",
    "\n",
    "    if isinstance(predsize, int):\n",
    "        for i in range(len(data) - (window_size + predsize)):\n",
    "            feature_list.append(np.array(data.iloc[i:i+window_size]))\n",
    "            label_list.append(np.array(label.iloc[i+window_size:i+window_size+predsize]))\n",
    "    else:\n",
    "        for i in range(len(data) - window_size):\n",
    "            feature_list.append(np.array(data.iloc[i:i+window_size]))\n",
    "            label_list.append(np.array(label.iloc[i+window_size]))\n",
    "\n",
    "    return np.array(feature_list), np.array(label_list)"
   ]
  },
  {
   "cell_type": "code",
   "execution_count": null,
   "metadata": {
    "ExecuteTime": {
     "end_time": "2020-09-08T04:45:10.085668Z",
     "start_time": "2020-09-08T04:45:10.072704Z"
    }
   },
   "outputs": [],
   "source": []
  },
  {
   "cell_type": "code",
   "execution_count": 25,
   "metadata": {
    "ExecuteTime": {
     "end_time": "2020-09-08T05:37:12.138163Z",
     "start_time": "2020-09-08T05:37:11.951589Z"
    }
   },
   "outputs": [
    {
     "name": "stdout",
     "output_type": "stream",
     "text": [
      "(376, 20, 15) (376, 1)\n",
      "(94, 20, 15) (94, 1)\n",
      "(80, 20, 15) (80, 1)\n"
     ]
    }
   ],
   "source": [
    "feature_cols = inputdata.columns\n",
    "label_cols = [\"Close\"]\n",
    "\n",
    "train_feature = train[feature_cols]\n",
    "train_label = train[label_cols]\n",
    "\n",
    "test_feature = test[feature_cols]\n",
    "test_label = test[label_cols]\n",
    "\n",
    "# train dataset\n",
    "train_feature, train_label = make_dataset(train_feature, train_label, 20)\n",
    "\n",
    "# train, validation set 생성\n",
    "from sklearn.model_selection import train_test_split\n",
    "x_train, x_valid, y_train, y_valid = train_test_split(train_feature, train_label, test_size=0.2, shuffle=False)\n",
    "\n",
    "print(x_train.shape, y_train.shape)\n",
    "print(x_valid.shape, y_valid.shape)\n",
    "\n",
    "# test dataset (실제 예측 해볼 데이터)\n",
    "test_feature, test_label = make_dataset(test_feature, test_label, 20)\n",
    "print(test_feature.shape, test_label.shape)"
   ]
  },
  {
   "cell_type": "code",
   "execution_count": 26,
   "metadata": {
    "ExecuteTime": {
     "end_time": "2020-09-08T05:37:12.630292Z",
     "start_time": "2020-09-08T05:37:12.140088Z"
    }
   },
   "outputs": [],
   "source": [
    "model = Sequential()\n",
    "model.add(GRU(128, return_sequences=True, input_shape = [train_feature.shape[1], train_feature.shape[2]]))\n",
    "model.add(GRU(128))\n",
    "# model.add(Dense(32, activation='elu'))\n",
    "model.add(Dense(1))"
   ]
  },
  {
   "cell_type": "code",
   "execution_count": 27,
   "metadata": {
    "ExecuteTime": {
     "end_time": "2020-09-08T05:37:12.645685Z",
     "start_time": "2020-09-08T05:37:12.632175Z"
    }
   },
   "outputs": [
    {
     "name": "stdout",
     "output_type": "stream",
     "text": [
      "Model: \"sequential\"\n",
      "_________________________________________________________________\n",
      "Layer (type)                 Output Shape              Param #   \n",
      "=================================================================\n",
      "gru (GRU)                    (None, 20, 128)           55680     \n",
      "_________________________________________________________________\n",
      "gru_1 (GRU)                  (None, 128)               99072     \n",
      "_________________________________________________________________\n",
      "dense (Dense)                (None, 1)                 129       \n",
      "=================================================================\n",
      "Total params: 154,881\n",
      "Trainable params: 154,881\n",
      "Non-trainable params: 0\n",
      "_________________________________________________________________\n"
     ]
    }
   ],
   "source": [
    "model.summary()"
   ]
  },
  {
   "cell_type": "code",
   "execution_count": 28,
   "metadata": {
    "ExecuteTime": {
     "end_time": "2020-09-08T05:37:12.676285Z",
     "start_time": "2020-09-08T05:37:12.648144Z"
    }
   },
   "outputs": [],
   "source": [
    "model_path = './trained_model'\n",
    "model.compile(loss='mse', optimizer=keras.optimizers.Adam(lr=0.0003))\n",
    "early_stop = EarlyStopping(monitor='val_loss', patience=30)\n",
    "filename = os.path.join(model_path, 'KISTI_proj_GRU_15f.h5')\n",
    "checkpoint = ModelCheckpoint(filename, monitor='val_loss', verbose=1, save_best_only=True, mode='auto')"
   ]
  },
  {
   "cell_type": "code",
   "execution_count": 29,
   "metadata": {
    "ExecuteTime": {
     "end_time": "2020-09-08T05:37:39.294930Z",
     "start_time": "2020-09-08T05:37:12.679117Z"
    },
    "scrolled": true
   },
   "outputs": [
    {
     "name": "stdout",
     "output_type": "stream",
     "text": [
      "Train on 376 samples, validate on 94 samples\n",
      "Epoch 1/100\n",
      "256/376 [===================>..........] - ETA: 1s - loss: 0.0390\n",
      "Epoch 00001: val_loss improved from inf to 0.03531, saving model to ./trained_model\\KISTI_proj_GRU_15f.h5\n",
      "376/376 [==============================] - 4s 12ms/sample - loss: 0.0292 - val_loss: 0.0353\n",
      "Epoch 2/100\n",
      "256/376 [===================>..........] - ETA: 0s - loss: 0.0194\n",
      "Epoch 00002: val_loss did not improve from 0.03531\n",
      "376/376 [==============================] - 0s 653us/sample - loss: 0.0196 - val_loss: 0.0364\n",
      "Epoch 3/100\n",
      "256/376 [===================>..........] - ETA: 0s - loss: 0.0112\n",
      "Epoch 00003: val_loss did not improve from 0.03531\n",
      "376/376 [==============================] - 0s 610us/sample - loss: 0.0095 - val_loss: 0.0971\n",
      "Epoch 4/100\n",
      "256/376 [===================>..........] - ETA: 0s - loss: 0.0069\n",
      "Epoch 00004: val_loss did not improve from 0.03531\n",
      "376/376 [==============================] - 0s 610us/sample - loss: 0.0085 - val_loss: 0.1195\n",
      "Epoch 5/100\n",
      "256/376 [===================>..........] - ETA: 0s - loss: 0.0102\n",
      "Epoch 00005: val_loss did not improve from 0.03531\n",
      "376/376 [==============================] - 0s 642us/sample - loss: 0.0086 - val_loss: 0.0732\n",
      "Epoch 6/100\n",
      "256/376 [===================>..........] - ETA: 0s - loss: 0.0043\n",
      "Epoch 00006: val_loss improved from 0.03531 to 0.03415, saving model to ./trained_model\\KISTI_proj_GRU_15f.h5\n",
      "376/376 [==============================] - 0s 703us/sample - loss: 0.0042 - val_loss: 0.0341\n",
      "Epoch 7/100\n",
      "256/376 [===================>..........] - ETA: 0s - loss: 0.0056\n",
      "Epoch 00007: val_loss improved from 0.03415 to 0.02674, saving model to ./trained_model\\KISTI_proj_GRU_15f.h5\n",
      "376/376 [==============================] - 0s 690us/sample - loss: 0.0056 - val_loss: 0.0267\n",
      "Epoch 8/100\n",
      "256/376 [===================>..........] - ETA: 0s - loss: 0.0045\n",
      "Epoch 00008: val_loss did not improve from 0.02674\n",
      "376/376 [==============================] - 0s 610us/sample - loss: 0.0041 - val_loss: 0.0376\n",
      "Epoch 9/100\n",
      "256/376 [===================>..........] - ETA: 0s - loss: 0.0032\n",
      "Epoch 00009: val_loss did not improve from 0.02674\n",
      "376/376 [==============================] - 0s 618us/sample - loss: 0.0032 - val_loss: 0.0446\n",
      "Epoch 10/100\n",
      "256/376 [===================>..........] - ETA: 0s - loss: 0.0036\n",
      "Epoch 00010: val_loss did not improve from 0.02674\n",
      "376/376 [==============================] - 0s 627us/sample - loss: 0.0038 - val_loss: 0.0341\n",
      "Epoch 11/100\n",
      "256/376 [===================>..........] - ETA: 0s - loss: 0.0031\n",
      "Epoch 00011: val_loss improved from 0.02674 to 0.01978, saving model to ./trained_model\\KISTI_proj_GRU_15f.h5\n",
      "376/376 [==============================] - 0s 636us/sample - loss: 0.0030 - val_loss: 0.0198\n",
      "Epoch 12/100\n",
      "256/376 [===================>..........] - ETA: 0s - loss: 0.0027\n",
      "Epoch 00012: val_loss improved from 0.01978 to 0.01667, saving model to ./trained_model\\KISTI_proj_GRU_15f.h5\n",
      "376/376 [==============================] - 0s 581us/sample - loss: 0.0030 - val_loss: 0.0167\n",
      "Epoch 13/100\n",
      "256/376 [===================>..........] - ETA: 0s - loss: 0.0027\n",
      "Epoch 00013: val_loss did not improve from 0.01667\n",
      "376/376 [==============================] - 0s 517us/sample - loss: 0.0027 - val_loss: 0.0221\n",
      "Epoch 14/100\n",
      "256/376 [===================>..........] - ETA: 0s - loss: 0.0024\n",
      "Epoch 00014: val_loss did not improve from 0.01667\n",
      "376/376 [==============================] - 0s 533us/sample - loss: 0.0024 - val_loss: 0.0262\n",
      "Epoch 15/100\n",
      "256/376 [===================>..........] - ETA: 0s - loss: 0.0026\n",
      "Epoch 00015: val_loss did not improve from 0.01667\n",
      "376/376 [==============================] - 0s 496us/sample - loss: 0.0025 - val_loss: 0.0220\n",
      "Epoch 16/100\n",
      "256/376 [===================>..........] - ETA: 0s - loss: 0.0022\n",
      "Epoch 00016: val_loss did not improve from 0.01667\n",
      "376/376 [==============================] - 0s 549us/sample - loss: 0.0022 - val_loss: 0.0170\n",
      "Epoch 17/100\n",
      "256/376 [===================>..........] - ETA: 0s - loss: 0.0021\n",
      "Epoch 00017: val_loss improved from 0.01667 to 0.01655, saving model to ./trained_model\\KISTI_proj_GRU_15f.h5\n",
      "376/376 [==============================] - 0s 570us/sample - loss: 0.0023 - val_loss: 0.0165\n",
      "Epoch 18/100\n",
      "256/376 [===================>..........] - ETA: 0s - loss: 0.0021\n",
      "Epoch 00018: val_loss did not improve from 0.01655\n",
      "376/376 [==============================] - 0s 512us/sample - loss: 0.0022 - val_loss: 0.0189\n",
      "Epoch 19/100\n",
      "256/376 [===================>..........] - ETA: 0s - loss: 0.0024\n",
      "Epoch 00019: val_loss did not improve from 0.01655\n",
      "376/376 [==============================] - 0s 512us/sample - loss: 0.0021 - val_loss: 0.0187\n",
      "Epoch 20/100\n",
      "256/376 [===================>..........] - ETA: 0s - loss: 0.0023\n",
      "Epoch 00020: val_loss improved from 0.01655 to 0.01551, saving model to ./trained_model\\KISTI_proj_GRU_15f.h5\n",
      "376/376 [==============================] - 0s 546us/sample - loss: 0.0021 - val_loss: 0.0155\n",
      "Epoch 21/100\n",
      "256/376 [===================>..........] - ETA: 0s - loss: 0.0020\n",
      "Epoch 00021: val_loss improved from 0.01551 to 0.01421, saving model to ./trained_model\\KISTI_proj_GRU_15f.h5\n",
      "376/376 [==============================] - 0s 597us/sample - loss: 0.0020 - val_loss: 0.0142\n",
      "Epoch 22/100\n",
      "256/376 [===================>..........] - ETA: 0s - loss: 0.0020\n",
      "Epoch 00022: val_loss did not improve from 0.01421\n",
      "376/376 [==============================] - 0s 488us/sample - loss: 0.0020 - val_loss: 0.0153\n",
      "Epoch 23/100\n",
      "256/376 [===================>..........] - ETA: 0s - loss: 0.0021\n",
      "Epoch 00023: val_loss did not improve from 0.01421\n",
      "376/376 [==============================] - 0s 485us/sample - loss: 0.0020 - val_loss: 0.0163\n",
      "Epoch 24/100\n",
      "256/376 [===================>..........] - ETA: 0s - loss: 0.0020\n",
      "Epoch 00024: val_loss did not improve from 0.01421\n",
      "376/376 [==============================] - 0s 533us/sample - loss: 0.0019 - val_loss: 0.0144\n",
      "Epoch 25/100\n",
      "256/376 [===================>..........] - ETA: 0s - loss: 0.0020\n",
      "Epoch 00025: val_loss improved from 0.01421 to 0.01326, saving model to ./trained_model\\KISTI_proj_GRU_15f.h5\n",
      "376/376 [==============================] - 0s 573us/sample - loss: 0.0019 - val_loss: 0.0133\n",
      "Epoch 26/100\n",
      "256/376 [===================>..........] - ETA: 0s - loss: 0.0018\n",
      "Epoch 00026: val_loss did not improve from 0.01326\n",
      "376/376 [==============================] - 0s 501us/sample - loss: 0.0019 - val_loss: 0.0134\n",
      "Epoch 27/100\n",
      "256/376 [===================>..........] - ETA: 0s - loss: 0.0017\n",
      "Epoch 00027: val_loss did not improve from 0.01326\n",
      "376/376 [==============================] - 0s 529us/sample - loss: 0.0019 - val_loss: 0.0146\n",
      "Epoch 28/100\n",
      "256/376 [===================>..........] - ETA: 0s - loss: 0.0018\n",
      "Epoch 00028: val_loss did not improve from 0.01326\n",
      "376/376 [==============================] - 0s 499us/sample - loss: 0.0018 - val_loss: 0.0135\n",
      "Epoch 29/100\n",
      "256/376 [===================>..........] - ETA: 0s - loss: 0.0019\n",
      "Epoch 00029: val_loss improved from 0.01326 to 0.01221, saving model to ./trained_model\\KISTI_proj_GRU_15f.h5\n",
      "376/376 [==============================] - 0s 546us/sample - loss: 0.0018 - val_loss: 0.0122\n",
      "Epoch 30/100\n",
      "256/376 [===================>..........] - ETA: 0s - loss: 0.0019\n",
      "Epoch 00030: val_loss did not improve from 0.01221\n",
      "376/376 [==============================] - 0s 469us/sample - loss: 0.0018 - val_loss: 0.0131\n",
      "Epoch 31/100\n",
      "256/376 [===================>..........] - ETA: 0s - loss: 0.0018\n",
      "Epoch 00031: val_loss did not improve from 0.01221\n",
      "376/376 [==============================] - 0s 528us/sample - loss: 0.0018 - val_loss: 0.0133\n",
      "Epoch 32/100\n",
      "256/376 [===================>..........] - ETA: 0s - loss: 0.0017\n",
      "Epoch 00032: val_loss did not improve from 0.01221\n",
      "376/376 [==============================] - 0s 472us/sample - loss: 0.0017 - val_loss: 0.0123\n",
      "Epoch 33/100\n",
      "256/376 [===================>..........] - ETA: 0s - loss: 0.0016\n",
      "Epoch 00033: val_loss did not improve from 0.01221\n",
      "376/376 [==============================] - 0s 478us/sample - loss: 0.0017 - val_loss: 0.0122\n",
      "Epoch 34/100\n",
      "256/376 [===================>..........] - ETA: 0s - loss: 0.0017\n",
      "Epoch 00034: val_loss did not improve from 0.01221\n",
      "376/376 [==============================] - 0s 536us/sample - loss: 0.0017 - val_loss: 0.0122\n"
     ]
    },
    {
     "name": "stdout",
     "output_type": "stream",
     "text": [
      "Epoch 35/100\n",
      "256/376 [===================>..........] - ETA: 0s - loss: 0.0017\n",
      "Epoch 00035: val_loss did not improve from 0.01221\n",
      "376/376 [==============================] - 0s 578us/sample - loss: 0.0017 - val_loss: 0.0124\n",
      "Epoch 36/100\n",
      "256/376 [===================>..........] - ETA: 0s - loss: 0.0016\n",
      "Epoch 00036: val_loss improved from 0.01221 to 0.01163, saving model to ./trained_model\\KISTI_proj_GRU_15f.h5\n",
      "376/376 [==============================] - 0s 676us/sample - loss: 0.0016 - val_loss: 0.0116\n",
      "Epoch 37/100\n",
      "256/376 [===================>..........] - ETA: 0s - loss: 0.0016\n",
      "Epoch 00037: val_loss improved from 0.01163 to 0.01107, saving model to ./trained_model\\KISTI_proj_GRU_15f.h5\n",
      "376/376 [==============================] - 0s 695us/sample - loss: 0.0016 - val_loss: 0.0111\n",
      "Epoch 38/100\n",
      "256/376 [===================>..........] - ETA: 0s - loss: 0.0016\n",
      "Epoch 00038: val_loss improved from 0.01107 to 0.01104, saving model to ./trained_model\\KISTI_proj_GRU_15f.h5\n",
      "376/376 [==============================] - 0s 660us/sample - loss: 0.0016 - val_loss: 0.0110\n",
      "Epoch 39/100\n",
      "256/376 [===================>..........] - ETA: 0s - loss: 0.0016\n",
      "Epoch 00039: val_loss did not improve from 0.01104\n",
      "376/376 [==============================] - 0s 584us/sample - loss: 0.0016 - val_loss: 0.0112\n",
      "Epoch 40/100\n",
      "256/376 [===================>..........] - ETA: 0s - loss: 0.0016\n",
      "Epoch 00040: val_loss improved from 0.01104 to 0.01059, saving model to ./trained_model\\KISTI_proj_GRU_15f.h5\n",
      "376/376 [==============================] - 0s 666us/sample - loss: 0.0016 - val_loss: 0.0106\n",
      "Epoch 41/100\n",
      "256/376 [===================>..........] - ETA: 0s - loss: 0.0017\n",
      "Epoch 00041: val_loss did not improve from 0.01059\n",
      "376/376 [==============================] - 0s 646us/sample - loss: 0.0015 - val_loss: 0.0106\n",
      "Epoch 42/100\n",
      "256/376 [===================>..........] - ETA: 0s - loss: 0.0015\n",
      "Epoch 00042: val_loss improved from 0.01059 to 0.01037, saving model to ./trained_model\\KISTI_proj_GRU_15f.h5\n",
      "376/376 [==============================] - 0s 716us/sample - loss: 0.0015 - val_loss: 0.0104\n",
      "Epoch 43/100\n",
      "256/376 [===================>..........] - ETA: 0s - loss: 0.0014\n",
      "Epoch 00043: val_loss improved from 0.01037 to 0.01034, saving model to ./trained_model\\KISTI_proj_GRU_15f.h5\n",
      "376/376 [==============================] - 0s 668us/sample - loss: 0.0015 - val_loss: 0.0103\n",
      "Epoch 44/100\n",
      "256/376 [===================>..........] - ETA: 0s - loss: 0.0014\n",
      "Epoch 00044: val_loss improved from 0.01034 to 0.00996, saving model to ./trained_model\\KISTI_proj_GRU_15f.h5\n",
      "376/376 [==============================] - 0s 692us/sample - loss: 0.0015 - val_loss: 0.0100\n",
      "Epoch 45/100\n",
      "256/376 [===================>..........] - ETA: 0s - loss: 0.0015\n",
      "Epoch 00045: val_loss improved from 0.00996 to 0.00922, saving model to ./trained_model\\KISTI_proj_GRU_15f.h5\n",
      "376/376 [==============================] - 0s 716us/sample - loss: 0.0015 - val_loss: 0.0092\n",
      "Epoch 46/100\n",
      "256/376 [===================>..........] - ETA: 0s - loss: 0.0016\n",
      "Epoch 00046: val_loss did not improve from 0.00922\n",
      "376/376 [==============================] - 0s 568us/sample - loss: 0.0015 - val_loss: 0.0093\n",
      "Epoch 47/100\n",
      "256/376 [===================>..........] - ETA: 0s - loss: 0.0014\n",
      "Epoch 00047: val_loss improved from 0.00922 to 0.00906, saving model to ./trained_model\\KISTI_proj_GRU_15f.h5\n",
      "376/376 [==============================] - 0s 711us/sample - loss: 0.0014 - val_loss: 0.0091\n",
      "Epoch 48/100\n",
      "256/376 [===================>..........] - ETA: 0s - loss: 0.0015\n",
      "Epoch 00048: val_loss improved from 0.00906 to 0.00885, saving model to ./trained_model\\KISTI_proj_GRU_15f.h5\n",
      "376/376 [==============================] - 0s 692us/sample - loss: 0.0014 - val_loss: 0.0089\n",
      "Epoch 49/100\n",
      "256/376 [===================>..........] - ETA: 0s - loss: 0.0013\n",
      "Epoch 00049: val_loss did not improve from 0.00885\n",
      "376/376 [==============================] - 0s 570us/sample - loss: 0.0014 - val_loss: 0.0090\n",
      "Epoch 50/100\n",
      "256/376 [===================>..........] - ETA: 0s - loss: 0.0013\n",
      "Epoch 00050: val_loss did not improve from 0.00885\n",
      "376/376 [==============================] - 0s 560us/sample - loss: 0.0014 - val_loss: 0.0089\n",
      "Epoch 51/100\n",
      "256/376 [===================>..........] - ETA: 0s - loss: 0.0013\n",
      "Epoch 00051: val_loss improved from 0.00885 to 0.00796, saving model to ./trained_model\\KISTI_proj_GRU_15f.h5\n",
      "376/376 [==============================] - 0s 714us/sample - loss: 0.0014 - val_loss: 0.0080\n",
      "Epoch 52/100\n",
      "256/376 [===================>..........] - ETA: 0s - loss: 0.0014\n",
      "Epoch 00052: val_loss did not improve from 0.00796\n",
      "376/376 [==============================] - 0s 621us/sample - loss: 0.0014 - val_loss: 0.0080\n",
      "Epoch 53/100\n",
      "256/376 [===================>..........] - ETA: 0s - loss: 0.0013\n",
      "Epoch 00053: val_loss did not improve from 0.00796\n",
      "376/376 [==============================] - 0s 613us/sample - loss: 0.0013 - val_loss: 0.0085\n",
      "Epoch 54/100\n",
      "256/376 [===================>..........] - ETA: 0s - loss: 0.0014\n",
      "Epoch 00054: val_loss did not improve from 0.00796\n",
      "376/376 [==============================] - 0s 631us/sample - loss: 0.0014 - val_loss: 0.0081\n",
      "Epoch 55/100\n",
      "256/376 [===================>..........] - ETA: 0s - loss: 0.0013\n",
      "Epoch 00055: val_loss did not improve from 0.00796\n",
      "376/376 [==============================] - 0s 658us/sample - loss: 0.0013 - val_loss: 0.0081\n",
      "Epoch 56/100\n",
      "256/376 [===================>..........] - ETA: 0s - loss: 0.0014\n",
      "Epoch 00056: val_loss improved from 0.00796 to 0.00747, saving model to ./trained_model\\KISTI_proj_GRU_15f.h5\n",
      "376/376 [==============================] - 0s 692us/sample - loss: 0.0013 - val_loss: 0.0075\n",
      "Epoch 57/100\n",
      "256/376 [===================>..........] - ETA: 0s - loss: 0.0013\n",
      "Epoch 00057: val_loss improved from 0.00747 to 0.00733, saving model to ./trained_model\\KISTI_proj_GRU_15f.h5\n",
      "376/376 [==============================] - 0s 682us/sample - loss: 0.0013 - val_loss: 0.0073\n",
      "Epoch 58/100\n",
      "256/376 [===================>..........] - ETA: 0s - loss: 0.0013\n",
      "Epoch 00058: val_loss improved from 0.00733 to 0.00714, saving model to ./trained_model\\KISTI_proj_GRU_15f.h5\n",
      "376/376 [==============================] - 0s 618us/sample - loss: 0.0013 - val_loss: 0.0071\n",
      "Epoch 59/100\n",
      "256/376 [===================>..........] - ETA: 0s - loss: 0.0013\n",
      "Epoch 00059: val_loss improved from 0.00714 to 0.00694, saving model to ./trained_model\\KISTI_proj_GRU_15f.h5\n",
      "376/376 [==============================] - 0s 706us/sample - loss: 0.0013 - val_loss: 0.0069\n",
      "Epoch 60/100\n",
      "256/376 [===================>..........] - ETA: 0s - loss: 0.0013\n",
      "Epoch 00060: val_loss did not improve from 0.00694\n",
      "376/376 [==============================] - 0s 525us/sample - loss: 0.0013 - val_loss: 0.0076\n",
      "Epoch 61/100\n",
      "256/376 [===================>..........] - ETA: 0s - loss: 0.0013\n",
      "Epoch 00061: val_loss improved from 0.00694 to 0.00655, saving model to ./trained_model\\KISTI_proj_GRU_15f.h5\n",
      "376/376 [==============================] - 0s 684us/sample - loss: 0.0013 - val_loss: 0.0066\n",
      "Epoch 62/100\n",
      "256/376 [===================>..........] - ETA: 0s - loss: 0.0012\n",
      "Epoch 00062: val_loss did not improve from 0.00655\n",
      "376/376 [==============================] - 0s 533us/sample - loss: 0.0013 - val_loss: 0.0070\n",
      "Epoch 63/100\n",
      "256/376 [===================>..........] - ETA: 0s - loss: 0.0013\n",
      "Epoch 00063: val_loss did not improve from 0.00655\n",
      "376/376 [==============================] - 0s 552us/sample - loss: 0.0012 - val_loss: 0.0069\n",
      "Epoch 64/100\n",
      "256/376 [===================>..........] - ETA: 0s - loss: 0.0012\n",
      "Epoch 00064: val_loss improved from 0.00655 to 0.00632, saving model to ./trained_model\\KISTI_proj_GRU_15f.h5\n",
      "376/376 [==============================] - 0s 671us/sample - loss: 0.0012 - val_loss: 0.0063\n",
      "Epoch 65/100\n",
      "256/376 [===================>..........] - ETA: 0s - loss: 0.0013\n",
      "Epoch 00065: val_loss did not improve from 0.00632\n",
      "376/376 [==============================] - 0s 533us/sample - loss: 0.0012 - val_loss: 0.0064\n",
      "Epoch 66/100\n",
      "256/376 [===================>..........] - ETA: 0s - loss: 0.0012\n",
      "Epoch 00066: val_loss did not improve from 0.00632\n",
      "376/376 [==============================] - 0s 549us/sample - loss: 0.0012 - val_loss: 0.0063\n",
      "Epoch 67/100\n",
      "256/376 [===================>..........] - ETA: 0s - loss: 0.0013\n",
      "Epoch 00067: val_loss improved from 0.00632 to 0.00592, saving model to ./trained_model\\KISTI_proj_GRU_15f.h5\n",
      "376/376 [==============================] - 0s 655us/sample - loss: 0.0012 - val_loss: 0.0059\n",
      "Epoch 68/100\n",
      "256/376 [===================>..........] - ETA: 0s - loss: 0.0013\n",
      "Epoch 00068: val_loss did not improve from 0.00592\n",
      "376/376 [==============================] - 0s 517us/sample - loss: 0.0012 - val_loss: 0.0060\n",
      "Epoch 69/100\n",
      "256/376 [===================>..........] - ETA: 0s - loss: 0.0011\n",
      "Epoch 00069: val_loss improved from 0.00592 to 0.00567, saving model to ./trained_model\\KISTI_proj_GRU_15f.h5\n",
      "376/376 [==============================] - 0s 671us/sample - loss: 0.0012 - val_loss: 0.0057\n",
      "Epoch 70/100\n",
      "256/376 [===================>..........] - ETA: 0s - loss: 0.0012\n",
      "Epoch 00070: val_loss did not improve from 0.00567\n",
      "376/376 [==============================] - 0s 564us/sample - loss: 0.0012 - val_loss: 0.0063\n",
      "Epoch 71/100\n",
      "256/376 [===================>..........] - ETA: 0s - loss: 0.0012\n",
      "Epoch 00071: val_loss improved from 0.00567 to 0.00530, saving model to ./trained_model\\KISTI_proj_GRU_15f.h5\n",
      "376/376 [==============================] - 0s 621us/sample - loss: 0.0012 - val_loss: 0.0053\n",
      "Epoch 72/100\n",
      "256/376 [===================>..........] - ETA: 0s - loss: 0.0012\n",
      "Epoch 00072: val_loss did not improve from 0.00530\n",
      "376/376 [==============================] - 0s 525us/sample - loss: 0.0012 - val_loss: 0.0062\n",
      "Epoch 73/100\n",
      "256/376 [===================>..........] - ETA: 0s - loss: 0.0011\n",
      "Epoch 00073: val_loss did not improve from 0.00530\n",
      "376/376 [==============================] - 0s 536us/sample - loss: 0.0012 - val_loss: 0.0056\n",
      "Epoch 74/100\n",
      "256/376 [===================>..........] - ETA: 0s - loss: 0.0012    \n",
      "Epoch 00074: val_loss did not improve from 0.00530\n",
      "376/376 [==============================] - 0s 578us/sample - loss: 0.0012 - val_loss: 0.0054\n",
      "Epoch 75/100\n",
      "256/376 [===================>..........] - ETA: 0s - loss: 0.0012\n",
      "Epoch 00075: val_loss did not improve from 0.00530\n",
      "376/376 [==============================] - 0s 554us/sample - loss: 0.0012 - val_loss: 0.0057\n",
      "Epoch 76/100\n",
      "256/376 [===================>..........] - ETA: 0s - loss: 0.0012\n",
      "Epoch 00076: val_loss improved from 0.00530 to 0.00528, saving model to ./trained_model\\KISTI_proj_GRU_15f.h5\n",
      "376/376 [==============================] - 0s 626us/sample - loss: 0.0012 - val_loss: 0.0053\n",
      "Epoch 77/100\n",
      "256/376 [===================>..........] - ETA: 0s - loss: 0.0012\n",
      "Epoch 00077: val_loss did not improve from 0.00528\n",
      "376/376 [==============================] - 0s 576us/sample - loss: 0.0011 - val_loss: 0.0058\n",
      "Epoch 78/100\n",
      "256/376 [===================>..........] - ETA: 0s - loss: 0.0012\n",
      "Epoch 00078: val_loss improved from 0.00528 to 0.00497, saving model to ./trained_model\\KISTI_proj_GRU_15f.h5\n",
      "376/376 [==============================] - 0s 621us/sample - loss: 0.0011 - val_loss: 0.0050\n",
      "Epoch 79/100\n",
      "256/376 [===================>..........] - ETA: 0s - loss: 0.0011\n",
      "Epoch 00079: val_loss did not improve from 0.00497\n",
      "376/376 [==============================] - 0s 538us/sample - loss: 0.0011 - val_loss: 0.0051\n",
      "Epoch 80/100\n",
      "256/376 [===================>..........] - ETA: 0s - loss: 0.0010\n",
      "Epoch 00080: val_loss did not improve from 0.00497\n",
      "376/376 [==============================] - 0s 533us/sample - loss: 0.0011 - val_loss: 0.0051\n",
      "Epoch 81/100\n",
      "256/376 [===================>..........] - ETA: 0s - loss: 9.7011e-04\n",
      "Epoch 00081: val_loss improved from 0.00497 to 0.00476, saving model to ./trained_model\\KISTI_proj_GRU_15f.h5\n",
      "376/376 [==============================] - 0s 629us/sample - loss: 0.0011 - val_loss: 0.0048\n",
      "Epoch 82/100\n",
      "256/376 [===================>..........] - ETA: 0s - loss: 0.0011\n",
      "Epoch 00082: val_loss did not improve from 0.00476\n",
      "376/376 [==============================] - 0s 520us/sample - loss: 0.0011 - val_loss: 0.0051\n",
      "Epoch 83/100\n",
      "256/376 [===================>..........] - ETA: 0s - loss: 0.0010\n",
      "Epoch 00083: val_loss did not improve from 0.00476\n",
      "376/376 [==============================] - 0s 539us/sample - loss: 0.0011 - val_loss: 0.0051\n",
      "Epoch 84/100\n",
      "256/376 [===================>..........] - ETA: 0s - loss: 0.0012\n",
      "Epoch 00084: val_loss did not improve from 0.00476\n",
      "376/376 [==============================] - 0s 623us/sample - loss: 0.0011 - val_loss: 0.0048\n",
      "Epoch 85/100\n",
      "256/376 [===================>..........] - ETA: 0s - loss: 0.0010\n",
      "Epoch 00085: val_loss did not improve from 0.00476\n",
      "376/376 [==============================] - 0s 573us/sample - loss: 0.0011 - val_loss: 0.0052\n",
      "Epoch 86/100\n",
      "256/376 [===================>..........] - ETA: 0s - loss: 0.0012\n",
      "Epoch 00086: val_loss improved from 0.00476 to 0.00420, saving model to ./trained_model\\KISTI_proj_GRU_15f.h5\n",
      "376/376 [==============================] - 0s 626us/sample - loss: 0.0011 - val_loss: 0.0042\n",
      "Epoch 87/100\n",
      "256/376 [===================>..........] - ETA: 0s - loss: 0.0012\n",
      "Epoch 00087: val_loss did not improve from 0.00420\n",
      "376/376 [==============================] - 0s 599us/sample - loss: 0.0011 - val_loss: 0.0049\n",
      "Epoch 88/100\n",
      "256/376 [===================>..........] - ETA: 0s - loss: 0.0011\n",
      "Epoch 00088: val_loss did not improve from 0.00420\n",
      "376/376 [==============================] - 0s 541us/sample - loss: 0.0011 - val_loss: 0.0044\n",
      "Epoch 89/100\n",
      "256/376 [===================>..........] - ETA: 0s - loss: 0.0010\n",
      "Epoch 00089: val_loss did not improve from 0.00420\n",
      "376/376 [==============================] - 0s 552us/sample - loss: 0.0011 - val_loss: 0.0050\n",
      "Epoch 90/100\n",
      "256/376 [===================>..........] - ETA: 0s - loss: 9.8264e-04\n",
      "Epoch 00090: val_loss did not improve from 0.00420\n",
      "376/376 [==============================] - 0s 565us/sample - loss: 0.0011 - val_loss: 0.0044\n",
      "Epoch 91/100\n",
      "256/376 [===================>..........] - ETA: 0s - loss: 9.9044e-04\n",
      "Epoch 00091: val_loss did not improve from 0.00420\n",
      "376/376 [==============================] - 0s 546us/sample - loss: 0.0011 - val_loss: 0.0050\n",
      "Epoch 92/100\n",
      "256/376 [===================>..........] - ETA: 0s - loss: 0.0010    \n",
      "Epoch 00092: val_loss did not improve from 0.00420\n",
      "376/376 [==============================] - 0s 557us/sample - loss: 0.0011 - val_loss: 0.0047\n",
      "Epoch 93/100\n",
      "256/376 [===================>..........] - ETA: 0s - loss: 0.0011\n",
      "Epoch 00093: val_loss improved from 0.00420 to 0.00384, saving model to ./trained_model\\KISTI_proj_GRU_15f.h5\n",
      "376/376 [==============================] - 0s 668us/sample - loss: 0.0011 - val_loss: 0.0038\n",
      "Epoch 94/100\n",
      "256/376 [===================>..........] - ETA: 0s - loss: 0.0012\n",
      "Epoch 00094: val_loss did not improve from 0.00384\n",
      "376/376 [==============================] - 0s 605us/sample - loss: 0.0011 - val_loss: 0.0049\n",
      "Epoch 95/100\n",
      "256/376 [===================>..........] - ETA: 0s - loss: 0.0011    \n",
      "Epoch 00095: val_loss did not improve from 0.00384\n",
      "376/376 [==============================] - 0s 541us/sample - loss: 0.0011 - val_loss: 0.0039\n",
      "Epoch 96/100\n",
      "256/376 [===================>..........] - ETA: 0s - loss: 9.9669e-04\n",
      "Epoch 00096: val_loss did not improve from 0.00384\n",
      "376/376 [==============================] - 0s 541us/sample - loss: 0.0011 - val_loss: 0.0057\n",
      "Epoch 97/100\n",
      "256/376 [===================>..........] - ETA: 0s - loss: 0.0011\n",
      "Epoch 00097: val_loss did not improve from 0.00384\n",
      "376/376 [==============================] - 0s 592us/sample - loss: 0.0011 - val_loss: 0.0039\n",
      "Epoch 98/100\n",
      "256/376 [===================>..........] - ETA: 0s - loss: 0.0011\n",
      "Epoch 00098: val_loss did not improve from 0.00384\n",
      "376/376 [==============================] - 0s 533us/sample - loss: 0.0011 - val_loss: 0.0041\n",
      "Epoch 99/100\n",
      "256/376 [===================>..........] - ETA: 0s - loss: 0.0011\n",
      "Epoch 00099: val_loss did not improve from 0.00384\n",
      "376/376 [==============================] - 0s 600us/sample - loss: 0.0011 - val_loss: 0.0041\n",
      "Epoch 100/100\n",
      "256/376 [===================>..........] - ETA: 0s - loss: 0.0011\n",
      "Epoch 00100: val_loss did not improve from 0.00384\n",
      "376/376 [==============================] - 0s 661us/sample - loss: 0.0011 - val_loss: 0.0041\n"
     ]
    }
   ],
   "source": [
    "history = model.fit(x_train, y_train, \n",
    "                    epochs=100,\n",
    "                    batch_size=128,\n",
    "                    validation_data=(x_valid, y_valid), \n",
    "                    callbacks=[early_stop, checkpoint])"
   ]
  },
  {
   "cell_type": "code",
   "execution_count": 30,
   "metadata": {
    "ExecuteTime": {
     "end_time": "2020-09-08T05:37:39.594163Z",
     "start_time": "2020-09-08T05:37:39.297858Z"
    }
   },
   "outputs": [
    {
     "data": {
      "text/plain": [
       "<matplotlib.axes._subplots.AxesSubplot at 0x23ab7be4c88>"
      ]
     },
     "execution_count": 30,
     "metadata": {},
     "output_type": "execute_result"
    },
    {
     "data": {
      "image/png": "[encoded data removed]",
      "text/plain": [
       "<Figure size 432x288 with 1 Axes>"
      ]
     },
     "metadata": {
      "needs_background": "light"
     },
     "output_type": "display_data"
    }
   ],
   "source": [
    "pd.DataFrame(history.history).plot()"
   ]
  },
  {
   "cell_type": "code",
   "execution_count": 31,
   "metadata": {
    "ExecuteTime": {
     "end_time": "2020-09-08T05:37:40.387978Z",
     "start_time": "2020-09-08T05:37:39.596061Z"
    }
   },
   "outputs": [],
   "source": [
    "# weight 로딩\n",
    "model.load_weights(filename)\n",
    "\n",
    "# 예측\n",
    "pred = model.predict(test_feature)"
   ]
  },
  {
   "cell_type": "code",
   "execution_count": 32,
   "metadata": {
    "ExecuteTime": {
     "end_time": "2020-09-08T05:37:40.403087Z",
     "start_time": "2020-09-08T05:37:40.389938Z"
    }
   },
   "outputs": [
    {
     "data": {
      "text/plain": [
       "(80, 1)"
      ]
     },
     "execution_count": 32,
     "metadata": {},
     "output_type": "execute_result"
    }
   ],
   "source": [
    "pred.shape"
   ]
  },
  {
   "cell_type": "code",
   "execution_count": 33,
   "metadata": {
    "ExecuteTime": {
     "end_time": "2020-09-08T05:37:41.022246Z",
     "start_time": "2020-09-08T05:37:40.404900Z"
    }
   },
   "outputs": [
    {
     "data": {
      "image/png": "[encoded data removed]",
      "text/plain": [
       "<Figure size 864x432 with 1 Axes>"
      ]
     },
     "metadata": {
      "needs_background": "light"
     },
     "output_type": "display_data"
    }
   ],
   "source": [
    "plt.figure(figsize=(12, 6))\n",
    "plt.rc(\"font\",size=15)\n",
    "plt.plot(test_label, label='실제값')\n",
    "plt.plot(pred, label='예측값')\n",
    "plt.plot(np.sqrt((pred - test_label)**2), label='$\\mid$실제값 $-$ 예측값$\\mid$')\n",
    "plt.legend(frameon=False, fontsize = 18)\n",
    "plt.grid(ls='--')\n",
    "plt.title(\"삼성전자\")\n",
    "# plt.savefig(\"./삼성전자주가예측.png\", bbox_inches='tight')\n",
    "plt.show()"
   ]
  },
  {
   "cell_type": "code",
   "execution_count": null,
   "metadata": {},
   "outputs": [],
   "source": []
  },
  {
   "cell_type": "code",
   "execution_count": 34,
   "metadata": {
    "ExecuteTime": {
     "end_time": "2020-09-08T05:37:41.037255Z",
     "start_time": "2020-09-08T05:37:41.024240Z"
    }
   },
   "outputs": [],
   "source": [
    "def Naivemodel(data, predict_range):\n",
    "    \"\"\"\n",
    "    마지막 값을 그대로 예측\n",
    "    \"\"\"\n",
    "    pred = np.empty([len(data), predict_range])\n",
    "    for i, j in enumerate(data):\n",
    "        pred[i,:] = np.full(predict_range, j[-1, 3])\n",
    "    return pred"
   ]
  },
  {
   "cell_type": "markdown",
   "metadata": {},
   "source": [
    "### MSE"
   ]
  },
  {
   "cell_type": "code",
   "execution_count": 35,
   "metadata": {
    "ExecuteTime": {
     "end_time": "2020-09-08T05:37:41.053200Z",
     "start_time": "2020-09-08T05:37:41.039204Z"
    }
   },
   "outputs": [],
   "source": [
    "naive_data = Naivemodel(test_feature, 1)"
   ]
  },
  {
   "cell_type": "code",
   "execution_count": 36,
   "metadata": {
    "ExecuteTime": {
     "end_time": "2020-09-08T05:37:41.069222Z",
     "start_time": "2020-09-08T05:37:41.055160Z"
    }
   },
   "outputs": [
    {
     "data": {
      "text/plain": [
       "0.0059015844"
      ]
     },
     "execution_count": 36,
     "metadata": {},
     "output_type": "execute_result"
    }
   ],
   "source": [
    "np.mean(keras.losses.mean_squared_error(test_label, pred))"
   ]
  },
  {
   "cell_type": "code",
   "execution_count": 37,
   "metadata": {
    "ExecuteTime": {
     "end_time": "2020-09-08T05:37:41.085194Z",
     "start_time": "2020-09-08T05:37:41.071117Z"
    }
   },
   "outputs": [
    {
     "data": {
      "text/plain": [
       "0.0027683201826654105"
      ]
     },
     "execution_count": 37,
     "metadata": {},
     "output_type": "execute_result"
    }
   ],
   "source": [
    "np.mean(keras.losses.mean_squared_error(test_label, naive_data))"
   ]
  },
  {
   "cell_type": "code",
   "execution_count": null,
   "metadata": {},
   "outputs": [],
   "source": []
  },
  {
   "cell_type": "markdown",
   "metadata": {},
   "source": [
    "### Accuracy"
   ]
  },
  {
   "cell_type": "code",
   "execution_count": 38,
   "metadata": {
    "ExecuteTime": {
     "end_time": "2020-09-08T05:37:41.101157Z",
     "start_time": "2020-09-08T05:37:41.087073Z"
    }
   },
   "outputs": [
    {
     "data": {
      "text/plain": [
       "0.525"
      ]
     },
     "execution_count": 38,
     "metadata": {},
     "output_type": "execute_result"
    }
   ],
   "source": [
    "test_sign = np.sign(test_label.flatten() - test_feature[:, -1, 3])\n",
    "pred_sign = np.sign(pred.flatten() - test_feature[:, -1, 3])\n",
    "sum(test_sign == pred_sign)/len(pred_sign)"
   ]
  },
  {
   "cell_type": "code",
   "execution_count": null,
   "metadata": {},
   "outputs": [],
   "source": []
  },
  {
   "cell_type": "code",
   "execution_count": null,
   "metadata": {},
   "outputs": [],
   "source": []
  },
  {
   "cell_type": "code",
   "execution_count": null,
   "metadata": {},
   "outputs": [],
   "source": []
  },
  {
   "cell_type": "code",
   "execution_count": null,
   "metadata": {},
   "outputs": [],
   "source": []
  },
  {
   "cell_type": "code",
   "execution_count": null,
   "metadata": {},
   "outputs": [],
   "source": []
  },
  {
   "cell_type": "code",
   "execution_count": null,
   "metadata": {},
   "outputs": [],
   "source": []
  }
 ],
 "metadata": {
  "hide_input": false,
  "kernelspec": {
   "display_name": "Python 3",
   "language": "python",
   "name": "python3"
  },
  "language_info": {
   "codemirror_mode": {
    "name": "ipython",
    "version": 3
   },
   "file_extension": ".py",
   "mimetype": "text/x-python",
   "name": "python",
   "nbconvert_exporter": "python",
   "pygments_lexer": "ipython3",
   "version": "3.7.4"
  },
  "toc": {
   "base_numbering": 1,
   "nav_menu": {},
   "number_sections": true,
   "sideBar": true,
   "skip_h1_title": false,
   "title_cell": "Table of Contents",
   "title_sidebar": "Contents",
   "toc_cell": false,
   "toc_position": {},
   "toc_section_display": true,
   "toc_window_display": false
  },
  "varInspector": {
   "cols": {
    "lenName": 16,
    "lenType": 16,
    "lenVar": 40
   },
   "kernels_config": {
    "python": {
     "delete_cmd_postfix": "",
     "delete_cmd_prefix": "del ",
     "library": "var_list.py",
     "varRefreshCmd": "print(var_dic_list())"
    },
    "r": {
     "delete_cmd_postfix": ") ",
     "delete_cmd_prefix": "rm(",
     "library": "var_list.r",
     "varRefreshCmd": "cat(var_dic_list()) "
    }
   },
   "types_to_exclude": [
    "module",
    "function",
    "builtin_function_or_method",
    "instance",
    "_Feature"
   ],
   "window_display": false
  }
 },
 "nbformat": 4,
 "nbformat_minor": 4
}
