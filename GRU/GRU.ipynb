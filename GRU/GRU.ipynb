{
 "cells": [
  {
   "cell_type": "code",
   "execution_count": 1,
   "metadata": {
    "ExecuteTime": {
     "end_time": "2020-08-31T03:08:58.671351Z",
     "start_time": "2020-08-31T03:08:54.830035Z"
    }
   },
   "outputs": [],
   "source": [
    "import numpy as np\n",
    "import matplotlib.pyplot as plt\n",
    "import matplotlib as mpl\n",
    "import pandas as pd\n",
    "import os \n",
    "import h5py\n",
    "from sklearn.preprocessing import MinMaxScaler\n",
    "from tensorflow.keras.models import Sequential\n",
    "from tensorflow.keras.layers import Dense\n",
    "from tensorflow.keras.callbacks import EarlyStopping, ModelCheckpoint\n",
    "from tensorflow.keras.layers import LSTM, Conv1D, Conv2D, GRU\n",
    "from tensorflow.keras.layers import TimeDistributed\n",
    "from tensorflow import keras"
   ]
  },
  {
   "cell_type": "code",
   "execution_count": 2,
   "metadata": {
    "ExecuteTime": {
     "end_time": "2020-08-31T03:08:58.687307Z",
     "start_time": "2020-08-31T03:08:58.674321Z"
    }
   },
   "outputs": [],
   "source": [
    "plt.rcParams['font.family'] = 'NanumbarunGothic'\n",
    "mpl.rcParams['axes.unicode_minus'] = False"
   ]
  },
  {
   "cell_type": "code",
   "execution_count": 3,
   "metadata": {
    "ExecuteTime": {
     "end_time": "2020-08-31T03:08:58.703244Z",
     "start_time": "2020-08-31T03:08:58.689282Z"
    }
   },
   "outputs": [],
   "source": [
    "stock_data = h5py.File(\"/Users/hwarang/Desktop/Stockprediction_proj/StockData_30years.hdf5\", 'r')"
   ]
  },
  {
   "cell_type": "code",
   "execution_count": 4,
   "metadata": {
    "ExecuteTime": {
     "end_time": "2020-08-31T03:08:58.733424Z",
     "start_time": "2020-08-31T03:08:58.705238Z"
    }
   },
   "outputs": [],
   "source": [
    "_005930 = pd.DataFrame(stock_data['/KOSPI/005930/values'][:], \n",
    "                       index = pd.to_datetime(stock_data['/KOSPI/005930/date'][:]),\n",
    "                       columns = stock_data.attrs['value_names'])"
   ]
  },
  {
   "cell_type": "code",
   "execution_count": 5,
   "metadata": {
    "ExecuteTime": {
     "end_time": "2020-08-31T03:08:58.749120Z",
     "start_time": "2020-08-31T03:08:58.735158Z"
    }
   },
   "outputs": [],
   "source": [
    "_005930 = _005930['2015-01-01':'2020-06-30']"
   ]
  },
  {
   "cell_type": "code",
   "execution_count": 6,
   "metadata": {
    "ExecuteTime": {
     "end_time": "2020-08-31T03:08:58.780316Z",
     "start_time": "2020-08-31T03:08:58.751116Z"
    },
    "scrolled": true
   },
   "outputs": [
    {
     "data": {
      "text/html": [
       "<div>\n",
       "<style scoped>\n",
       "    .dataframe tbody tr th:only-of-type {\n",
       "        vertical-align: middle;\n",
       "    }\n",
       "\n",
       "    .dataframe tbody tr th {\n",
       "        vertical-align: top;\n",
       "    }\n",
       "\n",
       "    .dataframe thead th {\n",
       "        text-align: right;\n",
       "    }\n",
       "</style>\n",
       "<table border=\"1\" class=\"dataframe\">\n",
       "  <thead>\n",
       "    <tr style=\"text-align: right;\">\n",
       "      <th></th>\n",
       "      <th>Open</th>\n",
       "      <th>High</th>\n",
       "      <th>Low</th>\n",
       "      <th>Close</th>\n",
       "      <th>Volume</th>\n",
       "    </tr>\n",
       "  </thead>\n",
       "  <tbody>\n",
       "    <tr>\n",
       "      <th>2015-01-02</th>\n",
       "      <td>26799</td>\n",
       "      <td>26799</td>\n",
       "      <td>26540</td>\n",
       "      <td>26600</td>\n",
       "      <td>175499</td>\n",
       "    </tr>\n",
       "    <tr>\n",
       "      <th>2015-01-05</th>\n",
       "      <td>26720</td>\n",
       "      <td>26720</td>\n",
       "      <td>26260</td>\n",
       "      <td>26660</td>\n",
       "      <td>202790</td>\n",
       "    </tr>\n",
       "    <tr>\n",
       "      <th>2015-01-06</th>\n",
       "      <td>26300</td>\n",
       "      <td>26340</td>\n",
       "      <td>25760</td>\n",
       "      <td>25900</td>\n",
       "      <td>304710</td>\n",
       "    </tr>\n",
       "  </tbody>\n",
       "</table>\n",
       "</div>"
      ],
      "text/plain": [
       "             Open   High    Low  Close  Volume\n",
       "2015-01-02  26799  26799  26540  26600  175499\n",
       "2015-01-05  26720  26720  26260  26660  202790\n",
       "2015-01-06  26300  26340  25760  25900  304710"
      ]
     },
     "execution_count": 6,
     "metadata": {},
     "output_type": "execute_result"
    }
   ],
   "source": [
    "_005930.head(3)"
   ]
  },
  {
   "cell_type": "code",
   "execution_count": null,
   "metadata": {},
   "outputs": [],
   "source": []
  },
  {
   "cell_type": "code",
   "execution_count": null,
   "metadata": {},
   "outputs": [],
   "source": []
  },
  {
   "cell_type": "markdown",
   "metadata": {},
   "source": [
    "### normalize"
   ]
  },
  {
   "cell_type": "code",
   "execution_count": 7,
   "metadata": {
    "ExecuteTime": {
     "end_time": "2020-08-31T03:08:58.811171Z",
     "start_time": "2020-08-31T03:08:58.782250Z"
    }
   },
   "outputs": [
    {
     "data": {
      "text/html": [
       "<div>\n",
       "<style scoped>\n",
       "    .dataframe tbody tr th:only-of-type {\n",
       "        vertical-align: middle;\n",
       "    }\n",
       "\n",
       "    .dataframe tbody tr th {\n",
       "        vertical-align: top;\n",
       "    }\n",
       "\n",
       "    .dataframe thead th {\n",
       "        text-align: right;\n",
       "    }\n",
       "</style>\n",
       "<table border=\"1\" class=\"dataframe\">\n",
       "  <thead>\n",
       "    <tr style=\"text-align: right;\">\n",
       "      <th></th>\n",
       "      <th>시가</th>\n",
       "      <th>고가</th>\n",
       "      <th>저가</th>\n",
       "      <th>종가</th>\n",
       "      <th>거래량</th>\n",
       "    </tr>\n",
       "  </thead>\n",
       "  <tbody>\n",
       "    <tr>\n",
       "      <th>0</th>\n",
       "      <td>0.432242</td>\n",
       "      <td>0.426736</td>\n",
       "      <td>0.430146</td>\n",
       "      <td>0.128105</td>\n",
       "      <td>0.002764</td>\n",
       "    </tr>\n",
       "    <tr>\n",
       "      <th>1</th>\n",
       "      <td>0.430968</td>\n",
       "      <td>0.425478</td>\n",
       "      <td>0.425608</td>\n",
       "      <td>0.129566</td>\n",
       "      <td>0.003194</td>\n",
       "    </tr>\n",
       "    <tr>\n",
       "      <th>2</th>\n",
       "      <td>0.424194</td>\n",
       "      <td>0.419427</td>\n",
       "      <td>0.417504</td>\n",
       "      <td>0.111057</td>\n",
       "      <td>0.004799</td>\n",
       "    </tr>\n",
       "    <tr>\n",
       "      <th>3</th>\n",
       "      <td>0.417419</td>\n",
       "      <td>0.417516</td>\n",
       "      <td>0.415559</td>\n",
       "      <td>0.116902</td>\n",
       "      <td>0.004512</td>\n",
       "    </tr>\n",
       "    <tr>\n",
       "      <th>4</th>\n",
       "      <td>0.431935</td>\n",
       "      <td>0.426433</td>\n",
       "      <td>0.424619</td>\n",
       "      <td>0.120312</td>\n",
       "      <td>0.004561</td>\n",
       "    </tr>\n",
       "  </tbody>\n",
       "</table>\n",
       "</div>"
      ],
      "text/plain": [
       "         시가        고가        저가        종가       거래량\n",
       "0  0.432242  0.426736  0.430146  0.128105  0.002764\n",
       "1  0.430968  0.425478  0.425608  0.129566  0.003194\n",
       "2  0.424194  0.419427  0.417504  0.111057  0.004799\n",
       "3  0.417419  0.417516  0.415559  0.116902  0.004512\n",
       "4  0.431935  0.426433  0.424619  0.120312  0.004561"
      ]
     },
     "execution_count": 7,
     "metadata": {},
     "output_type": "execute_result"
    }
   ],
   "source": [
    "scaler = MinMaxScaler()\n",
    "df_scaled = scaler.fit_transform(_005930)\n",
    "\n",
    "df_scaled = pd.DataFrame(df_scaled)\n",
    "df_scaled.columns = ['시가', '고가', '저가', '종가', '거래량']\n",
    "\n",
    "df_scaled.head()"
   ]
  },
  {
   "cell_type": "code",
   "execution_count": 8,
   "metadata": {
    "ExecuteTime": {
     "end_time": "2020-08-31T03:08:58.827171Z",
     "start_time": "2020-08-31T03:08:58.814164Z"
    }
   },
   "outputs": [],
   "source": [
    "TEST_SIZE = 365\n",
    "train = df_scaled[:-TEST_SIZE]\n",
    "test = df_scaled[-TEST_SIZE:]"
   ]
  },
  {
   "cell_type": "code",
   "execution_count": 9,
   "metadata": {
    "ExecuteTime": {
     "end_time": "2020-08-31T03:08:58.843087Z",
     "start_time": "2020-08-31T03:08:58.830131Z"
    }
   },
   "outputs": [],
   "source": [
    "def make_dataset(data, label, window_size=365, predsize = None):\n",
    "    feature_list = []\n",
    "    label_list = []\n",
    "\n",
    "    if isinstance(predsize, int):\n",
    "        for i in range(len(data) - (window_size + predsize)):\n",
    "            feature_list.append(np.array(data.iloc[i:i+window_size]))\n",
    "            label_list.append(np.array(label.iloc[i+window_size:i+window_size+predsize]))\n",
    "    else:\n",
    "        for i in range(len(data) - window_size):\n",
    "            feature_list.append(np.array(data.iloc[i:i+window_size]))\n",
    "            label_list.append(np.array(label.iloc[i+window_size]))\n",
    "\n",
    "    return np.array(feature_list), np.array(label_list)"
   ]
  },
  {
   "cell_type": "code",
   "execution_count": 10,
   "metadata": {
    "ExecuteTime": {
     "end_time": "2020-08-31T03:08:59.187166Z",
     "start_time": "2020-08-31T03:08:58.846084Z"
    },
    "scrolled": true
   },
   "outputs": [
    {
     "name": "stdout",
     "output_type": "stream",
     "text": [
      "(772, 20, 1) (772, 1)\n",
      "(193, 20, 1) (193, 1)\n",
      "(345, 20, 1) (345, 1)\n"
     ]
    }
   ],
   "source": [
    "feature_cols = ['종가']\n",
    "label_cols = ['종가']\n",
    "\n",
    "train_feature = train[feature_cols]\n",
    "train_label = train[label_cols]\n",
    "\n",
    "test_feature = test[feature_cols]\n",
    "test_label = test[label_cols]\n",
    "\n",
    "# train dataset\n",
    "train_feature, train_label = make_dataset(train_feature, train_label, 20)\n",
    "\n",
    "# train, validation set 생성\n",
    "from sklearn.model_selection import train_test_split\n",
    "x_train, x_valid, y_train, y_valid = train_test_split(train_feature, train_label, test_size=0.2, shuffle=False)\n",
    "\n",
    "print(x_train.shape, y_train.shape)\n",
    "print(x_valid.shape, y_valid.shape)\n",
    "\n",
    "# test dataset (실제 예측 해볼 데이터)\n",
    "test_feature, test_label = make_dataset(test_feature, test_label, 20)\n",
    "print(test_feature.shape, test_label.shape)"
   ]
  },
  {
   "cell_type": "code",
   "execution_count": 11,
   "metadata": {
    "ExecuteTime": {
     "end_time": "2020-08-31T03:08:59.202165Z",
     "start_time": "2020-08-31T03:08:59.189162Z"
    },
    "scrolled": true
   },
   "outputs": [
    {
     "data": {
      "text/plain": [
       "((985, 5), (365, 5))"
      ]
     },
     "execution_count": 11,
     "metadata": {},
     "output_type": "execute_result"
    }
   ],
   "source": [
    "train.shape, test.shape"
   ]
  },
  {
   "cell_type": "code",
   "execution_count": null,
   "metadata": {},
   "outputs": [],
   "source": []
  },
  {
   "cell_type": "code",
   "execution_count": null,
   "metadata": {},
   "outputs": [],
   "source": []
  },
  {
   "cell_type": "code",
   "execution_count": 12,
   "metadata": {
    "ExecuteTime": {
     "end_time": "2020-08-31T03:08:59.783511Z",
     "start_time": "2020-08-31T03:08:59.204670Z"
    }
   },
   "outputs": [],
   "source": [
    "model = Sequential()\n",
    "model.add(GRU(128, return_sequences=True, input_shape = [train_feature.shape[1], train_feature.shape[2]]))\n",
    "model.add(GRU(128))\n",
    "# model.add(Dense(32, activation='elu'))\n",
    "model.add(Dense(1))"
   ]
  },
  {
   "cell_type": "code",
   "execution_count": 13,
   "metadata": {
    "ExecuteTime": {
     "end_time": "2020-08-31T03:08:59.799112Z",
     "start_time": "2020-08-31T03:08:59.785179Z"
    }
   },
   "outputs": [
    {
     "name": "stdout",
     "output_type": "stream",
     "text": [
      "Model: \"sequential\"\n",
      "_________________________________________________________________\n",
      "Layer (type)                 Output Shape              Param #   \n",
      "=================================================================\n",
      "gru (GRU)                    (None, 20, 128)           50304     \n",
      "_________________________________________________________________\n",
      "gru_1 (GRU)                  (None, 128)               99072     \n",
      "_________________________________________________________________\n",
      "dense (Dense)                (None, 1)                 129       \n",
      "=================================================================\n",
      "Total params: 149,505\n",
      "Trainable params: 149,505\n",
      "Non-trainable params: 0\n",
      "_________________________________________________________________\n"
     ]
    }
   ],
   "source": [
    "model.summary()"
   ]
  },
  {
   "cell_type": "code",
   "execution_count": 14,
   "metadata": {
    "ExecuteTime": {
     "end_time": "2020-08-31T03:08:59.814325Z",
     "start_time": "2020-08-31T03:08:59.802093Z"
    }
   },
   "outputs": [],
   "source": [
    "def last_time_step_mse(Y_true, Y_pred):\n",
    "    return keras.metrics.mean_squared_error(Y_true[:, -1], Y_pred[:, -1])"
   ]
  },
  {
   "cell_type": "code",
   "execution_count": 15,
   "metadata": {
    "ExecuteTime": {
     "end_time": "2020-08-31T03:08:59.860202Z",
     "start_time": "2020-08-31T03:08:59.816320Z"
    }
   },
   "outputs": [],
   "source": [
    "model_path = './trained_model'\n",
    "model.compile(loss='mse', optimizer=keras.optimizers.Adam(lr=0.001))\n",
    "early_stop = EarlyStopping(monitor='val_loss', patience=30)\n",
    "filename = os.path.join(model_path, 'KISTI_proj_GRU.h5')\n",
    "checkpoint = ModelCheckpoint(filename, monitor='val_loss', verbose=1, save_best_only=True, mode='auto')"
   ]
  },
  {
   "cell_type": "code",
   "execution_count": 16,
   "metadata": {
    "ExecuteTime": {
     "end_time": "2020-08-31T03:09:13.107939Z",
     "start_time": "2020-08-31T03:08:59.863194Z"
    },
    "scrolled": true
   },
   "outputs": [
    {
     "name": "stdout",
     "output_type": "stream",
     "text": [
      "Train on 772 samples, validate on 193 samples\n",
      "Epoch 1/20\n",
      "768/772 [============================>.] - ETA: 0s - loss: 0.0666\n",
      "Epoch 00001: val_loss improved from inf to 0.02171, saving model to ./trained_model\\KISTI_proj_GRU.h5\n",
      "772/772 [==============================] - 4s 6ms/sample - loss: 0.0665 - val_loss: 0.0217\n",
      "Epoch 2/20\n",
      "768/772 [============================>.] - ETA: 0s - loss: 0.0087\n",
      "Epoch 00002: val_loss improved from 0.02171 to 0.01412, saving model to ./trained_model\\KISTI_proj_GRU.h5\n",
      "772/772 [==============================] - 1s 661us/sample - loss: 0.0087 - val_loss: 0.0141\n",
      "Epoch 3/20\n",
      "768/772 [============================>.] - ETA: 0s - loss: 0.0083\n",
      "Epoch 00003: val_loss improved from 0.01412 to 0.00160, saving model to ./trained_model\\KISTI_proj_GRU.h5\n",
      "772/772 [==============================] - 0s 644us/sample - loss: 0.0083 - val_loss: 0.0016\n",
      "Epoch 4/20\n",
      "768/772 [============================>.] - ETA: 0s - loss: 0.0031\n",
      "Epoch 00004: val_loss improved from 0.00160 to 0.00094, saving model to ./trained_model\\KISTI_proj_GRU.h5\n",
      "772/772 [==============================] - 0s 625us/sample - loss: 0.0031 - val_loss: 9.3787e-04\n",
      "Epoch 5/20\n",
      "768/772 [============================>.] - ETA: 0s - loss: 9.3262e-04\n",
      "Epoch 00005: val_loss did not improve from 0.00094\n",
      "772/772 [==============================] - 0s 637us/sample - loss: 9.3604e-04 - val_loss: 0.0015\n",
      "Epoch 6/20\n",
      "768/772 [============================>.] - ETA: 0s - loss: 8.7951e-04\n",
      "Epoch 00006: val_loss improved from 0.00094 to 0.00092, saving model to ./trained_model\\KISTI_proj_GRU.h5\n",
      "772/772 [==============================] - 1s 681us/sample - loss: 8.7763e-04 - val_loss: 9.1666e-04\n",
      "Epoch 7/20\n",
      "768/772 [============================>.] - ETA: 0s - loss: 8.2300e-04\n",
      "Epoch 00007: val_loss improved from 0.00092 to 0.00049, saving model to ./trained_model\\KISTI_proj_GRU.h5\n",
      "772/772 [==============================] - 1s 653us/sample - loss: 8.2123e-04 - val_loss: 4.8885e-04\n",
      "Epoch 8/20\n",
      "768/772 [============================>.] - ETA: 0s - loss: 5.0586e-04\n",
      "Epoch 00008: val_loss did not improve from 0.00049\n",
      "772/772 [==============================] - 0s 594us/sample - loss: 5.0685e-04 - val_loss: 4.9335e-04\n",
      "Epoch 9/20\n",
      "768/772 [============================>.] - ETA: 0s - loss: 5.1498e-04\n",
      "Epoch 00009: val_loss did not improve from 0.00049\n",
      "772/772 [==============================] - 0s 525us/sample - loss: 5.1250e-04 - val_loss: 5.5041e-04\n",
      "Epoch 10/20\n",
      "768/772 [============================>.] - ETA: 0s - loss: 4.6305e-04\n",
      "Epoch 00010: val_loss did not improve from 0.00049\n",
      "772/772 [==============================] - 0s 549us/sample - loss: 4.6238e-04 - val_loss: 5.1172e-04\n",
      "Epoch 11/20\n",
      "768/772 [============================>.] - ETA: 0s - loss: 4.5519e-04\n",
      "Epoch 00011: val_loss did not improve from 0.00049\n",
      "772/772 [==============================] - 0s 541us/sample - loss: 4.5363e-04 - val_loss: 5.1869e-04\n",
      "Epoch 12/20\n",
      "768/772 [============================>.] - ETA: 0s - loss: 4.4975e-04\n",
      "Epoch 00012: val_loss improved from 0.00049 to 0.00048, saving model to ./trained_model\\KISTI_proj_GRU.h5\n",
      "772/772 [==============================] - 0s 565us/sample - loss: 4.4932e-04 - val_loss: 4.8105e-04\n",
      "Epoch 13/20\n",
      "768/772 [============================>.] - ETA: 0s - loss: 4.3026e-04\n",
      "Epoch 00013: val_loss improved from 0.00048 to 0.00048, saving model to ./trained_model\\KISTI_proj_GRU.h5\n",
      "772/772 [==============================] - 0s 607us/sample - loss: 4.3084e-04 - val_loss: 4.7734e-04\n",
      "Epoch 14/20\n",
      "768/772 [============================>.] - ETA: 0s - loss: 4.4260e-04\n",
      "Epoch 00014: val_loss improved from 0.00048 to 0.00048, saving model to ./trained_model\\KISTI_proj_GRU.h5\n",
      "772/772 [==============================] - 0s 565us/sample - loss: 4.4148e-04 - val_loss: 4.7593e-04\n",
      "Epoch 15/20\n",
      "768/772 [============================>.] - ETA: 0s - loss: 4.3318e-04\n",
      "Epoch 00015: val_loss improved from 0.00048 to 0.00047, saving model to ./trained_model\\KISTI_proj_GRU.h5\n",
      "772/772 [==============================] - 0s 581us/sample - loss: 4.3190e-04 - val_loss: 4.7264e-04\n",
      "Epoch 16/20\n",
      "768/772 [============================>.] - ETA: 0s - loss: 4.2148e-04\n",
      "Epoch 00016: val_loss improved from 0.00047 to 0.00046, saving model to ./trained_model\\KISTI_proj_GRU.h5\n",
      "772/772 [==============================] - 0s 560us/sample - loss: 4.2493e-04 - val_loss: 4.6271e-04\n",
      "Epoch 17/20\n",
      "768/772 [============================>.] - ETA: 0s - loss: 4.1598e-04\n",
      "Epoch 00017: val_loss did not improve from 0.00046\n",
      "772/772 [==============================] - 0s 568us/sample - loss: 4.1631e-04 - val_loss: 4.6998e-04\n",
      "Epoch 18/20\n",
      "768/772 [============================>.] - ETA: 0s - loss: 4.1294e-04\n",
      "Epoch 00018: val_loss did not improve from 0.00046\n",
      "772/772 [==============================] - 0s 575us/sample - loss: 4.1549e-04 - val_loss: 4.7150e-04\n",
      "Epoch 19/20\n",
      "768/772 [============================>.] - ETA: 0s - loss: 4.6009e-04\n",
      "Epoch 00019: val_loss improved from 0.00046 to 0.00045, saving model to ./trained_model\\KISTI_proj_GRU.h5\n",
      "772/772 [==============================] - 0s 579us/sample - loss: 4.5881e-04 - val_loss: 4.4885e-04\n",
      "Epoch 20/20\n",
      "768/772 [============================>.] - ETA: 0s - loss: 4.5266e-04\n",
      "Epoch 00020: val_loss did not improve from 0.00045\n",
      "772/772 [==============================] - 0s 573us/sample - loss: 4.5077e-04 - val_loss: 4.5087e-04\n"
     ]
    }
   ],
   "source": [
    "history = model.fit(x_train, y_train, \n",
    "                    epochs=20,\n",
    "                    batch_size=128,\n",
    "                    validation_data=(x_valid, y_valid), \n",
    "                    callbacks=[early_stop, checkpoint])"
   ]
  },
  {
   "cell_type": "code",
   "execution_count": null,
   "metadata": {},
   "outputs": [],
   "source": []
  },
  {
   "cell_type": "code",
   "execution_count": 17,
   "metadata": {
    "ExecuteTime": {
     "end_time": "2020-08-31T03:09:13.971684Z",
     "start_time": "2020-08-31T03:09:13.109935Z"
    }
   },
   "outputs": [],
   "source": [
    "# weight 로딩\n",
    "model.load_weights(filename)\n",
    "\n",
    "# 예측\n",
    "pred = model.predict(test_feature)"
   ]
  },
  {
   "cell_type": "code",
   "execution_count": 18,
   "metadata": {
    "ExecuteTime": {
     "end_time": "2020-08-31T03:09:13.987632Z",
     "start_time": "2020-08-31T03:09:13.973670Z"
    }
   },
   "outputs": [
    {
     "data": {
      "text/plain": [
       "(345, 1)"
      ]
     },
     "execution_count": 18,
     "metadata": {},
     "output_type": "execute_result"
    }
   ],
   "source": [
    "pred.shape"
   ]
  },
  {
   "cell_type": "code",
   "execution_count": 19,
   "metadata": {
    "ExecuteTime": {
     "end_time": "2020-08-31T03:09:14.546641Z",
     "start_time": "2020-08-31T03:09:13.988628Z"
    }
   },
   "outputs": [
    {
     "data": {
      "image/png": "[encoded data removed]",
      "text/plain": [
       "<Figure size 864x432 with 1 Axes>"
      ]
     },
     "metadata": {
      "needs_background": "light"
     },
     "output_type": "display_data"
    }
   ],
   "source": [
    "plt.figure(figsize=(12, 6))\n",
    "plt.rc(\"font\",size=15)\n",
    "plt.plot(test_label, label='실제값')\n",
    "plt.plot(pred, label='예측값')\n",
    "plt.plot(np.sqrt((pred - test_label)**2), label='$\\mid$실제값 $-$ 예측값$\\mid$')\n",
    "plt.legend(frameon=False, fontsize = 18)\n",
    "plt.grid(ls='--')\n",
    "plt.title(\"삼성\")\n",
    "plt.show()"
   ]
  },
  {
   "cell_type": "code",
   "execution_count": 20,
   "metadata": {
    "ExecuteTime": {
     "end_time": "2020-08-31T03:09:14.562632Z",
     "start_time": "2020-08-31T03:09:14.548613Z"
    },
    "scrolled": true
   },
   "outputs": [
    {
     "data": {
      "text/plain": [
       "(345, 1)"
      ]
     },
     "execution_count": 20,
     "metadata": {},
     "output_type": "execute_result"
    }
   ],
   "source": [
    "test_label.shape"
   ]
  },
  {
   "cell_type": "code",
   "execution_count": 21,
   "metadata": {
    "ExecuteTime": {
     "end_time": "2020-08-31T03:09:14.577535Z",
     "start_time": "2020-08-31T03:09:14.566564Z"
    },
    "scrolled": true
   },
   "outputs": [
    {
     "data": {
      "text/plain": [
       "((345, 20, 1), (345, 1))"
      ]
     },
     "execution_count": 21,
     "metadata": {},
     "output_type": "execute_result"
    }
   ],
   "source": [
    "test_feature.shape, pred.shape"
   ]
  },
  {
   "cell_type": "markdown",
   "metadata": {},
   "source": [
    "# MSE"
   ]
  },
  {
   "cell_type": "code",
   "execution_count": 22,
   "metadata": {
    "ExecuteTime": {
     "end_time": "2020-08-31T03:09:14.593523Z",
     "start_time": "2020-08-31T03:09:14.583519Z"
    },
    "scrolled": true
   },
   "outputs": [
    {
     "data": {
      "text/plain": [
       "0.0009320758"
      ]
     },
     "execution_count": 22,
     "metadata": {},
     "output_type": "execute_result"
    }
   ],
   "source": [
    "np.mean(keras.losses.mean_squared_error(test_label, pred))"
   ]
  },
  {
   "cell_type": "code",
   "execution_count": null,
   "metadata": {},
   "outputs": [],
   "source": []
  },
  {
   "cell_type": "code",
   "execution_count": null,
   "metadata": {},
   "outputs": [],
   "source": []
  },
  {
   "cell_type": "code",
   "execution_count": null,
   "metadata": {},
   "outputs": [],
   "source": []
  },
  {
   "cell_type": "code",
   "execution_count": null,
   "metadata": {},
   "outputs": [],
   "source": []
  },
  {
   "cell_type": "code",
   "execution_count": null,
   "metadata": {},
   "outputs": [],
   "source": []
  },
  {
   "cell_type": "code",
   "execution_count": null,
   "metadata": {},
   "outputs": [],
   "source": []
  },
  {
   "cell_type": "code",
   "execution_count": null,
   "metadata": {},
   "outputs": [],
   "source": []
  },
  {
   "cell_type": "code",
   "execution_count": null,
   "metadata": {},
   "outputs": [],
   "source": []
  },
  {
   "cell_type": "code",
   "execution_count": null,
   "metadata": {},
   "outputs": [],
   "source": []
  },
  {
   "cell_type": "code",
   "execution_count": null,
   "metadata": {},
   "outputs": [],
   "source": []
  }
 ],
 "metadata": {
  "hide_input": false,
  "kernelspec": {
   "display_name": "Python 3",
   "language": "python",
   "name": "python3"
  },
  "language_info": {
   "codemirror_mode": {
    "name": "ipython",
    "version": 3
   },
   "file_extension": ".py",
   "mimetype": "text/x-python",
   "name": "python",
   "nbconvert_exporter": "python",
   "pygments_lexer": "ipython3",
   "version": "3.7.4"
  },
  "toc": {
   "base_numbering": 1,
   "nav_menu": {},
   "number_sections": true,
   "sideBar": true,
   "skip_h1_title": false,
   "title_cell": "Table of Contents",
   "title_sidebar": "Contents",
   "toc_cell": false,
   "toc_position": {},
   "toc_section_display": true,
   "toc_window_display": false
  },
  "varInspector": {
   "cols": {
    "lenName": 16,
    "lenType": 16,
    "lenVar": 40
   },
   "kernels_config": {
    "python": {
     "delete_cmd_postfix": "",
     "delete_cmd_prefix": "del ",
     "library": "var_list.py",
     "varRefreshCmd": "print(var_dic_list())"
    },
    "r": {
     "delete_cmd_postfix": ") ",
     "delete_cmd_prefix": "rm(",
     "library": "var_list.r",
     "varRefreshCmd": "cat(var_dic_list()) "
    }
   },
   "types_to_exclude": [
    "module",
    "function",
    "builtin_function_or_method",
    "instance",
    "_Feature"
   ],
   "window_display": false
  }
 },
 "nbformat": 4,
 "nbformat_minor": 4
}
