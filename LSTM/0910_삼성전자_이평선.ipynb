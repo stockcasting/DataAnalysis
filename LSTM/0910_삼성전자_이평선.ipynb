{
  "nbformat": 4,
  "nbformat_minor": 0,
  "metadata": {
    "colab": {
      "name": "0910_삼성전자 이평선",
      "provenance": [],
      "collapsed_sections": []
    },
    "kernelspec": {
      "name": "python3",
      "display_name": "Python 3"
    }
  },
  "cells": [
    {
      "cell_type": "code",
      "metadata": {
        "id": "LtWdCek2mj_D",
        "colab_type": "code",
        "colab": {
          "base_uri": "https://localhost:8080/",
          "height": 70
        },
        "outputId": "dbe7c58e-b949-40f4-dfb2-27df8f216539"
      },
      "source": [
        "import numpy as np\n",
        "import pandas as pd\n",
        "import matplotlib as mpl\n",
        "import matplotlib.pyplot as plt\n",
        "import seaborn as sns\n",
        "import warnings\n",
        "warnings.filterwarnings('ignore')\n",
        "mpl.rcParams[\"font.family\"] = 'NanumBarunGothic'\n",
        "mpl.rcParams['axes.unicode_minus'] = False\n",
        "%matplotlib inline"
      ],
      "execution_count": 1,
      "outputs": [
        {
          "output_type": "stream",
          "text": [
            "/usr/local/lib/python3.6/dist-packages/statsmodels/tools/_testing.py:19: FutureWarning: pandas.util.testing is deprecated. Use the functions in the public API at pandas.testing instead.\n",
            "  import pandas.util.testing as tm\n"
          ],
          "name": "stderr"
        }
      ]
    },
    {
      "cell_type": "code",
      "metadata": {
        "id": "HG3HW5ZfmqZ2",
        "colab_type": "code",
        "colab": {}
      },
      "source": [
        "from keras.models import Sequential\n",
        "from keras.layers import Dense, LSTM\n",
        "from sklearn.preprocessing import MinMaxScaler\n",
        "from sklearn.metrics import mean_squared_error"
      ],
      "execution_count": 2,
      "outputs": []
    },
    {
      "cell_type": "code",
      "metadata": {
        "id": "fWSdHb0Dmr9G",
        "colab_type": "code",
        "colab": {
          "resources": {
            "http://localhost:8080/nbextensions/google.colab/files.js": {
              "data": "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",
              "ok": true,
              "headers": [
                [
                  "content-type",
                  "application/javascript"
                ]
              ],
              "status": 200,
              "status_text": ""
            }
          },
          "base_uri": "https://localhost:8080/",
          "height": 75
        },
        "outputId": "60ba4705-95fd-4fee-ba78-e49c413ca799"
      },
      "source": [
        "from google.colab import files\n",
        "uploaded=files.upload()"
      ],
      "execution_count": 3,
      "outputs": [
        {
          "output_type": "display_data",
          "data": {
            "text/html": [
              "\n",
              "     <input type=\"file\" id=\"files-b2a569ba-c035-49ae-88f3-6f4a51580244\" name=\"files[]\" multiple disabled\n",
              "        style=\"border:none\" />\n",
              "     <output id=\"result-b2a569ba-c035-49ae-88f3-6f4a51580244\">\n",
              "      Upload widget is only available when the cell has been executed in the\n",
              "      current browser session. Please rerun this cell to enable.\n",
              "      </output>\n",
              "      <script src=\"/nbextensions/google.colab/files.js\"></script> "
            ],
            "text/plain": [
              "<IPython.core.display.HTML object>"
            ]
          },
          "metadata": {
            "tags": []
          }
        },
        {
          "output_type": "stream",
          "text": [
            "Saving sse.csv to sse.csv\n"
          ],
          "name": "stdout"
        }
      ]
    },
    {
      "cell_type": "code",
      "metadata": {
        "id": "h83bx7OTm1uZ",
        "colab_type": "code",
        "colab": {}
      },
      "source": [
        "import io\n",
        "data=pd.read_csv(io.BytesIO(uploaded['sse.csv']))"
      ],
      "execution_count": 4,
      "outputs": []
    },
    {
      "cell_type": "code",
      "metadata": {
        "id": "76NAVXSRm6_3",
        "colab_type": "code",
        "colab": {
          "base_uri": "https://localhost:8080/",
          "height": 195
        },
        "outputId": "083fc54b-7c4a-4ebe-cd4b-19fa1ecf7566"
      },
      "source": [
        ""
      ],
      "execution_count": 5,
      "outputs": [
        {
          "output_type": "execute_result",
          "data": {
            "text/html": [
              "<div>\n",
              "<style scoped>\n",
              "    .dataframe tbody tr th:only-of-type {\n",
              "        vertical-align: middle;\n",
              "    }\n",
              "\n",
              "    .dataframe tbody tr th {\n",
              "        vertical-align: top;\n",
              "    }\n",
              "\n",
              "    .dataframe thead th {\n",
              "        text-align: right;\n",
              "    }\n",
              "</style>\n",
              "<table border=\"1\" class=\"dataframe\">\n",
              "  <thead>\n",
              "    <tr style=\"text-align: right;\">\n",
              "      <th></th>\n",
              "      <th>Date</th>\n",
              "      <th>Open</th>\n",
              "      <th>High</th>\n",
              "      <th>Low</th>\n",
              "      <th>Close</th>\n",
              "      <th>Volume</th>\n",
              "      <th>Change</th>\n",
              "    </tr>\n",
              "  </thead>\n",
              "  <tbody>\n",
              "    <tr>\n",
              "      <th>0</th>\n",
              "      <td>2018-01-02</td>\n",
              "      <td>51380</td>\n",
              "      <td>51400</td>\n",
              "      <td>50780</td>\n",
              "      <td>51020</td>\n",
              "      <td>169485</td>\n",
              "      <td>0.001177</td>\n",
              "    </tr>\n",
              "    <tr>\n",
              "      <th>1</th>\n",
              "      <td>2018-01-03</td>\n",
              "      <td>52540</td>\n",
              "      <td>52560</td>\n",
              "      <td>51420</td>\n",
              "      <td>51620</td>\n",
              "      <td>200270</td>\n",
              "      <td>0.011760</td>\n",
              "    </tr>\n",
              "    <tr>\n",
              "      <th>2</th>\n",
              "      <td>2018-01-04</td>\n",
              "      <td>52120</td>\n",
              "      <td>52180</td>\n",
              "      <td>50640</td>\n",
              "      <td>51080</td>\n",
              "      <td>233909</td>\n",
              "      <td>-0.010461</td>\n",
              "    </tr>\n",
              "    <tr>\n",
              "      <th>3</th>\n",
              "      <td>2018-01-05</td>\n",
              "      <td>51300</td>\n",
              "      <td>52120</td>\n",
              "      <td>51200</td>\n",
              "      <td>52120</td>\n",
              "      <td>189623</td>\n",
              "      <td>0.020360</td>\n",
              "    </tr>\n",
              "    <tr>\n",
              "      <th>4</th>\n",
              "      <td>2018-01-08</td>\n",
              "      <td>52400</td>\n",
              "      <td>52520</td>\n",
              "      <td>51500</td>\n",
              "      <td>52020</td>\n",
              "      <td>167673</td>\n",
              "      <td>-0.001919</td>\n",
              "    </tr>\n",
              "  </tbody>\n",
              "</table>\n",
              "</div>"
            ],
            "text/plain": [
              "         Date   Open   High    Low  Close  Volume    Change\n",
              "0  2018-01-02  51380  51400  50780  51020  169485  0.001177\n",
              "1  2018-01-03  52540  52560  51420  51620  200270  0.011760\n",
              "2  2018-01-04  52120  52180  50640  51080  233909 -0.010461\n",
              "3  2018-01-05  51300  52120  51200  52120  189623  0.020360\n",
              "4  2018-01-08  52400  52520  51500  52020  167673 -0.001919"
            ]
          },
          "metadata": {
            "tags": []
          },
          "execution_count": 5
        }
      ]
    },
    {
      "cell_type": "code",
      "metadata": {
        "id": "DDyZ82LXm-AR",
        "colab_type": "code",
        "colab": {
          "base_uri": "https://localhost:8080/",
          "height": 299
        },
        "outputId": "56821c16-4e48-4050-e73c-6f06f5ee90bd"
      },
      "source": [
        "df['5days']=df['Close'].rolling(window=5).mean()\n",
        "df['10days']=df['Close'].rolling(window=10).mean()\n",
        "df['20days']=df['Close'].rolling(window=20).mean()\n",
        "df['60days']=df['Close'].rolling(window=60).mean()\n",
        "df.head()"
      ],
      "execution_count": 6,
      "outputs": [
        {
          "output_type": "execute_result",
          "data": {
            "text/html": [
              "<div>\n",
              "<style scoped>\n",
              "    .dataframe tbody tr th:only-of-type {\n",
              "        vertical-align: middle;\n",
              "    }\n",
              "\n",
              "    .dataframe tbody tr th {\n",
              "        vertical-align: top;\n",
              "    }\n",
              "\n",
              "    .dataframe thead th {\n",
              "        text-align: right;\n",
              "    }\n",
              "</style>\n",
              "<table border=\"1\" class=\"dataframe\">\n",
              "  <thead>\n",
              "    <tr style=\"text-align: right;\">\n",
              "      <th></th>\n",
              "      <th>Date</th>\n",
              "      <th>Open</th>\n",
              "      <th>High</th>\n",
              "      <th>Low</th>\n",
              "      <th>Close</th>\n",
              "      <th>Volume</th>\n",
              "      <th>Change</th>\n",
              "      <th>5days</th>\n",
              "      <th>10days</th>\n",
              "      <th>20days</th>\n",
              "      <th>60days</th>\n",
              "    </tr>\n",
              "  </thead>\n",
              "  <tbody>\n",
              "    <tr>\n",
              "      <th>0</th>\n",
              "      <td>2018-01-02</td>\n",
              "      <td>51380</td>\n",
              "      <td>51400</td>\n",
              "      <td>50780</td>\n",
              "      <td>51020</td>\n",
              "      <td>169485</td>\n",
              "      <td>0.001177</td>\n",
              "      <td>NaN</td>\n",
              "      <td>NaN</td>\n",
              "      <td>NaN</td>\n",
              "      <td>NaN</td>\n",
              "    </tr>\n",
              "    <tr>\n",
              "      <th>1</th>\n",
              "      <td>2018-01-03</td>\n",
              "      <td>52540</td>\n",
              "      <td>52560</td>\n",
              "      <td>51420</td>\n",
              "      <td>51620</td>\n",
              "      <td>200270</td>\n",
              "      <td>0.011760</td>\n",
              "      <td>NaN</td>\n",
              "      <td>NaN</td>\n",
              "      <td>NaN</td>\n",
              "      <td>NaN</td>\n",
              "    </tr>\n",
              "    <tr>\n",
              "      <th>2</th>\n",
              "      <td>2018-01-04</td>\n",
              "      <td>52120</td>\n",
              "      <td>52180</td>\n",
              "      <td>50640</td>\n",
              "      <td>51080</td>\n",
              "      <td>233909</td>\n",
              "      <td>-0.010461</td>\n",
              "      <td>NaN</td>\n",
              "      <td>NaN</td>\n",
              "      <td>NaN</td>\n",
              "      <td>NaN</td>\n",
              "    </tr>\n",
              "    <tr>\n",
              "      <th>3</th>\n",
              "      <td>2018-01-05</td>\n",
              "      <td>51300</td>\n",
              "      <td>52120</td>\n",
              "      <td>51200</td>\n",
              "      <td>52120</td>\n",
              "      <td>189623</td>\n",
              "      <td>0.020360</td>\n",
              "      <td>NaN</td>\n",
              "      <td>NaN</td>\n",
              "      <td>NaN</td>\n",
              "      <td>NaN</td>\n",
              "    </tr>\n",
              "    <tr>\n",
              "      <th>4</th>\n",
              "      <td>2018-01-08</td>\n",
              "      <td>52400</td>\n",
              "      <td>52520</td>\n",
              "      <td>51500</td>\n",
              "      <td>52020</td>\n",
              "      <td>167673</td>\n",
              "      <td>-0.001919</td>\n",
              "      <td>51572.0</td>\n",
              "      <td>NaN</td>\n",
              "      <td>NaN</td>\n",
              "      <td>NaN</td>\n",
              "    </tr>\n",
              "  </tbody>\n",
              "</table>\n",
              "</div>"
            ],
            "text/plain": [
              "         Date   Open   High    Low  ...    5days  10days  20days  60days\n",
              "0  2018-01-02  51380  51400  50780  ...      NaN     NaN     NaN     NaN\n",
              "1  2018-01-03  52540  52560  51420  ...      NaN     NaN     NaN     NaN\n",
              "2  2018-01-04  52120  52180  50640  ...      NaN     NaN     NaN     NaN\n",
              "3  2018-01-05  51300  52120  51200  ...      NaN     NaN     NaN     NaN\n",
              "4  2018-01-08  52400  52520  51500  ...  51572.0     NaN     NaN     NaN\n",
              "\n",
              "[5 rows x 11 columns]"
            ]
          },
          "metadata": {
            "tags": []
          },
          "execution_count": 6
        }
      ]
    },
    {
      "cell_type": "code",
      "metadata": {
        "id": "Uf_WbMM1nFB8",
        "colab_type": "code",
        "colab": {}
      },
      "source": [
        "df=df[df['Open']!=0]"
      ],
      "execution_count": 9,
      "outputs": []
    },
    {
      "cell_type": "code",
      "metadata": {
        "id": "su5auoFCnIin",
        "colab_type": "code",
        "colab": {
          "base_uri": "https://localhost:8080/",
          "height": 299
        },
        "outputId": "9355133e-3a57-4eaf-e496-62d1ce622c81"
      },
      "source": [
        "\n",
        "df.fillna(0, inplace=True)\n",
        "df.head()\n"
      ],
      "execution_count": 10,
      "outputs": [
        {
          "output_type": "execute_result",
          "data": {
            "text/html": [
              "<div>\n",
              "<style scoped>\n",
              "    .dataframe tbody tr th:only-of-type {\n",
              "        vertical-align: middle;\n",
              "    }\n",
              "\n",
              "    .dataframe tbody tr th {\n",
              "        vertical-align: top;\n",
              "    }\n",
              "\n",
              "    .dataframe thead th {\n",
              "        text-align: right;\n",
              "    }\n",
              "</style>\n",
              "<table border=\"1\" class=\"dataframe\">\n",
              "  <thead>\n",
              "    <tr style=\"text-align: right;\">\n",
              "      <th></th>\n",
              "      <th>Date</th>\n",
              "      <th>Open</th>\n",
              "      <th>High</th>\n",
              "      <th>Low</th>\n",
              "      <th>Close</th>\n",
              "      <th>Volume</th>\n",
              "      <th>Change</th>\n",
              "      <th>5days</th>\n",
              "      <th>10days</th>\n",
              "      <th>20days</th>\n",
              "      <th>60days</th>\n",
              "      <th>120days</th>\n",
              "    </tr>\n",
              "  </thead>\n",
              "  <tbody>\n",
              "    <tr>\n",
              "      <th>0</th>\n",
              "      <td>2018-01-02</td>\n",
              "      <td>51380</td>\n",
              "      <td>51400</td>\n",
              "      <td>50780</td>\n",
              "      <td>51020</td>\n",
              "      <td>169485</td>\n",
              "      <td>0.001177</td>\n",
              "      <td>0.0</td>\n",
              "      <td>0.0</td>\n",
              "      <td>0.0</td>\n",
              "      <td>0.0</td>\n",
              "      <td>0.0</td>\n",
              "    </tr>\n",
              "    <tr>\n",
              "      <th>1</th>\n",
              "      <td>2018-01-03</td>\n",
              "      <td>52540</td>\n",
              "      <td>52560</td>\n",
              "      <td>51420</td>\n",
              "      <td>51620</td>\n",
              "      <td>200270</td>\n",
              "      <td>0.011760</td>\n",
              "      <td>0.0</td>\n",
              "      <td>0.0</td>\n",
              "      <td>0.0</td>\n",
              "      <td>0.0</td>\n",
              "      <td>0.0</td>\n",
              "    </tr>\n",
              "    <tr>\n",
              "      <th>2</th>\n",
              "      <td>2018-01-04</td>\n",
              "      <td>52120</td>\n",
              "      <td>52180</td>\n",
              "      <td>50640</td>\n",
              "      <td>51080</td>\n",
              "      <td>233909</td>\n",
              "      <td>-0.010461</td>\n",
              "      <td>0.0</td>\n",
              "      <td>0.0</td>\n",
              "      <td>0.0</td>\n",
              "      <td>0.0</td>\n",
              "      <td>0.0</td>\n",
              "    </tr>\n",
              "    <tr>\n",
              "      <th>3</th>\n",
              "      <td>2018-01-05</td>\n",
              "      <td>51300</td>\n",
              "      <td>52120</td>\n",
              "      <td>51200</td>\n",
              "      <td>52120</td>\n",
              "      <td>189623</td>\n",
              "      <td>0.020360</td>\n",
              "      <td>0.0</td>\n",
              "      <td>0.0</td>\n",
              "      <td>0.0</td>\n",
              "      <td>0.0</td>\n",
              "      <td>0.0</td>\n",
              "    </tr>\n",
              "    <tr>\n",
              "      <th>4</th>\n",
              "      <td>2018-01-08</td>\n",
              "      <td>52400</td>\n",
              "      <td>52520</td>\n",
              "      <td>51500</td>\n",
              "      <td>52020</td>\n",
              "      <td>167673</td>\n",
              "      <td>-0.001919</td>\n",
              "      <td>51572.0</td>\n",
              "      <td>0.0</td>\n",
              "      <td>0.0</td>\n",
              "      <td>0.0</td>\n",
              "      <td>0.0</td>\n",
              "    </tr>\n",
              "  </tbody>\n",
              "</table>\n",
              "</div>"
            ],
            "text/plain": [
              "         Date   Open   High    Low  ...  10days  20days  60days  120days\n",
              "0  2018-01-02  51380  51400  50780  ...     0.0     0.0     0.0      0.0\n",
              "1  2018-01-03  52540  52560  51420  ...     0.0     0.0     0.0      0.0\n",
              "2  2018-01-04  52120  52180  50640  ...     0.0     0.0     0.0      0.0\n",
              "3  2018-01-05  51300  52120  51200  ...     0.0     0.0     0.0      0.0\n",
              "4  2018-01-08  52400  52520  51500  ...     0.0     0.0     0.0      0.0\n",
              "\n",
              "[5 rows x 12 columns]"
            ]
          },
          "metadata": {
            "tags": []
          },
          "execution_count": 10
        }
      ]
    },
    {
      "cell_type": "code",
      "metadata": {
        "id": "MV_ELW6mnUs6",
        "colab_type": "code",
        "colab": {
          "base_uri": "https://localhost:8080/",
          "height": 195
        },
        "outputId": "2aaeae8e-3db6-4d94-e98c-2c6bf5544e33"
      },
      "source": [
        "df.drop(['Open','High','Low','Volume','Change'],axis=1,inplace=True)\n",
        "df.head()"
      ],
      "execution_count": 12,
      "outputs": [
        {
          "output_type": "execute_result",
          "data": {
            "text/html": [
              "<div>\n",
              "<style scoped>\n",
              "    .dataframe tbody tr th:only-of-type {\n",
              "        vertical-align: middle;\n",
              "    }\n",
              "\n",
              "    .dataframe tbody tr th {\n",
              "        vertical-align: top;\n",
              "    }\n",
              "\n",
              "    .dataframe thead th {\n",
              "        text-align: right;\n",
              "    }\n",
              "</style>\n",
              "<table border=\"1\" class=\"dataframe\">\n",
              "  <thead>\n",
              "    <tr style=\"text-align: right;\">\n",
              "      <th></th>\n",
              "      <th>Date</th>\n",
              "      <th>Close</th>\n",
              "      <th>5days</th>\n",
              "      <th>10days</th>\n",
              "      <th>20days</th>\n",
              "      <th>60days</th>\n",
              "      <th>120days</th>\n",
              "    </tr>\n",
              "  </thead>\n",
              "  <tbody>\n",
              "    <tr>\n",
              "      <th>0</th>\n",
              "      <td>2018-01-02</td>\n",
              "      <td>51020</td>\n",
              "      <td>0.0</td>\n",
              "      <td>0.0</td>\n",
              "      <td>0.0</td>\n",
              "      <td>0.0</td>\n",
              "      <td>0.0</td>\n",
              "    </tr>\n",
              "    <tr>\n",
              "      <th>1</th>\n",
              "      <td>2018-01-03</td>\n",
              "      <td>51620</td>\n",
              "      <td>0.0</td>\n",
              "      <td>0.0</td>\n",
              "      <td>0.0</td>\n",
              "      <td>0.0</td>\n",
              "      <td>0.0</td>\n",
              "    </tr>\n",
              "    <tr>\n",
              "      <th>2</th>\n",
              "      <td>2018-01-04</td>\n",
              "      <td>51080</td>\n",
              "      <td>0.0</td>\n",
              "      <td>0.0</td>\n",
              "      <td>0.0</td>\n",
              "      <td>0.0</td>\n",
              "      <td>0.0</td>\n",
              "    </tr>\n",
              "    <tr>\n",
              "      <th>3</th>\n",
              "      <td>2018-01-05</td>\n",
              "      <td>52120</td>\n",
              "      <td>0.0</td>\n",
              "      <td>0.0</td>\n",
              "      <td>0.0</td>\n",
              "      <td>0.0</td>\n",
              "      <td>0.0</td>\n",
              "    </tr>\n",
              "    <tr>\n",
              "      <th>4</th>\n",
              "      <td>2018-01-08</td>\n",
              "      <td>52020</td>\n",
              "      <td>51572.0</td>\n",
              "      <td>0.0</td>\n",
              "      <td>0.0</td>\n",
              "      <td>0.0</td>\n",
              "      <td>0.0</td>\n",
              "    </tr>\n",
              "  </tbody>\n",
              "</table>\n",
              "</div>"
            ],
            "text/plain": [
              "         Date  Close    5days  10days  20days  60days  120days\n",
              "0  2018-01-02  51020      0.0     0.0     0.0     0.0      0.0\n",
              "1  2018-01-03  51620      0.0     0.0     0.0     0.0      0.0\n",
              "2  2018-01-04  51080      0.0     0.0     0.0     0.0      0.0\n",
              "3  2018-01-05  52120      0.0     0.0     0.0     0.0      0.0\n",
              "4  2018-01-08  52020  51572.0     0.0     0.0     0.0      0.0"
            ]
          },
          "metadata": {
            "tags": []
          },
          "execution_count": 12
        }
      ]
    },
    {
      "cell_type": "code",
      "metadata": {
        "id": "m-AYry0ooFRC",
        "colab_type": "code",
        "colab": {}
      },
      "source": [
        "df.set_index('Date',inplace=True)"
      ],
      "execution_count": 13,
      "outputs": []
    },
    {
      "cell_type": "code",
      "metadata": {
        "id": "L78nepT9oZYq",
        "colab_type": "code",
        "colab": {}
      },
      "source": [
        "scaler=MinMaxScaler()\n",
        "scale_cols=['Close','5days','10days','20days','60days']\n",
        "df_scaled=scaler.fit_transform(df[scale_cols])"
      ],
      "execution_count": 14,
      "outputs": []
    },
    {
      "cell_type": "code",
      "metadata": {
        "id": "Nlt5VsDpofmp",
        "colab_type": "code",
        "colab": {
          "base_uri": "https://localhost:8080/",
          "height": 252
        },
        "outputId": "966aedcf-87c3-46e1-c153-cae2c8d659b4"
      },
      "source": [
        "df_scaled=pd.DataFrame(df_scaled)\n",
        "df_scaled.columns=scale_cols\n",
        "print(df_scaled)"
      ],
      "execution_count": 15,
      "outputs": [
        {
          "output_type": "stream",
          "text": [
            "        Close     5days    10days    20days    60days\n",
            "0    0.543888  0.000000  0.000000  0.000000  0.000000\n",
            "1    0.567936  0.000000  0.000000  0.000000  0.000000\n",
            "2    0.546293  0.000000  0.000000  0.000000  0.000000\n",
            "3    0.587976  0.000000  0.000000  0.000000  0.000000\n",
            "4    0.583968  0.836665  0.000000  0.000000  0.000000\n",
            "..        ...       ...       ...       ...       ...\n",
            "605  0.619238  0.848475  0.859895  0.879674  0.869076\n",
            "606  0.579158  0.847177  0.855943  0.880923  0.870115\n",
            "607  0.635271  0.848475  0.857590  0.883088  0.871687\n",
            "608  0.599198  0.849773  0.861706  0.884087  0.873028\n",
            "609  0.615230  0.854315  0.862858  0.885253  0.875047\n",
            "\n",
            "[610 rows x 5 columns]\n"
          ],
          "name": "stdout"
        }
      ]
    },
    {
      "cell_type": "code",
      "metadata": {
        "id": "E2NLgCpMokWI",
        "colab_type": "code",
        "colab": {}
      },
      "source": [
        "TEST_SIZE=100\n",
        "train = df_scaled[:-TEST_SIZE]\n",
        "test = df_scaled[-TEST_SIZE:]"
      ],
      "execution_count": 16,
      "outputs": []
    },
    {
      "cell_type": "code",
      "metadata": {
        "id": "b5fFfQ05onoG",
        "colab_type": "code",
        "colab": {}
      },
      "source": [
        "def make_dataset(data, label, window_size=20):\n",
        "    feature_list = []\n",
        "    label_list = []\n",
        "    for i in range(len(data) - window_size):\n",
        "        feature_list.append(np.array(data.iloc[i:i+window_size]))\n",
        "        label_list.append(np.array(label.iloc[i+window_size]))\n",
        "    return np.array(feature_list), np.array(label_list)"
      ],
      "execution_count": 17,
      "outputs": []
    },
    {
      "cell_type": "code",
      "metadata": {
        "id": "pwWD6ztQoqd2",
        "colab_type": "code",
        "colab": {
          "base_uri": "https://localhost:8080/",
          "height": 50
        },
        "outputId": "ead4c73f-d879-4656-f929-78152d14065b"
      },
      "source": [
        "feature_cols = ['5days','10days','20days','60days']\n",
        "label_cols = ['Close']\n",
        "\n",
        "train_feature = train[feature_cols]\n",
        "train_label = train[label_cols]\n",
        "\n",
        "train_feature, train_label = make_dataset(train_feature, train_label, 20)\n",
        "\n",
        "from sklearn.model_selection import train_test_split\n",
        "x_train, x_valid, y_train, y_valid = train_test_split(train_feature, train_label, test_size=0.2,shuffle=False)\n",
        "\n",
        "print(x_train.shape, y_train.shape)\n",
        "print(x_valid.shape, y_valid.shape)"
      ],
      "execution_count": 19,
      "outputs": [
        {
          "output_type": "stream",
          "text": [
            "(392, 20, 4) (392, 1)\n",
            "(98, 20, 4) (98, 1)\n"
          ],
          "name": "stdout"
        }
      ]
    },
    {
      "cell_type": "code",
      "metadata": {
        "id": "e7dEUZ7qo8k2",
        "colab_type": "code",
        "colab": {
          "base_uri": "https://localhost:8080/",
          "height": 34
        },
        "outputId": "c36625b2-1612-474c-f550-6c9f4107f64f"
      },
      "source": [
        "test_feature=test[feature_cols]\n",
        "test_label=test[label_cols]\n",
        "\n",
        "test_feature, test_label = make_dataset(test_feature, test_label, 20)\n",
        "test_feature.shape, test_label.shape"
      ],
      "execution_count": 20,
      "outputs": [
        {
          "output_type": "execute_result",
          "data": {
            "text/plain": [
              "((80, 20, 4), (80, 1))"
            ]
          },
          "metadata": {
            "tags": []
          },
          "execution_count": 20
        }
      ]
    },
    {
      "cell_type": "code",
      "metadata": {
        "id": "nJAJ1b0gpHX1",
        "colab_type": "code",
        "colab": {}
      },
      "source": [
        "model = Sequential()\n",
        "model.add(LSTM(16, \n",
        "               input_shape=(train_feature.shape[1], train_feature.shape[2]), \n",
        "               activation='relu', \n",
        "               return_sequences=False)\n",
        "          )\n",
        "model.add(Dense(1))"
      ],
      "execution_count": 21,
      "outputs": []
    },
    {
      "cell_type": "code",
      "metadata": {
        "id": "hLu_ARc0pJs_",
        "colab_type": "code",
        "colab": {
          "base_uri": "https://localhost:8080/",
          "height": 218
        },
        "outputId": "a92f5e94-df77-4733-838c-407347ba0e01"
      },
      "source": [
        "model.summary()"
      ],
      "execution_count": 22,
      "outputs": [
        {
          "output_type": "stream",
          "text": [
            "Model: \"sequential\"\n",
            "_________________________________________________________________\n",
            "Layer (type)                 Output Shape              Param #   \n",
            "=================================================================\n",
            "lstm (LSTM)                  (None, 16)                1344      \n",
            "_________________________________________________________________\n",
            "dense (Dense)                (None, 1)                 17        \n",
            "=================================================================\n",
            "Total params: 1,361\n",
            "Trainable params: 1,361\n",
            "Non-trainable params: 0\n",
            "_________________________________________________________________\n"
          ],
          "name": "stdout"
        }
      ]
    },
    {
      "cell_type": "code",
      "metadata": {
        "id": "Dfe5qWFIpObw",
        "colab_type": "code",
        "colab": {
          "base_uri": "https://localhost:8080/",
          "height": 1000
        },
        "outputId": "c7e77665-a704-4369-9af4-e5d5b5866db2"
      },
      "source": [
        "model.compile(loss='mse',optimizer='adam',metrics=['mse'])\n",
        "\n",
        "from keras.callbacks import EarlyStopping\n",
        "early_stopping=EarlyStopping(patience=20,monitor='val_loss')\n",
        "history=model.fit(x_train,y_train,epochs=100,batch_size=1,validation_split=0,callbacks=[early_stopping])"
      ],
      "execution_count": 23,
      "outputs": [
        {
          "output_type": "stream",
          "text": [
            "Epoch 1/100\n",
            "381/392 [============================>.] - ETA: 0s - loss: 0.0278 - mse: 0.0278WARNING:tensorflow:Early stopping conditioned on metric `val_loss` which is not available. Available metrics are: loss,mse\n",
            "392/392 [==============================] - 1s 4ms/step - loss: 0.0275 - mse: 0.0275\n",
            "Epoch 2/100\n",
            "388/392 [============================>.] - ETA: 0s - loss: 0.0111 - mse: 0.0111WARNING:tensorflow:Early stopping conditioned on metric `val_loss` which is not available. Available metrics are: loss,mse\n",
            "392/392 [==============================] - 1s 4ms/step - loss: 0.0111 - mse: 0.0111\n",
            "Epoch 3/100\n",
            "380/392 [============================>.] - ETA: 0s - loss: 0.0096 - mse: 0.0096WARNING:tensorflow:Early stopping conditioned on metric `val_loss` which is not available. Available metrics are: loss,mse\n",
            "392/392 [==============================] - 1s 4ms/step - loss: 0.0099 - mse: 0.0099\n",
            "Epoch 4/100\n",
            "390/392 [============================>.] - ETA: 0s - loss: 0.0093 - mse: 0.0093WARNING:tensorflow:Early stopping conditioned on metric `val_loss` which is not available. Available metrics are: loss,mse\n",
            "392/392 [==============================] - 1s 4ms/step - loss: 0.0093 - mse: 0.0093\n",
            "Epoch 5/100\n",
            "392/392 [==============================] - ETA: 0s - loss: 0.0082 - mse: 0.0082WARNING:tensorflow:Early stopping conditioned on metric `val_loss` which is not available. Available metrics are: loss,mse\n",
            "392/392 [==============================] - 2s 4ms/step - loss: 0.0082 - mse: 0.0082\n",
            "Epoch 6/100\n",
            "380/392 [============================>.] - ETA: 0s - loss: 0.0075 - mse: 0.0075WARNING:tensorflow:Early stopping conditioned on metric `val_loss` which is not available. Available metrics are: loss,mse\n",
            "392/392 [==============================] - 1s 4ms/step - loss: 0.0073 - mse: 0.0073\n",
            "Epoch 7/100\n",
            "386/392 [============================>.] - ETA: 0s - loss: 0.0072 - mse: 0.0072WARNING:tensorflow:Early stopping conditioned on metric `val_loss` which is not available. Available metrics are: loss,mse\n",
            "392/392 [==============================] - 1s 4ms/step - loss: 0.0072 - mse: 0.0072\n",
            "Epoch 8/100\n",
            "387/392 [============================>.] - ETA: 0s - loss: 0.0061 - mse: 0.0061WARNING:tensorflow:Early stopping conditioned on metric `val_loss` which is not available. Available metrics are: loss,mse\n",
            "392/392 [==============================] - 1s 4ms/step - loss: 0.0061 - mse: 0.0061\n",
            "Epoch 9/100\n",
            "385/392 [============================>.] - ETA: 0s - loss: 0.0059 - mse: 0.0059WARNING:tensorflow:Early stopping conditioned on metric `val_loss` which is not available. Available metrics are: loss,mse\n",
            "392/392 [==============================] - 1s 4ms/step - loss: 0.0059 - mse: 0.0059\n",
            "Epoch 10/100\n",
            "392/392 [==============================] - ETA: 0s - loss: 0.0054 - mse: 0.0054WARNING:tensorflow:Early stopping conditioned on metric `val_loss` which is not available. Available metrics are: loss,mse\n",
            "392/392 [==============================] - 1s 4ms/step - loss: 0.0054 - mse: 0.0054\n",
            "Epoch 11/100\n",
            "380/392 [============================>.] - ETA: 0s - loss: 0.0058 - mse: 0.0058WARNING:tensorflow:Early stopping conditioned on metric `val_loss` which is not available. Available metrics are: loss,mse\n",
            "392/392 [==============================] - 1s 4ms/step - loss: 0.0057 - mse: 0.0057\n",
            "Epoch 12/100\n",
            "381/392 [============================>.] - ETA: 0s - loss: 0.0051 - mse: 0.0051WARNING:tensorflow:Early stopping conditioned on metric `val_loss` which is not available. Available metrics are: loss,mse\n",
            "392/392 [==============================] - 1s 4ms/step - loss: 0.0050 - mse: 0.0050\n",
            "Epoch 13/100\n",
            "384/392 [============================>.] - ETA: 0s - loss: 0.0050 - mse: 0.0050WARNING:tensorflow:Early stopping conditioned on metric `val_loss` which is not available. Available metrics are: loss,mse\n",
            "392/392 [==============================] - 1s 4ms/step - loss: 0.0050 - mse: 0.0050\n",
            "Epoch 14/100\n",
            "388/392 [============================>.] - ETA: 0s - loss: 0.0046 - mse: 0.0046WARNING:tensorflow:Early stopping conditioned on metric `val_loss` which is not available. Available metrics are: loss,mse\n",
            "392/392 [==============================] - 1s 4ms/step - loss: 0.0046 - mse: 0.0046\n",
            "Epoch 15/100\n",
            "392/392 [==============================] - ETA: 0s - loss: 0.0048 - mse: 0.0048WARNING:tensorflow:Early stopping conditioned on metric `val_loss` which is not available. Available metrics are: loss,mse\n",
            "392/392 [==============================] - 1s 4ms/step - loss: 0.0048 - mse: 0.0048\n",
            "Epoch 16/100\n",
            "384/392 [============================>.] - ETA: 0s - loss: 0.0044 - mse: 0.0044WARNING:tensorflow:Early stopping conditioned on metric `val_loss` which is not available. Available metrics are: loss,mse\n",
            "392/392 [==============================] - 1s 4ms/step - loss: 0.0045 - mse: 0.0045\n",
            "Epoch 17/100\n",
            "385/392 [============================>.] - ETA: 0s - loss: 0.0042 - mse: 0.0042WARNING:tensorflow:Early stopping conditioned on metric `val_loss` which is not available. Available metrics are: loss,mse\n",
            "392/392 [==============================] - 1s 3ms/step - loss: 0.0042 - mse: 0.0042\n",
            "Epoch 18/100\n",
            "383/392 [============================>.] - ETA: 0s - loss: 0.0045 - mse: 0.0045WARNING:tensorflow:Early stopping conditioned on metric `val_loss` which is not available. Available metrics are: loss,mse\n",
            "392/392 [==============================] - 1s 4ms/step - loss: 0.0045 - mse: 0.0045\n",
            "Epoch 19/100\n",
            "384/392 [============================>.] - ETA: 0s - loss: 0.0043 - mse: 0.0043WARNING:tensorflow:Early stopping conditioned on metric `val_loss` which is not available. Available metrics are: loss,mse\n",
            "392/392 [==============================] - 1s 4ms/step - loss: 0.0042 - mse: 0.0042\n",
            "Epoch 20/100\n",
            "382/392 [============================>.] - ETA: 0s - loss: 0.0042 - mse: 0.0042WARNING:tensorflow:Early stopping conditioned on metric `val_loss` which is not available. Available metrics are: loss,mse\n",
            "392/392 [==============================] - 1s 4ms/step - loss: 0.0043 - mse: 0.0043\n",
            "Epoch 21/100\n",
            "382/392 [============================>.] - ETA: 0s - loss: 0.0039 - mse: 0.0039WARNING:tensorflow:Early stopping conditioned on metric `val_loss` which is not available. Available metrics are: loss,mse\n",
            "392/392 [==============================] - 1s 4ms/step - loss: 0.0039 - mse: 0.0039\n",
            "Epoch 22/100\n",
            "386/392 [============================>.] - ETA: 0s - loss: 0.0038 - mse: 0.0038WARNING:tensorflow:Early stopping conditioned on metric `val_loss` which is not available. Available metrics are: loss,mse\n",
            "392/392 [==============================] - 1s 4ms/step - loss: 0.0038 - mse: 0.0038\n",
            "Epoch 23/100\n",
            "388/392 [============================>.] - ETA: 0s - loss: 0.0034 - mse: 0.0034WARNING:tensorflow:Early stopping conditioned on metric `val_loss` which is not available. Available metrics are: loss,mse\n",
            "392/392 [==============================] - 1s 4ms/step - loss: 0.0034 - mse: 0.0034\n",
            "Epoch 24/100\n",
            "389/392 [============================>.] - ETA: 0s - loss: 0.0039 - mse: 0.0039WARNING:tensorflow:Early stopping conditioned on metric `val_loss` which is not available. Available metrics are: loss,mse\n",
            "392/392 [==============================] - 1s 4ms/step - loss: 0.0039 - mse: 0.0039\n",
            "Epoch 25/100\n",
            "379/392 [============================>.] - ETA: 0s - loss: 0.0041 - mse: 0.0041WARNING:tensorflow:Early stopping conditioned on metric `val_loss` which is not available. Available metrics are: loss,mse\n",
            "392/392 [==============================] - 1s 4ms/step - loss: 0.0041 - mse: 0.0041\n",
            "Epoch 26/100\n",
            "389/392 [============================>.] - ETA: 0s - loss: 0.0035 - mse: 0.0035WARNING:tensorflow:Early stopping conditioned on metric `val_loss` which is not available. Available metrics are: loss,mse\n",
            "392/392 [==============================] - 1s 4ms/step - loss: 0.0035 - mse: 0.0035\n",
            "Epoch 27/100\n",
            "390/392 [============================>.] - ETA: 0s - loss: 0.0037 - mse: 0.0037WARNING:tensorflow:Early stopping conditioned on metric `val_loss` which is not available. Available metrics are: loss,mse\n",
            "392/392 [==============================] - 1s 4ms/step - loss: 0.0037 - mse: 0.0037\n",
            "Epoch 28/100\n",
            "390/392 [============================>.] - ETA: 0s - loss: 0.0034 - mse: 0.0034WARNING:tensorflow:Early stopping conditioned on metric `val_loss` which is not available. Available metrics are: loss,mse\n",
            "392/392 [==============================] - 1s 4ms/step - loss: 0.0034 - mse: 0.0034\n",
            "Epoch 29/100\n",
            "381/392 [============================>.] - ETA: 0s - loss: 0.0032 - mse: 0.0032WARNING:tensorflow:Early stopping conditioned on metric `val_loss` which is not available. Available metrics are: loss,mse\n",
            "392/392 [==============================] - 1s 4ms/step - loss: 0.0032 - mse: 0.0032\n",
            "Epoch 30/100\n",
            "385/392 [============================>.] - ETA: 0s - loss: 0.0034 - mse: 0.0034WARNING:tensorflow:Early stopping conditioned on metric `val_loss` which is not available. Available metrics are: loss,mse\n",
            "392/392 [==============================] - 1s 4ms/step - loss: 0.0034 - mse: 0.0034\n",
            "Epoch 31/100\n",
            "386/392 [============================>.] - ETA: 0s - loss: 0.0030 - mse: 0.0030WARNING:tensorflow:Early stopping conditioned on metric `val_loss` which is not available. Available metrics are: loss,mse\n",
            "392/392 [==============================] - 1s 4ms/step - loss: 0.0030 - mse: 0.0030\n",
            "Epoch 32/100\n",
            "390/392 [============================>.] - ETA: 0s - loss: 0.0033 - mse: 0.0033WARNING:tensorflow:Early stopping conditioned on metric `val_loss` which is not available. Available metrics are: loss,mse\n",
            "392/392 [==============================] - 1s 4ms/step - loss: 0.0033 - mse: 0.0033\n",
            "Epoch 33/100\n",
            "388/392 [============================>.] - ETA: 0s - loss: 0.0029 - mse: 0.0029WARNING:tensorflow:Early stopping conditioned on metric `val_loss` which is not available. Available metrics are: loss,mse\n",
            "392/392 [==============================] - 2s 4ms/step - loss: 0.0029 - mse: 0.0029\n",
            "Epoch 34/100\n",
            "385/392 [============================>.] - ETA: 0s - loss: 0.0031 - mse: 0.0031WARNING:tensorflow:Early stopping conditioned on metric `val_loss` which is not available. Available metrics are: loss,mse\n",
            "392/392 [==============================] - 1s 4ms/step - loss: 0.0031 - mse: 0.0031\n",
            "Epoch 35/100\n",
            "389/392 [============================>.] - ETA: 0s - loss: 0.0031 - mse: 0.0031WARNING:tensorflow:Early stopping conditioned on metric `val_loss` which is not available. Available metrics are: loss,mse\n",
            "392/392 [==============================] - 1s 4ms/step - loss: 0.0031 - mse: 0.0031\n",
            "Epoch 36/100\n",
            "389/392 [============================>.] - ETA: 0s - loss: 0.0030 - mse: 0.0030WARNING:tensorflow:Early stopping conditioned on metric `val_loss` which is not available. Available metrics are: loss,mse\n",
            "392/392 [==============================] - 1s 4ms/step - loss: 0.0030 - mse: 0.0030\n",
            "Epoch 37/100\n",
            "390/392 [============================>.] - ETA: 0s - loss: 0.0028 - mse: 0.0028WARNING:tensorflow:Early stopping conditioned on metric `val_loss` which is not available. Available metrics are: loss,mse\n",
            "392/392 [==============================] - 1s 4ms/step - loss: 0.0028 - mse: 0.0028\n",
            "Epoch 38/100\n",
            "386/392 [============================>.] - ETA: 0s - loss: 0.0029 - mse: 0.0029WARNING:tensorflow:Early stopping conditioned on metric `val_loss` which is not available. Available metrics are: loss,mse\n",
            "392/392 [==============================] - 1s 4ms/step - loss: 0.0029 - mse: 0.0029\n",
            "Epoch 39/100\n",
            "387/392 [============================>.] - ETA: 0s - loss: 0.0027 - mse: 0.0027WARNING:tensorflow:Early stopping conditioned on metric `val_loss` which is not available. Available metrics are: loss,mse\n",
            "392/392 [==============================] - 1s 4ms/step - loss: 0.0027 - mse: 0.0027\n",
            "Epoch 40/100\n",
            "391/392 [============================>.] - ETA: 0s - loss: 0.0026 - mse: 0.0026WARNING:tensorflow:Early stopping conditioned on metric `val_loss` which is not available. Available metrics are: loss,mse\n",
            "392/392 [==============================] - 2s 4ms/step - loss: 0.0026 - mse: 0.0026\n",
            "Epoch 41/100\n",
            "387/392 [============================>.] - ETA: 0s - loss: 0.0029 - mse: 0.0029WARNING:tensorflow:Early stopping conditioned on metric `val_loss` which is not available. Available metrics are: loss,mse\n",
            "392/392 [==============================] - 1s 4ms/step - loss: 0.0028 - mse: 0.0028\n",
            "Epoch 42/100\n",
            "379/392 [============================>.] - ETA: 0s - loss: 0.0029 - mse: 0.0029WARNING:tensorflow:Early stopping conditioned on metric `val_loss` which is not available. Available metrics are: loss,mse\n",
            "392/392 [==============================] - 1s 4ms/step - loss: 0.0029 - mse: 0.0029\n",
            "Epoch 43/100\n",
            "380/392 [============================>.] - ETA: 0s - loss: 0.0025 - mse: 0.0025WARNING:tensorflow:Early stopping conditioned on metric `val_loss` which is not available. Available metrics are: loss,mse\n",
            "392/392 [==============================] - 1s 4ms/step - loss: 0.0025 - mse: 0.0025\n",
            "Epoch 44/100\n",
            "392/392 [==============================] - ETA: 0s - loss: 0.0027 - mse: 0.0027WARNING:tensorflow:Early stopping conditioned on metric `val_loss` which is not available. Available metrics are: loss,mse\n",
            "392/392 [==============================] - 1s 4ms/step - loss: 0.0027 - mse: 0.0027\n",
            "Epoch 45/100\n",
            "387/392 [============================>.] - ETA: 0s - loss: 0.0029 - mse: 0.0029WARNING:tensorflow:Early stopping conditioned on metric `val_loss` which is not available. Available metrics are: loss,mse\n",
            "392/392 [==============================] - 1s 4ms/step - loss: 0.0029 - mse: 0.0029\n",
            "Epoch 46/100\n",
            "388/392 [============================>.] - ETA: 0s - loss: 0.0025 - mse: 0.0025WARNING:tensorflow:Early stopping conditioned on metric `val_loss` which is not available. Available metrics are: loss,mse\n",
            "392/392 [==============================] - 1s 4ms/step - loss: 0.0025 - mse: 0.0025\n",
            "Epoch 47/100\n",
            "381/392 [============================>.] - ETA: 0s - loss: 0.0027 - mse: 0.0027WARNING:tensorflow:Early stopping conditioned on metric `val_loss` which is not available. Available metrics are: loss,mse\n",
            "392/392 [==============================] - 1s 4ms/step - loss: 0.0027 - mse: 0.0027\n",
            "Epoch 48/100\n",
            "387/392 [============================>.] - ETA: 0s - loss: 0.0027 - mse: 0.0027WARNING:tensorflow:Early stopping conditioned on metric `val_loss` which is not available. Available metrics are: loss,mse\n",
            "392/392 [==============================] - 1s 4ms/step - loss: 0.0027 - mse: 0.0027\n",
            "Epoch 49/100\n",
            "379/392 [============================>.] - ETA: 0s - loss: 0.0026 - mse: 0.0026WARNING:tensorflow:Early stopping conditioned on metric `val_loss` which is not available. Available metrics are: loss,mse\n",
            "392/392 [==============================] - 1s 4ms/step - loss: 0.0025 - mse: 0.0025\n",
            "Epoch 50/100\n",
            "379/392 [============================>.] - ETA: 0s - loss: 0.0026 - mse: 0.0026WARNING:tensorflow:Early stopping conditioned on metric `val_loss` which is not available. Available metrics are: loss,mse\n",
            "392/392 [==============================] - 1s 4ms/step - loss: 0.0026 - mse: 0.0026\n",
            "Epoch 51/100\n",
            "381/392 [============================>.] - ETA: 0s - loss: 0.0024 - mse: 0.0024WARNING:tensorflow:Early stopping conditioned on metric `val_loss` which is not available. Available metrics are: loss,mse\n",
            "392/392 [==============================] - 1s 4ms/step - loss: 0.0024 - mse: 0.0024\n",
            "Epoch 52/100\n",
            "380/392 [============================>.] - ETA: 0s - loss: 0.0024 - mse: 0.0024WARNING:tensorflow:Early stopping conditioned on metric `val_loss` which is not available. Available metrics are: loss,mse\n",
            "392/392 [==============================] - 1s 4ms/step - loss: 0.0025 - mse: 0.0025\n",
            "Epoch 53/100\n",
            "386/392 [============================>.] - ETA: 0s - loss: 0.0024 - mse: 0.0024WARNING:tensorflow:Early stopping conditioned on metric `val_loss` which is not available. Available metrics are: loss,mse\n",
            "392/392 [==============================] - 1s 4ms/step - loss: 0.0024 - mse: 0.0024\n",
            "Epoch 54/100\n",
            "385/392 [============================>.] - ETA: 0s - loss: 0.0025 - mse: 0.0025WARNING:tensorflow:Early stopping conditioned on metric `val_loss` which is not available. Available metrics are: loss,mse\n",
            "392/392 [==============================] - 1s 4ms/step - loss: 0.0025 - mse: 0.0025\n",
            "Epoch 55/100\n",
            "391/392 [============================>.] - ETA: 0s - loss: 0.0027 - mse: 0.0027WARNING:tensorflow:Early stopping conditioned on metric `val_loss` which is not available. Available metrics are: loss,mse\n",
            "392/392 [==============================] - 1s 4ms/step - loss: 0.0027 - mse: 0.0027\n",
            "Epoch 56/100\n",
            "383/392 [============================>.] - ETA: 0s - loss: 0.0026 - mse: 0.0026WARNING:tensorflow:Early stopping conditioned on metric `val_loss` which is not available. Available metrics are: loss,mse\n",
            "392/392 [==============================] - 1s 4ms/step - loss: 0.0026 - mse: 0.0026\n",
            "Epoch 57/100\n",
            "391/392 [============================>.] - ETA: 0s - loss: 0.0026 - mse: 0.0026WARNING:tensorflow:Early stopping conditioned on metric `val_loss` which is not available. Available metrics are: loss,mse\n",
            "392/392 [==============================] - 1s 4ms/step - loss: 0.0026 - mse: 0.0026\n",
            "Epoch 58/100\n",
            "390/392 [============================>.] - ETA: 0s - loss: 0.0025 - mse: 0.0025WARNING:tensorflow:Early stopping conditioned on metric `val_loss` which is not available. Available metrics are: loss,mse\n",
            "392/392 [==============================] - 1s 4ms/step - loss: 0.0025 - mse: 0.0025\n",
            "Epoch 59/100\n",
            "383/392 [============================>.] - ETA: 0s - loss: 0.0024 - mse: 0.0024WARNING:tensorflow:Early stopping conditioned on metric `val_loss` which is not available. Available metrics are: loss,mse\n",
            "392/392 [==============================] - 1s 4ms/step - loss: 0.0024 - mse: 0.0024\n",
            "Epoch 60/100\n",
            "384/392 [============================>.] - ETA: 0s - loss: 0.0025 - mse: 0.0025WARNING:tensorflow:Early stopping conditioned on metric `val_loss` which is not available. Available metrics are: loss,mse\n",
            "392/392 [==============================] - 1s 4ms/step - loss: 0.0025 - mse: 0.0025\n",
            "Epoch 61/100\n",
            "387/392 [============================>.] - ETA: 0s - loss: 0.0023 - mse: 0.0023WARNING:tensorflow:Early stopping conditioned on metric `val_loss` which is not available. Available metrics are: loss,mse\n",
            "392/392 [==============================] - 1s 4ms/step - loss: 0.0023 - mse: 0.0023\n",
            "Epoch 62/100\n",
            "381/392 [============================>.] - ETA: 0s - loss: 0.0024 - mse: 0.0024WARNING:tensorflow:Early stopping conditioned on metric `val_loss` which is not available. Available metrics are: loss,mse\n",
            "392/392 [==============================] - 1s 4ms/step - loss: 0.0024 - mse: 0.0024\n",
            "Epoch 63/100\n",
            "388/392 [============================>.] - ETA: 0s - loss: 0.0023 - mse: 0.0023WARNING:tensorflow:Early stopping conditioned on metric `val_loss` which is not available. Available metrics are: loss,mse\n",
            "392/392 [==============================] - 1s 4ms/step - loss: 0.0023 - mse: 0.0023\n",
            "Epoch 64/100\n",
            "382/392 [============================>.] - ETA: 0s - loss: 0.0024 - mse: 0.0024WARNING:tensorflow:Early stopping conditioned on metric `val_loss` which is not available. Available metrics are: loss,mse\n",
            "392/392 [==============================] - 1s 4ms/step - loss: 0.0024 - mse: 0.0024\n",
            "Epoch 65/100\n",
            "392/392 [==============================] - ETA: 0s - loss: 0.0022 - mse: 0.0022WARNING:tensorflow:Early stopping conditioned on metric `val_loss` which is not available. Available metrics are: loss,mse\n",
            "392/392 [==============================] - 1s 4ms/step - loss: 0.0022 - mse: 0.0022\n",
            "Epoch 66/100\n",
            "391/392 [============================>.] - ETA: 0s - loss: 0.0023 - mse: 0.0023WARNING:tensorflow:Early stopping conditioned on metric `val_loss` which is not available. Available metrics are: loss,mse\n",
            "392/392 [==============================] - 1s 4ms/step - loss: 0.0023 - mse: 0.0023\n",
            "Epoch 67/100\n",
            "379/392 [============================>.] - ETA: 0s - loss: 0.0024 - mse: 0.0024WARNING:tensorflow:Early stopping conditioned on metric `val_loss` which is not available. Available metrics are: loss,mse\n",
            "392/392 [==============================] - 1s 4ms/step - loss: 0.0025 - mse: 0.0025\n",
            "Epoch 68/100\n",
            "381/392 [============================>.] - ETA: 0s - loss: 0.0023 - mse: 0.0023WARNING:tensorflow:Early stopping conditioned on metric `val_loss` which is not available. Available metrics are: loss,mse\n",
            "392/392 [==============================] - 1s 4ms/step - loss: 0.0023 - mse: 0.0023\n",
            "Epoch 69/100\n",
            "389/392 [============================>.] - ETA: 0s - loss: 0.0022 - mse: 0.0022WARNING:tensorflow:Early stopping conditioned on metric `val_loss` which is not available. Available metrics are: loss,mse\n",
            "392/392 [==============================] - 1s 4ms/step - loss: 0.0022 - mse: 0.0022\n",
            "Epoch 70/100\n",
            "390/392 [============================>.] - ETA: 0s - loss: 0.0022 - mse: 0.0022WARNING:tensorflow:Early stopping conditioned on metric `val_loss` which is not available. Available metrics are: loss,mse\n",
            "392/392 [==============================] - 1s 4ms/step - loss: 0.0022 - mse: 0.0022\n",
            "Epoch 71/100\n",
            "387/392 [============================>.] - ETA: 0s - loss: 0.0021 - mse: 0.0021WARNING:tensorflow:Early stopping conditioned on metric `val_loss` which is not available. Available metrics are: loss,mse\n",
            "392/392 [==============================] - 1s 4ms/step - loss: 0.0021 - mse: 0.0021\n",
            "Epoch 72/100\n",
            "381/392 [============================>.] - ETA: 0s - loss: 0.0022 - mse: 0.0022WARNING:tensorflow:Early stopping conditioned on metric `val_loss` which is not available. Available metrics are: loss,mse\n",
            "392/392 [==============================] - 1s 4ms/step - loss: 0.0022 - mse: 0.0022\n",
            "Epoch 73/100\n",
            "389/392 [============================>.] - ETA: 0s - loss: 0.0022 - mse: 0.0022WARNING:tensorflow:Early stopping conditioned on metric `val_loss` which is not available. Available metrics are: loss,mse\n",
            "392/392 [==============================] - 1s 4ms/step - loss: 0.0022 - mse: 0.0022\n",
            "Epoch 74/100\n",
            "383/392 [============================>.] - ETA: 0s - loss: 0.0022 - mse: 0.0022WARNING:tensorflow:Early stopping conditioned on metric `val_loss` which is not available. Available metrics are: loss,mse\n",
            "392/392 [==============================] - 1s 4ms/step - loss: 0.0022 - mse: 0.0022\n",
            "Epoch 75/100\n",
            "388/392 [============================>.] - ETA: 0s - loss: 0.0021 - mse: 0.0021WARNING:tensorflow:Early stopping conditioned on metric `val_loss` which is not available. Available metrics are: loss,mse\n",
            "392/392 [==============================] - 1s 4ms/step - loss: 0.0021 - mse: 0.0021\n",
            "Epoch 76/100\n",
            "388/392 [============================>.] - ETA: 0s - loss: 0.0020 - mse: 0.0020WARNING:tensorflow:Early stopping conditioned on metric `val_loss` which is not available. Available metrics are: loss,mse\n",
            "392/392 [==============================] - 1s 4ms/step - loss: 0.0020 - mse: 0.0020\n",
            "Epoch 77/100\n",
            "390/392 [============================>.] - ETA: 0s - loss: 0.0023 - mse: 0.0023WARNING:tensorflow:Early stopping conditioned on metric `val_loss` which is not available. Available metrics are: loss,mse\n",
            "392/392 [==============================] - 1s 4ms/step - loss: 0.0023 - mse: 0.0023\n",
            "Epoch 78/100\n",
            "391/392 [============================>.] - ETA: 0s - loss: 0.0022 - mse: 0.0022WARNING:tensorflow:Early stopping conditioned on metric `val_loss` which is not available. Available metrics are: loss,mse\n",
            "392/392 [==============================] - 1s 4ms/step - loss: 0.0022 - mse: 0.0022\n",
            "Epoch 79/100\n",
            "384/392 [============================>.] - ETA: 0s - loss: 0.0022 - mse: 0.0022WARNING:tensorflow:Early stopping conditioned on metric `val_loss` which is not available. Available metrics are: loss,mse\n",
            "392/392 [==============================] - 1s 4ms/step - loss: 0.0022 - mse: 0.0022\n",
            "Epoch 80/100\n",
            "383/392 [============================>.] - ETA: 0s - loss: 0.0021 - mse: 0.0021WARNING:tensorflow:Early stopping conditioned on metric `val_loss` which is not available. Available metrics are: loss,mse\n",
            "392/392 [==============================] - 1s 4ms/step - loss: 0.0021 - mse: 0.0021\n",
            "Epoch 81/100\n",
            "379/392 [============================>.] - ETA: 0s - loss: 0.0021 - mse: 0.0021WARNING:tensorflow:Early stopping conditioned on metric `val_loss` which is not available. Available metrics are: loss,mse\n",
            "392/392 [==============================] - 1s 4ms/step - loss: 0.0021 - mse: 0.0021\n",
            "Epoch 82/100\n",
            "380/392 [============================>.] - ETA: 0s - loss: 0.0020 - mse: 0.0020WARNING:tensorflow:Early stopping conditioned on metric `val_loss` which is not available. Available metrics are: loss,mse\n",
            "392/392 [==============================] - 1s 4ms/step - loss: 0.0019 - mse: 0.0019\n",
            "Epoch 83/100\n",
            "391/392 [============================>.] - ETA: 0s - loss: 0.0021 - mse: 0.0021WARNING:tensorflow:Early stopping conditioned on metric `val_loss` which is not available. Available metrics are: loss,mse\n",
            "392/392 [==============================] - 1s 4ms/step - loss: 0.0021 - mse: 0.0021\n",
            "Epoch 84/100\n",
            "383/392 [============================>.] - ETA: 0s - loss: 0.0020 - mse: 0.0020WARNING:tensorflow:Early stopping conditioned on metric `val_loss` which is not available. Available metrics are: loss,mse\n",
            "392/392 [==============================] - 1s 4ms/step - loss: 0.0020 - mse: 0.0020\n",
            "Epoch 85/100\n",
            "391/392 [============================>.] - ETA: 0s - loss: 0.0022 - mse: 0.0022WARNING:tensorflow:Early stopping conditioned on metric `val_loss` which is not available. Available metrics are: loss,mse\n",
            "392/392 [==============================] - 1s 4ms/step - loss: 0.0022 - mse: 0.0022\n",
            "Epoch 86/100\n",
            "390/392 [============================>.] - ETA: 0s - loss: 0.0020 - mse: 0.0020WARNING:tensorflow:Early stopping conditioned on metric `val_loss` which is not available. Available metrics are: loss,mse\n",
            "392/392 [==============================] - 1s 4ms/step - loss: 0.0020 - mse: 0.0020\n",
            "Epoch 87/100\n",
            "384/392 [============================>.] - ETA: 0s - loss: 0.0021 - mse: 0.0021WARNING:tensorflow:Early stopping conditioned on metric `val_loss` which is not available. Available metrics are: loss,mse\n",
            "392/392 [==============================] - 1s 4ms/step - loss: 0.0021 - mse: 0.0021\n",
            "Epoch 88/100\n",
            "392/392 [==============================] - ETA: 0s - loss: 0.0020 - mse: 0.0020WARNING:tensorflow:Early stopping conditioned on metric `val_loss` which is not available. Available metrics are: loss,mse\n",
            "392/392 [==============================] - 1s 4ms/step - loss: 0.0020 - mse: 0.0020\n",
            "Epoch 89/100\n",
            "391/392 [============================>.] - ETA: 0s - loss: 0.0019 - mse: 0.0019WARNING:tensorflow:Early stopping conditioned on metric `val_loss` which is not available. Available metrics are: loss,mse\n",
            "392/392 [==============================] - 1s 4ms/step - loss: 0.0019 - mse: 0.0019\n",
            "Epoch 90/100\n",
            "390/392 [============================>.] - ETA: 0s - loss: 0.0020 - mse: 0.0020WARNING:tensorflow:Early stopping conditioned on metric `val_loss` which is not available. Available metrics are: loss,mse\n",
            "392/392 [==============================] - 1s 4ms/step - loss: 0.0020 - mse: 0.0020\n",
            "Epoch 91/100\n",
            "387/392 [============================>.] - ETA: 0s - loss: 0.0020 - mse: 0.0020WARNING:tensorflow:Early stopping conditioned on metric `val_loss` which is not available. Available metrics are: loss,mse\n",
            "392/392 [==============================] - 1s 4ms/step - loss: 0.0020 - mse: 0.0020\n",
            "Epoch 92/100\n",
            "390/392 [============================>.] - ETA: 0s - loss: 0.0021 - mse: 0.0021WARNING:tensorflow:Early stopping conditioned on metric `val_loss` which is not available. Available metrics are: loss,mse\n",
            "392/392 [==============================] - 1s 4ms/step - loss: 0.0021 - mse: 0.0021\n",
            "Epoch 93/100\n",
            "384/392 [============================>.] - ETA: 0s - loss: 0.0021 - mse: 0.0021WARNING:tensorflow:Early stopping conditioned on metric `val_loss` which is not available. Available metrics are: loss,mse\n",
            "392/392 [==============================] - 1s 4ms/step - loss: 0.0021 - mse: 0.0021\n",
            "Epoch 94/100\n",
            "392/392 [==============================] - ETA: 0s - loss: 0.0020 - mse: 0.0020WARNING:tensorflow:Early stopping conditioned on metric `val_loss` which is not available. Available metrics are: loss,mse\n",
            "392/392 [==============================] - 1s 4ms/step - loss: 0.0020 - mse: 0.0020\n",
            "Epoch 95/100\n",
            "385/392 [============================>.] - ETA: 0s - loss: 0.0022 - mse: 0.0022WARNING:tensorflow:Early stopping conditioned on metric `val_loss` which is not available. Available metrics are: loss,mse\n",
            "392/392 [==============================] - 1s 4ms/step - loss: 0.0022 - mse: 0.0022\n",
            "Epoch 96/100\n",
            "381/392 [============================>.] - ETA: 0s - loss: 0.0017 - mse: 0.0017WARNING:tensorflow:Early stopping conditioned on metric `val_loss` which is not available. Available metrics are: loss,mse\n",
            "392/392 [==============================] - 1s 4ms/step - loss: 0.0018 - mse: 0.0018\n",
            "Epoch 97/100\n",
            "390/392 [============================>.] - ETA: 0s - loss: 0.0021 - mse: 0.0021WARNING:tensorflow:Early stopping conditioned on metric `val_loss` which is not available. Available metrics are: loss,mse\n",
            "392/392 [==============================] - 1s 4ms/step - loss: 0.0021 - mse: 0.0021\n",
            "Epoch 98/100\n",
            "389/392 [============================>.] - ETA: 0s - loss: 0.0018 - mse: 0.0018WARNING:tensorflow:Early stopping conditioned on metric `val_loss` which is not available. Available metrics are: loss,mse\n",
            "392/392 [==============================] - 1s 4ms/step - loss: 0.0019 - mse: 0.0019\n",
            "Epoch 99/100\n",
            "379/392 [============================>.] - ETA: 0s - loss: 0.0020 - mse: 0.0020WARNING:tensorflow:Early stopping conditioned on metric `val_loss` which is not available. Available metrics are: loss,mse\n",
            "392/392 [==============================] - 1s 4ms/step - loss: 0.0020 - mse: 0.0020\n",
            "Epoch 100/100\n",
            "383/392 [============================>.] - ETA: 0s - loss: 0.0018 - mse: 0.0018WARNING:tensorflow:Early stopping conditioned on metric `val_loss` which is not available. Available metrics are: loss,mse\n",
            "392/392 [==============================] - 1s 4ms/step - loss: 0.0019 - mse: 0.0019\n"
          ],
          "name": "stdout"
        }
      ]
    },
    {
      "cell_type": "code",
      "metadata": {
        "id": "UgQSBuVOpad9",
        "colab_type": "code",
        "colab": {}
      },
      "source": [
        "pred=model.predict(test_feature)"
      ],
      "execution_count": 25,
      "outputs": []
    },
    {
      "cell_type": "code",
      "metadata": {
        "id": "Y9eR_17Ip18U",
        "colab_type": "code",
        "colab": {
          "base_uri": "https://localhost:8080/",
          "height": 34
        },
        "outputId": "8e26c2d4-37eb-4166-9ec0-6e6c69f59aff"
      },
      "source": [
        "pred.shape"
      ],
      "execution_count": 26,
      "outputs": [
        {
          "output_type": "execute_result",
          "data": {
            "text/plain": [
              "(80, 1)"
            ]
          },
          "metadata": {
            "tags": []
          },
          "execution_count": 26
        }
      ]
    },
    {
      "cell_type": "code",
      "metadata": {
        "id": "pLLL3BNfp6Xc",
        "colab_type": "code",
        "colab": {
          "base_uri": "https://localhost:8080/",
          "height": 360
        },
        "outputId": "c14e518b-2f1c-4b6b-a600-10664f940aad"
      },
      "source": [
        "plt.figure(figsize=(12, 6))\n",
        "plt.plot(test_label, label='actual')\n",
        "plt.plot(pred, label='prediction')\n",
        "plt.legend()\n",
        "plt.grid(ls='--')\n",
        "plt.show()"
      ],
      "execution_count": 27,
      "outputs": [
        {
          "output_type": "stream",
          "text": [
            "findfont: Font family ['NanumBarunGothic'] not found. Falling back to DejaVu Sans.\n"
          ],
          "name": "stderr"
        },
        {
          "output_type": "display_data",
          "data": {
            "image/png": "[encoded data removed]",
            "text/plain": [
              "<Figure size 864x432 with 1 Axes>"
            ]
          },
          "metadata": {
            "tags": [],
            "needs_background": "light"
          }
        }
      ]
    },
    {
      "cell_type": "code",
      "metadata": {
        "id": "344kfz2vp7F_",
        "colab_type": "code",
        "colab": {
          "base_uri": "https://localhost:8080/",
          "height": 360
        },
        "outputId": "aa7b72b6-cbd0-4ebf-e8e8-c573754c0cb2"
      },
      "source": [
        "plt.figure(figsize=(12, 6))\n",
        "plt.plot(test_label, label='actual')\n",
        "plt.plot(pred, label='prediction')\n",
        "plt.plot(np.sqrt((pred - test_label)**2), label='Difference')\n",
        "plt.legend(frameon=False, fontsize = 15)\n",
        "plt.grid(ls='--')\n",
        "plt.show()"
      ],
      "execution_count": 28,
      "outputs": [
        {
          "output_type": "stream",
          "text": [
            "findfont: Font family ['NanumBarunGothic'] not found. Falling back to DejaVu Sans.\n"
          ],
          "name": "stderr"
        },
        {
          "output_type": "display_data",
          "data": {
            "image/png": "[encoded data removed]",
            "text/plain": [
              "<Figure size 864x432 with 1 Axes>"
            ]
          },
          "metadata": {
            "tags": [],
            "needs_background": "light"
          }
        }
      ]
    },
    {
      "cell_type": "code",
      "metadata": {
        "id": "zWO53JGQp9uY",
        "colab_type": "code",
        "colab": {
          "base_uri": "https://localhost:8080/",
          "height": 279
        },
        "outputId": "26608b59-2f97-48c4-8ccb-7a74181a6159"
      },
      "source": [
        "#훈련 손실값loss\n",
        "fig, loss_ax=plt.subplots()\n",
        "loss_ax.plot(history.history['loss'], 'b', label='train loss')\n",
        "loss_ax.set_xlabel('epoch')\n",
        "loss_ax.set_ylabel('loss')\n",
        "plt.show()"
      ],
      "execution_count": 29,
      "outputs": [
        {
          "output_type": "display_data",
          "data": {
            "image/png": "[encoded data removed]",
            "text/plain": [
              "<Figure size 432x288 with 1 Axes>"
            ]
          },
          "metadata": {
            "tags": [],
            "needs_background": "light"
          }
        }
      ]
    },
    {
      "cell_type": "code",
      "metadata": {
        "id": "1NIpJuvGqAil",
        "colab_type": "code",
        "colab": {
          "base_uri": "https://localhost:8080/",
          "height": 34
        },
        "outputId": "cc66a051-3b16-42aa-ef4c-bd3ab5d348d6"
      },
      "source": [
        "mse=mean_squared_error(test_label, pred)\n",
        "rmse=np.sqrt(mse)\n",
        "rmse"
      ],
      "execution_count": 30,
      "outputs": [
        {
          "output_type": "execute_result",
          "data": {
            "text/plain": [
              "0.08137686298004031"
            ]
          },
          "metadata": {
            "tags": []
          },
          "execution_count": 30
        }
      ]
    },
    {
      "cell_type": "code",
      "metadata": {
        "id": "V416C_s4qT_V",
        "colab_type": "code",
        "colab": {
          "base_uri": "https://localhost:8080/",
          "height": 1000
        },
        "outputId": "418e880b-9247-4af0-926f-093e6a92f686"
      },
      "source": [
        "print(pred)"
      ],
      "execution_count": 31,
      "outputs": [
        {
          "output_type": "stream",
          "text": [
            "[[0.7546936 ]\n",
            " [0.77233046]\n",
            " [0.78292245]\n",
            " [0.76782244]\n",
            " [0.74726385]\n",
            " [0.7066737 ]\n",
            " [0.6545595 ]\n",
            " [0.61272573]\n",
            " [0.58581954]\n",
            " [0.546029  ]\n",
            " [0.4948684 ]\n",
            " [0.430627  ]\n",
            " [0.3929047 ]\n",
            " [0.35896808]\n",
            " [0.35926175]\n",
            " [0.39752644]\n",
            " [0.4479394 ]\n",
            " [0.4730327 ]\n",
            " [0.49099892]\n",
            " [0.48502505]\n",
            " [0.44949692]\n",
            " [0.42988646]\n",
            " [0.42555976]\n",
            " [0.4460734 ]\n",
            " [0.47062945]\n",
            " [0.48707038]\n",
            " [0.4943589 ]\n",
            " [0.49886328]\n",
            " [0.4894582 ]\n",
            " [0.47827965]\n",
            " [0.48260075]\n",
            " [0.5104525 ]\n",
            " [0.5290353 ]\n",
            " [0.5311346 ]\n",
            " [0.5258368 ]\n",
            " [0.52573323]\n",
            " [0.5133867 ]\n",
            " [0.5076355 ]\n",
            " [0.51803005]\n",
            " [0.5274639 ]\n",
            " [0.5189017 ]\n",
            " [0.50796616]\n",
            " [0.49914217]\n",
            " [0.493196  ]\n",
            " [0.48488533]\n",
            " [0.48028833]\n",
            " [0.47909373]\n",
            " [0.4752466 ]\n",
            " [0.46762598]\n",
            " [0.4688552 ]\n",
            " [0.49139535]\n",
            " [0.50984824]\n",
            " [0.5205305 ]\n",
            " [0.5185637 ]\n",
            " [0.5100193 ]\n",
            " [0.4998064 ]\n",
            " [0.49945593]\n",
            " [0.5093248 ]\n",
            " [0.52900916]\n",
            " [0.5486337 ]\n",
            " [0.55968565]\n",
            " [0.58594984]\n",
            " [0.6171965 ]\n",
            " [0.65011513]\n",
            " [0.67117727]\n",
            " [0.68940747]\n",
            " [0.6903651 ]\n",
            " [0.67975366]\n",
            " [0.6537833 ]\n",
            " [0.61614794]\n",
            " [0.59768236]\n",
            " [0.58994883]\n",
            " [0.58736676]\n",
            " [0.5970073 ]\n",
            " [0.6149526 ]\n",
            " [0.6102699 ]\n",
            " [0.6044821 ]\n",
            " [0.5992508 ]\n",
            " [0.6063136 ]\n",
            " [0.6187333 ]]\n"
          ],
          "name": "stdout"
        }
      ]
    },
    {
      "cell_type": "code",
      "metadata": {
        "id": "0idOOSKXqY0O",
        "colab_type": "code",
        "colab": {
          "base_uri": "https://localhost:8080/",
          "height": 50
        },
        "outputId": "ff74cf11-2a1a-4a5d-f081-37760d0e7248"
      },
      "source": [
        "loss, mae=model.evaluate(x_train, y_train, batch_size=1)\n",
        "print(loss, mae)\n",
        "#mae는 오차의 절대값: 0이 제일 정확"
      ],
      "execution_count": 34,
      "outputs": [
        {
          "output_type": "stream",
          "text": [
            "392/392 [==============================] - 1s 1ms/step - loss: 0.0041 - mse: 0.0041\n",
            "0.004054630640894175 0.004054630640894175\n"
          ],
          "name": "stdout"
        }
      ]
    },
    {
      "cell_type": "code",
      "metadata": {
        "id": "A5tMx0n1qtt7",
        "colab_type": "code",
        "colab": {
          "base_uri": "https://localhost:8080/",
          "height": 342
        },
        "outputId": "7d18048d-909a-4598-dd7b-d96b5f7b1747"
      },
      "source": [
        "%matplotlib inline\n",
        "import matplotlib.pyplot as plt\n",
        "\n",
        "plt.scatter(test_label, pred)\n",
        "plt.xlabel(\"Price Index: $Y_i$\")\n",
        "plt.ylabel(\"Predicted price Index: $\\hat{Y}_i$\")\n",
        "plt.title(\"Prices vs Predicted price Index: $Y_i$ vs $\\hat{Y}_i$\")\n",
        "#예측값과 원래값이 일치하면 직선에 가깝게 분포됨"
      ],
      "execution_count": 35,
      "outputs": [
        {
          "output_type": "execute_result",
          "data": {
            "text/plain": [
              "Text(0.5, 1.0, 'Prices vs Predicted price Index: $Y_i$ vs $\\\\hat{Y}_i$')"
            ]
          },
          "metadata": {
            "tags": []
          },
          "execution_count": 35
        },
        {
          "output_type": "stream",
          "text": [
            "findfont: Font family ['NanumBarunGothic'] not found. Falling back to DejaVu Sans.\n"
          ],
          "name": "stderr"
        },
        {
          "output_type": "display_data",
          "data": {
            "image/png": "[encoded data removed]",
            "text/plain": [
              "<Figure size 432x288 with 1 Axes>"
            ]
          },
          "metadata": {
            "tags": [],
            "needs_background": "light"
          }
        }
      ]
    },
    {
      "cell_type": "code",
      "metadata": {
        "id": "65rpU0hTqwEZ",
        "colab_type": "code",
        "colab": {
          "base_uri": "https://localhost:8080/",
          "height": 67
        },
        "outputId": "ac45a709-fb65-466f-f143-4a37a9615c0f"
      },
      "source": [
        "trainScore = model.evaluate(x_train, y_train, verbose=0)\n",
        "print('Train Score: ', trainScore)\n",
        "valScore = model.evaluate(x_valid, y_valid, verbose=0)\n",
        "print('Validataion Score: ', valScore)\n",
        "testScore = model.evaluate(test_feature,test_label, verbose=0)\n",
        "print('Test Score: ', testScore)"
      ],
      "execution_count": 36,
      "outputs": [
        {
          "output_type": "stream",
          "text": [
            "Train Score:  [0.004054631572216749, 0.004054631572216749]\n",
            "Validataion Score:  [0.002628313610330224, 0.002628313610330224]\n",
            "Test Score:  [0.006622193846851587, 0.006622193846851587]\n"
          ],
          "name": "stdout"
        }
      ]
    },
    {
      "cell_type": "code",
      "metadata": {
        "id": "X5URutHCqx-O",
        "colab_type": "code",
        "colab": {}
      },
      "source": [
        ""
      ],
      "execution_count": null,
      "outputs": []
    }
  ]
}