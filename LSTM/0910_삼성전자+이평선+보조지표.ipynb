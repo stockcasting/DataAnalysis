{
  "nbformat": 4,
  "nbformat_minor": 0,
  "metadata": {
    "colab": {
      "name": "0910_삼성전자+이평선+보조지표 ",
      "provenance": [],
      "collapsed_sections": []
    },
    "kernelspec": {
      "name": "python3",
      "display_name": "Python 3"
    }
  },
  "cells": [
    {
      "cell_type": "code",
      "metadata": {
        "id": "KPUOFXXXrHCQ",
        "colab_type": "code",
        "colab": {
          "base_uri": "https://localhost:8080/",
          "height": 70
        },
        "outputId": "29c0936a-9d45-4581-e567-64992e4084cf"
      },
      "source": [
        "import numpy as np\n",
        "import pandas as pd\n",
        "import matplotlib as mpl\n",
        "import matplotlib.pyplot as plt\n",
        "import seaborn as sns\n",
        "import warnings\n",
        "warnings.filterwarnings('ignore')\n",
        "mpl.rcParams[\"font.family\"] = 'NanumBarunGothic'\n",
        "mpl.rcParams['axes.unicode_minus'] = False\n",
        "%matplotlib inline"
      ],
      "execution_count": 1,
      "outputs": [
        {
          "output_type": "stream",
          "text": [
            "/usr/local/lib/python3.6/dist-packages/statsmodels/tools/_testing.py:19: FutureWarning: pandas.util.testing is deprecated. Use the functions in the public API at pandas.testing instead.\n",
            "  import pandas.util.testing as tm\n"
          ],
          "name": "stderr"
        }
      ]
    },
    {
      "cell_type": "code",
      "metadata": {
        "id": "jD7QeGvzr6oF",
        "colab_type": "code",
        "colab": {}
      },
      "source": [
        "from keras.models import Sequential\n",
        "from keras.layers import Dense, LSTM\n",
        "from sklearn.preprocessing import MinMaxScaler\n",
        "from sklearn.metrics import mean_squared_error"
      ],
      "execution_count": 2,
      "outputs": []
    },
    {
      "cell_type": "code",
      "metadata": {
        "id": "AHScKqkLr-C7",
        "colab_type": "code",
        "colab": {
          "resources": {
            "http://localhost:8080/nbextensions/google.colab/files.js": {
              "data": "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",
              "ok": true,
              "headers": [
                [
                  "content-type",
                  "application/javascript"
                ]
              ],
              "status": 200,
              "status_text": ""
            }
          },
          "base_uri": "https://localhost:8080/",
          "height": 75
        },
        "outputId": "de566f21-b4bb-483a-bc07-548bf7d0d7d8"
      },
      "source": [
        "from google.colab import files\n",
        "uploaded=files.upload()"
      ],
      "execution_count": 3,
      "outputs": [
        {
          "output_type": "display_data",
          "data": {
            "text/html": [
              "\n",
              "     <input type=\"file\" id=\"files-790aca07-b39c-4a10-8a0a-b541d311e6e1\" name=\"files[]\" multiple disabled\n",
              "        style=\"border:none\" />\n",
              "     <output id=\"result-790aca07-b39c-4a10-8a0a-b541d311e6e1\">\n",
              "      Upload widget is only available when the cell has been executed in the\n",
              "      current browser session. Please rerun this cell to enable.\n",
              "      </output>\n",
              "      <script src=\"/nbextensions/google.colab/files.js\"></script> "
            ],
            "text/plain": [
              "<IPython.core.display.HTML object>"
            ]
          },
          "metadata": {
            "tags": []
          }
        },
        {
          "output_type": "stream",
          "text": [
            "Saving feature_15.csv.txt to feature_15.csv.txt\n"
          ],
          "name": "stdout"
        }
      ]
    },
    {
      "cell_type": "code",
      "metadata": {
        "id": "NBWcunnXsHHi",
        "colab_type": "code",
        "colab": {}
      },
      "source": [
        "import io\n",
        "data=pd.read_csv(io.BytesIO(uploaded['feature_15.csv.txt']))"
      ],
      "execution_count": 4,
      "outputs": []
    },
    {
      "cell_type": "code",
      "metadata": {
        "id": "eWp1gvVcsMal",
        "colab_type": "code",
        "colab": {
          "base_uri": "https://localhost:8080/",
          "height": 299
        },
        "outputId": "9e02892f-2c2c-4aab-dac6-518b0e95c066"
      },
      "source": [
        "data.head()"
      ],
      "execution_count": 5,
      "outputs": [
        {
          "output_type": "execute_result",
          "data": {
            "text/html": [
              "<div>\n",
              "<style scoped>\n",
              "    .dataframe tbody tr th:only-of-type {\n",
              "        vertical-align: middle;\n",
              "    }\n",
              "\n",
              "    .dataframe tbody tr th {\n",
              "        vertical-align: top;\n",
              "    }\n",
              "\n",
              "    .dataframe thead th {\n",
              "        text-align: right;\n",
              "    }\n",
              "</style>\n",
              "<table border=\"1\" class=\"dataframe\">\n",
              "  <thead>\n",
              "    <tr style=\"text-align: right;\">\n",
              "      <th></th>\n",
              "      <th>Date</th>\n",
              "      <th>Open</th>\n",
              "      <th>High</th>\n",
              "      <th>Low</th>\n",
              "      <th>Close</th>\n",
              "      <th>Volume</th>\n",
              "      <th>nasdaq</th>\n",
              "      <th>exchange</th>\n",
              "      <th>Semiconductor</th>\n",
              "      <th>foreign</th>\n",
              "      <th>institution</th>\n",
              "      <th>KOSPI</th>\n",
              "      <th>Korea_bond_1year</th>\n",
              "      <th>PBR</th>\n",
              "      <th>PER</th>\n",
              "      <th>ROE</th>\n",
              "    </tr>\n",
              "  </thead>\n",
              "  <tbody>\n",
              "    <tr>\n",
              "      <th>0</th>\n",
              "      <td>2018-01-02</td>\n",
              "      <td>51380.0</td>\n",
              "      <td>51400.0</td>\n",
              "      <td>50780.0</td>\n",
              "      <td>51020.0</td>\n",
              "      <td>169485.0</td>\n",
              "      <td>7006.90</td>\n",
              "      <td>1067.23</td>\n",
              "      <td>1287.70</td>\n",
              "      <td>-23405.0</td>\n",
              "      <td>-18019.0</td>\n",
              "      <td>2479.65</td>\n",
              "      <td>1.816</td>\n",
              "      <td>0.037682</td>\n",
              "      <td>0.265244</td>\n",
              "      <td>0.142064</td>\n",
              "    </tr>\n",
              "    <tr>\n",
              "      <th>1</th>\n",
              "      <td>2018-01-03</td>\n",
              "      <td>52540.0</td>\n",
              "      <td>52560.0</td>\n",
              "      <td>51420.0</td>\n",
              "      <td>51620.0</td>\n",
              "      <td>200270.0</td>\n",
              "      <td>7065.53</td>\n",
              "      <td>1062.88</td>\n",
              "      <td>1309.86</td>\n",
              "      <td>-47563.0</td>\n",
              "      <td>45759.0</td>\n",
              "      <td>2486.35</td>\n",
              "      <td>1.792</td>\n",
              "      <td>0.038125</td>\n",
              "      <td>0.268364</td>\n",
              "      <td>0.142064</td>\n",
              "    </tr>\n",
              "    <tr>\n",
              "      <th>2</th>\n",
              "      <td>2018-01-04</td>\n",
              "      <td>52120.0</td>\n",
              "      <td>52180.0</td>\n",
              "      <td>50640.0</td>\n",
              "      <td>51080.0</td>\n",
              "      <td>233909.0</td>\n",
              "      <td>7077.91</td>\n",
              "      <td>1064.84</td>\n",
              "      <td>1317.24</td>\n",
              "      <td>-39755.0</td>\n",
              "      <td>26643.0</td>\n",
              "      <td>2466.46</td>\n",
              "      <td>1.800</td>\n",
              "      <td>0.037726</td>\n",
              "      <td>0.265556</td>\n",
              "      <td>0.142064</td>\n",
              "    </tr>\n",
              "    <tr>\n",
              "      <th>3</th>\n",
              "      <td>2018-01-05</td>\n",
              "      <td>51300.0</td>\n",
              "      <td>52120.0</td>\n",
              "      <td>51200.0</td>\n",
              "      <td>52120.0</td>\n",
              "      <td>189623.0</td>\n",
              "      <td>7136.56</td>\n",
              "      <td>1063.33</td>\n",
              "      <td>1325.71</td>\n",
              "      <td>5786.0</td>\n",
              "      <td>9550.0</td>\n",
              "      <td>2497.52</td>\n",
              "      <td>1.781</td>\n",
              "      <td>0.038494</td>\n",
              "      <td>0.270963</td>\n",
              "      <td>0.142064</td>\n",
              "    </tr>\n",
              "    <tr>\n",
              "      <th>4</th>\n",
              "      <td>2018-01-08</td>\n",
              "      <td>52400.0</td>\n",
              "      <td>52520.0</td>\n",
              "      <td>51500.0</td>\n",
              "      <td>52020.0</td>\n",
              "      <td>167673.0</td>\n",
              "      <td>7157.39</td>\n",
              "      <td>1062.27</td>\n",
              "      <td>1335.54</td>\n",
              "      <td>-17940.0</td>\n",
              "      <td>9060.0</td>\n",
              "      <td>2513.28</td>\n",
              "      <td>1.789</td>\n",
              "      <td>0.038420</td>\n",
              "      <td>0.270443</td>\n",
              "      <td>0.142064</td>\n",
              "    </tr>\n",
              "  </tbody>\n",
              "</table>\n",
              "</div>"
            ],
            "text/plain": [
              "         Date     Open     High  ...       PBR       PER       ROE\n",
              "0  2018-01-02  51380.0  51400.0  ...  0.037682  0.265244  0.142064\n",
              "1  2018-01-03  52540.0  52560.0  ...  0.038125  0.268364  0.142064\n",
              "2  2018-01-04  52120.0  52180.0  ...  0.037726  0.265556  0.142064\n",
              "3  2018-01-05  51300.0  52120.0  ...  0.038494  0.270963  0.142064\n",
              "4  2018-01-08  52400.0  52520.0  ...  0.038420  0.270443  0.142064\n",
              "\n",
              "[5 rows x 16 columns]"
            ]
          },
          "metadata": {
            "tags": []
          },
          "execution_count": 5
        }
      ]
    },
    {
      "cell_type": "code",
      "metadata": {
        "id": "j1yvdo-isalp",
        "colab_type": "code",
        "colab": {
          "base_uri": "https://localhost:8080/",
          "height": 299
        },
        "outputId": "935693be-aeaf-4885-8c5b-78b5aabebc5d"
      },
      "source": [
        "df=data\n",
        "df['5days']=df['Close'].rolling(window=5).mean()\n",
        "df['10days']=df['Close'].rolling(window=10).mean()\n",
        "df['20days']=df['Close'].rolling(window=20).mean()\n",
        "df['60days']=df['Close'].rolling(window=60).mean()\n",
        "df.head()"
      ],
      "execution_count": 7,
      "outputs": [
        {
          "output_type": "execute_result",
          "data": {
            "text/html": [
              "<div>\n",
              "<style scoped>\n",
              "    .dataframe tbody tr th:only-of-type {\n",
              "        vertical-align: middle;\n",
              "    }\n",
              "\n",
              "    .dataframe tbody tr th {\n",
              "        vertical-align: top;\n",
              "    }\n",
              "\n",
              "    .dataframe thead th {\n",
              "        text-align: right;\n",
              "    }\n",
              "</style>\n",
              "<table border=\"1\" class=\"dataframe\">\n",
              "  <thead>\n",
              "    <tr style=\"text-align: right;\">\n",
              "      <th></th>\n",
              "      <th>Date</th>\n",
              "      <th>Open</th>\n",
              "      <th>High</th>\n",
              "      <th>Low</th>\n",
              "      <th>Close</th>\n",
              "      <th>Volume</th>\n",
              "      <th>nasdaq</th>\n",
              "      <th>exchange</th>\n",
              "      <th>Semiconductor</th>\n",
              "      <th>foreign</th>\n",
              "      <th>institution</th>\n",
              "      <th>KOSPI</th>\n",
              "      <th>Korea_bond_1year</th>\n",
              "      <th>PBR</th>\n",
              "      <th>PER</th>\n",
              "      <th>ROE</th>\n",
              "      <th>5days</th>\n",
              "      <th>10days</th>\n",
              "      <th>20days</th>\n",
              "      <th>60days</th>\n",
              "    </tr>\n",
              "  </thead>\n",
              "  <tbody>\n",
              "    <tr>\n",
              "      <th>0</th>\n",
              "      <td>2018-01-02</td>\n",
              "      <td>51380.0</td>\n",
              "      <td>51400.0</td>\n",
              "      <td>50780.0</td>\n",
              "      <td>51020.0</td>\n",
              "      <td>169485.0</td>\n",
              "      <td>7006.90</td>\n",
              "      <td>1067.23</td>\n",
              "      <td>1287.70</td>\n",
              "      <td>-23405.0</td>\n",
              "      <td>-18019.0</td>\n",
              "      <td>2479.65</td>\n",
              "      <td>1.816</td>\n",
              "      <td>0.037682</td>\n",
              "      <td>0.265244</td>\n",
              "      <td>0.142064</td>\n",
              "      <td>NaN</td>\n",
              "      <td>NaN</td>\n",
              "      <td>NaN</td>\n",
              "      <td>NaN</td>\n",
              "    </tr>\n",
              "    <tr>\n",
              "      <th>1</th>\n",
              "      <td>2018-01-03</td>\n",
              "      <td>52540.0</td>\n",
              "      <td>52560.0</td>\n",
              "      <td>51420.0</td>\n",
              "      <td>51620.0</td>\n",
              "      <td>200270.0</td>\n",
              "      <td>7065.53</td>\n",
              "      <td>1062.88</td>\n",
              "      <td>1309.86</td>\n",
              "      <td>-47563.0</td>\n",
              "      <td>45759.0</td>\n",
              "      <td>2486.35</td>\n",
              "      <td>1.792</td>\n",
              "      <td>0.038125</td>\n",
              "      <td>0.268364</td>\n",
              "      <td>0.142064</td>\n",
              "      <td>NaN</td>\n",
              "      <td>NaN</td>\n",
              "      <td>NaN</td>\n",
              "      <td>NaN</td>\n",
              "    </tr>\n",
              "    <tr>\n",
              "      <th>2</th>\n",
              "      <td>2018-01-04</td>\n",
              "      <td>52120.0</td>\n",
              "      <td>52180.0</td>\n",
              "      <td>50640.0</td>\n",
              "      <td>51080.0</td>\n",
              "      <td>233909.0</td>\n",
              "      <td>7077.91</td>\n",
              "      <td>1064.84</td>\n",
              "      <td>1317.24</td>\n",
              "      <td>-39755.0</td>\n",
              "      <td>26643.0</td>\n",
              "      <td>2466.46</td>\n",
              "      <td>1.800</td>\n",
              "      <td>0.037726</td>\n",
              "      <td>0.265556</td>\n",
              "      <td>0.142064</td>\n",
              "      <td>NaN</td>\n",
              "      <td>NaN</td>\n",
              "      <td>NaN</td>\n",
              "      <td>NaN</td>\n",
              "    </tr>\n",
              "    <tr>\n",
              "      <th>3</th>\n",
              "      <td>2018-01-05</td>\n",
              "      <td>51300.0</td>\n",
              "      <td>52120.0</td>\n",
              "      <td>51200.0</td>\n",
              "      <td>52120.0</td>\n",
              "      <td>189623.0</td>\n",
              "      <td>7136.56</td>\n",
              "      <td>1063.33</td>\n",
              "      <td>1325.71</td>\n",
              "      <td>5786.0</td>\n",
              "      <td>9550.0</td>\n",
              "      <td>2497.52</td>\n",
              "      <td>1.781</td>\n",
              "      <td>0.038494</td>\n",
              "      <td>0.270963</td>\n",
              "      <td>0.142064</td>\n",
              "      <td>NaN</td>\n",
              "      <td>NaN</td>\n",
              "      <td>NaN</td>\n",
              "      <td>NaN</td>\n",
              "    </tr>\n",
              "    <tr>\n",
              "      <th>4</th>\n",
              "      <td>2018-01-08</td>\n",
              "      <td>52400.0</td>\n",
              "      <td>52520.0</td>\n",
              "      <td>51500.0</td>\n",
              "      <td>52020.0</td>\n",
              "      <td>167673.0</td>\n",
              "      <td>7157.39</td>\n",
              "      <td>1062.27</td>\n",
              "      <td>1335.54</td>\n",
              "      <td>-17940.0</td>\n",
              "      <td>9060.0</td>\n",
              "      <td>2513.28</td>\n",
              "      <td>1.789</td>\n",
              "      <td>0.038420</td>\n",
              "      <td>0.270443</td>\n",
              "      <td>0.142064</td>\n",
              "      <td>51572.0</td>\n",
              "      <td>NaN</td>\n",
              "      <td>NaN</td>\n",
              "      <td>NaN</td>\n",
              "    </tr>\n",
              "  </tbody>\n",
              "</table>\n",
              "</div>"
            ],
            "text/plain": [
              "         Date     Open     High      Low  ...    5days  10days  20days  60days\n",
              "0  2018-01-02  51380.0  51400.0  50780.0  ...      NaN     NaN     NaN     NaN\n",
              "1  2018-01-03  52540.0  52560.0  51420.0  ...      NaN     NaN     NaN     NaN\n",
              "2  2018-01-04  52120.0  52180.0  50640.0  ...      NaN     NaN     NaN     NaN\n",
              "3  2018-01-05  51300.0  52120.0  51200.0  ...      NaN     NaN     NaN     NaN\n",
              "4  2018-01-08  52400.0  52520.0  51500.0  ...  51572.0     NaN     NaN     NaN\n",
              "\n",
              "[5 rows x 20 columns]"
            ]
          },
          "metadata": {
            "tags": []
          },
          "execution_count": 7
        }
      ]
    },
    {
      "cell_type": "code",
      "metadata": {
        "id": "K5K8wbd8sgYh",
        "colab_type": "code",
        "colab": {}
      },
      "source": [
        "df=df[df['Open']!=0]"
      ],
      "execution_count": 8,
      "outputs": []
    },
    {
      "cell_type": "code",
      "metadata": {
        "id": "U3CsjID3sjVJ",
        "colab_type": "code",
        "colab": {}
      },
      "source": [
        "\n",
        "df.fillna(0, inplace=True)"
      ],
      "execution_count": 9,
      "outputs": []
    },
    {
      "cell_type": "code",
      "metadata": {
        "id": "jXWmehMlslEu",
        "colab_type": "code",
        "colab": {}
      },
      "source": [
        "idx = df.index[df['Date'] <= '2018-04-30'][-1]\n",
        "df['Volume'].iloc[:idx] = df['Volume'].iloc[:idx]*50"
      ],
      "execution_count": 10,
      "outputs": []
    },
    {
      "cell_type": "code",
      "metadata": {
        "id": "mF5OOCjes0VE",
        "colab_type": "code",
        "colab": {
          "base_uri": "https://localhost:8080/",
          "height": 299
        },
        "outputId": "30a5e455-9c9a-4d0f-d0cb-f3100f3a476e"
      },
      "source": [
        "df.head()"
      ],
      "execution_count": 11,
      "outputs": [
        {
          "output_type": "execute_result",
          "data": {
            "text/html": [
              "<div>\n",
              "<style scoped>\n",
              "    .dataframe tbody tr th:only-of-type {\n",
              "        vertical-align: middle;\n",
              "    }\n",
              "\n",
              "    .dataframe tbody tr th {\n",
              "        vertical-align: top;\n",
              "    }\n",
              "\n",
              "    .dataframe thead th {\n",
              "        text-align: right;\n",
              "    }\n",
              "</style>\n",
              "<table border=\"1\" class=\"dataframe\">\n",
              "  <thead>\n",
              "    <tr style=\"text-align: right;\">\n",
              "      <th></th>\n",
              "      <th>Date</th>\n",
              "      <th>Open</th>\n",
              "      <th>High</th>\n",
              "      <th>Low</th>\n",
              "      <th>Close</th>\n",
              "      <th>Volume</th>\n",
              "      <th>nasdaq</th>\n",
              "      <th>exchange</th>\n",
              "      <th>Semiconductor</th>\n",
              "      <th>foreign</th>\n",
              "      <th>institution</th>\n",
              "      <th>KOSPI</th>\n",
              "      <th>Korea_bond_1year</th>\n",
              "      <th>PBR</th>\n",
              "      <th>PER</th>\n",
              "      <th>ROE</th>\n",
              "      <th>5days</th>\n",
              "      <th>10days</th>\n",
              "      <th>20days</th>\n",
              "      <th>60days</th>\n",
              "    </tr>\n",
              "  </thead>\n",
              "  <tbody>\n",
              "    <tr>\n",
              "      <th>0</th>\n",
              "      <td>2018-01-02</td>\n",
              "      <td>51380.0</td>\n",
              "      <td>51400.0</td>\n",
              "      <td>50780.0</td>\n",
              "      <td>51020.0</td>\n",
              "      <td>8474250.0</td>\n",
              "      <td>7006.90</td>\n",
              "      <td>1067.23</td>\n",
              "      <td>1287.70</td>\n",
              "      <td>-23405.0</td>\n",
              "      <td>-18019.0</td>\n",
              "      <td>2479.65</td>\n",
              "      <td>1.816</td>\n",
              "      <td>0.037682</td>\n",
              "      <td>0.265244</td>\n",
              "      <td>0.142064</td>\n",
              "      <td>0.0</td>\n",
              "      <td>0.0</td>\n",
              "      <td>0.0</td>\n",
              "      <td>0.0</td>\n",
              "    </tr>\n",
              "    <tr>\n",
              "      <th>1</th>\n",
              "      <td>2018-01-03</td>\n",
              "      <td>52540.0</td>\n",
              "      <td>52560.0</td>\n",
              "      <td>51420.0</td>\n",
              "      <td>51620.0</td>\n",
              "      <td>10013500.0</td>\n",
              "      <td>7065.53</td>\n",
              "      <td>1062.88</td>\n",
              "      <td>1309.86</td>\n",
              "      <td>-47563.0</td>\n",
              "      <td>45759.0</td>\n",
              "      <td>2486.35</td>\n",
              "      <td>1.792</td>\n",
              "      <td>0.038125</td>\n",
              "      <td>0.268364</td>\n",
              "      <td>0.142064</td>\n",
              "      <td>0.0</td>\n",
              "      <td>0.0</td>\n",
              "      <td>0.0</td>\n",
              "      <td>0.0</td>\n",
              "    </tr>\n",
              "    <tr>\n",
              "      <th>2</th>\n",
              "      <td>2018-01-04</td>\n",
              "      <td>52120.0</td>\n",
              "      <td>52180.0</td>\n",
              "      <td>50640.0</td>\n",
              "      <td>51080.0</td>\n",
              "      <td>11695450.0</td>\n",
              "      <td>7077.91</td>\n",
              "      <td>1064.84</td>\n",
              "      <td>1317.24</td>\n",
              "      <td>-39755.0</td>\n",
              "      <td>26643.0</td>\n",
              "      <td>2466.46</td>\n",
              "      <td>1.800</td>\n",
              "      <td>0.037726</td>\n",
              "      <td>0.265556</td>\n",
              "      <td>0.142064</td>\n",
              "      <td>0.0</td>\n",
              "      <td>0.0</td>\n",
              "      <td>0.0</td>\n",
              "      <td>0.0</td>\n",
              "    </tr>\n",
              "    <tr>\n",
              "      <th>3</th>\n",
              "      <td>2018-01-05</td>\n",
              "      <td>51300.0</td>\n",
              "      <td>52120.0</td>\n",
              "      <td>51200.0</td>\n",
              "      <td>52120.0</td>\n",
              "      <td>9481150.0</td>\n",
              "      <td>7136.56</td>\n",
              "      <td>1063.33</td>\n",
              "      <td>1325.71</td>\n",
              "      <td>5786.0</td>\n",
              "      <td>9550.0</td>\n",
              "      <td>2497.52</td>\n",
              "      <td>1.781</td>\n",
              "      <td>0.038494</td>\n",
              "      <td>0.270963</td>\n",
              "      <td>0.142064</td>\n",
              "      <td>0.0</td>\n",
              "      <td>0.0</td>\n",
              "      <td>0.0</td>\n",
              "      <td>0.0</td>\n",
              "    </tr>\n",
              "    <tr>\n",
              "      <th>4</th>\n",
              "      <td>2018-01-08</td>\n",
              "      <td>52400.0</td>\n",
              "      <td>52520.0</td>\n",
              "      <td>51500.0</td>\n",
              "      <td>52020.0</td>\n",
              "      <td>8383650.0</td>\n",
              "      <td>7157.39</td>\n",
              "      <td>1062.27</td>\n",
              "      <td>1335.54</td>\n",
              "      <td>-17940.0</td>\n",
              "      <td>9060.0</td>\n",
              "      <td>2513.28</td>\n",
              "      <td>1.789</td>\n",
              "      <td>0.038420</td>\n",
              "      <td>0.270443</td>\n",
              "      <td>0.142064</td>\n",
              "      <td>51572.0</td>\n",
              "      <td>0.0</td>\n",
              "      <td>0.0</td>\n",
              "      <td>0.0</td>\n",
              "    </tr>\n",
              "  </tbody>\n",
              "</table>\n",
              "</div>"
            ],
            "text/plain": [
              "         Date     Open     High      Low  ...    5days  10days  20days  60days\n",
              "0  2018-01-02  51380.0  51400.0  50780.0  ...      0.0     0.0     0.0     0.0\n",
              "1  2018-01-03  52540.0  52560.0  51420.0  ...      0.0     0.0     0.0     0.0\n",
              "2  2018-01-04  52120.0  52180.0  50640.0  ...      0.0     0.0     0.0     0.0\n",
              "3  2018-01-05  51300.0  52120.0  51200.0  ...      0.0     0.0     0.0     0.0\n",
              "4  2018-01-08  52400.0  52520.0  51500.0  ...  51572.0     0.0     0.0     0.0\n",
              "\n",
              "[5 rows x 20 columns]"
            ]
          },
          "metadata": {
            "tags": []
          },
          "execution_count": 11
        }
      ]
    },
    {
      "cell_type": "code",
      "metadata": {
        "id": "y5fE2fSNs9NL",
        "colab_type": "code",
        "colab": {}
      },
      "source": [
        "df.set_index('Date',inplace=True)"
      ],
      "execution_count": 13,
      "outputs": []
    },
    {
      "cell_type": "code",
      "metadata": {
        "id": "I9mwhJq1tEiM",
        "colab_type": "code",
        "colab": {
          "base_uri": "https://localhost:8080/",
          "height": 329
        },
        "outputId": "6d4772b0-57e2-4f88-b168-6b8c16ada326"
      },
      "source": [
        "df.head()\n"
      ],
      "execution_count": 15,
      "outputs": [
        {
          "output_type": "execute_result",
          "data": {
            "text/html": [
              "<div>\n",
              "<style scoped>\n",
              "    .dataframe tbody tr th:only-of-type {\n",
              "        vertical-align: middle;\n",
              "    }\n",
              "\n",
              "    .dataframe tbody tr th {\n",
              "        vertical-align: top;\n",
              "    }\n",
              "\n",
              "    .dataframe thead th {\n",
              "        text-align: right;\n",
              "    }\n",
              "</style>\n",
              "<table border=\"1\" class=\"dataframe\">\n",
              "  <thead>\n",
              "    <tr style=\"text-align: right;\">\n",
              "      <th></th>\n",
              "      <th>Open</th>\n",
              "      <th>High</th>\n",
              "      <th>Low</th>\n",
              "      <th>Close</th>\n",
              "      <th>Volume</th>\n",
              "      <th>nasdaq</th>\n",
              "      <th>exchange</th>\n",
              "      <th>Semiconductor</th>\n",
              "      <th>foreign</th>\n",
              "      <th>institution</th>\n",
              "      <th>KOSPI</th>\n",
              "      <th>Korea_bond_1year</th>\n",
              "      <th>PBR</th>\n",
              "      <th>PER</th>\n",
              "      <th>ROE</th>\n",
              "      <th>5days</th>\n",
              "      <th>10days</th>\n",
              "      <th>20days</th>\n",
              "      <th>60days</th>\n",
              "    </tr>\n",
              "    <tr>\n",
              "      <th>Date</th>\n",
              "      <th></th>\n",
              "      <th></th>\n",
              "      <th></th>\n",
              "      <th></th>\n",
              "      <th></th>\n",
              "      <th></th>\n",
              "      <th></th>\n",
              "      <th></th>\n",
              "      <th></th>\n",
              "      <th></th>\n",
              "      <th></th>\n",
              "      <th></th>\n",
              "      <th></th>\n",
              "      <th></th>\n",
              "      <th></th>\n",
              "      <th></th>\n",
              "      <th></th>\n",
              "      <th></th>\n",
              "      <th></th>\n",
              "    </tr>\n",
              "  </thead>\n",
              "  <tbody>\n",
              "    <tr>\n",
              "      <th>2018-01-02</th>\n",
              "      <td>51380.0</td>\n",
              "      <td>51400.0</td>\n",
              "      <td>50780.0</td>\n",
              "      <td>51020.0</td>\n",
              "      <td>8474250.0</td>\n",
              "      <td>7006.90</td>\n",
              "      <td>1067.23</td>\n",
              "      <td>1287.70</td>\n",
              "      <td>-23405.0</td>\n",
              "      <td>-18019.0</td>\n",
              "      <td>2479.65</td>\n",
              "      <td>1.816</td>\n",
              "      <td>0.037682</td>\n",
              "      <td>0.265244</td>\n",
              "      <td>0.142064</td>\n",
              "      <td>0.0</td>\n",
              "      <td>0.0</td>\n",
              "      <td>0.0</td>\n",
              "      <td>0.0</td>\n",
              "    </tr>\n",
              "    <tr>\n",
              "      <th>2018-01-03</th>\n",
              "      <td>52540.0</td>\n",
              "      <td>52560.0</td>\n",
              "      <td>51420.0</td>\n",
              "      <td>51620.0</td>\n",
              "      <td>10013500.0</td>\n",
              "      <td>7065.53</td>\n",
              "      <td>1062.88</td>\n",
              "      <td>1309.86</td>\n",
              "      <td>-47563.0</td>\n",
              "      <td>45759.0</td>\n",
              "      <td>2486.35</td>\n",
              "      <td>1.792</td>\n",
              "      <td>0.038125</td>\n",
              "      <td>0.268364</td>\n",
              "      <td>0.142064</td>\n",
              "      <td>0.0</td>\n",
              "      <td>0.0</td>\n",
              "      <td>0.0</td>\n",
              "      <td>0.0</td>\n",
              "    </tr>\n",
              "    <tr>\n",
              "      <th>2018-01-04</th>\n",
              "      <td>52120.0</td>\n",
              "      <td>52180.0</td>\n",
              "      <td>50640.0</td>\n",
              "      <td>51080.0</td>\n",
              "      <td>11695450.0</td>\n",
              "      <td>7077.91</td>\n",
              "      <td>1064.84</td>\n",
              "      <td>1317.24</td>\n",
              "      <td>-39755.0</td>\n",
              "      <td>26643.0</td>\n",
              "      <td>2466.46</td>\n",
              "      <td>1.800</td>\n",
              "      <td>0.037726</td>\n",
              "      <td>0.265556</td>\n",
              "      <td>0.142064</td>\n",
              "      <td>0.0</td>\n",
              "      <td>0.0</td>\n",
              "      <td>0.0</td>\n",
              "      <td>0.0</td>\n",
              "    </tr>\n",
              "    <tr>\n",
              "      <th>2018-01-05</th>\n",
              "      <td>51300.0</td>\n",
              "      <td>52120.0</td>\n",
              "      <td>51200.0</td>\n",
              "      <td>52120.0</td>\n",
              "      <td>9481150.0</td>\n",
              "      <td>7136.56</td>\n",
              "      <td>1063.33</td>\n",
              "      <td>1325.71</td>\n",
              "      <td>5786.0</td>\n",
              "      <td>9550.0</td>\n",
              "      <td>2497.52</td>\n",
              "      <td>1.781</td>\n",
              "      <td>0.038494</td>\n",
              "      <td>0.270963</td>\n",
              "      <td>0.142064</td>\n",
              "      <td>0.0</td>\n",
              "      <td>0.0</td>\n",
              "      <td>0.0</td>\n",
              "      <td>0.0</td>\n",
              "    </tr>\n",
              "    <tr>\n",
              "      <th>2018-01-08</th>\n",
              "      <td>52400.0</td>\n",
              "      <td>52520.0</td>\n",
              "      <td>51500.0</td>\n",
              "      <td>52020.0</td>\n",
              "      <td>8383650.0</td>\n",
              "      <td>7157.39</td>\n",
              "      <td>1062.27</td>\n",
              "      <td>1335.54</td>\n",
              "      <td>-17940.0</td>\n",
              "      <td>9060.0</td>\n",
              "      <td>2513.28</td>\n",
              "      <td>1.789</td>\n",
              "      <td>0.038420</td>\n",
              "      <td>0.270443</td>\n",
              "      <td>0.142064</td>\n",
              "      <td>51572.0</td>\n",
              "      <td>0.0</td>\n",
              "      <td>0.0</td>\n",
              "      <td>0.0</td>\n",
              "    </tr>\n",
              "  </tbody>\n",
              "</table>\n",
              "</div>"
            ],
            "text/plain": [
              "               Open     High      Low    Close  ...    5days  10days  20days  60days\n",
              "Date                                            ...                                 \n",
              "2018-01-02  51380.0  51400.0  50780.0  51020.0  ...      0.0     0.0     0.0     0.0\n",
              "2018-01-03  52540.0  52560.0  51420.0  51620.0  ...      0.0     0.0     0.0     0.0\n",
              "2018-01-04  52120.0  52180.0  50640.0  51080.0  ...      0.0     0.0     0.0     0.0\n",
              "2018-01-05  51300.0  52120.0  51200.0  52120.0  ...      0.0     0.0     0.0     0.0\n",
              "2018-01-08  52400.0  52520.0  51500.0  52020.0  ...  51572.0     0.0     0.0     0.0\n",
              "\n",
              "[5 rows x 19 columns]"
            ]
          },
          "metadata": {
            "tags": []
          },
          "execution_count": 15
        }
      ]
    },
    {
      "cell_type": "code",
      "metadata": {
        "id": "VwpXpPsHtK6R",
        "colab_type": "code",
        "colab": {}
      },
      "source": [
        "scaler=MinMaxScaler()\n",
        "scale_cols=[\"Open\", \"High\", \"Low\", \"Close\", \"Volume\", \"nasdaq\", \n",
        "                     \"exchange\", \"Semiconductor\", \"foreign\", \"institution\", \n",
        "                     \"KOSPI\", \"Korea_bond_1year\", \"PBR\", \"PER\", \"ROE\",'5days','10days','20days','60days']\n",
        "df_scaled=scaler.fit_transform(df[scale_cols])"
      ],
      "execution_count": 16,
      "outputs": []
    },
    {
      "cell_type": "code",
      "metadata": {
        "id": "83Gle3v1ti33",
        "colab_type": "code",
        "colab": {
          "base_uri": "https://localhost:8080/",
          "height": 252
        },
        "outputId": "3374373a-9f2f-48e4-deeb-162da3c85b7f"
      },
      "source": [
        "df_scaled=pd.DataFrame(df_scaled)\n",
        "df_scaled.columns=scale_cols\n",
        "print(df_scaled)"
      ],
      "execution_count": 17,
      "outputs": [
        {
          "output_type": "stream",
          "text": [
            "         Open    High       Low  ...    10days    20days    60days\n",
            "0    0.567413  0.5520  0.572074  ...  0.000000  0.000000  0.000000\n",
            "1    0.614664  0.5984  0.598357  ...  0.000000  0.000000  0.000000\n",
            "2    0.597556  0.5832  0.566324  ...  0.000000  0.000000  0.000000\n",
            "3    0.564155  0.5808  0.589322  ...  0.000000  0.000000  0.000000\n",
            "4    0.608961  0.5968  0.601643  ...  0.000000  0.000000  0.000000\n",
            "..        ...     ...       ...  ...       ...       ...       ...\n",
            "585  0.588595  0.6520  0.605749  ...  0.864592  0.882171  0.873767\n",
            "586  0.596741  0.6160  0.618070  ...  0.860619  0.883424  0.874710\n",
            "587  0.625255  0.6520  0.630390  ...  0.862274  0.885595  0.876306\n",
            "588  0.613035  0.6240  0.622177  ...  0.866413  0.886597  0.877495\n",
            "589  0.670061  0.6520  0.655031  ...  0.867572  0.887766  0.878932\n",
            "\n",
            "[590 rows x 19 columns]\n"
          ],
          "name": "stdout"
        }
      ]
    },
    {
      "cell_type": "code",
      "metadata": {
        "id": "BS3XcLBatzO_",
        "colab_type": "code",
        "colab": {}
      },
      "source": [
        "TEST_SIZE=100\n",
        "train = df_scaled[:-TEST_SIZE]\n",
        "test = df_scaled[-TEST_SIZE:]"
      ],
      "execution_count": 18,
      "outputs": []
    },
    {
      "cell_type": "code",
      "metadata": {
        "id": "bd0I7mGMt1__",
        "colab_type": "code",
        "colab": {}
      },
      "source": [
        "def make_dataset(data, label, window_size=20):\n",
        "    feature_list = []\n",
        "    label_list = []\n",
        "    for i in range(len(data) - window_size):\n",
        "        feature_list.append(np.array(data.iloc[i:i+window_size]))\n",
        "        label_list.append(np.array(label.iloc[i+window_size]))\n",
        "    return np.array(feature_list), np.array(label_list)"
      ],
      "execution_count": 19,
      "outputs": []
    },
    {
      "cell_type": "code",
      "metadata": {
        "id": "U8a0CIbDt4FE",
        "colab_type": "code",
        "colab": {
          "base_uri": "https://localhost:8080/",
          "height": 50
        },
        "outputId": "aabd19ee-ac9d-4413-ad8d-9ec829cb340d"
      },
      "source": [
        "feature_cols = [\"Open\", \"High\", \"Low\", \"Volume\", \"nasdaq\", \n",
        "                     \"exchange\", \"Semiconductor\", \"foreign\", \"institution\", \n",
        "                     \"KOSPI\", \"Korea_bond_1year\", \"PBR\", \"PER\", \"ROE\",'5days','10days','20days','60days']\n",
        "label_cols = ['Close']\n",
        "\n",
        "train_feature = train[feature_cols]\n",
        "train_label = train[label_cols]\n",
        "\n",
        "train_feature, train_label = make_dataset(train_feature, train_label, 20)\n",
        "\n",
        "from sklearn.model_selection import train_test_split\n",
        "x_train, x_valid, y_train, y_valid = train_test_split(train_feature, train_label, test_size=0.2,shuffle=False)\n",
        "\n",
        "print(x_train.shape, y_train.shape)\n",
        "print(x_valid.shape, y_valid.shape)"
      ],
      "execution_count": 20,
      "outputs": [
        {
          "output_type": "stream",
          "text": [
            "(376, 20, 18) (376, 1)\n",
            "(94, 20, 18) (94, 1)\n"
          ],
          "name": "stdout"
        }
      ]
    },
    {
      "cell_type": "code",
      "metadata": {
        "id": "ra-c3tKCuBi9",
        "colab_type": "code",
        "colab": {
          "base_uri": "https://localhost:8080/",
          "height": 34
        },
        "outputId": "62a3ecb5-b1fa-4d1e-dbe1-aa053f3bffc1"
      },
      "source": [
        "test_feature=test[feature_cols]\n",
        "test_label=test[label_cols]\n",
        "\n",
        "test_feature, test_label = make_dataset(test_feature, test_label, 20)\n",
        "test_feature.shape, test_label.shape"
      ],
      "execution_count": 21,
      "outputs": [
        {
          "output_type": "execute_result",
          "data": {
            "text/plain": [
              "((80, 20, 18), (80, 1))"
            ]
          },
          "metadata": {
            "tags": []
          },
          "execution_count": 21
        }
      ]
    },
    {
      "cell_type": "code",
      "metadata": {
        "id": "kTw_Pp_UuFhC",
        "colab_type": "code",
        "colab": {}
      },
      "source": [
        "model = Sequential()\n",
        "model.add(LSTM(16, \n",
        "               input_shape=(train_feature.shape[1], train_feature.shape[2]), \n",
        "               activation='relu', \n",
        "               return_sequences=False)\n",
        "          )\n",
        "model.add(Dense(1))"
      ],
      "execution_count": 22,
      "outputs": []
    },
    {
      "cell_type": "code",
      "metadata": {
        "id": "Ofyy9TCRuIOa",
        "colab_type": "code",
        "colab": {
          "base_uri": "https://localhost:8080/",
          "height": 218
        },
        "outputId": "56ef676c-e261-4b3c-ff3b-2aa213b11a75"
      },
      "source": [
        "model.summary()"
      ],
      "execution_count": 23,
      "outputs": [
        {
          "output_type": "stream",
          "text": [
            "Model: \"sequential\"\n",
            "_________________________________________________________________\n",
            "Layer (type)                 Output Shape              Param #   \n",
            "=================================================================\n",
            "lstm (LSTM)                  (None, 16)                2240      \n",
            "_________________________________________________________________\n",
            "dense (Dense)                (None, 1)                 17        \n",
            "=================================================================\n",
            "Total params: 2,257\n",
            "Trainable params: 2,257\n",
            "Non-trainable params: 0\n",
            "_________________________________________________________________\n"
          ],
          "name": "stdout"
        }
      ]
    },
    {
      "cell_type": "code",
      "metadata": {
        "id": "DltDBtPJuJKg",
        "colab_type": "code",
        "colab": {
          "base_uri": "https://localhost:8080/",
          "height": 1000
        },
        "outputId": "49013f11-fad8-4c6c-e984-8ad376f159f3"
      },
      "source": [
        "model.compile(loss='mse',optimizer='adam',metrics=['mse'])\n",
        "\n",
        "from keras.callbacks import EarlyStopping\n",
        "early_stopping=EarlyStopping(patience=20,monitor='val_loss')\n",
        "history=model.fit(x_train,y_train,epochs=100,batch_size=1,validation_split=0,callbacks=[early_stopping])"
      ],
      "execution_count": 24,
      "outputs": [
        {
          "output_type": "stream",
          "text": [
            "Epoch 1/100\n",
            "376/376 [==============================] - ETA: 0s - loss: 0.0081 - mse: 0.0081WARNING:tensorflow:Early stopping conditioned on metric `val_loss` which is not available. Available metrics are: loss,mse\n",
            "376/376 [==============================] - 2s 4ms/step - loss: 0.0081 - mse: 0.0081\n",
            "Epoch 2/100\n",
            "375/376 [============================>.] - ETA: 0s - loss: 0.0034 - mse: 0.0034WARNING:tensorflow:Early stopping conditioned on metric `val_loss` which is not available. Available metrics are: loss,mse\n",
            "376/376 [==============================] - 2s 5ms/step - loss: 0.0034 - mse: 0.0034\n",
            "Epoch 3/100\n",
            "365/376 [============================>.] - ETA: 0s - loss: 0.0028 - mse: 0.0028WARNING:tensorflow:Early stopping conditioned on metric `val_loss` which is not available. Available metrics are: loss,mse\n",
            "376/376 [==============================] - 2s 5ms/step - loss: 0.0028 - mse: 0.0028\n",
            "Epoch 4/100\n",
            "368/376 [============================>.] - ETA: 0s - loss: 0.0024 - mse: 0.0024WARNING:tensorflow:Early stopping conditioned on metric `val_loss` which is not available. Available metrics are: loss,mse\n",
            "376/376 [==============================] - 2s 5ms/step - loss: 0.0024 - mse: 0.0024\n",
            "Epoch 5/100\n",
            "374/376 [============================>.] - ETA: 0s - loss: 0.0021 - mse: 0.0021WARNING:tensorflow:Early stopping conditioned on metric `val_loss` which is not available. Available metrics are: loss,mse\n",
            "376/376 [==============================] - 2s 4ms/step - loss: 0.0021 - mse: 0.0021\n",
            "Epoch 6/100\n",
            "373/376 [============================>.] - ETA: 0s - loss: 0.0020 - mse: 0.0020WARNING:tensorflow:Early stopping conditioned on metric `val_loss` which is not available. Available metrics are: loss,mse\n",
            "376/376 [==============================] - 2s 4ms/step - loss: 0.0020 - mse: 0.0020\n",
            "Epoch 7/100\n",
            "368/376 [============================>.] - ETA: 0s - loss: 0.0018 - mse: 0.0018WARNING:tensorflow:Early stopping conditioned on metric `val_loss` which is not available. Available metrics are: loss,mse\n",
            "376/376 [==============================] - 2s 4ms/step - loss: 0.0018 - mse: 0.0018\n",
            "Epoch 8/100\n",
            "376/376 [==============================] - ETA: 0s - loss: 0.0019 - mse: 0.0019WARNING:tensorflow:Early stopping conditioned on metric `val_loss` which is not available. Available metrics are: loss,mse\n",
            "376/376 [==============================] - 2s 4ms/step - loss: 0.0019 - mse: 0.0019\n",
            "Epoch 9/100\n",
            "375/376 [============================>.] - ETA: 0s - loss: 0.0015 - mse: 0.0015WARNING:tensorflow:Early stopping conditioned on metric `val_loss` which is not available. Available metrics are: loss,mse\n",
            "376/376 [==============================] - 2s 4ms/step - loss: 0.0015 - mse: 0.0015\n",
            "Epoch 10/100\n",
            "368/376 [============================>.] - ETA: 0s - loss: 0.0016 - mse: 0.0016WARNING:tensorflow:Early stopping conditioned on metric `val_loss` which is not available. Available metrics are: loss,mse\n",
            "376/376 [==============================] - 2s 4ms/step - loss: 0.0016 - mse: 0.0016\n",
            "Epoch 11/100\n",
            "371/376 [============================>.] - ETA: 0s - loss: 0.0018 - mse: 0.0018WARNING:tensorflow:Early stopping conditioned on metric `val_loss` which is not available. Available metrics are: loss,mse\n",
            "376/376 [==============================] - 2s 5ms/step - loss: 0.0018 - mse: 0.0018\n",
            "Epoch 12/100\n",
            "373/376 [============================>.] - ETA: 0s - loss: 0.0014 - mse: 0.0014WARNING:tensorflow:Early stopping conditioned on metric `val_loss` which is not available. Available metrics are: loss,mse\n",
            "376/376 [==============================] - 2s 4ms/step - loss: 0.0015 - mse: 0.0015\n",
            "Epoch 13/100\n",
            "369/376 [============================>.] - ETA: 0s - loss: 0.0015 - mse: 0.0015WARNING:tensorflow:Early stopping conditioned on metric `val_loss` which is not available. Available metrics are: loss,mse\n",
            "376/376 [==============================] - 2s 4ms/step - loss: 0.0015 - mse: 0.0015\n",
            "Epoch 14/100\n",
            "366/376 [============================>.] - ETA: 0s - loss: 0.0014 - mse: 0.0014WARNING:tensorflow:Early stopping conditioned on metric `val_loss` which is not available. Available metrics are: loss,mse\n",
            "376/376 [==============================] - 2s 4ms/step - loss: 0.0014 - mse: 0.0014\n",
            "Epoch 15/100\n",
            "372/376 [============================>.] - ETA: 0s - loss: 0.0016 - mse: 0.0016WARNING:tensorflow:Early stopping conditioned on metric `val_loss` which is not available. Available metrics are: loss,mse\n",
            "376/376 [==============================] - 2s 4ms/step - loss: 0.0016 - mse: 0.0016\n",
            "Epoch 16/100\n",
            "376/376 [==============================] - ETA: 0s - loss: 0.0014 - mse: 0.0014WARNING:tensorflow:Early stopping conditioned on metric `val_loss` which is not available. Available metrics are: loss,mse\n",
            "376/376 [==============================] - 2s 4ms/step - loss: 0.0014 - mse: 0.0014\n",
            "Epoch 17/100\n",
            "372/376 [============================>.] - ETA: 0s - loss: 0.0013 - mse: 0.0013WARNING:tensorflow:Early stopping conditioned on metric `val_loss` which is not available. Available metrics are: loss,mse\n",
            "376/376 [==============================] - 2s 4ms/step - loss: 0.0013 - mse: 0.0013\n",
            "Epoch 18/100\n",
            "371/376 [============================>.] - ETA: 0s - loss: 0.0014 - mse: 0.0014WARNING:tensorflow:Early stopping conditioned on metric `val_loss` which is not available. Available metrics are: loss,mse\n",
            "376/376 [==============================] - 2s 4ms/step - loss: 0.0014 - mse: 0.0014\n",
            "Epoch 19/100\n",
            "375/376 [============================>.] - ETA: 0s - loss: 0.0012 - mse: 0.0012WARNING:tensorflow:Early stopping conditioned on metric `val_loss` which is not available. Available metrics are: loss,mse\n",
            "376/376 [==============================] - 2s 4ms/step - loss: 0.0012 - mse: 0.0012\n",
            "Epoch 20/100\n",
            "370/376 [============================>.] - ETA: 0s - loss: 0.0014 - mse: 0.0014WARNING:tensorflow:Early stopping conditioned on metric `val_loss` which is not available. Available metrics are: loss,mse\n",
            "376/376 [==============================] - 2s 4ms/step - loss: 0.0014 - mse: 0.0014\n",
            "Epoch 21/100\n",
            "375/376 [============================>.] - ETA: 0s - loss: 0.0013 - mse: 0.0013WARNING:tensorflow:Early stopping conditioned on metric `val_loss` which is not available. Available metrics are: loss,mse\n",
            "376/376 [==============================] - 2s 4ms/step - loss: 0.0013 - mse: 0.0013\n",
            "Epoch 22/100\n",
            "367/376 [============================>.] - ETA: 0s - loss: 0.0012 - mse: 0.0012WARNING:tensorflow:Early stopping conditioned on metric `val_loss` which is not available. Available metrics are: loss,mse\n",
            "376/376 [==============================] - 2s 4ms/step - loss: 0.0012 - mse: 0.0012\n",
            "Epoch 23/100\n",
            "367/376 [============================>.] - ETA: 0s - loss: 0.0013 - mse: 0.0013WARNING:tensorflow:Early stopping conditioned on metric `val_loss` which is not available. Available metrics are: loss,mse\n",
            "376/376 [==============================] - 2s 4ms/step - loss: 0.0013 - mse: 0.0013\n",
            "Epoch 24/100\n",
            "364/376 [============================>.] - ETA: 0s - loss: 0.0012 - mse: 0.0012WARNING:tensorflow:Early stopping conditioned on metric `val_loss` which is not available. Available metrics are: loss,mse\n",
            "376/376 [==============================] - 2s 4ms/step - loss: 0.0012 - mse: 0.0012\n",
            "Epoch 25/100\n",
            "373/376 [============================>.] - ETA: 0s - loss: 0.0013 - mse: 0.0013WARNING:tensorflow:Early stopping conditioned on metric `val_loss` which is not available. Available metrics are: loss,mse\n",
            "376/376 [==============================] - 2s 5ms/step - loss: 0.0013 - mse: 0.0013\n",
            "Epoch 26/100\n",
            "369/376 [============================>.] - ETA: 0s - loss: 0.0012 - mse: 0.0012WARNING:tensorflow:Early stopping conditioned on metric `val_loss` which is not available. Available metrics are: loss,mse\n",
            "376/376 [==============================] - 2s 5ms/step - loss: 0.0012 - mse: 0.0012\n",
            "Epoch 27/100\n",
            "376/376 [==============================] - ETA: 0s - loss: 0.0014 - mse: 0.0014WARNING:tensorflow:Early stopping conditioned on metric `val_loss` which is not available. Available metrics are: loss,mse\n",
            "376/376 [==============================] - 2s 5ms/step - loss: 0.0014 - mse: 0.0014\n",
            "Epoch 28/100\n",
            "376/376 [==============================] - ETA: 0s - loss: 0.0011 - mse: 0.0011WARNING:tensorflow:Early stopping conditioned on metric `val_loss` which is not available. Available metrics are: loss,mse\n",
            "376/376 [==============================] - 2s 4ms/step - loss: 0.0011 - mse: 0.0011\n",
            "Epoch 29/100\n",
            "373/376 [============================>.] - ETA: 0s - loss: 0.0012 - mse: 0.0012WARNING:tensorflow:Early stopping conditioned on metric `val_loss` which is not available. Available metrics are: loss,mse\n",
            "376/376 [==============================] - 2s 4ms/step - loss: 0.0012 - mse: 0.0012\n",
            "Epoch 30/100\n",
            "374/376 [============================>.] - ETA: 0s - loss: 0.0012 - mse: 0.0012WARNING:tensorflow:Early stopping conditioned on metric `val_loss` which is not available. Available metrics are: loss,mse\n",
            "376/376 [==============================] - 2s 4ms/step - loss: 0.0012 - mse: 0.0012\n",
            "Epoch 31/100\n",
            "375/376 [============================>.] - ETA: 0s - loss: 0.0012 - mse: 0.0012WARNING:tensorflow:Early stopping conditioned on metric `val_loss` which is not available. Available metrics are: loss,mse\n",
            "376/376 [==============================] - 2s 5ms/step - loss: 0.0012 - mse: 0.0012\n",
            "Epoch 32/100\n",
            "370/376 [============================>.] - ETA: 0s - loss: 0.0012 - mse: 0.0012WARNING:tensorflow:Early stopping conditioned on metric `val_loss` which is not available. Available metrics are: loss,mse\n",
            "376/376 [==============================] - 2s 4ms/step - loss: 0.0012 - mse: 0.0012\n",
            "Epoch 33/100\n",
            "374/376 [============================>.] - ETA: 0s - loss: 0.0012 - mse: 0.0012WARNING:tensorflow:Early stopping conditioned on metric `val_loss` which is not available. Available metrics are: loss,mse\n",
            "376/376 [==============================] - 2s 4ms/step - loss: 0.0012 - mse: 0.0012\n",
            "Epoch 34/100\n",
            "373/376 [============================>.] - ETA: 0s - loss: 0.0012 - mse: 0.0012WARNING:tensorflow:Early stopping conditioned on metric `val_loss` which is not available. Available metrics are: loss,mse\n",
            "376/376 [==============================] - 2s 5ms/step - loss: 0.0012 - mse: 0.0012\n",
            "Epoch 35/100\n",
            "366/376 [============================>.] - ETA: 0s - loss: 0.0012 - mse: 0.0012WARNING:tensorflow:Early stopping conditioned on metric `val_loss` which is not available. Available metrics are: loss,mse\n",
            "376/376 [==============================] - 2s 5ms/step - loss: 0.0012 - mse: 0.0012\n",
            "Epoch 36/100\n",
            "363/376 [===========================>..] - ETA: 0s - loss: 0.0011 - mse: 0.0011WARNING:tensorflow:Early stopping conditioned on metric `val_loss` which is not available. Available metrics are: loss,mse\n",
            "376/376 [==============================] - 2s 4ms/step - loss: 0.0011 - mse: 0.0011\n",
            "Epoch 37/100\n",
            "367/376 [============================>.] - ETA: 0s - loss: 0.0011 - mse: 0.0011WARNING:tensorflow:Early stopping conditioned on metric `val_loss` which is not available. Available metrics are: loss,mse\n",
            "376/376 [==============================] - 2s 5ms/step - loss: 0.0011 - mse: 0.0011\n",
            "Epoch 38/100\n",
            "369/376 [============================>.] - ETA: 0s - loss: 0.0012 - mse: 0.0012WARNING:tensorflow:Early stopping conditioned on metric `val_loss` which is not available. Available metrics are: loss,mse\n",
            "376/376 [==============================] - 2s 5ms/step - loss: 0.0012 - mse: 0.0012\n",
            "Epoch 39/100\n",
            "366/376 [============================>.] - ETA: 0s - loss: 0.0010 - mse: 0.0010WARNING:tensorflow:Early stopping conditioned on metric `val_loss` which is not available. Available metrics are: loss,mse\n",
            "376/376 [==============================] - 2s 4ms/step - loss: 0.0011 - mse: 0.0011\n",
            "Epoch 40/100\n",
            "375/376 [============================>.] - ETA: 0s - loss: 0.0011 - mse: 0.0011WARNING:tensorflow:Early stopping conditioned on metric `val_loss` which is not available. Available metrics are: loss,mse\n",
            "376/376 [==============================] - 2s 4ms/step - loss: 0.0010 - mse: 0.0010\n",
            "Epoch 41/100\n",
            "366/376 [============================>.] - ETA: 0s - loss: 0.0011 - mse: 0.0011WARNING:tensorflow:Early stopping conditioned on metric `val_loss` which is not available. Available metrics are: loss,mse\n",
            "376/376 [==============================] - 2s 5ms/step - loss: 0.0011 - mse: 0.0011\n",
            "Epoch 42/100\n",
            "369/376 [============================>.] - ETA: 0s - loss: 0.0011 - mse: 0.0011WARNING:tensorflow:Early stopping conditioned on metric `val_loss` which is not available. Available metrics are: loss,mse\n",
            "376/376 [==============================] - 2s 5ms/step - loss: 0.0011 - mse: 0.0011\n",
            "Epoch 43/100\n",
            "373/376 [============================>.] - ETA: 0s - loss: 0.0011 - mse: 0.0011WARNING:tensorflow:Early stopping conditioned on metric `val_loss` which is not available. Available metrics are: loss,mse\n",
            "376/376 [==============================] - 2s 4ms/step - loss: 0.0011 - mse: 0.0011\n",
            "Epoch 44/100\n",
            "376/376 [==============================] - ETA: 0s - loss: 0.0011 - mse: 0.0011WARNING:tensorflow:Early stopping conditioned on metric `val_loss` which is not available. Available metrics are: loss,mse\n",
            "376/376 [==============================] - 2s 5ms/step - loss: 0.0011 - mse: 0.0011\n",
            "Epoch 45/100\n",
            "367/376 [============================>.] - ETA: 0s - loss: 0.0011 - mse: 0.0011WARNING:tensorflow:Early stopping conditioned on metric `val_loss` which is not available. Available metrics are: loss,mse\n",
            "376/376 [==============================] - 2s 4ms/step - loss: 0.0011 - mse: 0.0011\n",
            "Epoch 46/100\n",
            "372/376 [============================>.] - ETA: 0s - loss: 0.0011 - mse: 0.0011WARNING:tensorflow:Early stopping conditioned on metric `val_loss` which is not available. Available metrics are: loss,mse\n",
            "376/376 [==============================] - 2s 4ms/step - loss: 0.0011 - mse: 0.0011\n",
            "Epoch 47/100\n",
            "375/376 [============================>.] - ETA: 0s - loss: 0.0011 - mse: 0.0011WARNING:tensorflow:Early stopping conditioned on metric `val_loss` which is not available. Available metrics are: loss,mse\n",
            "376/376 [==============================] - 2s 4ms/step - loss: 0.0011 - mse: 0.0011\n",
            "Epoch 48/100\n",
            "372/376 [============================>.] - ETA: 0s - loss: 0.0011 - mse: 0.0011WARNING:tensorflow:Early stopping conditioned on metric `val_loss` which is not available. Available metrics are: loss,mse\n",
            "376/376 [==============================] - 2s 5ms/step - loss: 0.0011 - mse: 0.0011\n",
            "Epoch 49/100\n",
            "365/376 [============================>.] - ETA: 0s - loss: 0.0010 - mse: 0.0010WARNING:tensorflow:Early stopping conditioned on metric `val_loss` which is not available. Available metrics are: loss,mse\n",
            "376/376 [==============================] - 2s 5ms/step - loss: 0.0010 - mse: 0.0010\n",
            "Epoch 50/100\n",
            "372/376 [============================>.] - ETA: 0s - loss: 0.0011 - mse: 0.0011WARNING:tensorflow:Early stopping conditioned on metric `val_loss` which is not available. Available metrics are: loss,mse\n",
            "376/376 [==============================] - 2s 4ms/step - loss: 0.0011 - mse: 0.0011\n",
            "Epoch 51/100\n",
            "376/376 [==============================] - ETA: 0s - loss: 0.0010 - mse: 0.0010WARNING:tensorflow:Early stopping conditioned on metric `val_loss` which is not available. Available metrics are: loss,mse\n",
            "376/376 [==============================] - 2s 4ms/step - loss: 0.0010 - mse: 0.0010\n",
            "Epoch 52/100\n",
            "368/376 [============================>.] - ETA: 0s - loss: 0.0011 - mse: 0.0011WARNING:tensorflow:Early stopping conditioned on metric `val_loss` which is not available. Available metrics are: loss,mse\n",
            "376/376 [==============================] - 2s 4ms/step - loss: 0.0011 - mse: 0.0011\n",
            "Epoch 53/100\n",
            "367/376 [============================>.] - ETA: 0s - loss: 0.0010 - mse: 0.0010WARNING:tensorflow:Early stopping conditioned on metric `val_loss` which is not available. Available metrics are: loss,mse\n",
            "376/376 [==============================] - 2s 5ms/step - loss: 0.0010 - mse: 0.0010\n",
            "Epoch 54/100\n",
            "373/376 [============================>.] - ETA: 0s - loss: 9.8909e-04 - mse: 9.8909e-04WARNING:tensorflow:Early stopping conditioned on metric `val_loss` which is not available. Available metrics are: loss,mse\n",
            "376/376 [==============================] - 2s 5ms/step - loss: 9.8198e-04 - mse: 9.8198e-04\n",
            "Epoch 55/100\n",
            "376/376 [==============================] - ETA: 0s - loss: 0.0010 - mse: 0.0010WARNING:tensorflow:Early stopping conditioned on metric `val_loss` which is not available. Available metrics are: loss,mse\n",
            "376/376 [==============================] - 2s 4ms/step - loss: 0.0010 - mse: 0.0010\n",
            "Epoch 56/100\n",
            "367/376 [============================>.] - ETA: 0s - loss: 0.0010 - mse: 0.0010WARNING:tensorflow:Early stopping conditioned on metric `val_loss` which is not available. Available metrics are: loss,mse\n",
            "376/376 [==============================] - 2s 4ms/step - loss: 0.0010 - mse: 0.0010\n",
            "Epoch 57/100\n",
            "368/376 [============================>.] - ETA: 0s - loss: 9.8823e-04 - mse: 9.8823e-04WARNING:tensorflow:Early stopping conditioned on metric `val_loss` which is not available. Available metrics are: loss,mse\n",
            "376/376 [==============================] - 2s 4ms/step - loss: 9.9261e-04 - mse: 9.9261e-04\n",
            "Epoch 58/100\n",
            "376/376 [==============================] - ETA: 0s - loss: 0.0010 - mse: 0.0010WARNING:tensorflow:Early stopping conditioned on metric `val_loss` which is not available. Available metrics are: loss,mse\n",
            "376/376 [==============================] - 2s 4ms/step - loss: 0.0010 - mse: 0.0010\n",
            "Epoch 59/100\n",
            "374/376 [============================>.] - ETA: 0s - loss: 0.0010 - mse: 0.0010WARNING:tensorflow:Early stopping conditioned on metric `val_loss` which is not available. Available metrics are: loss,mse\n",
            "376/376 [==============================] - 2s 4ms/step - loss: 0.0010 - mse: 0.0010\n",
            "Epoch 60/100\n",
            "371/376 [============================>.] - ETA: 0s - loss: 9.8678e-04 - mse: 9.8678e-04WARNING:tensorflow:Early stopping conditioned on metric `val_loss` which is not available. Available metrics are: loss,mse\n",
            "376/376 [==============================] - 2s 4ms/step - loss: 9.8047e-04 - mse: 9.8047e-04\n",
            "Epoch 61/100\n",
            "369/376 [============================>.] - ETA: 0s - loss: 9.6703e-04 - mse: 9.6703e-04WARNING:tensorflow:Early stopping conditioned on metric `val_loss` which is not available. Available metrics are: loss,mse\n",
            "376/376 [==============================] - 2s 5ms/step - loss: 9.7498e-04 - mse: 9.7498e-04\n",
            "Epoch 62/100\n",
            "372/376 [============================>.] - ETA: 0s - loss: 9.8257e-04 - mse: 9.8257e-04WARNING:tensorflow:Early stopping conditioned on metric `val_loss` which is not available. Available metrics are: loss,mse\n",
            "376/376 [==============================] - 2s 4ms/step - loss: 0.0010 - mse: 0.0010    \n",
            "Epoch 63/100\n",
            "370/376 [============================>.] - ETA: 0s - loss: 9.2713e-04 - mse: 9.2713e-04WARNING:tensorflow:Early stopping conditioned on metric `val_loss` which is not available. Available metrics are: loss,mse\n",
            "376/376 [==============================] - 2s 4ms/step - loss: 9.6256e-04 - mse: 9.6256e-04\n",
            "Epoch 64/100\n",
            "374/376 [============================>.] - ETA: 0s - loss: 9.1722e-04 - mse: 9.1722e-04WARNING:tensorflow:Early stopping conditioned on metric `val_loss` which is not available. Available metrics are: loss,mse\n",
            "376/376 [==============================] - 2s 4ms/step - loss: 9.1256e-04 - mse: 9.1256e-04\n",
            "Epoch 65/100\n",
            "367/376 [============================>.] - ETA: 0s - loss: 9.3821e-04 - mse: 9.3821e-04WARNING:tensorflow:Early stopping conditioned on metric `val_loss` which is not available. Available metrics are: loss,mse\n",
            "376/376 [==============================] - 2s 5ms/step - loss: 9.3219e-04 - mse: 9.3219e-04\n",
            "Epoch 66/100\n",
            "375/376 [============================>.] - ETA: 0s - loss: 9.2025e-04 - mse: 9.2025e-04WARNING:tensorflow:Early stopping conditioned on metric `val_loss` which is not available. Available metrics are: loss,mse\n",
            "376/376 [==============================] - 2s 4ms/step - loss: 9.1799e-04 - mse: 9.1799e-04\n",
            "Epoch 67/100\n",
            "374/376 [============================>.] - ETA: 0s - loss: 9.1855e-04 - mse: 9.1855e-04WARNING:tensorflow:Early stopping conditioned on metric `val_loss` which is not available. Available metrics are: loss,mse\n",
            "376/376 [==============================] - 2s 4ms/step - loss: 9.1426e-04 - mse: 9.1426e-04\n",
            "Epoch 68/100\n",
            "371/376 [============================>.] - ETA: 0s - loss: 0.0010 - mse: 0.0010WARNING:tensorflow:Early stopping conditioned on metric `val_loss` which is not available. Available metrics are: loss,mse\n",
            "376/376 [==============================] - 2s 4ms/step - loss: 0.0010 - mse: 0.0010\n",
            "Epoch 69/100\n",
            "376/376 [==============================] - ETA: 0s - loss: 9.2023e-04 - mse: 9.2023e-04WARNING:tensorflow:Early stopping conditioned on metric `val_loss` which is not available. Available metrics are: loss,mse\n",
            "376/376 [==============================] - 2s 4ms/step - loss: 9.2023e-04 - mse: 9.2023e-04\n",
            "Epoch 70/100\n",
            "373/376 [============================>.] - ETA: 0s - loss: 9.3492e-04 - mse: 9.3492e-04WARNING:tensorflow:Early stopping conditioned on metric `val_loss` which is not available. Available metrics are: loss,mse\n",
            "376/376 [==============================] - 2s 4ms/step - loss: 9.3290e-04 - mse: 9.3290e-04\n",
            "Epoch 71/100\n",
            "369/376 [============================>.] - ETA: 0s - loss: 9.2617e-04 - mse: 9.2617e-04WARNING:tensorflow:Early stopping conditioned on metric `val_loss` which is not available. Available metrics are: loss,mse\n",
            "376/376 [==============================] - 2s 4ms/step - loss: 9.1316e-04 - mse: 9.1316e-04\n",
            "Epoch 72/100\n",
            "370/376 [============================>.] - ETA: 0s - loss: 9.7013e-04 - mse: 9.7013e-04WARNING:tensorflow:Early stopping conditioned on metric `val_loss` which is not available. Available metrics are: loss,mse\n",
            "376/376 [==============================] - 2s 4ms/step - loss: 9.5900e-04 - mse: 9.5900e-04\n",
            "Epoch 73/100\n",
            "369/376 [============================>.] - ETA: 0s - loss: 9.7510e-04 - mse: 9.7510e-04WARNING:tensorflow:Early stopping conditioned on metric `val_loss` which is not available. Available metrics are: loss,mse\n",
            "376/376 [==============================] - 2s 5ms/step - loss: 9.6704e-04 - mse: 9.6704e-04\n",
            "Epoch 74/100\n",
            "372/376 [============================>.] - ETA: 0s - loss: 9.0558e-04 - mse: 9.0558e-04WARNING:tensorflow:Early stopping conditioned on metric `val_loss` which is not available. Available metrics are: loss,mse\n",
            "376/376 [==============================] - 2s 4ms/step - loss: 8.9993e-04 - mse: 8.9993e-04\n",
            "Epoch 75/100\n",
            "368/376 [============================>.] - ETA: 0s - loss: 9.4208e-04 - mse: 9.4208e-04WARNING:tensorflow:Early stopping conditioned on metric `val_loss` which is not available. Available metrics are: loss,mse\n",
            "376/376 [==============================] - 2s 4ms/step - loss: 9.4242e-04 - mse: 9.4242e-04\n",
            "Epoch 76/100\n",
            "371/376 [============================>.] - ETA: 0s - loss: 9.0304e-04 - mse: 9.0304e-04WARNING:tensorflow:Early stopping conditioned on metric `val_loss` which is not available. Available metrics are: loss,mse\n",
            "376/376 [==============================] - 2s 5ms/step - loss: 8.9499e-04 - mse: 8.9499e-04\n",
            "Epoch 77/100\n",
            "373/376 [============================>.] - ETA: 0s - loss: 9.0658e-04 - mse: 9.0658e-04WARNING:tensorflow:Early stopping conditioned on metric `val_loss` which is not available. Available metrics are: loss,mse\n",
            "376/376 [==============================] - 2s 5ms/step - loss: 9.0424e-04 - mse: 9.0424e-04\n",
            "Epoch 78/100\n",
            "372/376 [============================>.] - ETA: 0s - loss: 8.7398e-04 - mse: 8.7398e-04WARNING:tensorflow:Early stopping conditioned on metric `val_loss` which is not available. Available metrics are: loss,mse\n",
            "376/376 [==============================] - 3s 7ms/step - loss: 8.7536e-04 - mse: 8.7536e-04\n",
            "Epoch 79/100\n",
            "372/376 [============================>.] - ETA: 0s - loss: 9.1310e-04 - mse: 9.1310e-04WARNING:tensorflow:Early stopping conditioned on metric `val_loss` which is not available. Available metrics are: loss,mse\n",
            "376/376 [==============================] - 3s 7ms/step - loss: 9.0980e-04 - mse: 9.0980e-04\n",
            "Epoch 80/100\n",
            "374/376 [============================>.] - ETA: 0s - loss: 8.9786e-04 - mse: 8.9786e-04WARNING:tensorflow:Early stopping conditioned on metric `val_loss` which is not available. Available metrics are: loss,mse\n",
            "376/376 [==============================] - 2s 5ms/step - loss: 8.9417e-04 - mse: 8.9417e-04\n",
            "Epoch 81/100\n",
            "366/376 [============================>.] - ETA: 0s - loss: 9.0640e-04 - mse: 9.0640e-04WARNING:tensorflow:Early stopping conditioned on metric `val_loss` which is not available. Available metrics are: loss,mse\n",
            "376/376 [==============================] - 2s 4ms/step - loss: 9.1586e-04 - mse: 9.1586e-04\n",
            "Epoch 82/100\n",
            "368/376 [============================>.] - ETA: 0s - loss: 9.5280e-04 - mse: 9.5280e-04WARNING:tensorflow:Early stopping conditioned on metric `val_loss` which is not available. Available metrics are: loss,mse\n",
            "376/376 [==============================] - 2s 5ms/step - loss: 9.5660e-04 - mse: 9.5660e-04\n",
            "Epoch 83/100\n",
            "369/376 [============================>.] - ETA: 0s - loss: 9.1169e-04 - mse: 9.1169e-04WARNING:tensorflow:Early stopping conditioned on metric `val_loss` which is not available. Available metrics are: loss,mse\n",
            "376/376 [==============================] - 2s 5ms/step - loss: 9.0052e-04 - mse: 9.0052e-04\n",
            "Epoch 84/100\n",
            "366/376 [============================>.] - ETA: 0s - loss: 9.5795e-04 - mse: 9.5795e-04WARNING:tensorflow:Early stopping conditioned on metric `val_loss` which is not available. Available metrics are: loss,mse\n",
            "376/376 [==============================] - 2s 5ms/step - loss: 9.4780e-04 - mse: 9.4780e-04\n",
            "Epoch 85/100\n",
            "369/376 [============================>.] - ETA: 0s - loss: 9.1399e-04 - mse: 9.1399e-04WARNING:tensorflow:Early stopping conditioned on metric `val_loss` which is not available. Available metrics are: loss,mse\n",
            "376/376 [==============================] - 2s 5ms/step - loss: 9.0354e-04 - mse: 9.0354e-04\n",
            "Epoch 86/100\n",
            "373/376 [============================>.] - ETA: 0s - loss: 8.4434e-04 - mse: 8.4434e-04WARNING:tensorflow:Early stopping conditioned on metric `val_loss` which is not available. Available metrics are: loss,mse\n",
            "376/376 [==============================] - 2s 5ms/step - loss: 8.4772e-04 - mse: 8.4772e-04\n",
            "Epoch 87/100\n",
            "368/376 [============================>.] - ETA: 0s - loss: 9.5871e-04 - mse: 9.5871e-04WARNING:tensorflow:Early stopping conditioned on metric `val_loss` which is not available. Available metrics are: loss,mse\n",
            "376/376 [==============================] - 2s 5ms/step - loss: 9.4819e-04 - mse: 9.4819e-04\n",
            "Epoch 88/100\n",
            "370/376 [============================>.] - ETA: 0s - loss: 8.5759e-04 - mse: 8.5759e-04WARNING:tensorflow:Early stopping conditioned on metric `val_loss` which is not available. Available metrics are: loss,mse\n",
            "376/376 [==============================] - 2s 5ms/step - loss: 8.5620e-04 - mse: 8.5620e-04\n",
            "Epoch 89/100\n",
            "367/376 [============================>.] - ETA: 0s - loss: 9.3579e-04 - mse: 9.3579e-04WARNING:tensorflow:Early stopping conditioned on metric `val_loss` which is not available. Available metrics are: loss,mse\n",
            "376/376 [==============================] - 2s 5ms/step - loss: 9.3720e-04 - mse: 9.3720e-04\n",
            "Epoch 90/100\n",
            "373/376 [============================>.] - ETA: 0s - loss: 8.9394e-04 - mse: 8.9394e-04WARNING:tensorflow:Early stopping conditioned on metric `val_loss` which is not available. Available metrics are: loss,mse\n",
            "376/376 [==============================] - 2s 5ms/step - loss: 8.8847e-04 - mse: 8.8847e-04\n",
            "Epoch 91/100\n",
            "373/376 [============================>.] - ETA: 0s - loss: 8.4886e-04 - mse: 8.4886e-04WARNING:tensorflow:Early stopping conditioned on metric `val_loss` which is not available. Available metrics are: loss,mse\n",
            "376/376 [==============================] - 2s 5ms/step - loss: 8.4732e-04 - mse: 8.4732e-04\n",
            "Epoch 92/100\n",
            "370/376 [============================>.] - ETA: 0s - loss: 8.8937e-04 - mse: 8.8937e-04WARNING:tensorflow:Early stopping conditioned on metric `val_loss` which is not available. Available metrics are: loss,mse\n",
            "376/376 [==============================] - 2s 5ms/step - loss: 8.8282e-04 - mse: 8.8282e-04\n",
            "Epoch 93/100\n",
            "366/376 [============================>.] - ETA: 0s - loss: 8.6097e-04 - mse: 8.6097e-04WARNING:tensorflow:Early stopping conditioned on metric `val_loss` which is not available. Available metrics are: loss,mse\n",
            "376/376 [==============================] - 2s 5ms/step - loss: 8.4668e-04 - mse: 8.4668e-04\n",
            "Epoch 94/100\n",
            "371/376 [============================>.] - ETA: 0s - loss: 8.6414e-04 - mse: 8.6414e-04WARNING:tensorflow:Early stopping conditioned on metric `val_loss` which is not available. Available metrics are: loss,mse\n",
            "376/376 [==============================] - 2s 5ms/step - loss: 8.5639e-04 - mse: 8.5639e-04\n",
            "Epoch 95/100\n",
            "369/376 [============================>.] - ETA: 0s - loss: 8.2246e-04 - mse: 8.2246e-04WARNING:tensorflow:Early stopping conditioned on metric `val_loss` which is not available. Available metrics are: loss,mse\n",
            "376/376 [==============================] - 2s 4ms/step - loss: 8.1921e-04 - mse: 8.1921e-04\n",
            "Epoch 96/100\n",
            "367/376 [============================>.] - ETA: 0s - loss: 9.0072e-04 - mse: 9.0072e-04WARNING:tensorflow:Early stopping conditioned on metric `val_loss` which is not available. Available metrics are: loss,mse\n",
            "376/376 [==============================] - 2s 4ms/step - loss: 9.1478e-04 - mse: 9.1478e-04\n",
            "Epoch 97/100\n",
            "376/376 [==============================] - ETA: 0s - loss: 9.0667e-04 - mse: 9.0667e-04WARNING:tensorflow:Early stopping conditioned on metric `val_loss` which is not available. Available metrics are: loss,mse\n",
            "376/376 [==============================] - 2s 4ms/step - loss: 9.0667e-04 - mse: 9.0667e-04\n",
            "Epoch 98/100\n",
            "368/376 [============================>.] - ETA: 0s - loss: 8.6709e-04 - mse: 8.6709e-04WARNING:tensorflow:Early stopping conditioned on metric `val_loss` which is not available. Available metrics are: loss,mse\n",
            "376/376 [==============================] - 2s 5ms/step - loss: 8.6173e-04 - mse: 8.6173e-04\n",
            "Epoch 99/100\n",
            "375/376 [============================>.] - ETA: 0s - loss: 8.4837e-04 - mse: 8.4837e-04WARNING:tensorflow:Early stopping conditioned on metric `val_loss` which is not available. Available metrics are: loss,mse\n",
            "376/376 [==============================] - 2s 4ms/step - loss: 8.4663e-04 - mse: 8.4663e-04\n",
            "Epoch 100/100\n",
            "374/376 [============================>.] - ETA: 0s - loss: 9.2152e-04 - mse: 9.2152e-04WARNING:tensorflow:Early stopping conditioned on metric `val_loss` which is not available. Available metrics are: loss,mse\n",
            "376/376 [==============================] - 2s 4ms/step - loss: 9.2267e-04 - mse: 9.2267e-04\n"
          ],
          "name": "stdout"
        }
      ]
    },
    {
      "cell_type": "code",
      "metadata": {
        "id": "xq-yDkgIuNJj",
        "colab_type": "code",
        "colab": {}
      },
      "source": [
        "pred=model.predict(test_feature)"
      ],
      "execution_count": 25,
      "outputs": []
    },
    {
      "cell_type": "code",
      "metadata": {
        "id": "6g-HytOruPz0",
        "colab_type": "code",
        "colab": {
          "base_uri": "https://localhost:8080/",
          "height": 34
        },
        "outputId": "bcb48ab0-45c4-4d5c-a1d2-15dd40aa00d6"
      },
      "source": [
        "pred.shape"
      ],
      "execution_count": 26,
      "outputs": [
        {
          "output_type": "execute_result",
          "data": {
            "text/plain": [
              "(80, 1)"
            ]
          },
          "metadata": {
            "tags": []
          },
          "execution_count": 26
        }
      ]
    },
    {
      "cell_type": "code",
      "metadata": {
        "id": "OwvzgLADuROL",
        "colab_type": "code",
        "colab": {
          "base_uri": "https://localhost:8080/",
          "height": 362
        },
        "outputId": "1ffce171-8fbb-4fc3-911e-695d321eb334"
      },
      "source": [
        "plt.figure(figsize=(12, 6))\n",
        "plt.plot(test_label, label='actual')\n",
        "plt.plot(pred, label='prediction')\n",
        "plt.legend()\n",
        "plt.grid(ls='--')\n",
        "plt.show()"
      ],
      "execution_count": 27,
      "outputs": [
        {
          "output_type": "stream",
          "text": [
            "findfont: Font family ['NanumBarunGothic'] not found. Falling back to DejaVu Sans.\n"
          ],
          "name": "stderr"
        },
        {
          "output_type": "display_data",
          "data": {
            "image/png": "[encoded data removed]",
            "text/plain": [
              "<Figure size 864x432 with 1 Axes>"
            ]
          },
          "metadata": {
            "tags": [],
            "needs_background": "light"
          }
        }
      ]
    },
    {
      "cell_type": "code",
      "metadata": {
        "id": "G--TSqgauTud",
        "colab_type": "code",
        "colab": {
          "base_uri": "https://localhost:8080/",
          "height": 362
        },
        "outputId": "8f2fed50-46db-4d12-d795-74c59380344d"
      },
      "source": [
        "plt.figure(figsize=(12, 6))\n",
        "plt.plot(test_label, label='actual')\n",
        "plt.plot(pred, label='prediction')\n",
        "plt.plot(np.sqrt((pred - test_label)**2), label='Difference')\n",
        "plt.legend(frameon=False, fontsize = 15)\n",
        "plt.grid(ls='--')\n",
        "plt.show()"
      ],
      "execution_count": 28,
      "outputs": [
        {
          "output_type": "stream",
          "text": [
            "findfont: Font family ['NanumBarunGothic'] not found. Falling back to DejaVu Sans.\n"
          ],
          "name": "stderr"
        },
        {
          "output_type": "display_data",
          "data": {
            "image/png": "[encoded data removed]",
            "text/plain": [
              "<Figure size 864x432 with 1 Axes>"
            ]
          },
          "metadata": {
            "tags": [],
            "needs_background": "light"
          }
        }
      ]
    },
    {
      "cell_type": "code",
      "metadata": {
        "id": "DnfcIUn0uX19",
        "colab_type": "code",
        "colab": {
          "base_uri": "https://localhost:8080/",
          "height": 279
        },
        "outputId": "8add8683-682e-4d4f-dc17-4d5141edaf05"
      },
      "source": [
        "#훈련 손실값loss\n",
        "fig, loss_ax=plt.subplots()\n",
        "loss_ax.plot(history.history['loss'], 'b', label='train loss')\n",
        "loss_ax.set_xlabel('epoch')\n",
        "loss_ax.set_ylabel('loss')\n",
        "plt.show()"
      ],
      "execution_count": 29,
      "outputs": [
        {
          "output_type": "display_data",
          "data": {
            "image/png": "[encoded data removed]",
            "text/plain": [
              "<Figure size 432x288 with 1 Axes>"
            ]
          },
          "metadata": {
            "tags": [],
            "needs_background": "light"
          }
        }
      ]
    },
    {
      "cell_type": "code",
      "metadata": {
        "id": "9nXVHft9uYeB",
        "colab_type": "code",
        "colab": {
          "base_uri": "https://localhost:8080/",
          "height": 34
        },
        "outputId": "0c9b82b5-8d91-4571-d26f-c4c5660beeee"
      },
      "source": [
        "mse=mean_squared_error(test_label, pred)\n",
        "rmse=np.sqrt(mse)\n",
        "rmse"
      ],
      "execution_count": 30,
      "outputs": [
        {
          "output_type": "execute_result",
          "data": {
            "text/plain": [
              "0.1869604507201456"
            ]
          },
          "metadata": {
            "tags": []
          },
          "execution_count": 30
        }
      ]
    },
    {
      "cell_type": "code",
      "metadata": {
        "id": "4tYBg7koua8R",
        "colab_type": "code",
        "colab": {
          "base_uri": "https://localhost:8080/",
          "height": 1000
        },
        "outputId": "5967a0f9-641a-4015-fd37-861f56ac97e0"
      },
      "source": [
        "print(pred)"
      ],
      "execution_count": 31,
      "outputs": [
        {
          "output_type": "stream",
          "text": [
            "[[0.42998597]\n",
            " [0.4226103 ]\n",
            " [0.5086685 ]\n",
            " [0.45752928]\n",
            " [0.45051023]\n",
            " [0.32904676]\n",
            " [0.41438645]\n",
            " [0.30159456]\n",
            " [0.20527408]\n",
            " [0.26493755]\n",
            " [0.17228219]\n",
            " [0.2152234 ]\n",
            " [0.1354334 ]\n",
            " [0.11505499]\n",
            " [0.09193501]\n",
            " [0.07372748]\n",
            " [0.18774576]\n",
            " [0.22429875]\n",
            " [0.28376845]\n",
            " [0.22426541]\n",
            " [0.24832788]\n",
            " [0.23663789]\n",
            " [0.19141087]\n",
            " [0.22117478]\n",
            " [0.21506242]\n",
            " [0.3280015 ]\n",
            " [0.30365074]\n",
            " [0.32085693]\n",
            " [0.3192026 ]\n",
            " [0.3083186 ]\n",
            " [0.3611604 ]\n",
            " [0.32230192]\n",
            " [0.41185713]\n",
            " [0.33996993]\n",
            " [0.28481886]\n",
            " [0.3548561 ]\n",
            " [0.3417572 ]\n",
            " [0.33767852]\n",
            " [0.3652205 ]\n",
            " [0.3417523 ]\n",
            " [0.40979967]\n",
            " [0.29138944]\n",
            " [0.35068908]\n",
            " [0.34608626]\n",
            " [0.34973514]\n",
            " [0.32823196]\n",
            " [0.29149476]\n",
            " [0.30672017]\n",
            " [0.32061347]\n",
            " [0.30322438]\n",
            " [0.2873488 ]\n",
            " [0.3747969 ]\n",
            " [0.3815527 ]\n",
            " [0.35686624]\n",
            " [0.34166342]\n",
            " [0.35968572]\n",
            " [0.36934212]\n",
            " [0.38161254]\n",
            " [0.38781694]\n",
            " [0.4054983 ]\n",
            " [0.41929382]\n",
            " [0.47997838]\n",
            " [0.49611428]\n",
            " [0.48671815]\n",
            " [0.48830125]\n",
            " [0.49870834]\n",
            " [0.5129838 ]\n",
            " [0.3925642 ]\n",
            " [0.4317762 ]\n",
            " [0.38674325]\n",
            " [0.44006616]\n",
            " [0.43778616]\n",
            " [0.43371543]\n",
            " [0.4435687 ]\n",
            " [0.4531103 ]\n",
            " [0.4304236 ]\n",
            " [0.45012823]\n",
            " [0.4485112 ]\n",
            " [0.4528351 ]\n",
            " [0.42309958]]\n"
          ],
          "name": "stdout"
        }
      ]
    },
    {
      "cell_type": "code",
      "metadata": {
        "id": "2QXtvD59vBfv",
        "colab_type": "code",
        "colab": {
          "base_uri": "https://localhost:8080/",
          "height": 50
        },
        "outputId": "78627895-8c86-46c1-e0e1-94220c83d825"
      },
      "source": [
        "loss, mae=model.evaluate(x_train, y_train, batch_size=1)\n",
        "print(loss, mae)\n",
        "#mae는 오차의 절대값: 0이 제일 정확"
      ],
      "execution_count": 32,
      "outputs": [
        {
          "output_type": "stream",
          "text": [
            "376/376 [==============================] - 1s 2ms/step - loss: 0.0012 - mse: 0.0012\n",
            "0.0011777294566854835 0.0011777294566854835\n"
          ],
          "name": "stdout"
        }
      ]
    },
    {
      "cell_type": "code",
      "metadata": {
        "id": "SVI-yRedvEXn",
        "colab_type": "code",
        "colab": {
          "base_uri": "https://localhost:8080/",
          "height": 342
        },
        "outputId": "530fe73d-48d3-4721-b975-c4e7cff8018a"
      },
      "source": [
        "%matplotlib inline\n",
        "import matplotlib.pyplot as plt\n",
        "\n",
        "plt.scatter(test_label, pred)\n",
        "plt.xlabel(\"Price Index: $Y_i$\")\n",
        "plt.ylabel(\"Predicted price Index: $\\hat{Y}_i$\")\n",
        "plt.title(\"Prices vs Predicted price Index: $Y_i$ vs $\\hat{Y}_i$\")\n",
        "#예측값과 원래값이 일치하면 직선에 가깝게 분포됨"
      ],
      "execution_count": 33,
      "outputs": [
        {
          "output_type": "execute_result",
          "data": {
            "text/plain": [
              "Text(0.5, 1.0, 'Prices vs Predicted price Index: $Y_i$ vs $\\\\hat{Y}_i$')"
            ]
          },
          "metadata": {
            "tags": []
          },
          "execution_count": 33
        },
        {
          "output_type": "stream",
          "text": [
            "findfont: Font family ['NanumBarunGothic'] not found. Falling back to DejaVu Sans.\n"
          ],
          "name": "stderr"
        },
        {
          "output_type": "display_data",
          "data": {
            "image/png": "[encoded data removed]",
            "text/plain": [
              "<Figure size 432x288 with 1 Axes>"
            ]
          },
          "metadata": {
            "tags": [],
            "needs_background": "light"
          }
        }
      ]
    },
    {
      "cell_type": "code",
      "metadata": {
        "id": "fffjkWaTvG0N",
        "colab_type": "code",
        "colab": {
          "base_uri": "https://localhost:8080/",
          "height": 67
        },
        "outputId": "c5c55a85-1f08-4da5-ef89-7c6abd8f6b83"
      },
      "source": [
        "trainScore = model.evaluate(x_train, y_train, verbose=0)\n",
        "print('Train Score: ', trainScore)\n",
        "valScore = model.evaluate(x_valid, y_valid, verbose=0)\n",
        "print('Validataion Score: ', valScore)\n",
        "testScore = model.evaluate(test_feature,test_label, verbose=0)\n",
        "print('Test Score: ', testScore)"
      ],
      "execution_count": 34,
      "outputs": [
        {
          "output_type": "stream",
          "text": [
            "Train Score:  [0.001177729107439518, 0.001177729107439518]\n",
            "Validataion Score:  [0.02965240553021431, 0.02965240553021431]\n",
            "Test Score:  [0.03495421260595322, 0.03495421260595322]\n"
          ],
          "name": "stdout"
        }
      ]
    },
    {
      "cell_type": "code",
      "metadata": {
        "id": "kUWCWvRgvI7Z",
        "colab_type": "code",
        "colab": {}
      },
      "source": [
        ""
      ],
      "execution_count": null,
      "outputs": []
    }
  ]
}