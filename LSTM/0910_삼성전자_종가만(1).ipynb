{
  "nbformat": 4,
  "nbformat_minor": 0,
  "metadata": {
    "colab": {
      "name": "0910_삼성전자 종가만(1)",
      "provenance": [],
      "collapsed_sections": []
    },
    "kernelspec": {
      "name": "python3",
      "display_name": "Python 3"
    }
  },
  "cells": [
    {
      "cell_type": "code",
      "metadata": {
        "id": "kciG7SgdRzbV",
        "colab_type": "code",
        "colab": {
          "base_uri": "https://localhost:8080/",
          "height": 70
        },
        "outputId": "d4bedf8a-9644-440f-89f0-a5eb8d7e247b"
      },
      "source": [
        "import numpy as np\n",
        "import pandas as pd\n",
        "import matplotlib as mpl\n",
        "import matplotlib.pyplot as plt\n",
        "import seaborn as sns\n",
        "import warnings\n",
        "warnings.filterwarnings('ignore')\n",
        "mpl.rcParams[\"font.family\"] = 'NanumBarunGothic'\n",
        "mpl.rcParams['axes.unicode_minus'] = False\n",
        "%matplotlib inline"
      ],
      "execution_count": 1,
      "outputs": [
        {
          "output_type": "stream",
          "text": [
            "/usr/local/lib/python3.6/dist-packages/statsmodels/tools/_testing.py:19: FutureWarning: pandas.util.testing is deprecated. Use the functions in the public API at pandas.testing instead.\n",
            "  import pandas.util.testing as tm\n"
          ],
          "name": "stderr"
        }
      ]
    },
    {
      "cell_type": "code",
      "metadata": {
        "id": "sqsnvYiaSQlG",
        "colab_type": "code",
        "colab": {}
      },
      "source": [
        "from keras.models import Sequential\n",
        "from keras.layers import Dense, LSTM\n",
        "from sklearn.preprocessing import MinMaxScaler\n",
        "from sklearn.metrics import mean_squared_error"
      ],
      "execution_count": 2,
      "outputs": []
    },
    {
      "cell_type": "code",
      "metadata": {
        "id": "6a69xieeSZkM",
        "colab_type": "code",
        "colab": {
          "resources": {
            "http://localhost:8080/nbextensions/google.colab/files.js": {
              "data": "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",
              "ok": true,
              "headers": [
                [
                  "content-type",
                  "application/javascript"
                ]
              ],
              "status": 200,
              "status_text": ""
            }
          },
          "base_uri": "https://localhost:8080/",
          "height": 75
        },
        "outputId": "502e373c-6793-4e03-befe-3343d8e8f558"
      },
      "source": [
        "from google.colab import files\n",
        "uploaded=files.upload()"
      ],
      "execution_count": 29,
      "outputs": [
        {
          "output_type": "display_data",
          "data": {
            "text/html": [
              "\n",
              "     <input type=\"file\" id=\"files-4db38102-3559-4c16-b021-a0459f85ec22\" name=\"files[]\" multiple disabled\n",
              "        style=\"border:none\" />\n",
              "     <output id=\"result-4db38102-3559-4c16-b021-a0459f85ec22\">\n",
              "      Upload widget is only available when the cell has been executed in the\n",
              "      current browser session. Please rerun this cell to enable.\n",
              "      </output>\n",
              "      <script src=\"/nbextensions/google.colab/files.js\"></script> "
            ],
            "text/plain": [
              "<IPython.core.display.HTML object>"
            ]
          },
          "metadata": {
            "tags": []
          }
        },
        {
          "output_type": "stream",
          "text": [
            "Saving sse.csv to sse.csv\n"
          ],
          "name": "stdout"
        }
      ]
    },
    {
      "cell_type": "code",
      "metadata": {
        "id": "YVmkqVKVSbXM",
        "colab_type": "code",
        "colab": {}
      },
      "source": [
        "import io\n",
        "data=pd.read_csv(io.BytesIO(uploaded['sse.csv']))"
      ],
      "execution_count": 30,
      "outputs": []
    },
    {
      "cell_type": "code",
      "metadata": {
        "id": "udrBWrQOSsls",
        "colab_type": "code",
        "colab": {
          "base_uri": "https://localhost:8080/",
          "height": 195
        },
        "outputId": "f29743e4-4fc2-4487-e849-d481b6bd4e60"
      },
      "source": [
        "data.head()"
      ],
      "execution_count": 31,
      "outputs": [
        {
          "output_type": "execute_result",
          "data": {
            "text/html": [
              "<div>\n",
              "<style scoped>\n",
              "    .dataframe tbody tr th:only-of-type {\n",
              "        vertical-align: middle;\n",
              "    }\n",
              "\n",
              "    .dataframe tbody tr th {\n",
              "        vertical-align: top;\n",
              "    }\n",
              "\n",
              "    .dataframe thead th {\n",
              "        text-align: right;\n",
              "    }\n",
              "</style>\n",
              "<table border=\"1\" class=\"dataframe\">\n",
              "  <thead>\n",
              "    <tr style=\"text-align: right;\">\n",
              "      <th></th>\n",
              "      <th>Date</th>\n",
              "      <th>Open</th>\n",
              "      <th>High</th>\n",
              "      <th>Low</th>\n",
              "      <th>Close</th>\n",
              "      <th>Volume</th>\n",
              "      <th>Change</th>\n",
              "    </tr>\n",
              "  </thead>\n",
              "  <tbody>\n",
              "    <tr>\n",
              "      <th>0</th>\n",
              "      <td>2018-01-02</td>\n",
              "      <td>51380</td>\n",
              "      <td>51400</td>\n",
              "      <td>50780</td>\n",
              "      <td>51020</td>\n",
              "      <td>169485</td>\n",
              "      <td>0.001177</td>\n",
              "    </tr>\n",
              "    <tr>\n",
              "      <th>1</th>\n",
              "      <td>2018-01-03</td>\n",
              "      <td>52540</td>\n",
              "      <td>52560</td>\n",
              "      <td>51420</td>\n",
              "      <td>51620</td>\n",
              "      <td>200270</td>\n",
              "      <td>0.011760</td>\n",
              "    </tr>\n",
              "    <tr>\n",
              "      <th>2</th>\n",
              "      <td>2018-01-04</td>\n",
              "      <td>52120</td>\n",
              "      <td>52180</td>\n",
              "      <td>50640</td>\n",
              "      <td>51080</td>\n",
              "      <td>233909</td>\n",
              "      <td>-0.010461</td>\n",
              "    </tr>\n",
              "    <tr>\n",
              "      <th>3</th>\n",
              "      <td>2018-01-05</td>\n",
              "      <td>51300</td>\n",
              "      <td>52120</td>\n",
              "      <td>51200</td>\n",
              "      <td>52120</td>\n",
              "      <td>189623</td>\n",
              "      <td>0.020360</td>\n",
              "    </tr>\n",
              "    <tr>\n",
              "      <th>4</th>\n",
              "      <td>2018-01-08</td>\n",
              "      <td>52400</td>\n",
              "      <td>52520</td>\n",
              "      <td>51500</td>\n",
              "      <td>52020</td>\n",
              "      <td>167673</td>\n",
              "      <td>-0.001919</td>\n",
              "    </tr>\n",
              "  </tbody>\n",
              "</table>\n",
              "</div>"
            ],
            "text/plain": [
              "         Date   Open   High    Low  Close  Volume    Change\n",
              "0  2018-01-02  51380  51400  50780  51020  169485  0.001177\n",
              "1  2018-01-03  52540  52560  51420  51620  200270  0.011760\n",
              "2  2018-01-04  52120  52180  50640  51080  233909 -0.010461\n",
              "3  2018-01-05  51300  52120  51200  52120  189623  0.020360\n",
              "4  2018-01-08  52400  52520  51500  52020  167673 -0.001919"
            ]
          },
          "metadata": {
            "tags": []
          },
          "execution_count": 31
        }
      ]
    },
    {
      "cell_type": "code",
      "metadata": {
        "id": "ruH7ysyxVmZR",
        "colab_type": "code",
        "colab": {
          "base_uri": "https://localhost:8080/",
          "height": 195
        },
        "outputId": "a6752e4e-cf9b-433f-b6a5-f132663183d8"
      },
      "source": [
        "df=data\n",
        "df.head()"
      ],
      "execution_count": 32,
      "outputs": [
        {
          "output_type": "execute_result",
          "data": {
            "text/html": [
              "<div>\n",
              "<style scoped>\n",
              "    .dataframe tbody tr th:only-of-type {\n",
              "        vertical-align: middle;\n",
              "    }\n",
              "\n",
              "    .dataframe tbody tr th {\n",
              "        vertical-align: top;\n",
              "    }\n",
              "\n",
              "    .dataframe thead th {\n",
              "        text-align: right;\n",
              "    }\n",
              "</style>\n",
              "<table border=\"1\" class=\"dataframe\">\n",
              "  <thead>\n",
              "    <tr style=\"text-align: right;\">\n",
              "      <th></th>\n",
              "      <th>Date</th>\n",
              "      <th>Open</th>\n",
              "      <th>High</th>\n",
              "      <th>Low</th>\n",
              "      <th>Close</th>\n",
              "      <th>Volume</th>\n",
              "      <th>Change</th>\n",
              "    </tr>\n",
              "  </thead>\n",
              "  <tbody>\n",
              "    <tr>\n",
              "      <th>0</th>\n",
              "      <td>2018-01-02</td>\n",
              "      <td>51380</td>\n",
              "      <td>51400</td>\n",
              "      <td>50780</td>\n",
              "      <td>51020</td>\n",
              "      <td>169485</td>\n",
              "      <td>0.001177</td>\n",
              "    </tr>\n",
              "    <tr>\n",
              "      <th>1</th>\n",
              "      <td>2018-01-03</td>\n",
              "      <td>52540</td>\n",
              "      <td>52560</td>\n",
              "      <td>51420</td>\n",
              "      <td>51620</td>\n",
              "      <td>200270</td>\n",
              "      <td>0.011760</td>\n",
              "    </tr>\n",
              "    <tr>\n",
              "      <th>2</th>\n",
              "      <td>2018-01-04</td>\n",
              "      <td>52120</td>\n",
              "      <td>52180</td>\n",
              "      <td>50640</td>\n",
              "      <td>51080</td>\n",
              "      <td>233909</td>\n",
              "      <td>-0.010461</td>\n",
              "    </tr>\n",
              "    <tr>\n",
              "      <th>3</th>\n",
              "      <td>2018-01-05</td>\n",
              "      <td>51300</td>\n",
              "      <td>52120</td>\n",
              "      <td>51200</td>\n",
              "      <td>52120</td>\n",
              "      <td>189623</td>\n",
              "      <td>0.020360</td>\n",
              "    </tr>\n",
              "    <tr>\n",
              "      <th>4</th>\n",
              "      <td>2018-01-08</td>\n",
              "      <td>52400</td>\n",
              "      <td>52520</td>\n",
              "      <td>51500</td>\n",
              "      <td>52020</td>\n",
              "      <td>167673</td>\n",
              "      <td>-0.001919</td>\n",
              "    </tr>\n",
              "  </tbody>\n",
              "</table>\n",
              "</div>"
            ],
            "text/plain": [
              "         Date   Open   High    Low  Close  Volume    Change\n",
              "0  2018-01-02  51380  51400  50780  51020  169485  0.001177\n",
              "1  2018-01-03  52540  52560  51420  51620  200270  0.011760\n",
              "2  2018-01-04  52120  52180  50640  51080  233909 -0.010461\n",
              "3  2018-01-05  51300  52120  51200  52120  189623  0.020360\n",
              "4  2018-01-08  52400  52520  51500  52020  167673 -0.001919"
            ]
          },
          "metadata": {
            "tags": []
          },
          "execution_count": 32
        }
      ]
    },
    {
      "cell_type": "code",
      "metadata": {
        "id": "d854WgP1WGMr",
        "colab_type": "code",
        "colab": {}
      },
      "source": [
        "df=df[df['Open']!=0]"
      ],
      "execution_count": 33,
      "outputs": []
    },
    {
      "cell_type": "code",
      "metadata": {
        "id": "Bc7W7tLFWOyn",
        "colab_type": "code",
        "colab": {}
      },
      "source": [
        "#df.drop('Open', axis=1, inplace=True)\n",
        "df.drop('High', axis=1, inplace=True)\n",
        "df.drop('Low', axis=1, inplace=True)\n",
        "df.drop('Volume', axis=1, inplace=True)\n",
        "df.drop('Change', axis=1, inplace=True)\n"
      ],
      "execution_count": 37,
      "outputs": []
    },
    {
      "cell_type": "code",
      "metadata": {
        "id": "47bkN_D4WSt_",
        "colab_type": "code",
        "colab": {
          "base_uri": "https://localhost:8080/",
          "height": 225
        },
        "outputId": "5911851d-ba6a-4fd1-c2ea-54e9a26eb42e"
      },
      "source": [
        "df.index=pd.to_datetime(df.Date)\n",
        "df.drop('Date',axis=1,inplace=True)\n",
        "df=df['2018-01-01':]\n",
        "df.head()"
      ],
      "execution_count": 38,
      "outputs": [
        {
          "output_type": "execute_result",
          "data": {
            "text/html": [
              "<div>\n",
              "<style scoped>\n",
              "    .dataframe tbody tr th:only-of-type {\n",
              "        vertical-align: middle;\n",
              "    }\n",
              "\n",
              "    .dataframe tbody tr th {\n",
              "        vertical-align: top;\n",
              "    }\n",
              "\n",
              "    .dataframe thead th {\n",
              "        text-align: right;\n",
              "    }\n",
              "</style>\n",
              "<table border=\"1\" class=\"dataframe\">\n",
              "  <thead>\n",
              "    <tr style=\"text-align: right;\">\n",
              "      <th></th>\n",
              "      <th>Close</th>\n",
              "    </tr>\n",
              "    <tr>\n",
              "      <th>Date</th>\n",
              "      <th></th>\n",
              "    </tr>\n",
              "  </thead>\n",
              "  <tbody>\n",
              "    <tr>\n",
              "      <th>2018-01-02</th>\n",
              "      <td>51020</td>\n",
              "    </tr>\n",
              "    <tr>\n",
              "      <th>2018-01-03</th>\n",
              "      <td>51620</td>\n",
              "    </tr>\n",
              "    <tr>\n",
              "      <th>2018-01-04</th>\n",
              "      <td>51080</td>\n",
              "    </tr>\n",
              "    <tr>\n",
              "      <th>2018-01-05</th>\n",
              "      <td>52120</td>\n",
              "    </tr>\n",
              "    <tr>\n",
              "      <th>2018-01-08</th>\n",
              "      <td>52020</td>\n",
              "    </tr>\n",
              "  </tbody>\n",
              "</table>\n",
              "</div>"
            ],
            "text/plain": [
              "            Close\n",
              "Date             \n",
              "2018-01-02  51020\n",
              "2018-01-03  51620\n",
              "2018-01-04  51080\n",
              "2018-01-05  52120\n",
              "2018-01-08  52020"
            ]
          },
          "metadata": {
            "tags": []
          },
          "execution_count": 38
        }
      ]
    },
    {
      "cell_type": "code",
      "metadata": {
        "id": "9MlmPMtJWyvK",
        "colab_type": "code",
        "colab": {
          "base_uri": "https://localhost:8080/",
          "height": 195
        },
        "outputId": "002bcdf6-a138-4324-f700-3bcd17db3040"
      },
      "source": [
        "scaler=MinMaxScaler()\n",
        "df_scaled = scaler.fit_transform(df)\n",
        "scale_cols=['Close']\n",
        "\n",
        "df_scaled = pd.DataFrame(df_scaled)\n",
        "df_scaled.columns = scale_cols\n",
        "\n",
        "df_scaled.head()"
      ],
      "execution_count": 40,
      "outputs": [
        {
          "output_type": "execute_result",
          "data": {
            "text/html": [
              "<div>\n",
              "<style scoped>\n",
              "    .dataframe tbody tr th:only-of-type {\n",
              "        vertical-align: middle;\n",
              "    }\n",
              "\n",
              "    .dataframe tbody tr th {\n",
              "        vertical-align: top;\n",
              "    }\n",
              "\n",
              "    .dataframe thead th {\n",
              "        text-align: right;\n",
              "    }\n",
              "</style>\n",
              "<table border=\"1\" class=\"dataframe\">\n",
              "  <thead>\n",
              "    <tr style=\"text-align: right;\">\n",
              "      <th></th>\n",
              "      <th>Close</th>\n",
              "    </tr>\n",
              "  </thead>\n",
              "  <tbody>\n",
              "    <tr>\n",
              "      <th>0</th>\n",
              "      <td>0.543888</td>\n",
              "    </tr>\n",
              "    <tr>\n",
              "      <th>1</th>\n",
              "      <td>0.567936</td>\n",
              "    </tr>\n",
              "    <tr>\n",
              "      <th>2</th>\n",
              "      <td>0.546293</td>\n",
              "    </tr>\n",
              "    <tr>\n",
              "      <th>3</th>\n",
              "      <td>0.587976</td>\n",
              "    </tr>\n",
              "    <tr>\n",
              "      <th>4</th>\n",
              "      <td>0.583968</td>\n",
              "    </tr>\n",
              "  </tbody>\n",
              "</table>\n",
              "</div>"
            ],
            "text/plain": [
              "      Close\n",
              "0  0.543888\n",
              "1  0.567936\n",
              "2  0.546293\n",
              "3  0.587976\n",
              "4  0.583968"
            ]
          },
          "metadata": {
            "tags": []
          },
          "execution_count": 40
        }
      ]
    },
    {
      "cell_type": "code",
      "metadata": {
        "id": "HPRx7OWJXkx6",
        "colab_type": "code",
        "colab": {}
      },
      "source": [
        "TEST_SIZE=100\n",
        "train = df_scaled[:-TEST_SIZE]\n",
        "test = df_scaled[-TEST_SIZE:]"
      ],
      "execution_count": 42,
      "outputs": []
    },
    {
      "cell_type": "code",
      "metadata": {
        "id": "63CQ1WZoXuW9",
        "colab_type": "code",
        "colab": {}
      },
      "source": [
        "def make_dataset(data, label, window_size=365):\n",
        "    feature_list = []\n",
        "    label_list = []\n",
        "    for i in range(len(data) - window_size):\n",
        "        feature_list.append(np.array(data.iloc[i:i+window_size]))\n",
        "        label_list.append(np.array(label.iloc[i+window_size]))\n",
        "    return np.array(feature_list), np.array(label_list)"
      ],
      "execution_count": 43,
      "outputs": []
    },
    {
      "cell_type": "code",
      "metadata": {
        "id": "vkXOfiAAYNh2",
        "colab_type": "code",
        "colab": {
          "base_uri": "https://localhost:8080/",
          "height": 50
        },
        "outputId": "dd535a16-ec78-4026-dcb7-0f85e8445954"
      },
      "source": [
        "feature_cols = df.columns\n",
        "label_cols = ['Close']\n",
        "\n",
        "train_feature = train[feature_cols]\n",
        "train_label = train[label_cols]\n",
        "\n",
        "train_feature, train_label = make_dataset(train_feature, train_label, 20)\n",
        "\n",
        "from sklearn.model_selection import train_test_split\n",
        "x_train, x_valid, y_train, y_valid = train_test_split(train_feature, train_label, test_size=0.2,shuffle=False)\n",
        "\n",
        "print(x_train.shape, y_train.shape)\n",
        "print(x_valid.shape, y_valid.shape)"
      ],
      "execution_count": 45,
      "outputs": [
        {
          "output_type": "stream",
          "text": [
            "(392, 20, 1) (392, 1)\n",
            "(98, 20, 1) (98, 1)\n"
          ],
          "name": "stdout"
        }
      ]
    },
    {
      "cell_type": "code",
      "metadata": {
        "id": "aPSRIUyvYmkc",
        "colab_type": "code",
        "colab": {
          "base_uri": "https://localhost:8080/",
          "height": 34
        },
        "outputId": "a4674e91-14f8-49d1-c67f-43c4f164e1c6"
      },
      "source": [
        "test_feature=test[feature_cols]\n",
        "test_label=test[label_cols]\n",
        "\n",
        "test_feature, test_label = make_dataset(test_feature, test_label, 20)\n",
        "test_feature.shape, test_label.shape"
      ],
      "execution_count": 46,
      "outputs": [
        {
          "output_type": "execute_result",
          "data": {
            "text/plain": [
              "((80, 20, 1), (80, 1))"
            ]
          },
          "metadata": {
            "tags": []
          },
          "execution_count": 46
        }
      ]
    },
    {
      "cell_type": "code",
      "metadata": {
        "id": "dzqNMBMkYxQ3",
        "colab_type": "code",
        "colab": {}
      },
      "source": [
        "model = Sequential()\n",
        "model.add(LSTM(16, \n",
        "               input_shape=(train_feature.shape[1], train_feature.shape[2]), \n",
        "               activation='relu', \n",
        "               return_sequences=False)\n",
        "          )\n",
        "model.add(Dense(1))"
      ],
      "execution_count": 50,
      "outputs": []
    },
    {
      "cell_type": "code",
      "metadata": {
        "id": "xCgFsr2bZCdl",
        "colab_type": "code",
        "colab": {
          "base_uri": "https://localhost:8080/",
          "height": 218
        },
        "outputId": "9fa71a55-7459-4d53-f298-311a5c0166e1"
      },
      "source": [
        "model.summary()"
      ],
      "execution_count": 51,
      "outputs": [
        {
          "output_type": "stream",
          "text": [
            "Model: \"sequential_2\"\n",
            "_________________________________________________________________\n",
            "Layer (type)                 Output Shape              Param #   \n",
            "=================================================================\n",
            "lstm_3 (LSTM)                (None, 16)                1152      \n",
            "_________________________________________________________________\n",
            "dense_1 (Dense)              (None, 1)                 17        \n",
            "=================================================================\n",
            "Total params: 1,169\n",
            "Trainable params: 1,169\n",
            "Non-trainable params: 0\n",
            "_________________________________________________________________\n"
          ],
          "name": "stdout"
        }
      ]
    },
    {
      "cell_type": "code",
      "metadata": {
        "id": "oUyOYPxwZgKh",
        "colab_type": "code",
        "colab": {
          "base_uri": "https://localhost:8080/",
          "height": 1000
        },
        "outputId": "0b53d042-97df-4b4b-acd9-eaeca6468519"
      },
      "source": [
        "model.compile(loss='mse',optimizer='adam',metrics=['mse'])\n",
        "\n",
        "from keras.callbacks import EarlyStopping\n",
        "early_stopping=EarlyStopping(patience=20,monitor='val_loss')\n",
        "history=model.fit(x_train,y_train,epochs=100,batch_size=1,validation_split=0,callbacks=[early_stopping])"
      ],
      "execution_count": 53,
      "outputs": [
        {
          "output_type": "stream",
          "text": [
            "Epoch 1/100\n",
            "380/392 [============================>.] - ETA: 0s - loss: 0.0014 - mse: 0.0014WARNING:tensorflow:Early stopping conditioned on metric `val_loss` which is not available. Available metrics are: loss,mse\n",
            "392/392 [==============================] - 2s 4ms/step - loss: 0.0014 - mse: 0.0014\n",
            "Epoch 2/100\n",
            "383/392 [============================>.] - ETA: 0s - loss: 0.0013 - mse: 0.0013WARNING:tensorflow:Early stopping conditioned on metric `val_loss` which is not available. Available metrics are: loss,mse\n",
            "392/392 [==============================] - 2s 4ms/step - loss: 0.0013 - mse: 0.0013\n",
            "Epoch 3/100\n",
            "381/392 [============================>.] - ETA: 0s - loss: 0.0013 - mse: 0.0013WARNING:tensorflow:Early stopping conditioned on metric `val_loss` which is not available. Available metrics are: loss,mse\n",
            "392/392 [==============================] - 2s 4ms/step - loss: 0.0013 - mse: 0.0013\n",
            "Epoch 4/100\n",
            "384/392 [============================>.] - ETA: 0s - loss: 0.0013 - mse: 0.0013WARNING:tensorflow:Early stopping conditioned on metric `val_loss` which is not available. Available metrics are: loss,mse\n",
            "392/392 [==============================] - 1s 4ms/step - loss: 0.0013 - mse: 0.0013\n",
            "Epoch 5/100\n",
            "383/392 [============================>.] - ETA: 0s - loss: 0.0013 - mse: 0.0013WARNING:tensorflow:Early stopping conditioned on metric `val_loss` which is not available. Available metrics are: loss,mse\n",
            "392/392 [==============================] - 2s 4ms/step - loss: 0.0013 - mse: 0.0013\n",
            "Epoch 6/100\n",
            "380/392 [============================>.] - ETA: 0s - loss: 0.0012 - mse: 0.0012WARNING:tensorflow:Early stopping conditioned on metric `val_loss` which is not available. Available metrics are: loss,mse\n",
            "392/392 [==============================] - 2s 4ms/step - loss: 0.0012 - mse: 0.0012\n",
            "Epoch 7/100\n",
            "390/392 [============================>.] - ETA: 0s - loss: 0.0012 - mse: 0.0012WARNING:tensorflow:Early stopping conditioned on metric `val_loss` which is not available. Available metrics are: loss,mse\n",
            "392/392 [==============================] - 2s 4ms/step - loss: 0.0012 - mse: 0.0012\n",
            "Epoch 8/100\n",
            "391/392 [============================>.] - ETA: 0s - loss: 0.0011 - mse: 0.0011WARNING:tensorflow:Early stopping conditioned on metric `val_loss` which is not available. Available metrics are: loss,mse\n",
            "392/392 [==============================] - 2s 4ms/step - loss: 0.0011 - mse: 0.0011\n",
            "Epoch 9/100\n",
            "383/392 [============================>.] - ETA: 0s - loss: 0.0011 - mse: 0.0011WARNING:tensorflow:Early stopping conditioned on metric `val_loss` which is not available. Available metrics are: loss,mse\n",
            "392/392 [==============================] - 2s 4ms/step - loss: 0.0012 - mse: 0.0012\n",
            "Epoch 10/100\n",
            "384/392 [============================>.] - ETA: 0s - loss: 0.0011 - mse: 0.0011WARNING:tensorflow:Early stopping conditioned on metric `val_loss` which is not available. Available metrics are: loss,mse\n",
            "392/392 [==============================] - 2s 4ms/step - loss: 0.0011 - mse: 0.0011\n",
            "Epoch 11/100\n",
            "392/392 [==============================] - ETA: 0s - loss: 0.0011 - mse: 0.0011WARNING:tensorflow:Early stopping conditioned on metric `val_loss` which is not available. Available metrics are: loss,mse\n",
            "392/392 [==============================] - 2s 4ms/step - loss: 0.0011 - mse: 0.0011\n",
            "Epoch 12/100\n",
            "388/392 [============================>.] - ETA: 0s - loss: 0.0010 - mse: 0.0010WARNING:tensorflow:Early stopping conditioned on metric `val_loss` which is not available. Available metrics are: loss,mse\n",
            "392/392 [==============================] - 2s 4ms/step - loss: 0.0010 - mse: 0.0010\n",
            "Epoch 13/100\n",
            "379/392 [============================>.] - ETA: 0s - loss: 0.0011 - mse: 0.0011WARNING:tensorflow:Early stopping conditioned on metric `val_loss` which is not available. Available metrics are: loss,mse\n",
            "392/392 [==============================] - 2s 4ms/step - loss: 0.0011 - mse: 0.0011\n",
            "Epoch 14/100\n",
            "385/392 [============================>.] - ETA: 0s - loss: 0.0011 - mse: 0.0011WARNING:tensorflow:Early stopping conditioned on metric `val_loss` which is not available. Available metrics are: loss,mse\n",
            "392/392 [==============================] - 2s 4ms/step - loss: 0.0011 - mse: 0.0011\n",
            "Epoch 15/100\n",
            "389/392 [============================>.] - ETA: 0s - loss: 0.0011 - mse: 0.0011WARNING:tensorflow:Early stopping conditioned on metric `val_loss` which is not available. Available metrics are: loss,mse\n",
            "392/392 [==============================] - 2s 4ms/step - loss: 0.0011 - mse: 0.0011\n",
            "Epoch 16/100\n",
            "382/392 [============================>.] - ETA: 0s - loss: 0.0010 - mse: 0.0010WARNING:tensorflow:Early stopping conditioned on metric `val_loss` which is not available. Available metrics are: loss,mse\n",
            "392/392 [==============================] - 2s 4ms/step - loss: 0.0010 - mse: 0.0010\n",
            "Epoch 17/100\n",
            "390/392 [============================>.] - ETA: 0s - loss: 9.9957e-04 - mse: 9.9957e-04WARNING:tensorflow:Early stopping conditioned on metric `val_loss` which is not available. Available metrics are: loss,mse\n",
            "392/392 [==============================] - 2s 4ms/step - loss: 9.9491e-04 - mse: 9.9491e-04\n",
            "Epoch 18/100\n",
            "391/392 [============================>.] - ETA: 0s - loss: 9.9255e-04 - mse: 9.9255e-04WARNING:tensorflow:Early stopping conditioned on metric `val_loss` which is not available. Available metrics are: loss,mse\n",
            "392/392 [==============================] - 2s 4ms/step - loss: 9.9080e-04 - mse: 9.9080e-04\n",
            "Epoch 19/100\n",
            "389/392 [============================>.] - ETA: 0s - loss: 0.0011 - mse: 0.0011WARNING:tensorflow:Early stopping conditioned on metric `val_loss` which is not available. Available metrics are: loss,mse\n",
            "392/392 [==============================] - 2s 4ms/step - loss: 0.0011 - mse: 0.0011\n",
            "Epoch 20/100\n",
            "392/392 [==============================] - ETA: 0s - loss: 0.0010 - mse: 0.0010WARNING:tensorflow:Early stopping conditioned on metric `val_loss` which is not available. Available metrics are: loss,mse\n",
            "392/392 [==============================] - 2s 4ms/step - loss: 0.0010 - mse: 0.0010\n",
            "Epoch 21/100\n",
            "388/392 [============================>.] - ETA: 0s - loss: 9.9793e-04 - mse: 9.9793e-04WARNING:tensorflow:Early stopping conditioned on metric `val_loss` which is not available. Available metrics are: loss,mse\n",
            "392/392 [==============================] - 2s 4ms/step - loss: 9.9159e-04 - mse: 9.9159e-04\n",
            "Epoch 22/100\n",
            "386/392 [============================>.] - ETA: 0s - loss: 9.8537e-04 - mse: 9.8537e-04WARNING:tensorflow:Early stopping conditioned on metric `val_loss` which is not available. Available metrics are: loss,mse\n",
            "392/392 [==============================] - 2s 4ms/step - loss: 9.7723e-04 - mse: 9.7723e-04\n",
            "Epoch 23/100\n",
            "388/392 [============================>.] - ETA: 0s - loss: 9.5170e-04 - mse: 9.5170e-04WARNING:tensorflow:Early stopping conditioned on metric `val_loss` which is not available. Available metrics are: loss,mse\n",
            "392/392 [==============================] - 2s 4ms/step - loss: 9.7882e-04 - mse: 9.7882e-04\n",
            "Epoch 24/100\n",
            "384/392 [============================>.] - ETA: 0s - loss: 0.0011 - mse: 0.0011WARNING:tensorflow:Early stopping conditioned on metric `val_loss` which is not available. Available metrics are: loss,mse\n",
            "392/392 [==============================] - 2s 4ms/step - loss: 0.0010 - mse: 0.0010\n",
            "Epoch 25/100\n",
            "381/392 [============================>.] - ETA: 0s - loss: 9.7092e-04 - mse: 9.7092e-04WARNING:tensorflow:Early stopping conditioned on metric `val_loss` which is not available. Available metrics are: loss,mse\n",
            "392/392 [==============================] - 2s 4ms/step - loss: 9.6910e-04 - mse: 9.6910e-04\n",
            "Epoch 26/100\n",
            "387/392 [============================>.] - ETA: 0s - loss: 0.0010 - mse: 0.0010WARNING:tensorflow:Early stopping conditioned on metric `val_loss` which is not available. Available metrics are: loss,mse\n",
            "392/392 [==============================] - 2s 4ms/step - loss: 0.0010 - mse: 0.0010\n",
            "Epoch 27/100\n",
            "382/392 [============================>.] - ETA: 0s - loss: 9.7177e-04 - mse: 9.7177e-04WARNING:tensorflow:Early stopping conditioned on metric `val_loss` which is not available. Available metrics are: loss,mse\n",
            "392/392 [==============================] - 2s 4ms/step - loss: 9.7481e-04 - mse: 9.7481e-04\n",
            "Epoch 28/100\n",
            "391/392 [============================>.] - ETA: 0s - loss: 9.7211e-04 - mse: 9.7211e-04WARNING:tensorflow:Early stopping conditioned on metric `val_loss` which is not available. Available metrics are: loss,mse\n",
            "392/392 [==============================] - 2s 4ms/step - loss: 9.7088e-04 - mse: 9.7088e-04\n",
            "Epoch 29/100\n",
            "391/392 [============================>.] - ETA: 0s - loss: 9.7387e-04 - mse: 9.7387e-04WARNING:tensorflow:Early stopping conditioned on metric `val_loss` which is not available. Available metrics are: loss,mse\n",
            "392/392 [==============================] - 2s 4ms/step - loss: 9.7809e-04 - mse: 9.7809e-04\n",
            "Epoch 30/100\n",
            "385/392 [============================>.] - ETA: 0s - loss: 9.8015e-04 - mse: 9.8015e-04WARNING:tensorflow:Early stopping conditioned on metric `val_loss` which is not available. Available metrics are: loss,mse\n",
            "392/392 [==============================] - 2s 4ms/step - loss: 9.6717e-04 - mse: 9.6717e-04\n",
            "Epoch 31/100\n",
            "386/392 [============================>.] - ETA: 0s - loss: 9.8132e-04 - mse: 9.8132e-04WARNING:tensorflow:Early stopping conditioned on metric `val_loss` which is not available. Available metrics are: loss,mse\n",
            "392/392 [==============================] - 2s 4ms/step - loss: 9.7983e-04 - mse: 9.7983e-04\n",
            "Epoch 32/100\n",
            "388/392 [============================>.] - ETA: 0s - loss: 9.8612e-04 - mse: 9.8612e-04WARNING:tensorflow:Early stopping conditioned on metric `val_loss` which is not available. Available metrics are: loss,mse\n",
            "392/392 [==============================] - 2s 4ms/step - loss: 9.8358e-04 - mse: 9.8358e-04\n",
            "Epoch 33/100\n",
            "386/392 [============================>.] - ETA: 0s - loss: 9.4510e-04 - mse: 9.4510e-04WARNING:tensorflow:Early stopping conditioned on metric `val_loss` which is not available. Available metrics are: loss,mse\n",
            "392/392 [==============================] - 2s 4ms/step - loss: 9.4265e-04 - mse: 9.4265e-04\n",
            "Epoch 34/100\n",
            "379/392 [============================>.] - ETA: 0s - loss: 9.8301e-04 - mse: 9.8301e-04WARNING:tensorflow:Early stopping conditioned on metric `val_loss` which is not available. Available metrics are: loss,mse\n",
            "392/392 [==============================] - 2s 4ms/step - loss: 9.8573e-04 - mse: 9.8573e-04\n",
            "Epoch 35/100\n",
            "387/392 [============================>.] - ETA: 0s - loss: 9.2895e-04 - mse: 9.2895e-04WARNING:tensorflow:Early stopping conditioned on metric `val_loss` which is not available. Available metrics are: loss,mse\n",
            "392/392 [==============================] - 2s 4ms/step - loss: 9.4352e-04 - mse: 9.4352e-04\n",
            "Epoch 36/100\n",
            "386/392 [============================>.] - ETA: 0s - loss: 9.4646e-04 - mse: 9.4646e-04WARNING:tensorflow:Early stopping conditioned on metric `val_loss` which is not available. Available metrics are: loss,mse\n",
            "392/392 [==============================] - 2s 4ms/step - loss: 9.5125e-04 - mse: 9.5125e-04\n",
            "Epoch 37/100\n",
            "388/392 [============================>.] - ETA: 0s - loss: 9.4319e-04 - mse: 9.4319e-04WARNING:tensorflow:Early stopping conditioned on metric `val_loss` which is not available. Available metrics are: loss,mse\n",
            "392/392 [==============================] - 2s 4ms/step - loss: 9.4427e-04 - mse: 9.4427e-04\n",
            "Epoch 38/100\n",
            "389/392 [============================>.] - ETA: 0s - loss: 9.4923e-04 - mse: 9.4923e-04WARNING:tensorflow:Early stopping conditioned on metric `val_loss` which is not available. Available metrics are: loss,mse\n",
            "392/392 [==============================] - 2s 4ms/step - loss: 9.4709e-04 - mse: 9.4709e-04\n",
            "Epoch 39/100\n",
            "390/392 [============================>.] - ETA: 0s - loss: 9.5200e-04 - mse: 9.5200e-04WARNING:tensorflow:Early stopping conditioned on metric `val_loss` which is not available. Available metrics are: loss,mse\n",
            "392/392 [==============================] - 2s 4ms/step - loss: 9.4782e-04 - mse: 9.4782e-04\n",
            "Epoch 40/100\n",
            "392/392 [==============================] - ETA: 0s - loss: 9.2055e-04 - mse: 9.2055e-04WARNING:tensorflow:Early stopping conditioned on metric `val_loss` which is not available. Available metrics are: loss,mse\n",
            "392/392 [==============================] - 2s 4ms/step - loss: 9.2055e-04 - mse: 9.2055e-04\n",
            "Epoch 41/100\n",
            "390/392 [============================>.] - ETA: 0s - loss: 9.5374e-04 - mse: 9.5374e-04WARNING:tensorflow:Early stopping conditioned on metric `val_loss` which is not available. Available metrics are: loss,mse\n",
            "392/392 [==============================] - 2s 4ms/step - loss: 9.5046e-04 - mse: 9.5046e-04\n",
            "Epoch 42/100\n",
            "382/392 [============================>.] - ETA: 0s - loss: 9.8443e-04 - mse: 9.8443e-04WARNING:tensorflow:Early stopping conditioned on metric `val_loss` which is not available. Available metrics are: loss,mse\n",
            "392/392 [==============================] - 2s 4ms/step - loss: 9.8341e-04 - mse: 9.8341e-04\n",
            "Epoch 43/100\n",
            "384/392 [============================>.] - ETA: 0s - loss: 9.6536e-04 - mse: 9.6536e-04WARNING:tensorflow:Early stopping conditioned on metric `val_loss` which is not available. Available metrics are: loss,mse\n",
            "392/392 [==============================] - 2s 4ms/step - loss: 9.7409e-04 - mse: 9.7409e-04\n",
            "Epoch 44/100\n",
            "382/392 [============================>.] - ETA: 0s - loss: 9.8819e-04 - mse: 9.8819e-04WARNING:tensorflow:Early stopping conditioned on metric `val_loss` which is not available. Available metrics are: loss,mse\n",
            "392/392 [==============================] - 2s 4ms/step - loss: 9.7385e-04 - mse: 9.7385e-04\n",
            "Epoch 45/100\n",
            "390/392 [============================>.] - ETA: 0s - loss: 9.5631e-04 - mse: 9.5631e-04WARNING:tensorflow:Early stopping conditioned on metric `val_loss` which is not available. Available metrics are: loss,mse\n",
            "392/392 [==============================] - 2s 4ms/step - loss: 9.6524e-04 - mse: 9.6524e-04\n",
            "Epoch 46/100\n",
            "391/392 [============================>.] - ETA: 0s - loss: 9.6075e-04 - mse: 9.6075e-04WARNING:tensorflow:Early stopping conditioned on metric `val_loss` which is not available. Available metrics are: loss,mse\n",
            "392/392 [==============================] - 2s 4ms/step - loss: 9.5872e-04 - mse: 9.5872e-04\n",
            "Epoch 47/100\n",
            "391/392 [============================>.] - ETA: 0s - loss: 9.4271e-04 - mse: 9.4271e-04WARNING:tensorflow:Early stopping conditioned on metric `val_loss` which is not available. Available metrics are: loss,mse\n",
            "392/392 [==============================] - 2s 4ms/step - loss: 9.4044e-04 - mse: 9.4044e-04\n",
            "Epoch 48/100\n",
            "386/392 [============================>.] - ETA: 0s - loss: 9.3509e-04 - mse: 9.3509e-04WARNING:tensorflow:Early stopping conditioned on metric `val_loss` which is not available. Available metrics are: loss,mse\n",
            "392/392 [==============================] - 2s 4ms/step - loss: 9.2621e-04 - mse: 9.2621e-04\n",
            "Epoch 49/100\n",
            "386/392 [============================>.] - ETA: 0s - loss: 9.0869e-04 - mse: 9.0869e-04WARNING:tensorflow:Early stopping conditioned on metric `val_loss` which is not available. Available metrics are: loss,mse\n",
            "392/392 [==============================] - 2s 4ms/step - loss: 9.2992e-04 - mse: 9.2992e-04\n",
            "Epoch 50/100\n",
            "387/392 [============================>.] - ETA: 0s - loss: 9.2668e-04 - mse: 9.2668e-04WARNING:tensorflow:Early stopping conditioned on metric `val_loss` which is not available. Available metrics are: loss,mse\n",
            "392/392 [==============================] - 2s 4ms/step - loss: 9.3738e-04 - mse: 9.3738e-04\n",
            "Epoch 51/100\n",
            "391/392 [============================>.] - ETA: 0s - loss: 9.3973e-04 - mse: 9.3973e-04WARNING:tensorflow:Early stopping conditioned on metric `val_loss` which is not available. Available metrics are: loss,mse\n",
            "392/392 [==============================] - 2s 4ms/step - loss: 9.4276e-04 - mse: 9.4276e-04\n",
            "Epoch 52/100\n",
            "381/392 [============================>.] - ETA: 0s - loss: 9.5704e-04 - mse: 9.5704e-04WARNING:tensorflow:Early stopping conditioned on metric `val_loss` which is not available. Available metrics are: loss,mse\n",
            "392/392 [==============================] - 2s 4ms/step - loss: 9.4926e-04 - mse: 9.4926e-04\n",
            "Epoch 53/100\n",
            "384/392 [============================>.] - ETA: 0s - loss: 9.3576e-04 - mse: 9.3576e-04WARNING:tensorflow:Early stopping conditioned on metric `val_loss` which is not available. Available metrics are: loss,mse\n",
            "392/392 [==============================] - 2s 4ms/step - loss: 9.2695e-04 - mse: 9.2695e-04\n",
            "Epoch 54/100\n",
            "391/392 [============================>.] - ETA: 0s - loss: 9.3485e-04 - mse: 9.3485e-04WARNING:tensorflow:Early stopping conditioned on metric `val_loss` which is not available. Available metrics are: loss,mse\n",
            "392/392 [==============================] - 2s 4ms/step - loss: 9.3817e-04 - mse: 9.3817e-04\n",
            "Epoch 55/100\n",
            "383/392 [============================>.] - ETA: 0s - loss: 9.1093e-04 - mse: 9.1093e-04WARNING:tensorflow:Early stopping conditioned on metric `val_loss` which is not available. Available metrics are: loss,mse\n",
            "392/392 [==============================] - 2s 4ms/step - loss: 9.2326e-04 - mse: 9.2326e-04\n",
            "Epoch 56/100\n",
            "381/392 [============================>.] - ETA: 0s - loss: 9.4871e-04 - mse: 9.4871e-04WARNING:tensorflow:Early stopping conditioned on metric `val_loss` which is not available. Available metrics are: loss,mse\n",
            "392/392 [==============================] - 2s 4ms/step - loss: 9.3506e-04 - mse: 9.3506e-04\n",
            "Epoch 57/100\n",
            "391/392 [============================>.] - ETA: 0s - loss: 9.1792e-04 - mse: 9.1792e-04WARNING:tensorflow:Early stopping conditioned on metric `val_loss` which is not available. Available metrics are: loss,mse\n",
            "392/392 [==============================] - 2s 4ms/step - loss: 9.1793e-04 - mse: 9.1793e-04\n",
            "Epoch 58/100\n",
            "388/392 [============================>.] - ETA: 0s - loss: 9.5535e-04 - mse: 9.5535e-04WARNING:tensorflow:Early stopping conditioned on metric `val_loss` which is not available. Available metrics are: loss,mse\n",
            "392/392 [==============================] - 2s 4ms/step - loss: 9.4926e-04 - mse: 9.4926e-04\n",
            "Epoch 59/100\n",
            "391/392 [============================>.] - ETA: 0s - loss: 9.4107e-04 - mse: 9.4107e-04WARNING:tensorflow:Early stopping conditioned on metric `val_loss` which is not available. Available metrics are: loss,mse\n",
            "392/392 [==============================] - 2s 4ms/step - loss: 9.3903e-04 - mse: 9.3903e-04\n",
            "Epoch 60/100\n",
            "389/392 [============================>.] - ETA: 0s - loss: 8.8460e-04 - mse: 8.8460e-04WARNING:tensorflow:Early stopping conditioned on metric `val_loss` which is not available. Available metrics are: loss,mse\n",
            "392/392 [==============================] - 2s 4ms/step - loss: 8.9541e-04 - mse: 8.9541e-04\n",
            "Epoch 61/100\n",
            "391/392 [============================>.] - ETA: 0s - loss: 9.3174e-04 - mse: 9.3174e-04WARNING:tensorflow:Early stopping conditioned on metric `val_loss` which is not available. Available metrics are: loss,mse\n",
            "392/392 [==============================] - 2s 4ms/step - loss: 9.2953e-04 - mse: 9.2953e-04\n",
            "Epoch 62/100\n",
            "382/392 [============================>.] - ETA: 0s - loss: 9.5528e-04 - mse: 9.5528e-04WARNING:tensorflow:Early stopping conditioned on metric `val_loss` which is not available. Available metrics are: loss,mse\n",
            "392/392 [==============================] - 2s 4ms/step - loss: 9.7435e-04 - mse: 9.7435e-04\n",
            "Epoch 63/100\n",
            "387/392 [============================>.] - ETA: 0s - loss: 9.5682e-04 - mse: 9.5682e-04WARNING:tensorflow:Early stopping conditioned on metric `val_loss` which is not available. Available metrics are: loss,mse\n",
            "392/392 [==============================] - 2s 4ms/step - loss: 9.6824e-04 - mse: 9.6824e-04\n",
            "Epoch 64/100\n",
            "392/392 [==============================] - ETA: 0s - loss: 8.9958e-04 - mse: 8.9958e-04WARNING:tensorflow:Early stopping conditioned on metric `val_loss` which is not available. Available metrics are: loss,mse\n",
            "392/392 [==============================] - 2s 4ms/step - loss: 8.9958e-04 - mse: 8.9958e-04\n",
            "Epoch 65/100\n",
            "387/392 [============================>.] - ETA: 0s - loss: 9.1859e-04 - mse: 9.1859e-04WARNING:tensorflow:Early stopping conditioned on metric `val_loss` which is not available. Available metrics are: loss,mse\n",
            "392/392 [==============================] - 2s 4ms/step - loss: 9.2449e-04 - mse: 9.2449e-04\n",
            "Epoch 66/100\n",
            "380/392 [============================>.] - ETA: 0s - loss: 9.6344e-04 - mse: 9.6344e-04WARNING:tensorflow:Early stopping conditioned on metric `val_loss` which is not available. Available metrics are: loss,mse\n",
            "392/392 [==============================] - 2s 4ms/step - loss: 9.5241e-04 - mse: 9.5241e-04\n",
            "Epoch 67/100\n",
            "385/392 [============================>.] - ETA: 0s - loss: 9.3051e-04 - mse: 9.3051e-04WARNING:tensorflow:Early stopping conditioned on metric `val_loss` which is not available. Available metrics are: loss,mse\n",
            "392/392 [==============================] - 2s 4ms/step - loss: 9.5068e-04 - mse: 9.5068e-04\n",
            "Epoch 68/100\n",
            "384/392 [============================>.] - ETA: 0s - loss: 8.9748e-04 - mse: 8.9748e-04WARNING:tensorflow:Early stopping conditioned on metric `val_loss` which is not available. Available metrics are: loss,mse\n",
            "392/392 [==============================] - 2s 4ms/step - loss: 8.9307e-04 - mse: 8.9307e-04\n",
            "Epoch 69/100\n",
            "385/392 [============================>.] - ETA: 0s - loss: 9.3630e-04 - mse: 9.3630e-04WARNING:tensorflow:Early stopping conditioned on metric `val_loss` which is not available. Available metrics are: loss,mse\n",
            "392/392 [==============================] - 2s 4ms/step - loss: 9.3217e-04 - mse: 9.3217e-04\n",
            "Epoch 70/100\n",
            "388/392 [============================>.] - ETA: 0s - loss: 9.2770e-04 - mse: 9.2770e-04WARNING:tensorflow:Early stopping conditioned on metric `val_loss` which is not available. Available metrics are: loss,mse\n",
            "392/392 [==============================] - 2s 4ms/step - loss: 9.2667e-04 - mse: 9.2667e-04\n",
            "Epoch 71/100\n",
            "381/392 [============================>.] - ETA: 0s - loss: 9.2467e-04 - mse: 9.2467e-04WARNING:tensorflow:Early stopping conditioned on metric `val_loss` which is not available. Available metrics are: loss,mse\n",
            "392/392 [==============================] - 2s 4ms/step - loss: 9.1241e-04 - mse: 9.1241e-04\n",
            "Epoch 72/100\n",
            "382/392 [============================>.] - ETA: 0s - loss: 9.3409e-04 - mse: 9.3409e-04WARNING:tensorflow:Early stopping conditioned on metric `val_loss` which is not available. Available metrics are: loss,mse\n",
            "392/392 [==============================] - 2s 4ms/step - loss: 9.1862e-04 - mse: 9.1862e-04\n",
            "Epoch 73/100\n",
            "392/392 [==============================] - ETA: 0s - loss: 9.0949e-04 - mse: 9.0949e-04WARNING:tensorflow:Early stopping conditioned on metric `val_loss` which is not available. Available metrics are: loss,mse\n",
            "392/392 [==============================] - 2s 4ms/step - loss: 9.0949e-04 - mse: 9.0949e-04\n",
            "Epoch 74/100\n",
            "390/392 [============================>.] - ETA: 0s - loss: 9.4532e-04 - mse: 9.4532e-04WARNING:tensorflow:Early stopping conditioned on metric `val_loss` which is not available. Available metrics are: loss,mse\n",
            "392/392 [==============================] - 2s 4ms/step - loss: 9.4154e-04 - mse: 9.4154e-04\n",
            "Epoch 75/100\n",
            "389/392 [============================>.] - ETA: 0s - loss: 9.5304e-04 - mse: 9.5304e-04WARNING:tensorflow:Early stopping conditioned on metric `val_loss` which is not available. Available metrics are: loss,mse\n",
            "392/392 [==============================] - 2s 4ms/step - loss: 9.4592e-04 - mse: 9.4592e-04\n",
            "Epoch 76/100\n",
            "385/392 [============================>.] - ETA: 0s - loss: 9.2760e-04 - mse: 9.2760e-04WARNING:tensorflow:Early stopping conditioned on metric `val_loss` which is not available. Available metrics are: loss,mse\n",
            "392/392 [==============================] - 2s 4ms/step - loss: 9.2220e-04 - mse: 9.2220e-04\n",
            "Epoch 77/100\n",
            "381/392 [============================>.] - ETA: 0s - loss: 9.0683e-04 - mse: 9.0683e-04WARNING:tensorflow:Early stopping conditioned on metric `val_loss` which is not available. Available metrics are: loss,mse\n",
            "392/392 [==============================] - 2s 4ms/step - loss: 9.1141e-04 - mse: 9.1141e-04\n",
            "Epoch 78/100\n",
            "392/392 [==============================] - ETA: 0s - loss: 9.1031e-04 - mse: 9.1031e-04WARNING:tensorflow:Early stopping conditioned on metric `val_loss` which is not available. Available metrics are: loss,mse\n",
            "392/392 [==============================] - 2s 4ms/step - loss: 9.1031e-04 - mse: 9.1031e-04\n",
            "Epoch 79/100\n",
            "386/392 [============================>.] - ETA: 0s - loss: 9.2735e-04 - mse: 9.2735e-04WARNING:tensorflow:Early stopping conditioned on metric `val_loss` which is not available. Available metrics are: loss,mse\n",
            "392/392 [==============================] - 2s 4ms/step - loss: 9.2018e-04 - mse: 9.2018e-04\n",
            "Epoch 80/100\n",
            "384/392 [============================>.] - ETA: 0s - loss: 9.3104e-04 - mse: 9.3104e-04WARNING:tensorflow:Early stopping conditioned on metric `val_loss` which is not available. Available metrics are: loss,mse\n",
            "392/392 [==============================] - 2s 4ms/step - loss: 9.2840e-04 - mse: 9.2840e-04\n",
            "Epoch 81/100\n",
            "385/392 [============================>.] - ETA: 0s - loss: 9.3960e-04 - mse: 9.3960e-04WARNING:tensorflow:Early stopping conditioned on metric `val_loss` which is not available. Available metrics are: loss,mse\n",
            "392/392 [==============================] - 2s 4ms/step - loss: 9.3017e-04 - mse: 9.3017e-04\n",
            "Epoch 82/100\n",
            "392/392 [==============================] - ETA: 0s - loss: 8.7536e-04 - mse: 8.7536e-04WARNING:tensorflow:Early stopping conditioned on metric `val_loss` which is not available. Available metrics are: loss,mse\n",
            "392/392 [==============================] - 2s 4ms/step - loss: 8.7536e-04 - mse: 8.7536e-04\n",
            "Epoch 83/100\n",
            "386/392 [============================>.] - ETA: 0s - loss: 9.1635e-04 - mse: 9.1635e-04WARNING:tensorflow:Early stopping conditioned on metric `val_loss` which is not available. Available metrics are: loss,mse\n",
            "392/392 [==============================] - 2s 4ms/step - loss: 9.1694e-04 - mse: 9.1694e-04\n",
            "Epoch 84/100\n",
            "389/392 [============================>.] - ETA: 0s - loss: 9.1561e-04 - mse: 9.1561e-04WARNING:tensorflow:Early stopping conditioned on metric `val_loss` which is not available. Available metrics are: loss,mse\n",
            "392/392 [==============================] - 2s 4ms/step - loss: 9.1442e-04 - mse: 9.1442e-04\n",
            "Epoch 85/100\n",
            "386/392 [============================>.] - ETA: 0s - loss: 9.2567e-04 - mse: 9.2567e-04WARNING:tensorflow:Early stopping conditioned on metric `val_loss` which is not available. Available metrics are: loss,mse\n",
            "392/392 [==============================] - 2s 4ms/step - loss: 9.4435e-04 - mse: 9.4435e-04\n",
            "Epoch 86/100\n",
            "386/392 [============================>.] - ETA: 0s - loss: 9.1679e-04 - mse: 9.1679e-04WARNING:tensorflow:Early stopping conditioned on metric `val_loss` which is not available. Available metrics are: loss,mse\n",
            "392/392 [==============================] - 2s 4ms/step - loss: 9.1107e-04 - mse: 9.1107e-04\n",
            "Epoch 87/100\n",
            "381/392 [============================>.] - ETA: 0s - loss: 9.0861e-04 - mse: 9.0861e-04WARNING:tensorflow:Early stopping conditioned on metric `val_loss` which is not available. Available metrics are: loss,mse\n",
            "392/392 [==============================] - 2s 4ms/step - loss: 9.1952e-04 - mse: 9.1952e-04\n",
            "Epoch 88/100\n",
            "386/392 [============================>.] - ETA: 0s - loss: 9.1183e-04 - mse: 9.1183e-04WARNING:tensorflow:Early stopping conditioned on metric `val_loss` which is not available. Available metrics are: loss,mse\n",
            "392/392 [==============================] - 2s 4ms/step - loss: 9.0872e-04 - mse: 9.0872e-04\n",
            "Epoch 89/100\n",
            "385/392 [============================>.] - ETA: 0s - loss: 9.2487e-04 - mse: 9.2487e-04WARNING:tensorflow:Early stopping conditioned on metric `val_loss` which is not available. Available metrics are: loss,mse\n",
            "392/392 [==============================] - 2s 4ms/step - loss: 9.2516e-04 - mse: 9.2516e-04\n",
            "Epoch 90/100\n",
            "390/392 [============================>.] - ETA: 0s - loss: 9.2931e-04 - mse: 9.2931e-04WARNING:tensorflow:Early stopping conditioned on metric `val_loss` which is not available. Available metrics are: loss,mse\n",
            "392/392 [==============================] - 2s 4ms/step - loss: 9.2937e-04 - mse: 9.2937e-04\n",
            "Epoch 91/100\n",
            "391/392 [============================>.] - ETA: 0s - loss: 9.4158e-04 - mse: 9.4158e-04WARNING:tensorflow:Early stopping conditioned on metric `val_loss` which is not available. Available metrics are: loss,mse\n",
            "392/392 [==============================] - 2s 4ms/step - loss: 9.4153e-04 - mse: 9.4153e-04\n",
            "Epoch 92/100\n",
            "386/392 [============================>.] - ETA: 0s - loss: 9.0439e-04 - mse: 9.0439e-04WARNING:tensorflow:Early stopping conditioned on metric `val_loss` which is not available. Available metrics are: loss,mse\n",
            "392/392 [==============================] - 2s 4ms/step - loss: 9.0139e-04 - mse: 9.0139e-04\n",
            "Epoch 93/100\n",
            "382/392 [============================>.] - ETA: 0s - loss: 9.0579e-04 - mse: 9.0579e-04WARNING:tensorflow:Early stopping conditioned on metric `val_loss` which is not available. Available metrics are: loss,mse\n",
            "392/392 [==============================] - 2s 4ms/step - loss: 9.1988e-04 - mse: 9.1988e-04\n",
            "Epoch 94/100\n",
            "391/392 [============================>.] - ETA: 0s - loss: 9.0489e-04 - mse: 9.0489e-04WARNING:tensorflow:Early stopping conditioned on metric `val_loss` which is not available. Available metrics are: loss,mse\n",
            "392/392 [==============================] - 2s 4ms/step - loss: 9.0715e-04 - mse: 9.0715e-04\n",
            "Epoch 95/100\n",
            "392/392 [==============================] - ETA: 0s - loss: 9.1901e-04 - mse: 9.1901e-04WARNING:tensorflow:Early stopping conditioned on metric `val_loss` which is not available. Available metrics are: loss,mse\n",
            "392/392 [==============================] - 2s 4ms/step - loss: 9.1901e-04 - mse: 9.1901e-04\n",
            "Epoch 96/100\n",
            "386/392 [============================>.] - ETA: 0s - loss: 9.2761e-04 - mse: 9.2761e-04WARNING:tensorflow:Early stopping conditioned on metric `val_loss` which is not available. Available metrics are: loss,mse\n",
            "392/392 [==============================] - 2s 4ms/step - loss: 9.2820e-04 - mse: 9.2820e-04\n",
            "Epoch 97/100\n",
            "383/392 [============================>.] - ETA: 0s - loss: 9.2305e-04 - mse: 9.2305e-04WARNING:tensorflow:Early stopping conditioned on metric `val_loss` which is not available. Available metrics are: loss,mse\n",
            "392/392 [==============================] - 2s 4ms/step - loss: 9.1575e-04 - mse: 9.1575e-04\n",
            "Epoch 98/100\n",
            "390/392 [============================>.] - ETA: 0s - loss: 9.4914e-04 - mse: 9.4914e-04WARNING:tensorflow:Early stopping conditioned on metric `val_loss` which is not available. Available metrics are: loss,mse\n",
            "392/392 [==============================] - 2s 4ms/step - loss: 9.4468e-04 - mse: 9.4468e-04\n",
            "Epoch 99/100\n",
            "386/392 [============================>.] - ETA: 0s - loss: 8.9428e-04 - mse: 8.9428e-04WARNING:tensorflow:Early stopping conditioned on metric `val_loss` which is not available. Available metrics are: loss,mse\n",
            "392/392 [==============================] - 2s 4ms/step - loss: 9.1906e-04 - mse: 9.1906e-04\n",
            "Epoch 100/100\n",
            "381/392 [============================>.] - ETA: 0s - loss: 8.8301e-04 - mse: 8.8301e-04WARNING:tensorflow:Early stopping conditioned on metric `val_loss` which is not available. Available metrics are: loss,mse\n",
            "392/392 [==============================] - 2s 4ms/step - loss: 8.9863e-04 - mse: 8.9863e-04\n"
          ],
          "name": "stdout"
        }
      ]
    },
    {
      "cell_type": "code",
      "metadata": {
        "id": "Flm7A-zsZnwX",
        "colab_type": "code",
        "colab": {}
      },
      "source": [
        "pred=model.predict(test_feature)"
      ],
      "execution_count": 54,
      "outputs": []
    },
    {
      "cell_type": "code",
      "metadata": {
        "id": "wH3n4XVBZ4AM",
        "colab_type": "code",
        "colab": {
          "base_uri": "https://localhost:8080/",
          "height": 34
        },
        "outputId": "3b9c514d-5870-44c3-b719-b1a7f6fdbcb7"
      },
      "source": [
        "pd.DataFrame(history.history).plot"
      ],
      "execution_count": 55,
      "outputs": [
        {
          "output_type": "execute_result",
          "data": {
            "text/plain": [
              "<pandas.plotting._core.PlotAccessor object at 0x7f8ce2d81ac8>"
            ]
          },
          "metadata": {
            "tags": []
          },
          "execution_count": 55
        }
      ]
    },
    {
      "cell_type": "code",
      "metadata": {
        "id": "CE1IwojLZ8ci",
        "colab_type": "code",
        "colab": {
          "base_uri": "https://localhost:8080/",
          "height": 34
        },
        "outputId": "41addc16-96f7-41c0-af06-d54feb4c524e"
      },
      "source": [
        "pred.shape"
      ],
      "execution_count": 56,
      "outputs": [
        {
          "output_type": "execute_result",
          "data": {
            "text/plain": [
              "(80, 1)"
            ]
          },
          "metadata": {
            "tags": []
          },
          "execution_count": 56
        }
      ]
    },
    {
      "cell_type": "code",
      "metadata": {
        "id": "ue0bijPOZ_dZ",
        "colab_type": "code",
        "colab": {
          "base_uri": "https://localhost:8080/",
          "height": 358
        },
        "outputId": "9b3bbc45-5d44-45b4-9ecc-aafd1557ca2e"
      },
      "source": [
        "plt.figure(figsize=(12, 6))\n",
        "plt.plot(test_label, label='actual')\n",
        "plt.plot(pred, label='prediction')\n",
        "plt.legend()\n",
        "plt.grid(ls='--')\n",
        "plt.show()"
      ],
      "execution_count": 57,
      "outputs": [
        {
          "output_type": "stream",
          "text": [
            "findfont: Font family ['NanumBarunGothic'] not found. Falling back to DejaVu Sans.\n"
          ],
          "name": "stderr"
        },
        {
          "output_type": "display_data",
          "data": {
            "image/png": "[encoded data removed]",
            "text/plain": [
              "<Figure size 864x432 with 1 Axes>"
            ]
          },
          "metadata": {
            "tags": [],
            "needs_background": "light"
          }
        }
      ]
    },
    {
      "cell_type": "code",
      "metadata": {
        "id": "ifEd9wDnaEL_",
        "colab_type": "code",
        "colab": {
          "base_uri": "https://localhost:8080/",
          "height": 358
        },
        "outputId": "ffe9c5f3-c8c0-4d3e-a14e-d7eacba782d4"
      },
      "source": [
        "plt.figure(figsize=(12, 6))\n",
        "plt.plot(test_label, label='actual')\n",
        "plt.plot(pred, label='prediction')\n",
        "plt.plot(np.sqrt((pred - test_label)**2), label='Difference')\n",
        "plt.legend(frameon=False, fontsize = 15)\n",
        "plt.grid(ls='--')\n",
        "plt.show()"
      ],
      "execution_count": 58,
      "outputs": [
        {
          "output_type": "stream",
          "text": [
            "findfont: Font family ['NanumBarunGothic'] not found. Falling back to DejaVu Sans.\n"
          ],
          "name": "stderr"
        },
        {
          "output_type": "display_data",
          "data": {
            "image/png": "[encoded data removed]",
            "text/plain": [
              "<Figure size 864x432 with 1 Axes>"
            ]
          },
          "metadata": {
            "tags": [],
            "needs_background": "light"
          }
        }
      ]
    },
    {
      "cell_type": "code",
      "metadata": {
        "id": "9V4KSbMGaZWW",
        "colab_type": "code",
        "colab": {
          "base_uri": "https://localhost:8080/",
          "height": 279
        },
        "outputId": "9b9473e9-200a-4870-e850-ff1be0f5a2bb"
      },
      "source": [
        "#훈련 손실값loss\n",
        "fig, loss_ax=plt.subplots()\n",
        "loss_ax.plot(history.history['loss'], 'b', label='train loss')\n",
        "loss_ax.set_xlabel('epoch')\n",
        "loss_ax.set_ylabel('loss')\n",
        "plt.show()"
      ],
      "execution_count": 59,
      "outputs": [
        {
          "output_type": "display_data",
          "data": {
            "image/png": "[encoded data removed]",
            "text/plain": [
              "<Figure size 432x288 with 1 Axes>"
            ]
          },
          "metadata": {
            "tags": [],
            "needs_background": "light"
          }
        }
      ]
    },
    {
      "cell_type": "code",
      "metadata": {
        "id": "LYATprjIak6P",
        "colab_type": "code",
        "colab": {
          "base_uri": "https://localhost:8080/",
          "height": 34
        },
        "outputId": "0bff5e04-9e9b-4f68-da9f-2b6158bcf8d3"
      },
      "source": [
        "mse=mean_squared_error(test_label, pred)\n",
        "rmse=np.sqrt(mse)\n",
        "rmse\n"
      ],
      "execution_count": 60,
      "outputs": [
        {
          "output_type": "execute_result",
          "data": {
            "text/plain": [
              "0.0505789075567714"
            ]
          },
          "metadata": {
            "tags": []
          },
          "execution_count": 60
        }
      ]
    },
    {
      "cell_type": "code",
      "metadata": {
        "id": "EL0VUBCybNM4",
        "colab_type": "code",
        "colab": {
          "base_uri": "https://localhost:8080/",
          "height": 1000
        },
        "outputId": "e795f850-8ff3-4d91-ba4f-c25118829d26"
      },
      "source": [
        "print(pred)"
      ],
      "execution_count": 71,
      "outputs": [
        {
          "output_type": "stream",
          "text": [
            "[[0.7806563 ]\n",
            " [0.796416  ]\n",
            " [0.7450249 ]\n",
            " [0.65707934]\n",
            " [0.6678543 ]\n",
            " [0.5790689 ]\n",
            " [0.52429885]\n",
            " [0.48963362]\n",
            " [0.44969356]\n",
            " [0.39015597]\n",
            " [0.32502007]\n",
            " [0.23056424]\n",
            " [0.31741977]\n",
            " [0.22484913]\n",
            " [0.38639456]\n",
            " [0.4480496 ]\n",
            " [0.4162585 ]\n",
            " [0.42152262]\n",
            " [0.40548834]\n",
            " [0.39850733]\n",
            " [0.33304647]\n",
            " [0.36443096]\n",
            " [0.3718507 ]\n",
            " [0.44983298]\n",
            " [0.4769563 ]\n",
            " [0.44043466]\n",
            " [0.4495403 ]\n",
            " [0.4561377 ]\n",
            " [0.42442125]\n",
            " [0.44794336]\n",
            " [0.44884905]\n",
            " [0.56157666]\n",
            " [0.50920707]\n",
            " [0.4649772 ]\n",
            " [0.47856867]\n",
            " [0.48099783]\n",
            " [0.4636538 ]\n",
            " [0.47831917]\n",
            " [0.48947698]\n",
            " [0.48729667]\n",
            " [0.43499252]\n",
            " [0.45441896]\n",
            " [0.44247973]\n",
            " [0.43990743]\n",
            " [0.42584357]\n",
            " [0.40663898]\n",
            " [0.43361095]\n",
            " [0.41405952]\n",
            " [0.40390545]\n",
            " [0.44608626]\n",
            " [0.5100509 ]\n",
            " [0.49607402]\n",
            " [0.48755533]\n",
            " [0.4438219 ]\n",
            " [0.44059417]\n",
            " [0.45632926]\n",
            " [0.4855232 ]\n",
            " [0.5029585 ]\n",
            " [0.5141002 ]\n",
            " [0.5323895 ]\n",
            " [0.5413124 ]\n",
            " [0.68978727]\n",
            " [0.68252313]\n",
            " [0.70487577]\n",
            " [0.6815896 ]\n",
            " [0.7016575 ]\n",
            " [0.69969344]\n",
            " [0.65857416]\n",
            " [0.5831334 ]\n",
            " [0.492303  ]\n",
            " [0.5773685 ]\n",
            " [0.5819863 ]\n",
            " [0.5809257 ]\n",
            " [0.6008311 ]\n",
            " [0.5695926 ]\n",
            " [0.54432577]\n",
            " [0.6033106 ]\n",
            " [0.5689595 ]\n",
            " [0.6140722 ]\n",
            " [0.58547527]]\n"
          ],
          "name": "stdout"
        }
      ]
    },
    {
      "cell_type": "code",
      "metadata": {
        "id": "pVoncF18b6Vi",
        "colab_type": "code",
        "colab": {}
      },
      "source": [
        "trainPredict=scaler.inverse_transform(pred)"
      ],
      "execution_count": 72,
      "outputs": []
    },
    {
      "cell_type": "code",
      "metadata": {
        "id": "9aPxBUrccQTU",
        "colab_type": "code",
        "colab": {
          "base_uri": "https://localhost:8080/",
          "height": 1000
        },
        "outputId": "6363e1da-dd26-4c32-f69d-0b80c93804e9"
      },
      "source": [
        "print(trainPredict)"
      ],
      "execution_count": 73,
      "outputs": [
        {
          "output_type": "stream",
          "text": [
            "[[56927.37 ]\n",
            " [57320.574]\n",
            " [56038.375]\n",
            " [53844.13 ]\n",
            " [54112.965]\n",
            " [51897.77 ]\n",
            " [50531.254]\n",
            " [49666.36 ]\n",
            " [48669.85 ]\n",
            " [47184.39 ]\n",
            " [45559.25 ]\n",
            " [43202.58 ]\n",
            " [45369.62 ]\n",
            " [43059.99 ]\n",
            " [47090.543]\n",
            " [48628.836]\n",
            " [47835.65 ]\n",
            " [47966.99 ]\n",
            " [47566.934]\n",
            " [47392.758]\n",
            " [45759.51 ]\n",
            " [46542.555]\n",
            " [46727.676]\n",
            " [48673.332]\n",
            " [49350.06 ]\n",
            " [48438.844]\n",
            " [48666.03 ]\n",
            " [48830.637]\n",
            " [48039.31 ]\n",
            " [48626.188]\n",
            " [48648.785]\n",
            " [51461.34 ]\n",
            " [50154.715]\n",
            " [49051.18 ]\n",
            " [49390.29 ]\n",
            " [49450.9  ]\n",
            " [49018.16 ]\n",
            " [49384.062]\n",
            " [49662.45 ]\n",
            " [49608.05 ]\n",
            " [48303.062]\n",
            " [48787.754]\n",
            " [48489.867]\n",
            " [48425.688]\n",
            " [48074.797]\n",
            " [47595.64 ]\n",
            " [48268.594]\n",
            " [47780.785]\n",
            " [47527.44 ]\n",
            " [48579.85 ]\n",
            " [50175.77 ]\n",
            " [49827.047]\n",
            " [49614.504]\n",
            " [48523.355]\n",
            " [48442.824]\n",
            " [48835.414]\n",
            " [49563.805]\n",
            " [49998.812]\n",
            " [50276.797]\n",
            " [50733.117]\n",
            " [50955.742]\n",
            " [54660.19 ]\n",
            " [54478.95 ]\n",
            " [55036.652]\n",
            " [54455.664]\n",
            " [54956.35 ]\n",
            " [54907.35 ]\n",
            " [53881.426]\n",
            " [51999.176]\n",
            " [49732.957]\n",
            " [51855.348]\n",
            " [51970.56 ]\n",
            " [51944.098]\n",
            " [52440.734]\n",
            " [51661.336]\n",
            " [51030.926]\n",
            " [52502.6  ]\n",
            " [51645.54 ]\n",
            " [52771.1  ]\n",
            " [52057.61 ]]\n"
          ],
          "name": "stdout"
        }
      ]
    },
    {
      "cell_type": "code",
      "metadata": {
        "id": "k-lKS3lPcS9a",
        "colab_type": "code",
        "colab": {
          "base_uri": "https://localhost:8080/",
          "height": 50
        },
        "outputId": "97544076-f4e7-4748-bc2c-d460fde260c7"
      },
      "source": [
        "loss, mae=model.evaluate(x_train, y_train, batch_size=1)\n",
        "print(loss, mae)\n",
        "#mae는 오차의 절대값: 0이 제일 정확"
      ],
      "execution_count": 75,
      "outputs": [
        {
          "output_type": "stream",
          "text": [
            "392/392 [==============================] - 1s 2ms/step - loss: 8.9081e-04 - mse: 8.9081e-04\n",
            "0.0008908134768716991 0.0008908134768716991\n"
          ],
          "name": "stdout"
        }
      ]
    },
    {
      "cell_type": "code",
      "metadata": {
        "id": "CEso_xNod4Y1",
        "colab_type": "code",
        "colab": {
          "base_uri": "https://localhost:8080/",
          "height": 342
        },
        "outputId": "10981f79-1335-4a49-90cc-da9e13506275"
      },
      "source": [
        "%matplotlib inline\n",
        "import matplotlib.pyplot as plt\n",
        "\n",
        "plt.scatter(test_label, pred)\n",
        "plt.xlabel(\"Price Index: $Y_i$\")\n",
        "plt.ylabel(\"Predicted price Index: $\\hat{Y}_i$\")\n",
        "plt.title(\"Prices vs Predicted price Index: $Y_i$ vs $\\hat{Y}_i$\")\n",
        "#예측값과 원래값이 일치하면 직선에 가깝게 분포됨"
      ],
      "execution_count": 77,
      "outputs": [
        {
          "output_type": "execute_result",
          "data": {
            "text/plain": [
              "Text(0.5, 1.0, 'Prices vs Predicted price Index: $Y_i$ vs $\\\\hat{Y}_i$')"
            ]
          },
          "metadata": {
            "tags": []
          },
          "execution_count": 77
        },
        {
          "output_type": "stream",
          "text": [
            "findfont: Font family ['NanumBarunGothic'] not found. Falling back to DejaVu Sans.\n"
          ],
          "name": "stderr"
        },
        {
          "output_type": "display_data",
          "data": {
            "image/png": "[encoded data removed]",
            "text/plain": [
              "<Figure size 432x288 with 1 Axes>"
            ]
          },
          "metadata": {
            "tags": [],
            "needs_background": "light"
          }
        }
      ]
    },
    {
      "cell_type": "code",
      "metadata": {
        "id": "AC_N6D_AeEvG",
        "colab_type": "code",
        "colab": {
          "base_uri": "https://localhost:8080/",
          "height": 67
        },
        "outputId": "9732d714-c97c-4a99-b120-124c0a6a7173"
      },
      "source": [
        "trainScore = model.evaluate(x_train, y_train, verbose=0)\n",
        "print('Train Score: ', trainScore)\n",
        "valScore = model.evaluate(x_valid, y_valid, verbose=0)\n",
        "print('Validataion Score: ', valScore)\n",
        "testScore = model.evaluate(test_feature,test_label, verbose=0)\n",
        "print('Test Score: ', testScore)"
      ],
      "execution_count": 82,
      "outputs": [
        {
          "output_type": "stream",
          "text": [
            "Train Score:  [0.0008908141753636301, 0.0008908141753636301]\n",
            "Validataion Score:  [0.001471913419663906, 0.001471913419663906]\n",
            "Test Score:  [0.002558225765824318, 0.002558225765824318]\n"
          ],
          "name": "stdout"
        }
      ]
    },
    {
      "cell_type": "code",
      "metadata": {
        "id": "GwHx_WAEfxiF",
        "colab_type": "code",
        "colab": {}
      },
      "source": [
        ""
      ],
      "execution_count": null,
      "outputs": []
    }
  ]
}