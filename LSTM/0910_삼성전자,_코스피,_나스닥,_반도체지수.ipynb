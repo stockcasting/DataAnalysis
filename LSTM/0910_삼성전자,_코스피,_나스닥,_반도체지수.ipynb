{
  "nbformat": 4,
  "nbformat_minor": 0,
  "metadata": {
    "colab": {
      "name": "0910_삼성전자, 코스피, 나스닥, 반도체지수",
      "provenance": [],
      "collapsed_sections": []
    },
    "kernelspec": {
      "name": "python3",
      "display_name": "Python 3"
    }
  },
  "cells": [
    {
      "cell_type": "code",
      "metadata": {
        "id": "KPUOFXXXrHCQ",
        "colab_type": "code",
        "colab": {
          "base_uri": "https://localhost:8080/",
          "height": 50
        },
        "outputId": "0ffa05c5-ce6e-41b5-bcd4-7c6a305c3136"
      },
      "source": [
        "import numpy as np\n",
        "import pandas as pd\n",
        "import matplotlib as mpl\n",
        "import matplotlib.pyplot as plt\n",
        "import seaborn as sns\n",
        "import warnings\n",
        "warnings.filterwarnings('ignore')\n",
        "mpl.rcParams[\"font.family\"] = 'NanumBarunGothic'\n",
        "mpl.rcParams['axes.unicode_minus'] = False\n",
        "%matplotlib inline"
      ],
      "execution_count": 1,
      "outputs": [
        {
          "output_type": "stream",
          "text": [
            "/usr/local/lib/python3.6/dist-packages/statsmodels/tools/_testing.py:19: FutureWarning: pandas.util.testing is deprecated. Use the functions in the public API at pandas.testing instead.\n",
            "  import pandas.util.testing as tm\n"
          ],
          "name": "stderr"
        }
      ]
    },
    {
      "cell_type": "code",
      "metadata": {
        "id": "jD7QeGvzr6oF",
        "colab_type": "code",
        "colab": {}
      },
      "source": [
        "from keras.models import Sequential\n",
        "from keras.layers import Dense, LSTM\n",
        "from sklearn.preprocessing import MinMaxScaler\n",
        "from sklearn.metrics import mean_squared_error"
      ],
      "execution_count": 2,
      "outputs": []
    },
    {
      "cell_type": "code",
      "metadata": {
        "id": "AHScKqkLr-C7",
        "colab_type": "code",
        "colab": {
          "resources": {
            "http://localhost:8080/nbextensions/google.colab/files.js": {
              "data": "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",
              "ok": true,
              "headers": [
                [
                  "content-type",
                  "application/javascript"
                ]
              ],
              "status": 200,
              "status_text": ""
            }
          },
          "base_uri": "https://localhost:8080/",
          "height": 75
        },
        "outputId": "1f837168-2c5d-4b04-ccf0-40a4fea49497"
      },
      "source": [
        "from google.colab import files\n",
        "uploaded=files.upload()"
      ],
      "execution_count": 3,
      "outputs": [
        {
          "output_type": "display_data",
          "data": {
            "text/html": [
              "\n",
              "     <input type=\"file\" id=\"files-046af3d0-a357-4d66-8358-ae5a8b4510ea\" name=\"files[]\" multiple disabled\n",
              "        style=\"border:none\" />\n",
              "     <output id=\"result-046af3d0-a357-4d66-8358-ae5a8b4510ea\">\n",
              "      Upload widget is only available when the cell has been executed in the\n",
              "      current browser session. Please rerun this cell to enable.\n",
              "      </output>\n",
              "      <script src=\"/nbextensions/google.colab/files.js\"></script> "
            ],
            "text/plain": [
              "<IPython.core.display.HTML object>"
            ]
          },
          "metadata": {
            "tags": []
          }
        },
        {
          "output_type": "stream",
          "text": [
            "Saving feature_15.csv.txt to feature_15.csv.txt\n"
          ],
          "name": "stdout"
        }
      ]
    },
    {
      "cell_type": "code",
      "metadata": {
        "id": "NBWcunnXsHHi",
        "colab_type": "code",
        "colab": {}
      },
      "source": [
        "import io\n",
        "data=pd.read_csv(io.BytesIO(uploaded['feature_15.csv.txt']))"
      ],
      "execution_count": 4,
      "outputs": []
    },
    {
      "cell_type": "code",
      "metadata": {
        "id": "eWp1gvVcsMal",
        "colab_type": "code",
        "colab": {
          "base_uri": "https://localhost:8080/",
          "height": 195
        },
        "outputId": "9577a3ab-7fae-45ce-8f43-b7cd40c4b543"
      },
      "source": [
        "data.head()"
      ],
      "execution_count": 5,
      "outputs": [
        {
          "output_type": "execute_result",
          "data": {
            "text/html": [
              "<div>\n",
              "<style scoped>\n",
              "    .dataframe tbody tr th:only-of-type {\n",
              "        vertical-align: middle;\n",
              "    }\n",
              "\n",
              "    .dataframe tbody tr th {\n",
              "        vertical-align: top;\n",
              "    }\n",
              "\n",
              "    .dataframe thead th {\n",
              "        text-align: right;\n",
              "    }\n",
              "</style>\n",
              "<table border=\"1\" class=\"dataframe\">\n",
              "  <thead>\n",
              "    <tr style=\"text-align: right;\">\n",
              "      <th></th>\n",
              "      <th>Date</th>\n",
              "      <th>Open</th>\n",
              "      <th>High</th>\n",
              "      <th>Low</th>\n",
              "      <th>Close</th>\n",
              "      <th>Volume</th>\n",
              "      <th>nasdaq</th>\n",
              "      <th>exchange</th>\n",
              "      <th>Semiconductor</th>\n",
              "      <th>foreign</th>\n",
              "      <th>institution</th>\n",
              "      <th>KOSPI</th>\n",
              "      <th>Korea_bond_1year</th>\n",
              "      <th>PBR</th>\n",
              "      <th>PER</th>\n",
              "      <th>ROE</th>\n",
              "    </tr>\n",
              "  </thead>\n",
              "  <tbody>\n",
              "    <tr>\n",
              "      <th>0</th>\n",
              "      <td>2018-01-02</td>\n",
              "      <td>51380.0</td>\n",
              "      <td>51400.0</td>\n",
              "      <td>50780.0</td>\n",
              "      <td>51020.0</td>\n",
              "      <td>169485.0</td>\n",
              "      <td>7006.90</td>\n",
              "      <td>1067.23</td>\n",
              "      <td>1287.70</td>\n",
              "      <td>-23405.0</td>\n",
              "      <td>-18019.0</td>\n",
              "      <td>2479.65</td>\n",
              "      <td>1.816</td>\n",
              "      <td>0.037682</td>\n",
              "      <td>0.265244</td>\n",
              "      <td>0.142064</td>\n",
              "    </tr>\n",
              "    <tr>\n",
              "      <th>1</th>\n",
              "      <td>2018-01-03</td>\n",
              "      <td>52540.0</td>\n",
              "      <td>52560.0</td>\n",
              "      <td>51420.0</td>\n",
              "      <td>51620.0</td>\n",
              "      <td>200270.0</td>\n",
              "      <td>7065.53</td>\n",
              "      <td>1062.88</td>\n",
              "      <td>1309.86</td>\n",
              "      <td>-47563.0</td>\n",
              "      <td>45759.0</td>\n",
              "      <td>2486.35</td>\n",
              "      <td>1.792</td>\n",
              "      <td>0.038125</td>\n",
              "      <td>0.268364</td>\n",
              "      <td>0.142064</td>\n",
              "    </tr>\n",
              "    <tr>\n",
              "      <th>2</th>\n",
              "      <td>2018-01-04</td>\n",
              "      <td>52120.0</td>\n",
              "      <td>52180.0</td>\n",
              "      <td>50640.0</td>\n",
              "      <td>51080.0</td>\n",
              "      <td>233909.0</td>\n",
              "      <td>7077.91</td>\n",
              "      <td>1064.84</td>\n",
              "      <td>1317.24</td>\n",
              "      <td>-39755.0</td>\n",
              "      <td>26643.0</td>\n",
              "      <td>2466.46</td>\n",
              "      <td>1.800</td>\n",
              "      <td>0.037726</td>\n",
              "      <td>0.265556</td>\n",
              "      <td>0.142064</td>\n",
              "    </tr>\n",
              "    <tr>\n",
              "      <th>3</th>\n",
              "      <td>2018-01-05</td>\n",
              "      <td>51300.0</td>\n",
              "      <td>52120.0</td>\n",
              "      <td>51200.0</td>\n",
              "      <td>52120.0</td>\n",
              "      <td>189623.0</td>\n",
              "      <td>7136.56</td>\n",
              "      <td>1063.33</td>\n",
              "      <td>1325.71</td>\n",
              "      <td>5786.0</td>\n",
              "      <td>9550.0</td>\n",
              "      <td>2497.52</td>\n",
              "      <td>1.781</td>\n",
              "      <td>0.038494</td>\n",
              "      <td>0.270963</td>\n",
              "      <td>0.142064</td>\n",
              "    </tr>\n",
              "    <tr>\n",
              "      <th>4</th>\n",
              "      <td>2018-01-08</td>\n",
              "      <td>52400.0</td>\n",
              "      <td>52520.0</td>\n",
              "      <td>51500.0</td>\n",
              "      <td>52020.0</td>\n",
              "      <td>167673.0</td>\n",
              "      <td>7157.39</td>\n",
              "      <td>1062.27</td>\n",
              "      <td>1335.54</td>\n",
              "      <td>-17940.0</td>\n",
              "      <td>9060.0</td>\n",
              "      <td>2513.28</td>\n",
              "      <td>1.789</td>\n",
              "      <td>0.038420</td>\n",
              "      <td>0.270443</td>\n",
              "      <td>0.142064</td>\n",
              "    </tr>\n",
              "  </tbody>\n",
              "</table>\n",
              "</div>"
            ],
            "text/plain": [
              "         Date     Open     High  ...       PBR       PER       ROE\n",
              "0  2018-01-02  51380.0  51400.0  ...  0.037682  0.265244  0.142064\n",
              "1  2018-01-03  52540.0  52560.0  ...  0.038125  0.268364  0.142064\n",
              "2  2018-01-04  52120.0  52180.0  ...  0.037726  0.265556  0.142064\n",
              "3  2018-01-05  51300.0  52120.0  ...  0.038494  0.270963  0.142064\n",
              "4  2018-01-08  52400.0  52520.0  ...  0.038420  0.270443  0.142064\n",
              "\n",
              "[5 rows x 16 columns]"
            ]
          },
          "metadata": {
            "tags": []
          },
          "execution_count": 5
        }
      ]
    },
    {
      "cell_type": "code",
      "metadata": {
        "id": "K5K8wbd8sgYh",
        "colab_type": "code",
        "colab": {}
      },
      "source": [
        "df=data\n",
        "df=df[df['Open']!=0]"
      ],
      "execution_count": 7,
      "outputs": []
    },
    {
      "cell_type": "code",
      "metadata": {
        "id": "U3CsjID3sjVJ",
        "colab_type": "code",
        "colab": {}
      },
      "source": [
        "\n",
        "df.fillna(0, inplace=True)"
      ],
      "execution_count": 8,
      "outputs": []
    },
    {
      "cell_type": "code",
      "metadata": {
        "id": "jXWmehMlslEu",
        "colab_type": "code",
        "colab": {}
      },
      "source": [
        "idx = df.index[df['Date'] <= '2018-04-30'][-1]\n",
        "df['Volume'].iloc[:idx] = df['Volume'].iloc[:idx]*50"
      ],
      "execution_count": 9,
      "outputs": []
    },
    {
      "cell_type": "code",
      "metadata": {
        "id": "mF5OOCjes0VE",
        "colab_type": "code",
        "colab": {
          "base_uri": "https://localhost:8080/",
          "height": 195
        },
        "outputId": "a2888117-3e8d-4b94-ccd8-17dc9539c06a"
      },
      "source": [
        "df.head()"
      ],
      "execution_count": 10,
      "outputs": [
        {
          "output_type": "execute_result",
          "data": {
            "text/html": [
              "<div>\n",
              "<style scoped>\n",
              "    .dataframe tbody tr th:only-of-type {\n",
              "        vertical-align: middle;\n",
              "    }\n",
              "\n",
              "    .dataframe tbody tr th {\n",
              "        vertical-align: top;\n",
              "    }\n",
              "\n",
              "    .dataframe thead th {\n",
              "        text-align: right;\n",
              "    }\n",
              "</style>\n",
              "<table border=\"1\" class=\"dataframe\">\n",
              "  <thead>\n",
              "    <tr style=\"text-align: right;\">\n",
              "      <th></th>\n",
              "      <th>Date</th>\n",
              "      <th>Open</th>\n",
              "      <th>High</th>\n",
              "      <th>Low</th>\n",
              "      <th>Close</th>\n",
              "      <th>Volume</th>\n",
              "      <th>nasdaq</th>\n",
              "      <th>exchange</th>\n",
              "      <th>Semiconductor</th>\n",
              "      <th>foreign</th>\n",
              "      <th>institution</th>\n",
              "      <th>KOSPI</th>\n",
              "      <th>Korea_bond_1year</th>\n",
              "      <th>PBR</th>\n",
              "      <th>PER</th>\n",
              "      <th>ROE</th>\n",
              "    </tr>\n",
              "  </thead>\n",
              "  <tbody>\n",
              "    <tr>\n",
              "      <th>0</th>\n",
              "      <td>2018-01-02</td>\n",
              "      <td>51380.0</td>\n",
              "      <td>51400.0</td>\n",
              "      <td>50780.0</td>\n",
              "      <td>51020.0</td>\n",
              "      <td>8474250.0</td>\n",
              "      <td>7006.90</td>\n",
              "      <td>1067.23</td>\n",
              "      <td>1287.70</td>\n",
              "      <td>-23405.0</td>\n",
              "      <td>-18019.0</td>\n",
              "      <td>2479.65</td>\n",
              "      <td>1.816</td>\n",
              "      <td>0.037682</td>\n",
              "      <td>0.265244</td>\n",
              "      <td>0.142064</td>\n",
              "    </tr>\n",
              "    <tr>\n",
              "      <th>1</th>\n",
              "      <td>2018-01-03</td>\n",
              "      <td>52540.0</td>\n",
              "      <td>52560.0</td>\n",
              "      <td>51420.0</td>\n",
              "      <td>51620.0</td>\n",
              "      <td>10013500.0</td>\n",
              "      <td>7065.53</td>\n",
              "      <td>1062.88</td>\n",
              "      <td>1309.86</td>\n",
              "      <td>-47563.0</td>\n",
              "      <td>45759.0</td>\n",
              "      <td>2486.35</td>\n",
              "      <td>1.792</td>\n",
              "      <td>0.038125</td>\n",
              "      <td>0.268364</td>\n",
              "      <td>0.142064</td>\n",
              "    </tr>\n",
              "    <tr>\n",
              "      <th>2</th>\n",
              "      <td>2018-01-04</td>\n",
              "      <td>52120.0</td>\n",
              "      <td>52180.0</td>\n",
              "      <td>50640.0</td>\n",
              "      <td>51080.0</td>\n",
              "      <td>11695450.0</td>\n",
              "      <td>7077.91</td>\n",
              "      <td>1064.84</td>\n",
              "      <td>1317.24</td>\n",
              "      <td>-39755.0</td>\n",
              "      <td>26643.0</td>\n",
              "      <td>2466.46</td>\n",
              "      <td>1.800</td>\n",
              "      <td>0.037726</td>\n",
              "      <td>0.265556</td>\n",
              "      <td>0.142064</td>\n",
              "    </tr>\n",
              "    <tr>\n",
              "      <th>3</th>\n",
              "      <td>2018-01-05</td>\n",
              "      <td>51300.0</td>\n",
              "      <td>52120.0</td>\n",
              "      <td>51200.0</td>\n",
              "      <td>52120.0</td>\n",
              "      <td>9481150.0</td>\n",
              "      <td>7136.56</td>\n",
              "      <td>1063.33</td>\n",
              "      <td>1325.71</td>\n",
              "      <td>5786.0</td>\n",
              "      <td>9550.0</td>\n",
              "      <td>2497.52</td>\n",
              "      <td>1.781</td>\n",
              "      <td>0.038494</td>\n",
              "      <td>0.270963</td>\n",
              "      <td>0.142064</td>\n",
              "    </tr>\n",
              "    <tr>\n",
              "      <th>4</th>\n",
              "      <td>2018-01-08</td>\n",
              "      <td>52400.0</td>\n",
              "      <td>52520.0</td>\n",
              "      <td>51500.0</td>\n",
              "      <td>52020.0</td>\n",
              "      <td>8383650.0</td>\n",
              "      <td>7157.39</td>\n",
              "      <td>1062.27</td>\n",
              "      <td>1335.54</td>\n",
              "      <td>-17940.0</td>\n",
              "      <td>9060.0</td>\n",
              "      <td>2513.28</td>\n",
              "      <td>1.789</td>\n",
              "      <td>0.038420</td>\n",
              "      <td>0.270443</td>\n",
              "      <td>0.142064</td>\n",
              "    </tr>\n",
              "  </tbody>\n",
              "</table>\n",
              "</div>"
            ],
            "text/plain": [
              "         Date     Open     High  ...       PBR       PER       ROE\n",
              "0  2018-01-02  51380.0  51400.0  ...  0.037682  0.265244  0.142064\n",
              "1  2018-01-03  52540.0  52560.0  ...  0.038125  0.268364  0.142064\n",
              "2  2018-01-04  52120.0  52180.0  ...  0.037726  0.265556  0.142064\n",
              "3  2018-01-05  51300.0  52120.0  ...  0.038494  0.270963  0.142064\n",
              "4  2018-01-08  52400.0  52520.0  ...  0.038420  0.270443  0.142064\n",
              "\n",
              "[5 rows x 16 columns]"
            ]
          },
          "metadata": {
            "tags": []
          },
          "execution_count": 10
        }
      ]
    },
    {
      "cell_type": "code",
      "metadata": {
        "id": "y5fE2fSNs9NL",
        "colab_type": "code",
        "colab": {}
      },
      "source": [
        "df.set_index('Date',inplace=True)"
      ],
      "execution_count": null,
      "outputs": []
    },
    {
      "cell_type": "code",
      "metadata": {
        "id": "I9mwhJq1tEiM",
        "colab_type": "code",
        "colab": {
          "base_uri": "https://localhost:8080/",
          "height": 329
        },
        "outputId": "6d4772b0-57e2-4f88-b168-6b8c16ada326"
      },
      "source": [
        "df.head()\n"
      ],
      "execution_count": null,
      "outputs": [
        {
          "output_type": "execute_result",
          "data": {
            "text/html": [
              "<div>\n",
              "<style scoped>\n",
              "    .dataframe tbody tr th:only-of-type {\n",
              "        vertical-align: middle;\n",
              "    }\n",
              "\n",
              "    .dataframe tbody tr th {\n",
              "        vertical-align: top;\n",
              "    }\n",
              "\n",
              "    .dataframe thead th {\n",
              "        text-align: right;\n",
              "    }\n",
              "</style>\n",
              "<table border=\"1\" class=\"dataframe\">\n",
              "  <thead>\n",
              "    <tr style=\"text-align: right;\">\n",
              "      <th></th>\n",
              "      <th>Open</th>\n",
              "      <th>High</th>\n",
              "      <th>Low</th>\n",
              "      <th>Close</th>\n",
              "      <th>Volume</th>\n",
              "      <th>nasdaq</th>\n",
              "      <th>exchange</th>\n",
              "      <th>Semiconductor</th>\n",
              "      <th>foreign</th>\n",
              "      <th>institution</th>\n",
              "      <th>KOSPI</th>\n",
              "      <th>Korea_bond_1year</th>\n",
              "      <th>PBR</th>\n",
              "      <th>PER</th>\n",
              "      <th>ROE</th>\n",
              "      <th>5days</th>\n",
              "      <th>10days</th>\n",
              "      <th>20days</th>\n",
              "      <th>60days</th>\n",
              "    </tr>\n",
              "    <tr>\n",
              "      <th>Date</th>\n",
              "      <th></th>\n",
              "      <th></th>\n",
              "      <th></th>\n",
              "      <th></th>\n",
              "      <th></th>\n",
              "      <th></th>\n",
              "      <th></th>\n",
              "      <th></th>\n",
              "      <th></th>\n",
              "      <th></th>\n",
              "      <th></th>\n",
              "      <th></th>\n",
              "      <th></th>\n",
              "      <th></th>\n",
              "      <th></th>\n",
              "      <th></th>\n",
              "      <th></th>\n",
              "      <th></th>\n",
              "      <th></th>\n",
              "    </tr>\n",
              "  </thead>\n",
              "  <tbody>\n",
              "    <tr>\n",
              "      <th>2018-01-02</th>\n",
              "      <td>51380.0</td>\n",
              "      <td>51400.0</td>\n",
              "      <td>50780.0</td>\n",
              "      <td>51020.0</td>\n",
              "      <td>8474250.0</td>\n",
              "      <td>7006.90</td>\n",
              "      <td>1067.23</td>\n",
              "      <td>1287.70</td>\n",
              "      <td>-23405.0</td>\n",
              "      <td>-18019.0</td>\n",
              "      <td>2479.65</td>\n",
              "      <td>1.816</td>\n",
              "      <td>0.037682</td>\n",
              "      <td>0.265244</td>\n",
              "      <td>0.142064</td>\n",
              "      <td>0.0</td>\n",
              "      <td>0.0</td>\n",
              "      <td>0.0</td>\n",
              "      <td>0.0</td>\n",
              "    </tr>\n",
              "    <tr>\n",
              "      <th>2018-01-03</th>\n",
              "      <td>52540.0</td>\n",
              "      <td>52560.0</td>\n",
              "      <td>51420.0</td>\n",
              "      <td>51620.0</td>\n",
              "      <td>10013500.0</td>\n",
              "      <td>7065.53</td>\n",
              "      <td>1062.88</td>\n",
              "      <td>1309.86</td>\n",
              "      <td>-47563.0</td>\n",
              "      <td>45759.0</td>\n",
              "      <td>2486.35</td>\n",
              "      <td>1.792</td>\n",
              "      <td>0.038125</td>\n",
              "      <td>0.268364</td>\n",
              "      <td>0.142064</td>\n",
              "      <td>0.0</td>\n",
              "      <td>0.0</td>\n",
              "      <td>0.0</td>\n",
              "      <td>0.0</td>\n",
              "    </tr>\n",
              "    <tr>\n",
              "      <th>2018-01-04</th>\n",
              "      <td>52120.0</td>\n",
              "      <td>52180.0</td>\n",
              "      <td>50640.0</td>\n",
              "      <td>51080.0</td>\n",
              "      <td>11695450.0</td>\n",
              "      <td>7077.91</td>\n",
              "      <td>1064.84</td>\n",
              "      <td>1317.24</td>\n",
              "      <td>-39755.0</td>\n",
              "      <td>26643.0</td>\n",
              "      <td>2466.46</td>\n",
              "      <td>1.800</td>\n",
              "      <td>0.037726</td>\n",
              "      <td>0.265556</td>\n",
              "      <td>0.142064</td>\n",
              "      <td>0.0</td>\n",
              "      <td>0.0</td>\n",
              "      <td>0.0</td>\n",
              "      <td>0.0</td>\n",
              "    </tr>\n",
              "    <tr>\n",
              "      <th>2018-01-05</th>\n",
              "      <td>51300.0</td>\n",
              "      <td>52120.0</td>\n",
              "      <td>51200.0</td>\n",
              "      <td>52120.0</td>\n",
              "      <td>9481150.0</td>\n",
              "      <td>7136.56</td>\n",
              "      <td>1063.33</td>\n",
              "      <td>1325.71</td>\n",
              "      <td>5786.0</td>\n",
              "      <td>9550.0</td>\n",
              "      <td>2497.52</td>\n",
              "      <td>1.781</td>\n",
              "      <td>0.038494</td>\n",
              "      <td>0.270963</td>\n",
              "      <td>0.142064</td>\n",
              "      <td>0.0</td>\n",
              "      <td>0.0</td>\n",
              "      <td>0.0</td>\n",
              "      <td>0.0</td>\n",
              "    </tr>\n",
              "    <tr>\n",
              "      <th>2018-01-08</th>\n",
              "      <td>52400.0</td>\n",
              "      <td>52520.0</td>\n",
              "      <td>51500.0</td>\n",
              "      <td>52020.0</td>\n",
              "      <td>8383650.0</td>\n",
              "      <td>7157.39</td>\n",
              "      <td>1062.27</td>\n",
              "      <td>1335.54</td>\n",
              "      <td>-17940.0</td>\n",
              "      <td>9060.0</td>\n",
              "      <td>2513.28</td>\n",
              "      <td>1.789</td>\n",
              "      <td>0.038420</td>\n",
              "      <td>0.270443</td>\n",
              "      <td>0.142064</td>\n",
              "      <td>51572.0</td>\n",
              "      <td>0.0</td>\n",
              "      <td>0.0</td>\n",
              "      <td>0.0</td>\n",
              "    </tr>\n",
              "  </tbody>\n",
              "</table>\n",
              "</div>"
            ],
            "text/plain": [
              "               Open     High      Low    Close  ...    5days  10days  20days  60days\n",
              "Date                                            ...                                 \n",
              "2018-01-02  51380.0  51400.0  50780.0  51020.0  ...      0.0     0.0     0.0     0.0\n",
              "2018-01-03  52540.0  52560.0  51420.0  51620.0  ...      0.0     0.0     0.0     0.0\n",
              "2018-01-04  52120.0  52180.0  50640.0  51080.0  ...      0.0     0.0     0.0     0.0\n",
              "2018-01-05  51300.0  52120.0  51200.0  52120.0  ...      0.0     0.0     0.0     0.0\n",
              "2018-01-08  52400.0  52520.0  51500.0  52020.0  ...  51572.0     0.0     0.0     0.0\n",
              "\n",
              "[5 rows x 19 columns]"
            ]
          },
          "metadata": {
            "tags": []
          },
          "execution_count": 15
        }
      ]
    },
    {
      "cell_type": "code",
      "metadata": {
        "id": "AfgCxRAuz7df",
        "colab_type": "code",
        "colab": {
          "base_uri": "https://localhost:8080/",
          "height": 195
        },
        "outputId": "5f74b7ff-34dc-458b-f4b9-e89a6559b9d6"
      },
      "source": [
        "\n",
        "df.drop('exchange', axis=1, inplace=True)\n",
        "df.drop('foreign', axis=1, inplace=True)\n",
        "df.drop('institution', axis=1, inplace=True)\n",
        "df.drop('Korea_bond_1year', axis=1, inplace=True)\n",
        "df.drop('PBR', axis=1, inplace=True)\n",
        "df.drop('PER', axis=1, inplace=True)\n",
        "df.drop('ROE', axis=1, inplace=True)\n",
        "df.head()\n"
      ],
      "execution_count": 11,
      "outputs": [
        {
          "output_type": "execute_result",
          "data": {
            "text/html": [
              "<div>\n",
              "<style scoped>\n",
              "    .dataframe tbody tr th:only-of-type {\n",
              "        vertical-align: middle;\n",
              "    }\n",
              "\n",
              "    .dataframe tbody tr th {\n",
              "        vertical-align: top;\n",
              "    }\n",
              "\n",
              "    .dataframe thead th {\n",
              "        text-align: right;\n",
              "    }\n",
              "</style>\n",
              "<table border=\"1\" class=\"dataframe\">\n",
              "  <thead>\n",
              "    <tr style=\"text-align: right;\">\n",
              "      <th></th>\n",
              "      <th>Date</th>\n",
              "      <th>Open</th>\n",
              "      <th>High</th>\n",
              "      <th>Low</th>\n",
              "      <th>Close</th>\n",
              "      <th>Volume</th>\n",
              "      <th>nasdaq</th>\n",
              "      <th>Semiconductor</th>\n",
              "      <th>KOSPI</th>\n",
              "    </tr>\n",
              "  </thead>\n",
              "  <tbody>\n",
              "    <tr>\n",
              "      <th>0</th>\n",
              "      <td>2018-01-02</td>\n",
              "      <td>51380.0</td>\n",
              "      <td>51400.0</td>\n",
              "      <td>50780.0</td>\n",
              "      <td>51020.0</td>\n",
              "      <td>8474250.0</td>\n",
              "      <td>7006.90</td>\n",
              "      <td>1287.70</td>\n",
              "      <td>2479.65</td>\n",
              "    </tr>\n",
              "    <tr>\n",
              "      <th>1</th>\n",
              "      <td>2018-01-03</td>\n",
              "      <td>52540.0</td>\n",
              "      <td>52560.0</td>\n",
              "      <td>51420.0</td>\n",
              "      <td>51620.0</td>\n",
              "      <td>10013500.0</td>\n",
              "      <td>7065.53</td>\n",
              "      <td>1309.86</td>\n",
              "      <td>2486.35</td>\n",
              "    </tr>\n",
              "    <tr>\n",
              "      <th>2</th>\n",
              "      <td>2018-01-04</td>\n",
              "      <td>52120.0</td>\n",
              "      <td>52180.0</td>\n",
              "      <td>50640.0</td>\n",
              "      <td>51080.0</td>\n",
              "      <td>11695450.0</td>\n",
              "      <td>7077.91</td>\n",
              "      <td>1317.24</td>\n",
              "      <td>2466.46</td>\n",
              "    </tr>\n",
              "    <tr>\n",
              "      <th>3</th>\n",
              "      <td>2018-01-05</td>\n",
              "      <td>51300.0</td>\n",
              "      <td>52120.0</td>\n",
              "      <td>51200.0</td>\n",
              "      <td>52120.0</td>\n",
              "      <td>9481150.0</td>\n",
              "      <td>7136.56</td>\n",
              "      <td>1325.71</td>\n",
              "      <td>2497.52</td>\n",
              "    </tr>\n",
              "    <tr>\n",
              "      <th>4</th>\n",
              "      <td>2018-01-08</td>\n",
              "      <td>52400.0</td>\n",
              "      <td>52520.0</td>\n",
              "      <td>51500.0</td>\n",
              "      <td>52020.0</td>\n",
              "      <td>8383650.0</td>\n",
              "      <td>7157.39</td>\n",
              "      <td>1335.54</td>\n",
              "      <td>2513.28</td>\n",
              "    </tr>\n",
              "  </tbody>\n",
              "</table>\n",
              "</div>"
            ],
            "text/plain": [
              "         Date     Open     High  ...   nasdaq  Semiconductor    KOSPI\n",
              "0  2018-01-02  51380.0  51400.0  ...  7006.90        1287.70  2479.65\n",
              "1  2018-01-03  52540.0  52560.0  ...  7065.53        1309.86  2486.35\n",
              "2  2018-01-04  52120.0  52180.0  ...  7077.91        1317.24  2466.46\n",
              "3  2018-01-05  51300.0  52120.0  ...  7136.56        1325.71  2497.52\n",
              "4  2018-01-08  52400.0  52520.0  ...  7157.39        1335.54  2513.28\n",
              "\n",
              "[5 rows x 9 columns]"
            ]
          },
          "metadata": {
            "tags": []
          },
          "execution_count": 11
        }
      ]
    },
    {
      "cell_type": "code",
      "metadata": {
        "id": "VwpXpPsHtK6R",
        "colab_type": "code",
        "colab": {}
      },
      "source": [
        "scaler=MinMaxScaler()\n",
        "scale_cols=[\"Open\", \"High\", \"Low\", \"Close\", \"Volume\", \"nasdaq\", \n",
        "                      \"Semiconductor\", 'KOSPI']\n",
        "df_scaled=scaler.fit_transform(df[scale_cols])"
      ],
      "execution_count": 12,
      "outputs": []
    },
    {
      "cell_type": "code",
      "metadata": {
        "id": "83Gle3v1ti33",
        "colab_type": "code",
        "colab": {
          "base_uri": "https://localhost:8080/",
          "height": 252
        },
        "outputId": "22649abe-2475-4894-d39a-4719812279b9"
      },
      "source": [
        "df_scaled=pd.DataFrame(df_scaled)\n",
        "df_scaled.columns=scale_cols\n",
        "print(df_scaled)"
      ],
      "execution_count": 13,
      "outputs": [
        {
          "output_type": "stream",
          "text": [
            "         Open    High       Low  ...    nasdaq  Semiconductor     KOSPI\n",
            "0    0.567413  0.5520  0.572074  ...  0.206675       0.233419  0.896068\n",
            "1    0.614664  0.5984  0.598357  ...  0.221562       0.257113  0.901942\n",
            "2    0.597556  0.5832  0.566324  ...  0.224705       0.265004  0.884503\n",
            "3    0.564155  0.5808  0.589322  ...  0.239597       0.274060  0.911736\n",
            "4    0.608961  0.5968  0.601643  ...  0.244886       0.284570  0.925553\n",
            "..        ...     ...       ...  ...       ...            ...       ...\n",
            "585  0.588595  0.6520  0.605749  ...  0.943582       0.935462  0.617132\n",
            "586  0.596741  0.6160  0.618070  ...  0.970961       0.953372  0.574048\n",
            "587  0.625255  0.6520  0.630390  ...  0.905001       0.911534  0.593582\n",
            "588  0.613035  0.6240  0.622177  ...  0.934690       0.935035  0.557485\n",
            "589  0.670061  0.6520  0.655031  ...  0.981564       0.991211  0.570505\n",
            "\n",
            "[590 rows x 8 columns]\n"
          ],
          "name": "stdout"
        }
      ]
    },
    {
      "cell_type": "code",
      "metadata": {
        "id": "BS3XcLBatzO_",
        "colab_type": "code",
        "colab": {}
      },
      "source": [
        "TEST_SIZE=100\n",
        "train = df_scaled[:-TEST_SIZE]\n",
        "test = df_scaled[-TEST_SIZE:]"
      ],
      "execution_count": 14,
      "outputs": []
    },
    {
      "cell_type": "code",
      "metadata": {
        "id": "bd0I7mGMt1__",
        "colab_type": "code",
        "colab": {}
      },
      "source": [
        "def make_dataset(data, label, window_size=20):\n",
        "    feature_list = []\n",
        "    label_list = []\n",
        "    for i in range(len(data) - window_size):\n",
        "        feature_list.append(np.array(data.iloc[i:i+window_size]))\n",
        "        label_list.append(np.array(label.iloc[i+window_size]))\n",
        "    return np.array(feature_list), np.array(label_list)"
      ],
      "execution_count": 15,
      "outputs": []
    },
    {
      "cell_type": "code",
      "metadata": {
        "id": "U8a0CIbDt4FE",
        "colab_type": "code",
        "colab": {
          "base_uri": "https://localhost:8080/",
          "height": 50
        },
        "outputId": "265fc277-bfcf-4c9b-d2cb-9792e717914a"
      },
      "source": [
        "feature_cols = [\"Open\", \"High\", \"Low\", \"Volume\", \"nasdaq\", \n",
        "                      \"Semiconductor\", \n",
        "                     \"KOSPI\"]\n",
        "label_cols = ['Close']\n",
        "\n",
        "train_feature = train[feature_cols]\n",
        "train_label = train[label_cols]\n",
        "\n",
        "train_feature, train_label = make_dataset(train_feature, train_label, 20)\n",
        "\n",
        "from sklearn.model_selection import train_test_split\n",
        "x_train, x_valid, y_train, y_valid = train_test_split(train_feature, train_label, test_size=0.2,shuffle=False)\n",
        "\n",
        "print(x_train.shape, y_train.shape)\n",
        "print(x_valid.shape, y_valid.shape)"
      ],
      "execution_count": 16,
      "outputs": [
        {
          "output_type": "stream",
          "text": [
            "(376, 20, 7) (376, 1)\n",
            "(94, 20, 7) (94, 1)\n"
          ],
          "name": "stdout"
        }
      ]
    },
    {
      "cell_type": "code",
      "metadata": {
        "id": "ra-c3tKCuBi9",
        "colab_type": "code",
        "colab": {
          "base_uri": "https://localhost:8080/",
          "height": 34
        },
        "outputId": "1c302bfe-10d3-4a3c-b365-430c6aca51ca"
      },
      "source": [
        "test_feature=test[feature_cols]\n",
        "test_label=test[label_cols]\n",
        "\n",
        "test_feature, test_label = make_dataset(test_feature, test_label, 20)\n",
        "test_feature.shape, test_label.shape"
      ],
      "execution_count": 17,
      "outputs": [
        {
          "output_type": "execute_result",
          "data": {
            "text/plain": [
              "((80, 20, 7), (80, 1))"
            ]
          },
          "metadata": {
            "tags": []
          },
          "execution_count": 17
        }
      ]
    },
    {
      "cell_type": "code",
      "metadata": {
        "id": "kTw_Pp_UuFhC",
        "colab_type": "code",
        "colab": {}
      },
      "source": [
        "model = Sequential()\n",
        "model.add(LSTM(16, \n",
        "               input_shape=(train_feature.shape[1], train_feature.shape[2]), \n",
        "               activation='relu', \n",
        "               return_sequences=False)\n",
        "          )\n",
        "model.add(Dense(1))"
      ],
      "execution_count": 18,
      "outputs": []
    },
    {
      "cell_type": "code",
      "metadata": {
        "id": "Ofyy9TCRuIOa",
        "colab_type": "code",
        "colab": {
          "base_uri": "https://localhost:8080/",
          "height": 218
        },
        "outputId": "7bca53c4-dbc7-4c60-d7b9-b89ea16598f7"
      },
      "source": [
        "model.summary()"
      ],
      "execution_count": 19,
      "outputs": [
        {
          "output_type": "stream",
          "text": [
            "Model: \"sequential\"\n",
            "_________________________________________________________________\n",
            "Layer (type)                 Output Shape              Param #   \n",
            "=================================================================\n",
            "lstm (LSTM)                  (None, 16)                1536      \n",
            "_________________________________________________________________\n",
            "dense (Dense)                (None, 1)                 17        \n",
            "=================================================================\n",
            "Total params: 1,553\n",
            "Trainable params: 1,553\n",
            "Non-trainable params: 0\n",
            "_________________________________________________________________\n"
          ],
          "name": "stdout"
        }
      ]
    },
    {
      "cell_type": "code",
      "metadata": {
        "id": "DltDBtPJuJKg",
        "colab_type": "code",
        "colab": {
          "base_uri": "https://localhost:8080/",
          "height": 1000
        },
        "outputId": "2a8a9863-48ed-4ba7-f916-6cfa7fd57c4c"
      },
      "source": [
        "model.compile(loss='mse',optimizer='adam',metrics=['mse'])\n",
        "\n",
        "from keras.callbacks import EarlyStopping\n",
        "early_stopping=EarlyStopping(patience=20,monitor='val_loss')\n",
        "history=model.fit(x_train,y_train,epochs=100,batch_size=1,validation_split=0,callbacks=[early_stopping])"
      ],
      "execution_count": 20,
      "outputs": [
        {
          "output_type": "stream",
          "text": [
            "Epoch 1/100\n",
            "376/376 [==============================] - ETA: 0s - loss: 0.0145 - mse: 0.0145WARNING:tensorflow:Early stopping conditioned on metric `val_loss` which is not available. Available metrics are: loss,mse\n",
            "376/376 [==============================] - 2s 4ms/step - loss: 0.0145 - mse: 0.0145\n",
            "Epoch 2/100\n",
            "372/376 [============================>.] - ETA: 0s - loss: 0.0030 - mse: 0.0030WARNING:tensorflow:Early stopping conditioned on metric `val_loss` which is not available. Available metrics are: loss,mse\n",
            "376/376 [==============================] - 1s 4ms/step - loss: 0.0030 - mse: 0.0030\n",
            "Epoch 3/100\n",
            "370/376 [============================>.] - ETA: 0s - loss: 0.0027 - mse: 0.0027WARNING:tensorflow:Early stopping conditioned on metric `val_loss` which is not available. Available metrics are: loss,mse\n",
            "376/376 [==============================] - 1s 4ms/step - loss: 0.0027 - mse: 0.0027\n",
            "Epoch 4/100\n",
            "365/376 [============================>.] - ETA: 0s - loss: 0.0024 - mse: 0.0024WARNING:tensorflow:Early stopping conditioned on metric `val_loss` which is not available. Available metrics are: loss,mse\n",
            "376/376 [==============================] - 1s 4ms/step - loss: 0.0024 - mse: 0.0024\n",
            "Epoch 5/100\n",
            "365/376 [============================>.] - ETA: 0s - loss: 0.0021 - mse: 0.0021WARNING:tensorflow:Early stopping conditioned on metric `val_loss` which is not available. Available metrics are: loss,mse\n",
            "376/376 [==============================] - 1s 4ms/step - loss: 0.0021 - mse: 0.0021\n",
            "Epoch 6/100\n",
            "363/376 [===========================>..] - ETA: 0s - loss: 0.0018 - mse: 0.0018WARNING:tensorflow:Early stopping conditioned on metric `val_loss` which is not available. Available metrics are: loss,mse\n",
            "376/376 [==============================] - 2s 4ms/step - loss: 0.0019 - mse: 0.0019\n",
            "Epoch 7/100\n",
            "365/376 [============================>.] - ETA: 0s - loss: 0.0019 - mse: 0.0019WARNING:tensorflow:Early stopping conditioned on metric `val_loss` which is not available. Available metrics are: loss,mse\n",
            "376/376 [==============================] - 1s 4ms/step - loss: 0.0019 - mse: 0.0019\n",
            "Epoch 8/100\n",
            "374/376 [============================>.] - ETA: 0s - loss: 0.0017 - mse: 0.0017WARNING:tensorflow:Early stopping conditioned on metric `val_loss` which is not available. Available metrics are: loss,mse\n",
            "376/376 [==============================] - 1s 4ms/step - loss: 0.0017 - mse: 0.0017\n",
            "Epoch 9/100\n",
            "365/376 [============================>.] - ETA: 0s - loss: 0.0017 - mse: 0.0017WARNING:tensorflow:Early stopping conditioned on metric `val_loss` which is not available. Available metrics are: loss,mse\n",
            "376/376 [==============================] - 1s 4ms/step - loss: 0.0017 - mse: 0.0017\n",
            "Epoch 10/100\n",
            "364/376 [============================>.] - ETA: 0s - loss: 0.0017 - mse: 0.0017WARNING:tensorflow:Early stopping conditioned on metric `val_loss` which is not available. Available metrics are: loss,mse\n",
            "376/376 [==============================] - 1s 4ms/step - loss: 0.0017 - mse: 0.0017\n",
            "Epoch 11/100\n",
            "364/376 [============================>.] - ETA: 0s - loss: 0.0016 - mse: 0.0016WARNING:tensorflow:Early stopping conditioned on metric `val_loss` which is not available. Available metrics are: loss,mse\n",
            "376/376 [==============================] - 2s 4ms/step - loss: 0.0016 - mse: 0.0016\n",
            "Epoch 12/100\n",
            "364/376 [============================>.] - ETA: 0s - loss: 0.0016 - mse: 0.0016WARNING:tensorflow:Early stopping conditioned on metric `val_loss` which is not available. Available metrics are: loss,mse\n",
            "376/376 [==============================] - 1s 4ms/step - loss: 0.0016 - mse: 0.0016\n",
            "Epoch 13/100\n",
            "374/376 [============================>.] - ETA: 0s - loss: 0.0016 - mse: 0.0016WARNING:tensorflow:Early stopping conditioned on metric `val_loss` which is not available. Available metrics are: loss,mse\n",
            "376/376 [==============================] - 1s 4ms/step - loss: 0.0016 - mse: 0.0016\n",
            "Epoch 14/100\n",
            "370/376 [============================>.] - ETA: 0s - loss: 0.0015 - mse: 0.0015WARNING:tensorflow:Early stopping conditioned on metric `val_loss` which is not available. Available metrics are: loss,mse\n",
            "376/376 [==============================] - 1s 4ms/step - loss: 0.0015 - mse: 0.0015\n",
            "Epoch 15/100\n",
            "371/376 [============================>.] - ETA: 0s - loss: 0.0014 - mse: 0.0014WARNING:tensorflow:Early stopping conditioned on metric `val_loss` which is not available. Available metrics are: loss,mse\n",
            "376/376 [==============================] - 1s 4ms/step - loss: 0.0014 - mse: 0.0014\n",
            "Epoch 16/100\n",
            "374/376 [============================>.] - ETA: 0s - loss: 0.0014 - mse: 0.0014WARNING:tensorflow:Early stopping conditioned on metric `val_loss` which is not available. Available metrics are: loss,mse\n",
            "376/376 [==============================] - 2s 4ms/step - loss: 0.0014 - mse: 0.0014\n",
            "Epoch 17/100\n",
            "369/376 [============================>.] - ETA: 0s - loss: 0.0014 - mse: 0.0014WARNING:tensorflow:Early stopping conditioned on metric `val_loss` which is not available. Available metrics are: loss,mse\n",
            "376/376 [==============================] - 1s 4ms/step - loss: 0.0014 - mse: 0.0014\n",
            "Epoch 18/100\n",
            "370/376 [============================>.] - ETA: 0s - loss: 0.0013 - mse: 0.0013WARNING:tensorflow:Early stopping conditioned on metric `val_loss` which is not available. Available metrics are: loss,mse\n",
            "376/376 [==============================] - 1s 4ms/step - loss: 0.0013 - mse: 0.0013\n",
            "Epoch 19/100\n",
            "375/376 [============================>.] - ETA: 0s - loss: 0.0013 - mse: 0.0013WARNING:tensorflow:Early stopping conditioned on metric `val_loss` which is not available. Available metrics are: loss,mse\n",
            "376/376 [==============================] - 1s 4ms/step - loss: 0.0013 - mse: 0.0013\n",
            "Epoch 20/100\n",
            "364/376 [============================>.] - ETA: 0s - loss: 0.0013 - mse: 0.0013WARNING:tensorflow:Early stopping conditioned on metric `val_loss` which is not available. Available metrics are: loss,mse\n",
            "376/376 [==============================] - 1s 4ms/step - loss: 0.0013 - mse: 0.0013\n",
            "Epoch 21/100\n",
            "374/376 [============================>.] - ETA: 0s - loss: 0.0014 - mse: 0.0014WARNING:tensorflow:Early stopping conditioned on metric `val_loss` which is not available. Available metrics are: loss,mse\n",
            "376/376 [==============================] - 1s 4ms/step - loss: 0.0014 - mse: 0.0014\n",
            "Epoch 22/100\n",
            "371/376 [============================>.] - ETA: 0s - loss: 0.0013 - mse: 0.0013WARNING:tensorflow:Early stopping conditioned on metric `val_loss` which is not available. Available metrics are: loss,mse\n",
            "376/376 [==============================] - 1s 4ms/step - loss: 0.0013 - mse: 0.0013\n",
            "Epoch 23/100\n",
            "376/376 [==============================] - ETA: 0s - loss: 0.0012 - mse: 0.0012WARNING:tensorflow:Early stopping conditioned on metric `val_loss` which is not available. Available metrics are: loss,mse\n",
            "376/376 [==============================] - 1s 4ms/step - loss: 0.0012 - mse: 0.0012\n",
            "Epoch 24/100\n",
            "367/376 [============================>.] - ETA: 0s - loss: 0.0013 - mse: 0.0013WARNING:tensorflow:Early stopping conditioned on metric `val_loss` which is not available. Available metrics are: loss,mse\n",
            "376/376 [==============================] - 1s 4ms/step - loss: 0.0012 - mse: 0.0012\n",
            "Epoch 25/100\n",
            "373/376 [============================>.] - ETA: 0s - loss: 0.0013 - mse: 0.0013WARNING:tensorflow:Early stopping conditioned on metric `val_loss` which is not available. Available metrics are: loss,mse\n",
            "376/376 [==============================] - 1s 4ms/step - loss: 0.0013 - mse: 0.0013\n",
            "Epoch 26/100\n",
            "364/376 [============================>.] - ETA: 0s - loss: 0.0012 - mse: 0.0012WARNING:tensorflow:Early stopping conditioned on metric `val_loss` which is not available. Available metrics are: loss,mse\n",
            "376/376 [==============================] - 1s 4ms/step - loss: 0.0012 - mse: 0.0012\n",
            "Epoch 27/100\n",
            "375/376 [============================>.] - ETA: 0s - loss: 0.0013 - mse: 0.0013WARNING:tensorflow:Early stopping conditioned on metric `val_loss` which is not available. Available metrics are: loss,mse\n",
            "376/376 [==============================] - 1s 4ms/step - loss: 0.0013 - mse: 0.0013\n",
            "Epoch 28/100\n",
            "366/376 [============================>.] - ETA: 0s - loss: 0.0012 - mse: 0.0012WARNING:tensorflow:Early stopping conditioned on metric `val_loss` which is not available. Available metrics are: loss,mse\n",
            "376/376 [==============================] - 1s 4ms/step - loss: 0.0012 - mse: 0.0012\n",
            "Epoch 29/100\n",
            "372/376 [============================>.] - ETA: 0s - loss: 0.0012 - mse: 0.0012WARNING:tensorflow:Early stopping conditioned on metric `val_loss` which is not available. Available metrics are: loss,mse\n",
            "376/376 [==============================] - 2s 4ms/step - loss: 0.0012 - mse: 0.0012\n",
            "Epoch 30/100\n",
            "374/376 [============================>.] - ETA: 0s - loss: 0.0012 - mse: 0.0012WARNING:tensorflow:Early stopping conditioned on metric `val_loss` which is not available. Available metrics are: loss,mse\n",
            "376/376 [==============================] - 1s 4ms/step - loss: 0.0012 - mse: 0.0012\n",
            "Epoch 31/100\n",
            "366/376 [============================>.] - ETA: 0s - loss: 0.0012 - mse: 0.0012WARNING:tensorflow:Early stopping conditioned on metric `val_loss` which is not available. Available metrics are: loss,mse\n",
            "376/376 [==============================] - 2s 4ms/step - loss: 0.0012 - mse: 0.0012\n",
            "Epoch 32/100\n",
            "364/376 [============================>.] - ETA: 0s - loss: 0.0012 - mse: 0.0012WARNING:tensorflow:Early stopping conditioned on metric `val_loss` which is not available. Available metrics are: loss,mse\n",
            "376/376 [==============================] - 1s 4ms/step - loss: 0.0012 - mse: 0.0012\n",
            "Epoch 33/100\n",
            "368/376 [============================>.] - ETA: 0s - loss: 0.0011 - mse: 0.0011WARNING:tensorflow:Early stopping conditioned on metric `val_loss` which is not available. Available metrics are: loss,mse\n",
            "376/376 [==============================] - 2s 4ms/step - loss: 0.0011 - mse: 0.0011\n",
            "Epoch 34/100\n",
            "373/376 [============================>.] - ETA: 0s - loss: 0.0012 - mse: 0.0012WARNING:tensorflow:Early stopping conditioned on metric `val_loss` which is not available. Available metrics are: loss,mse\n",
            "376/376 [==============================] - 2s 4ms/step - loss: 0.0012 - mse: 0.0012\n",
            "Epoch 35/100\n",
            "365/376 [============================>.] - ETA: 0s - loss: 0.0012 - mse: 0.0012WARNING:tensorflow:Early stopping conditioned on metric `val_loss` which is not available. Available metrics are: loss,mse\n",
            "376/376 [==============================] - 1s 4ms/step - loss: 0.0011 - mse: 0.0011\n",
            "Epoch 36/100\n",
            "376/376 [==============================] - ETA: 0s - loss: 0.0012 - mse: 0.0012WARNING:tensorflow:Early stopping conditioned on metric `val_loss` which is not available. Available metrics are: loss,mse\n",
            "376/376 [==============================] - 1s 4ms/step - loss: 0.0012 - mse: 0.0012\n",
            "Epoch 37/100\n",
            "365/376 [============================>.] - ETA: 0s - loss: 0.0012 - mse: 0.0012WARNING:tensorflow:Early stopping conditioned on metric `val_loss` which is not available. Available metrics are: loss,mse\n",
            "376/376 [==============================] - 1s 4ms/step - loss: 0.0012 - mse: 0.0012\n",
            "Epoch 38/100\n",
            "365/376 [============================>.] - ETA: 0s - loss: 0.0011 - mse: 0.0011WARNING:tensorflow:Early stopping conditioned on metric `val_loss` which is not available. Available metrics are: loss,mse\n",
            "376/376 [==============================] - 2s 4ms/step - loss: 0.0011 - mse: 0.0011\n",
            "Epoch 39/100\n",
            "370/376 [============================>.] - ETA: 0s - loss: 0.0011 - mse: 0.0011WARNING:tensorflow:Early stopping conditioned on metric `val_loss` which is not available. Available metrics are: loss,mse\n",
            "376/376 [==============================] - 1s 4ms/step - loss: 0.0011 - mse: 0.0011\n",
            "Epoch 40/100\n",
            "367/376 [============================>.] - ETA: 0s - loss: 0.0011 - mse: 0.0011WARNING:tensorflow:Early stopping conditioned on metric `val_loss` which is not available. Available metrics are: loss,mse\n",
            "376/376 [==============================] - 1s 4ms/step - loss: 0.0011 - mse: 0.0011\n",
            "Epoch 41/100\n",
            "365/376 [============================>.] - ETA: 0s - loss: 0.0011 - mse: 0.0011WARNING:tensorflow:Early stopping conditioned on metric `val_loss` which is not available. Available metrics are: loss,mse\n",
            "376/376 [==============================] - 2s 4ms/step - loss: 0.0011 - mse: 0.0011\n",
            "Epoch 42/100\n",
            "365/376 [============================>.] - ETA: 0s - loss: 0.0011 - mse: 0.0011WARNING:tensorflow:Early stopping conditioned on metric `val_loss` which is not available. Available metrics are: loss,mse\n",
            "376/376 [==============================] - 2s 4ms/step - loss: 0.0011 - mse: 0.0011\n",
            "Epoch 43/100\n",
            "363/376 [===========================>..] - ETA: 0s - loss: 0.0011 - mse: 0.0011WARNING:tensorflow:Early stopping conditioned on metric `val_loss` which is not available. Available metrics are: loss,mse\n",
            "376/376 [==============================] - 2s 4ms/step - loss: 0.0011 - mse: 0.0011\n",
            "Epoch 44/100\n",
            "375/376 [============================>.] - ETA: 0s - loss: 0.0011 - mse: 0.0011WARNING:tensorflow:Early stopping conditioned on metric `val_loss` which is not available. Available metrics are: loss,mse\n",
            "376/376 [==============================] - 2s 4ms/step - loss: 0.0011 - mse: 0.0011\n",
            "Epoch 45/100\n",
            "376/376 [==============================] - ETA: 0s - loss: 0.0011 - mse: 0.0011WARNING:tensorflow:Early stopping conditioned on metric `val_loss` which is not available. Available metrics are: loss,mse\n",
            "376/376 [==============================] - 2s 4ms/step - loss: 0.0011 - mse: 0.0011\n",
            "Epoch 46/100\n",
            "370/376 [============================>.] - ETA: 0s - loss: 0.0011 - mse: 0.0011WARNING:tensorflow:Early stopping conditioned on metric `val_loss` which is not available. Available metrics are: loss,mse\n",
            "376/376 [==============================] - 1s 4ms/step - loss: 0.0011 - mse: 0.0011\n",
            "Epoch 47/100\n",
            "371/376 [============================>.] - ETA: 0s - loss: 0.0011 - mse: 0.0011WARNING:tensorflow:Early stopping conditioned on metric `val_loss` which is not available. Available metrics are: loss,mse\n",
            "376/376 [==============================] - 1s 4ms/step - loss: 0.0011 - mse: 0.0011\n",
            "Epoch 48/100\n",
            "373/376 [============================>.] - ETA: 0s - loss: 0.0011 - mse: 0.0011WARNING:tensorflow:Early stopping conditioned on metric `val_loss` which is not available. Available metrics are: loss,mse\n",
            "376/376 [==============================] - 2s 4ms/step - loss: 0.0011 - mse: 0.0011\n",
            "Epoch 49/100\n",
            "373/376 [============================>.] - ETA: 0s - loss: 0.0011 - mse: 0.0011WARNING:tensorflow:Early stopping conditioned on metric `val_loss` which is not available. Available metrics are: loss,mse\n",
            "376/376 [==============================] - 1s 4ms/step - loss: 0.0011 - mse: 0.0011\n",
            "Epoch 50/100\n",
            "364/376 [============================>.] - ETA: 0s - loss: 0.0011 - mse: 0.0011WARNING:tensorflow:Early stopping conditioned on metric `val_loss` which is not available. Available metrics are: loss,mse\n",
            "376/376 [==============================] - 1s 4ms/step - loss: 0.0011 - mse: 0.0011\n",
            "Epoch 51/100\n",
            "374/376 [============================>.] - ETA: 0s - loss: 0.0011 - mse: 0.0011WARNING:tensorflow:Early stopping conditioned on metric `val_loss` which is not available. Available metrics are: loss,mse\n",
            "376/376 [==============================] - 1s 4ms/step - loss: 0.0011 - mse: 0.0011\n",
            "Epoch 52/100\n",
            "365/376 [============================>.] - ETA: 0s - loss: 0.0011 - mse: 0.0011WARNING:tensorflow:Early stopping conditioned on metric `val_loss` which is not available. Available metrics are: loss,mse\n",
            "376/376 [==============================] - 2s 4ms/step - loss: 0.0011 - mse: 0.0011\n",
            "Epoch 53/100\n",
            "364/376 [============================>.] - ETA: 0s - loss: 0.0010 - mse: 0.0010WARNING:tensorflow:Early stopping conditioned on metric `val_loss` which is not available. Available metrics are: loss,mse\n",
            "376/376 [==============================] - 2s 4ms/step - loss: 0.0010 - mse: 0.0010\n",
            "Epoch 54/100\n",
            "372/376 [============================>.] - ETA: 0s - loss: 0.0011 - mse: 0.0011WARNING:tensorflow:Early stopping conditioned on metric `val_loss` which is not available. Available metrics are: loss,mse\n",
            "376/376 [==============================] - 1s 4ms/step - loss: 0.0011 - mse: 0.0011\n",
            "Epoch 55/100\n",
            "374/376 [============================>.] - ETA: 0s - loss: 0.0011 - mse: 0.0011WARNING:tensorflow:Early stopping conditioned on metric `val_loss` which is not available. Available metrics are: loss,mse\n",
            "376/376 [==============================] - 1s 4ms/step - loss: 0.0011 - mse: 0.0011\n",
            "Epoch 56/100\n",
            "372/376 [============================>.] - ETA: 0s - loss: 0.0010 - mse: 0.0010WARNING:tensorflow:Early stopping conditioned on metric `val_loss` which is not available. Available metrics are: loss,mse\n",
            "376/376 [==============================] - 2s 4ms/step - loss: 0.0010 - mse: 0.0010\n",
            "Epoch 57/100\n",
            "371/376 [============================>.] - ETA: 0s - loss: 0.0011 - mse: 0.0011WARNING:tensorflow:Early stopping conditioned on metric `val_loss` which is not available. Available metrics are: loss,mse\n",
            "376/376 [==============================] - 2s 4ms/step - loss: 0.0011 - mse: 0.0011\n",
            "Epoch 58/100\n",
            "374/376 [============================>.] - ETA: 0s - loss: 0.0011 - mse: 0.0011WARNING:tensorflow:Early stopping conditioned on metric `val_loss` which is not available. Available metrics are: loss,mse\n",
            "376/376 [==============================] - 2s 4ms/step - loss: 0.0011 - mse: 0.0011\n",
            "Epoch 59/100\n",
            "375/376 [============================>.] - ETA: 0s - loss: 0.0011 - mse: 0.0011WARNING:tensorflow:Early stopping conditioned on metric `val_loss` which is not available. Available metrics are: loss,mse\n",
            "376/376 [==============================] - 2s 4ms/step - loss: 0.0011 - mse: 0.0011\n",
            "Epoch 60/100\n",
            "373/376 [============================>.] - ETA: 0s - loss: 0.0011 - mse: 0.0011WARNING:tensorflow:Early stopping conditioned on metric `val_loss` which is not available. Available metrics are: loss,mse\n",
            "376/376 [==============================] - 1s 4ms/step - loss: 0.0011 - mse: 0.0011\n",
            "Epoch 61/100\n",
            "373/376 [============================>.] - ETA: 0s - loss: 0.0011 - mse: 0.0011WARNING:tensorflow:Early stopping conditioned on metric `val_loss` which is not available. Available metrics are: loss,mse\n",
            "376/376 [==============================] - 2s 4ms/step - loss: 0.0011 - mse: 0.0011\n",
            "Epoch 62/100\n",
            "367/376 [============================>.] - ETA: 0s - loss: 0.0010 - mse: 0.0010WARNING:tensorflow:Early stopping conditioned on metric `val_loss` which is not available. Available metrics are: loss,mse\n",
            "376/376 [==============================] - 1s 4ms/step - loss: 0.0010 - mse: 0.0010\n",
            "Epoch 63/100\n",
            "370/376 [============================>.] - ETA: 0s - loss: 0.0011 - mse: 0.0011WARNING:tensorflow:Early stopping conditioned on metric `val_loss` which is not available. Available metrics are: loss,mse\n",
            "376/376 [==============================] - 1s 4ms/step - loss: 0.0011 - mse: 0.0011\n",
            "Epoch 64/100\n",
            "371/376 [============================>.] - ETA: 0s - loss: 0.0011 - mse: 0.0011WARNING:tensorflow:Early stopping conditioned on metric `val_loss` which is not available. Available metrics are: loss,mse\n",
            "376/376 [==============================] - 2s 4ms/step - loss: 0.0011 - mse: 0.0011\n",
            "Epoch 65/100\n",
            "364/376 [============================>.] - ETA: 0s - loss: 0.0011 - mse: 0.0011WARNING:tensorflow:Early stopping conditioned on metric `val_loss` which is not available. Available metrics are: loss,mse\n",
            "376/376 [==============================] - 2s 4ms/step - loss: 0.0011 - mse: 0.0011\n",
            "Epoch 66/100\n",
            "364/376 [============================>.] - ETA: 0s - loss: 9.9797e-04 - mse: 9.9797e-04WARNING:tensorflow:Early stopping conditioned on metric `val_loss` which is not available. Available metrics are: loss,mse\n",
            "376/376 [==============================] - 1s 4ms/step - loss: 0.0010 - mse: 0.0010    \n",
            "Epoch 67/100\n",
            "372/376 [============================>.] - ETA: 0s - loss: 0.0011 - mse: 0.0011WARNING:tensorflow:Early stopping conditioned on metric `val_loss` which is not available. Available metrics are: loss,mse\n",
            "376/376 [==============================] - 1s 4ms/step - loss: 0.0011 - mse: 0.0011\n",
            "Epoch 68/100\n",
            "372/376 [============================>.] - ETA: 0s - loss: 0.0010 - mse: 0.0010WARNING:tensorflow:Early stopping conditioned on metric `val_loss` which is not available. Available metrics are: loss,mse\n",
            "376/376 [==============================] - 1s 4ms/step - loss: 0.0011 - mse: 0.0011\n",
            "Epoch 69/100\n",
            "363/376 [===========================>..] - ETA: 0s - loss: 0.0010 - mse: 0.0010WARNING:tensorflow:Early stopping conditioned on metric `val_loss` which is not available. Available metrics are: loss,mse\n",
            "376/376 [==============================] - 1s 4ms/step - loss: 0.0011 - mse: 0.0011\n",
            "Epoch 70/100\n",
            "368/376 [============================>.] - ETA: 0s - loss: 0.0010 - mse: 0.0010WARNING:tensorflow:Early stopping conditioned on metric `val_loss` which is not available. Available metrics are: loss,mse\n",
            "376/376 [==============================] - 1s 4ms/step - loss: 0.0010 - mse: 0.0010\n",
            "Epoch 71/100\n",
            "374/376 [============================>.] - ETA: 0s - loss: 0.0010 - mse: 0.0010WARNING:tensorflow:Early stopping conditioned on metric `val_loss` which is not available. Available metrics are: loss,mse\n",
            "376/376 [==============================] - 1s 4ms/step - loss: 0.0010 - mse: 0.0010\n",
            "Epoch 72/100\n",
            "367/376 [============================>.] - ETA: 0s - loss: 0.0010 - mse: 0.0010        WARNING:tensorflow:Early stopping conditioned on metric `val_loss` which is not available. Available metrics are: loss,mse\n",
            "376/376 [==============================] - 1s 4ms/step - loss: 0.0010 - mse: 0.0010\n",
            "Epoch 73/100\n",
            "367/376 [============================>.] - ETA: 0s - loss: 0.0011 - mse: 0.0011WARNING:tensorflow:Early stopping conditioned on metric `val_loss` which is not available. Available metrics are: loss,mse\n",
            "376/376 [==============================] - 1s 4ms/step - loss: 0.0011 - mse: 0.0011\n",
            "Epoch 74/100\n",
            "365/376 [============================>.] - ETA: 0s - loss: 0.0010 - mse: 0.0010WARNING:tensorflow:Early stopping conditioned on metric `val_loss` which is not available. Available metrics are: loss,mse\n",
            "376/376 [==============================] - 1s 4ms/step - loss: 0.0011 - mse: 0.0011\n",
            "Epoch 75/100\n",
            "364/376 [============================>.] - ETA: 0s - loss: 0.0011 - mse: 0.0011WARNING:tensorflow:Early stopping conditioned on metric `val_loss` which is not available. Available metrics are: loss,mse\n",
            "376/376 [==============================] - 1s 4ms/step - loss: 0.0011 - mse: 0.0011\n",
            "Epoch 76/100\n",
            "374/376 [============================>.] - ETA: 0s - loss: 0.0010 - mse: 0.0010WARNING:tensorflow:Early stopping conditioned on metric `val_loss` which is not available. Available metrics are: loss,mse\n",
            "376/376 [==============================] - 2s 4ms/step - loss: 0.0010 - mse: 0.0010\n",
            "Epoch 77/100\n",
            "371/376 [============================>.] - ETA: 0s - loss: 0.0011 - mse: 0.0011WARNING:tensorflow:Early stopping conditioned on metric `val_loss` which is not available. Available metrics are: loss,mse\n",
            "376/376 [==============================] - 1s 4ms/step - loss: 0.0010 - mse: 0.0010\n",
            "Epoch 78/100\n",
            "369/376 [============================>.] - ETA: 0s - loss: 0.0010 - mse: 0.0010WARNING:tensorflow:Early stopping conditioned on metric `val_loss` which is not available. Available metrics are: loss,mse\n",
            "376/376 [==============================] - 2s 4ms/step - loss: 0.0010 - mse: 0.0010\n",
            "Epoch 79/100\n",
            "375/376 [============================>.] - ETA: 0s - loss: 0.0011 - mse: 0.0011WARNING:tensorflow:Early stopping conditioned on metric `val_loss` which is not available. Available metrics are: loss,mse\n",
            "376/376 [==============================] - 1s 4ms/step - loss: 0.0011 - mse: 0.0011\n",
            "Epoch 80/100\n",
            "368/376 [============================>.] - ETA: 0s - loss: 0.0011 - mse: 0.0011WARNING:tensorflow:Early stopping conditioned on metric `val_loss` which is not available. Available metrics are: loss,mse\n",
            "376/376 [==============================] - 1s 4ms/step - loss: 0.0011 - mse: 0.0011\n",
            "Epoch 81/100\n",
            "365/376 [============================>.] - ETA: 0s - loss: 0.0011 - mse: 0.0011WARNING:tensorflow:Early stopping conditioned on metric `val_loss` which is not available. Available metrics are: loss,mse\n",
            "376/376 [==============================] - 1s 4ms/step - loss: 0.0010 - mse: 0.0010\n",
            "Epoch 82/100\n",
            "366/376 [============================>.] - ETA: 0s - loss: 0.0010 - mse: 0.0010WARNING:tensorflow:Early stopping conditioned on metric `val_loss` which is not available. Available metrics are: loss,mse\n",
            "376/376 [==============================] - 1s 4ms/step - loss: 0.0010 - mse: 0.0010\n",
            "Epoch 83/100\n",
            "368/376 [============================>.] - ETA: 0s - loss: 0.0010 - mse: 0.0010WARNING:tensorflow:Early stopping conditioned on metric `val_loss` which is not available. Available metrics are: loss,mse\n",
            "376/376 [==============================] - 1s 4ms/step - loss: 0.0010 - mse: 0.0010\n",
            "Epoch 84/100\n",
            "367/376 [============================>.] - ETA: 0s - loss: 0.0010 - mse: 0.0010WARNING:tensorflow:Early stopping conditioned on metric `val_loss` which is not available. Available metrics are: loss,mse\n",
            "376/376 [==============================] - 1s 4ms/step - loss: 0.0010 - mse: 0.0010\n",
            "Epoch 85/100\n",
            "373/376 [============================>.] - ETA: 0s - loss: 0.0011 - mse: 0.0011WARNING:tensorflow:Early stopping conditioned on metric `val_loss` which is not available. Available metrics are: loss,mse\n",
            "376/376 [==============================] - 1s 4ms/step - loss: 0.0011 - mse: 0.0011\n",
            "Epoch 86/100\n",
            "371/376 [============================>.] - ETA: 0s - loss: 0.0010 - mse: 0.0010WARNING:tensorflow:Early stopping conditioned on metric `val_loss` which is not available. Available metrics are: loss,mse\n",
            "376/376 [==============================] - 1s 4ms/step - loss: 0.0010 - mse: 0.0010\n",
            "Epoch 87/100\n",
            "364/376 [============================>.] - ETA: 0s - loss: 0.0010 - mse: 0.0010WARNING:tensorflow:Early stopping conditioned on metric `val_loss` which is not available. Available metrics are: loss,mse\n",
            "376/376 [==============================] - 2s 4ms/step - loss: 0.0010 - mse: 0.0010\n",
            "Epoch 88/100\n",
            "371/376 [============================>.] - ETA: 0s - loss: 0.0011 - mse: 0.0011WARNING:tensorflow:Early stopping conditioned on metric `val_loss` which is not available. Available metrics are: loss,mse\n",
            "376/376 [==============================] - 2s 4ms/step - loss: 0.0011 - mse: 0.0011\n",
            "Epoch 89/100\n",
            "374/376 [============================>.] - ETA: 0s - loss: 0.0010 - mse: 0.0010        WARNING:tensorflow:Early stopping conditioned on metric `val_loss` which is not available. Available metrics are: loss,mse\n",
            "376/376 [==============================] - 1s 4ms/step - loss: 0.0010 - mse: 0.0010\n",
            "Epoch 90/100\n",
            "373/376 [============================>.] - ETA: 0s - loss: 0.0010 - mse: 0.0010WARNING:tensorflow:Early stopping conditioned on metric `val_loss` which is not available. Available metrics are: loss,mse\n",
            "376/376 [==============================] - 2s 4ms/step - loss: 0.0010 - mse: 0.0010\n",
            "Epoch 91/100\n",
            "371/376 [============================>.] - ETA: 0s - loss: 9.8792e-04 - mse: 9.8792e-04WARNING:tensorflow:Early stopping conditioned on metric `val_loss` which is not available. Available metrics are: loss,mse\n",
            "376/376 [==============================] - 1s 4ms/step - loss: 9.9652e-04 - mse: 9.9652e-04\n",
            "Epoch 92/100\n",
            "372/376 [============================>.] - ETA: 0s - loss: 0.0010 - mse: 0.0010WARNING:tensorflow:Early stopping conditioned on metric `val_loss` which is not available. Available metrics are: loss,mse\n",
            "376/376 [==============================] - 2s 4ms/step - loss: 0.0010 - mse: 0.0010\n",
            "Epoch 93/100\n",
            "367/376 [============================>.] - ETA: 0s - loss: 0.0010 - mse: 0.0010WARNING:tensorflow:Early stopping conditioned on metric `val_loss` which is not available. Available metrics are: loss,mse\n",
            "376/376 [==============================] - 1s 4ms/step - loss: 0.0010 - mse: 0.0010\n",
            "Epoch 94/100\n",
            "364/376 [============================>.] - ETA: 0s - loss: 0.0010 - mse: 0.0010WARNING:tensorflow:Early stopping conditioned on metric `val_loss` which is not available. Available metrics are: loss,mse\n",
            "376/376 [==============================] - 1s 4ms/step - loss: 0.0010 - mse: 0.0010\n",
            "Epoch 95/100\n",
            "375/376 [============================>.] - ETA: 0s - loss: 0.0010 - mse: 0.0010WARNING:tensorflow:Early stopping conditioned on metric `val_loss` which is not available. Available metrics are: loss,mse\n",
            "376/376 [==============================] - 1s 4ms/step - loss: 0.0010 - mse: 0.0010\n",
            "Epoch 96/100\n",
            "376/376 [==============================] - ETA: 0s - loss: 0.0010 - mse: 0.0010        WARNING:tensorflow:Early stopping conditioned on metric `val_loss` which is not available. Available metrics are: loss,mse\n",
            "376/376 [==============================] - 2s 4ms/step - loss: 0.0010 - mse: 0.0010\n",
            "Epoch 97/100\n",
            "367/376 [============================>.] - ETA: 0s - loss: 9.9511e-04 - mse: 9.9511e-04WARNING:tensorflow:Early stopping conditioned on metric `val_loss` which is not available. Available metrics are: loss,mse\n",
            "376/376 [==============================] - 1s 4ms/step - loss: 0.0010 - mse: 0.0010    \n",
            "Epoch 98/100\n",
            "368/376 [============================>.] - ETA: 0s - loss: 0.0010 - mse: 0.0010        WARNING:tensorflow:Early stopping conditioned on metric `val_loss` which is not available. Available metrics are: loss,mse\n",
            "376/376 [==============================] - 2s 4ms/step - loss: 0.0010 - mse: 0.0010\n",
            "Epoch 99/100\n",
            "375/376 [============================>.] - ETA: 0s - loss: 0.0010 - mse: 0.0010WARNING:tensorflow:Early stopping conditioned on metric `val_loss` which is not available. Available metrics are: loss,mse\n",
            "376/376 [==============================] - 2s 4ms/step - loss: 0.0010 - mse: 0.0010\n",
            "Epoch 100/100\n",
            "366/376 [============================>.] - ETA: 0s - loss: 9.7302e-04 - mse: 9.7302e-04WARNING:tensorflow:Early stopping conditioned on metric `val_loss` which is not available. Available metrics are: loss,mse\n",
            "376/376 [==============================] - 2s 4ms/step - loss: 9.6696e-04 - mse: 9.6696e-04\n"
          ],
          "name": "stdout"
        }
      ]
    },
    {
      "cell_type": "code",
      "metadata": {
        "id": "xq-yDkgIuNJj",
        "colab_type": "code",
        "colab": {}
      },
      "source": [
        "pred=model.predict(test_feature)"
      ],
      "execution_count": 21,
      "outputs": []
    },
    {
      "cell_type": "code",
      "metadata": {
        "id": "6g-HytOruPz0",
        "colab_type": "code",
        "colab": {
          "base_uri": "https://localhost:8080/",
          "height": 34
        },
        "outputId": "4c0cfc90-086d-4a32-ff08-84b3dca90c63"
      },
      "source": [
        "pred.shape"
      ],
      "execution_count": 22,
      "outputs": [
        {
          "output_type": "execute_result",
          "data": {
            "text/plain": [
              "(80, 1)"
            ]
          },
          "metadata": {
            "tags": []
          },
          "execution_count": 22
        }
      ]
    },
    {
      "cell_type": "code",
      "metadata": {
        "id": "OwvzgLADuROL",
        "colab_type": "code",
        "colab": {
          "base_uri": "https://localhost:8080/",
          "height": 391
        },
        "outputId": "48c2f410-6966-4eb2-d174-56c1730116a3"
      },
      "source": [
        "plt.figure(figsize=(12, 6))\n",
        "plt.plot(test_label, label='actual')\n",
        "plt.plot(pred, label='prediction')\n",
        "plt.legend()\n",
        "plt.grid(ls='--')\n",
        "plt.show()"
      ],
      "execution_count": 23,
      "outputs": [
        {
          "output_type": "stream",
          "text": [
            "findfont: Font family ['NanumBarunGothic'] not found. Falling back to DejaVu Sans.\n"
          ],
          "name": "stderr"
        },
        {
          "output_type": "display_data",
          "data": {
            "image/png": "[encoded data removed]",
            "text/plain": [
              "<Figure size 864x432 with 1 Axes>"
            ]
          },
          "metadata": {
            "tags": [],
            "needs_background": "light"
          }
        }
      ]
    },
    {
      "cell_type": "code",
      "metadata": {
        "id": "G--TSqgauTud",
        "colab_type": "code",
        "colab": {
          "base_uri": "https://localhost:8080/",
          "height": 391
        },
        "outputId": "5ca45469-44e4-41b8-e3ae-8edc7e0a79e2"
      },
      "source": [
        "plt.figure(figsize=(12, 6))\n",
        "plt.plot(test_label, label='actual')\n",
        "plt.plot(pred, label='prediction')\n",
        "plt.plot(np.sqrt((pred - test_label)**2), label='Difference')\n",
        "plt.legend(frameon=False, fontsize = 15)\n",
        "plt.grid(ls='--')\n",
        "plt.show()"
      ],
      "execution_count": 24,
      "outputs": [
        {
          "output_type": "stream",
          "text": [
            "findfont: Font family ['NanumBarunGothic'] not found. Falling back to DejaVu Sans.\n"
          ],
          "name": "stderr"
        },
        {
          "output_type": "display_data",
          "data": {
            "image/png": "[encoded data removed]",
            "text/plain": [
              "<Figure size 864x432 with 1 Axes>"
            ]
          },
          "metadata": {
            "tags": [],
            "needs_background": "light"
          }
        }
      ]
    },
    {
      "cell_type": "code",
      "metadata": {
        "id": "DnfcIUn0uX19",
        "colab_type": "code",
        "colab": {
          "base_uri": "https://localhost:8080/",
          "height": 279
        },
        "outputId": "4baf8569-7e16-483c-94cf-0664f5ab93c9"
      },
      "source": [
        "#훈련 손실값loss\n",
        "fig, loss_ax=plt.subplots()\n",
        "loss_ax.plot(history.history['loss'], 'b', label='train loss')\n",
        "loss_ax.set_xlabel('epoch')\n",
        "loss_ax.set_ylabel('loss')\n",
        "plt.show()"
      ],
      "execution_count": 25,
      "outputs": [
        {
          "output_type": "display_data",
          "data": {
            "image/png": "[encoded data removed]",
            "text/plain": [
              "<Figure size 432x288 with 1 Axes>"
            ]
          },
          "metadata": {
            "tags": [],
            "needs_background": "light"
          }
        }
      ]
    },
    {
      "cell_type": "code",
      "metadata": {
        "id": "9nXVHft9uYeB",
        "colab_type": "code",
        "colab": {
          "base_uri": "https://localhost:8080/",
          "height": 34
        },
        "outputId": "a73d1917-4ca9-461f-cf25-feb4c6e0f7b2"
      },
      "source": [
        "mse=mean_squared_error(test_label, pred)\n",
        "rmse=np.sqrt(mse)\n",
        "rmse"
      ],
      "execution_count": 26,
      "outputs": [
        {
          "output_type": "execute_result",
          "data": {
            "text/plain": [
              "0.11897217227185035"
            ]
          },
          "metadata": {
            "tags": []
          },
          "execution_count": 26
        }
      ]
    },
    {
      "cell_type": "code",
      "metadata": {
        "id": "4tYBg7koua8R",
        "colab_type": "code",
        "colab": {
          "base_uri": "https://localhost:8080/",
          "height": 1000
        },
        "outputId": "a3439425-269c-4f6c-adbe-a17ba9571dc1"
      },
      "source": [
        "print(pred)"
      ],
      "execution_count": 27,
      "outputs": [
        {
          "output_type": "stream",
          "text": [
            "[[0.49763134]\n",
            " [0.506348  ]\n",
            " [0.55027634]\n",
            " [0.5562661 ]\n",
            " [0.55424684]\n",
            " [0.4554255 ]\n",
            " [0.51743   ]\n",
            " [0.42030644]\n",
            " [0.3520107 ]\n",
            " [0.3709431 ]\n",
            " [0.31315252]\n",
            " [0.3341309 ]\n",
            " [0.2711212 ]\n",
            " [0.25221312]\n",
            " [0.2383321 ]\n",
            " [0.19740579]\n",
            " [0.2596387 ]\n",
            " [0.30914754]\n",
            " [0.3390098 ]\n",
            " [0.33387667]\n",
            " [0.3404139 ]\n",
            " [0.339824  ]\n",
            " [0.31169668]\n",
            " [0.31514028]\n",
            " [0.32176778]\n",
            " [0.3642712 ]\n",
            " [0.38196307]\n",
            " [0.38772696]\n",
            " [0.3864529 ]\n",
            " [0.3786738 ]\n",
            " [0.39511973]\n",
            " [0.38870057]\n",
            " [0.4299491 ]\n",
            " [0.4077936 ]\n",
            " [0.37725756]\n",
            " [0.39848343]\n",
            " [0.397382  ]\n",
            " [0.39752182]\n",
            " [0.4053535 ]\n",
            " [0.39984486]\n",
            " [0.42741334]\n",
            " [0.37043646]\n",
            " [0.39345998]\n",
            " [0.39124674]\n",
            " [0.40432054]\n",
            " [0.39447346]\n",
            " [0.36992022]\n",
            " [0.36314306]\n",
            " [0.36843526]\n",
            " [0.36546943]\n",
            " [0.38818148]\n",
            " [0.41103134]\n",
            " [0.42706257]\n",
            " [0.42026582]\n",
            " [0.40973023]\n",
            " [0.41439158]\n",
            " [0.4224969 ]\n",
            " [0.43013144]\n",
            " [0.4366141 ]\n",
            " [0.45030567]\n",
            " [0.46625277]\n",
            " [0.51757133]\n",
            " [0.55101067]\n",
            " [0.56198794]\n",
            " [0.57880795]\n",
            " [0.5766645 ]\n",
            " [0.58153534]\n",
            " [0.5095624 ]\n",
            " [0.49499026]\n",
            " [0.45730475]\n",
            " [0.4853808 ]\n",
            " [0.48986408]\n",
            " [0.4873207 ]\n",
            " [0.49396023]\n",
            " [0.49644578]\n",
            " [0.49275315]\n",
            " [0.4957596 ]\n",
            " [0.4903117 ]\n",
            " [0.49068788]\n",
            " [0.48792264]]\n"
          ],
          "name": "stdout"
        }
      ]
    },
    {
      "cell_type": "code",
      "metadata": {
        "id": "2QXtvD59vBfv",
        "colab_type": "code",
        "colab": {
          "base_uri": "https://localhost:8080/",
          "height": 50
        },
        "outputId": "ca7c86dd-5339-48e6-bc17-cd799dbb29eb"
      },
      "source": [
        "loss, mae=model.evaluate(x_train, y_train, batch_size=1)\n",
        "print(loss, mae)\n",
        "#mae는 오차의 절대값: 0이 제일 정확"
      ],
      "execution_count": 28,
      "outputs": [
        {
          "output_type": "stream",
          "text": [
            "376/376 [==============================] - 1s 2ms/step - loss: 0.0011 - mse: 0.0011\n",
            "0.001070485101081431 0.001070485101081431\n"
          ],
          "name": "stdout"
        }
      ]
    },
    {
      "cell_type": "code",
      "metadata": {
        "id": "SVI-yRedvEXn",
        "colab_type": "code",
        "colab": {
          "base_uri": "https://localhost:8080/",
          "height": 322
        },
        "outputId": "07f828a9-1d2d-435a-acf5-c5f0f5cf8b00"
      },
      "source": [
        "%matplotlib inline\n",
        "import matplotlib.pyplot as plt\n",
        "\n",
        "plt.scatter(test_label, pred)\n",
        "plt.xlabel(\"Price Index: $Y_i$\")\n",
        "plt.ylabel(\"Predicted price Index: $\\hat{Y}_i$\")\n",
        "plt.title(\"Prices vs Predicted price Index: $Y_i$ vs $\\hat{Y}_i$\")\n",
        "#예측값과 원래값이 일치하면 직선에 가깝게 분포됨"
      ],
      "execution_count": 29,
      "outputs": [
        {
          "output_type": "execute_result",
          "data": {
            "text/plain": [
              "Text(0.5, 1.0, 'Prices vs Predicted price Index: $Y_i$ vs $\\\\hat{Y}_i$')"
            ]
          },
          "metadata": {
            "tags": []
          },
          "execution_count": 29
        },
        {
          "output_type": "stream",
          "text": [
            "findfont: Font family ['NanumBarunGothic'] not found. Falling back to DejaVu Sans.\n"
          ],
          "name": "stderr"
        },
        {
          "output_type": "display_data",
          "data": {
            "image/png": "[encoded data removed]",
            "text/plain": [
              "<Figure size 432x288 with 1 Axes>"
            ]
          },
          "metadata": {
            "tags": [],
            "needs_background": "light"
          }
        }
      ]
    },
    {
      "cell_type": "code",
      "metadata": {
        "id": "fffjkWaTvG0N",
        "colab_type": "code",
        "colab": {
          "base_uri": "https://localhost:8080/",
          "height": 67
        },
        "outputId": "102a8195-58ae-4a0f-e31b-96942d32661c"
      },
      "source": [
        "trainScore = model.evaluate(x_train, y_train, verbose=0)\n",
        "print('Train Score: ', trainScore)\n",
        "valScore = model.evaluate(x_valid, y_valid, verbose=0)\n",
        "print('Validataion Score: ', valScore)\n",
        "testScore = model.evaluate(test_feature,test_label, verbose=0)\n",
        "print('Test Score: ', testScore)"
      ],
      "execution_count": 30,
      "outputs": [
        {
          "output_type": "stream",
          "text": [
            "Train Score:  [0.0010704853339120746, 0.0010704853339120746]\n",
            "Validataion Score:  [0.019015468657016754, 0.019015468657016754]\n",
            "Test Score:  [0.014154380187392235, 0.014154380187392235]\n"
          ],
          "name": "stdout"
        }
      ]
    },
    {
      "cell_type": "code",
      "metadata": {
        "id": "kUWCWvRgvI7Z",
        "colab_type": "code",
        "colab": {}
      },
      "source": [
        ""
      ],
      "execution_count": null,
      "outputs": []
    },
    {
      "cell_type": "code",
      "metadata": {
        "id": "2gDMrq3RvV8b",
        "colab_type": "code",
        "colab": {}
      },
      "source": [
        ""
      ],
      "execution_count": null,
      "outputs": []
    }
  ]
}