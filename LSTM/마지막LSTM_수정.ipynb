{
  "nbformat": 4,
  "nbformat_minor": 0,
  "metadata": {
    "colab": {
      "name": "마지막LSTM",
      "provenance": [],
      "collapsed_sections": []
    },
    "kernelspec": {
      "name": "python3",
      "display_name": "Python 3"
    }
  },
  "cells": [
    {
      "cell_type": "code",
      "metadata": {
        "id": "XMNPRxPYdUFt",
        "colab_type": "code",
        "colab": {
          "base_uri": "https://localhost:8080/",
          "height": 272
        },
        "outputId": "e525565f-951b-4636-ec10-29f9644c91f5"
      },
      "source": [
        "#이거 말고 밑에 다른방법1로 해야함\n",
        "pip install mplfinance"
      ],
      "execution_count": 1,
      "outputs": [
        {
          "output_type": "stream",
          "text": [
            "Collecting mplfinance\n",
            "\u001b[?25l  Downloading https://files.pythonhosted.org/packages/cd/01/3418bb0c9952d4a3c24893e883df8e39065d7a13e7d60ae4f139a9eafc78/mplfinance-0.12.7a0-py3-none-any.whl (55kB)\n",
            "\r\u001b[K     |██████                          | 10kB 17.3MB/s eta 0:00:01\r\u001b[K     |████████████                    | 20kB 4.4MB/s eta 0:00:01\r\u001b[K     |█████████████████▉              | 30kB 5.5MB/s eta 0:00:01\r\u001b[K     |███████████████████████▉        | 40kB 6.2MB/s eta 0:00:01\r\u001b[K     |█████████████████████████████▊  | 51kB 6.0MB/s eta 0:00:01\r\u001b[K     |████████████████████████████████| 61kB 3.5MB/s \n",
            "\u001b[?25hRequirement already satisfied: matplotlib in /usr/local/lib/python3.6/dist-packages (from mplfinance) (3.2.2)\n",
            "Requirement already satisfied: pandas in /usr/local/lib/python3.6/dist-packages (from mplfinance) (1.0.5)\n",
            "Requirement already satisfied: kiwisolver>=1.0.1 in /usr/local/lib/python3.6/dist-packages (from matplotlib->mplfinance) (1.2.0)\n",
            "Requirement already satisfied: cycler>=0.10 in /usr/local/lib/python3.6/dist-packages (from matplotlib->mplfinance) (0.10.0)\n",
            "Requirement already satisfied: numpy>=1.11 in /usr/local/lib/python3.6/dist-packages (from matplotlib->mplfinance) (1.18.5)\n",
            "Requirement already satisfied: pyparsing!=2.0.4,!=2.1.2,!=2.1.6,>=2.0.1 in /usr/local/lib/python3.6/dist-packages (from matplotlib->mplfinance) (2.4.7)\n",
            "Requirement already satisfied: python-dateutil>=2.1 in /usr/local/lib/python3.6/dist-packages (from matplotlib->mplfinance) (2.8.1)\n",
            "Requirement already satisfied: pytz>=2017.2 in /usr/local/lib/python3.6/dist-packages (from pandas->mplfinance) (2018.9)\n",
            "Requirement already satisfied: six in /usr/local/lib/python3.6/dist-packages (from cycler>=0.10->matplotlib->mplfinance) (1.15.0)\n",
            "Installing collected packages: mplfinance\n",
            "Successfully installed mplfinance-0.12.7a0\n"
          ],
          "name": "stdout"
        }
      ]
    },
    {
      "cell_type": "code",
      "metadata": {
        "id": "CSaL9gj4dKnl",
        "colab_type": "code",
        "colab": {}
      },
      "source": [
        "import numpy as np\n",
        "import pandas as pd\n",
        "import matplotlib.pyplot as plt\n",
        "import mplfinance as mpf\n",
        "import matplotlib as mpl\n",
        "import os \n",
        "from sklearn.preprocessing import MinMaxScaler, StandardScaler\n",
        "from tensorflow.keras.models import Sequential\n",
        "from tensorflow.keras.layers import Dense\n",
        "from tensorflow.keras.callbacks import EarlyStopping, ModelCheckpoint\n",
        "from tensorflow.keras.layers import LSTM, Conv1D, Conv2D, GRU\n",
        "from tensorflow.keras.layers import TimeDistributed\n",
        "from tensorflow import keras"
      ],
      "execution_count": 2,
      "outputs": []
    },
    {
      "cell_type": "code",
      "metadata": {
        "id": "vsADw_BHdPS2",
        "colab_type": "code",
        "colab": {}
      },
      "source": [
        "plt.rcParams['font.family'] = 'NanumbarunGothic'\n",
        "mpl.rcParams['axes.unicode_minus'] = False"
      ],
      "execution_count": 3,
      "outputs": []
    },
    {
      "cell_type": "code",
      "metadata": {
        "id": "_mSeKX1UdZER",
        "colab_type": "code",
        "colab": {
          "resources": {
            "http://localhost:8080/nbextensions/google.colab/files.js": {
              "data": "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",
              "ok": true,
              "headers": [
                [
                  "content-type",
                  "application/javascript"
                ]
              ],
              "status": 200,
              "status_text": ""
            }
          },
          "base_uri": "https://localhost:8080/",
          "height": 75
        },
        "outputId": "58069152-ba2d-4788-adc8-6943a46c5f5c"
      },
      "source": [
        "from google.colab import files\n",
        "uploaded=files.upload()"
      ],
      "execution_count": 4,
      "outputs": [
        {
          "output_type": "display_data",
          "data": {
            "text/html": [
              "\n",
              "     <input type=\"file\" id=\"files-d18728e7-89d5-49d6-8595-046905d5ee45\" name=\"files[]\" multiple disabled\n",
              "        style=\"border:none\" />\n",
              "     <output id=\"result-d18728e7-89d5-49d6-8595-046905d5ee45\">\n",
              "      Upload widget is only available when the cell has been executed in the\n",
              "      current browser session. Please rerun this cell to enable.\n",
              "      </output>\n",
              "      <script src=\"/nbextensions/google.colab/files.js\"></script> "
            ],
            "text/plain": [
              "<IPython.core.display.HTML object>"
            ]
          },
          "metadata": {
            "tags": []
          }
        },
        {
          "output_type": "stream",
          "text": [
            "Saving NASDAQ.csv.txt to NASDAQ.csv.txt\n"
          ],
          "name": "stdout"
        }
      ]
    },
    {
      "cell_type": "code",
      "metadata": {
        "id": "r17ZdxrbdddR",
        "colab_type": "code",
        "colab": {
          "base_uri": "https://localhost:8080/",
          "height": 195
        },
        "outputId": "1e9a7419-4ba6-45da-b6e5-ff238de4b399"
      },
      "source": [
        "import io\n",
        "nasdaq=pd.read_csv(io.BytesIO(uploaded['NASDAQ.csv.txt']))\n",
        "nasdaq.head()"
      ],
      "execution_count": 5,
      "outputs": [
        {
          "output_type": "execute_result",
          "data": {
            "text/html": [
              "<div>\n",
              "<style scoped>\n",
              "    .dataframe tbody tr th:only-of-type {\n",
              "        vertical-align: middle;\n",
              "    }\n",
              "\n",
              "    .dataframe tbody tr th {\n",
              "        vertical-align: top;\n",
              "    }\n",
              "\n",
              "    .dataframe thead th {\n",
              "        text-align: right;\n",
              "    }\n",
              "</style>\n",
              "<table border=\"1\" class=\"dataframe\">\n",
              "  <thead>\n",
              "    <tr style=\"text-align: right;\">\n",
              "      <th></th>\n",
              "      <th>날짜</th>\n",
              "      <th>종가</th>\n",
              "      <th>오픈</th>\n",
              "      <th>고가</th>\n",
              "      <th>저가</th>\n",
              "      <th>거래량</th>\n",
              "      <th>변동 %</th>\n",
              "    </tr>\n",
              "  </thead>\n",
              "  <tbody>\n",
              "    <tr>\n",
              "      <th>0</th>\n",
              "      <td>2020년 06월 30일</td>\n",
              "      <td>10,058.76</td>\n",
              "      <td>9,875.29</td>\n",
              "      <td>10,085.59</td>\n",
              "      <td>9,863.67</td>\n",
              "      <td>1.10B</td>\n",
              "      <td>1.87%</td>\n",
              "    </tr>\n",
              "    <tr>\n",
              "      <th>1</th>\n",
              "      <td>2020년 06월 29일</td>\n",
              "      <td>9,874.15</td>\n",
              "      <td>9,771.72</td>\n",
              "      <td>9,877.34</td>\n",
              "      <td>9,663.61</td>\n",
              "      <td>977.01M</td>\n",
              "      <td>1.20%</td>\n",
              "    </tr>\n",
              "    <tr>\n",
              "      <th>2</th>\n",
              "      <td>2020년 06월 26일</td>\n",
              "      <td>9,757.22</td>\n",
              "      <td>9,995.12</td>\n",
              "      <td>10,000.67</td>\n",
              "      <td>9,749.07</td>\n",
              "      <td>2.67B</td>\n",
              "      <td>-2.59%</td>\n",
              "    </tr>\n",
              "    <tr>\n",
              "      <th>3</th>\n",
              "      <td>2020년 06월 25일</td>\n",
              "      <td>10,017.00</td>\n",
              "      <td>9,899.36</td>\n",
              "      <td>10,023.28</td>\n",
              "      <td>9,810.47</td>\n",
              "      <td>1.06B</td>\n",
              "      <td>1.09%</td>\n",
              "    </tr>\n",
              "    <tr>\n",
              "      <th>4</th>\n",
              "      <td>2020년 06월 24일</td>\n",
              "      <td>9,909.17</td>\n",
              "      <td>10,092.92</td>\n",
              "      <td>10,137.50</td>\n",
              "      <td>9,842.22</td>\n",
              "      <td>1.26B</td>\n",
              "      <td>-2.19%</td>\n",
              "    </tr>\n",
              "  </tbody>\n",
              "</table>\n",
              "</div>"
            ],
            "text/plain": [
              "              날짜         종가         오픈         고가        저가      거래량    변동 %\n",
              "0  2020년 06월 30일  10,058.76   9,875.29  10,085.59  9,863.67    1.10B   1.87%\n",
              "1  2020년 06월 29일   9,874.15   9,771.72   9,877.34  9,663.61  977.01M   1.20%\n",
              "2  2020년 06월 26일   9,757.22   9,995.12  10,000.67  9,749.07    2.67B  -2.59%\n",
              "3  2020년 06월 25일  10,017.00   9,899.36  10,023.28  9,810.47    1.06B   1.09%\n",
              "4  2020년 06월 24일   9,909.17  10,092.92  10,137.50  9,842.22    1.26B  -2.19%"
            ]
          },
          "metadata": {
            "tags": []
          },
          "execution_count": 5
        }
      ]
    },
    {
      "cell_type": "code",
      "metadata": {
        "id": "3QZh2VkydhgF",
        "colab_type": "code",
        "colab": {
          "resources": {
            "http://localhost:8080/nbextensions/google.colab/files.js": {
              "data": "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",
              "ok": true,
              "headers": [
                [
                  "content-type",
                  "application/javascript"
                ]
              ],
              "status": 200,
              "status_text": ""
            }
          },
          "base_uri": "https://localhost:8080/",
          "height": 92
        },
        "outputId": "d4c9f586-8a5e-4719-a3c2-12bce394bbc6"
      },
      "source": [
        "from google.colab import files\n",
        "uploaded=files.upload()"
      ],
      "execution_count": 6,
      "outputs": [
        {
          "output_type": "display_data",
          "data": {
            "text/html": [
              "\n",
              "     <input type=\"file\" id=\"files-22a1c36f-493f-4e4f-afd2-7d94107d9128\" name=\"files[]\" multiple disabled\n",
              "        style=\"border:none\" />\n",
              "     <output id=\"result-22a1c36f-493f-4e4f-afd2-7d94107d9128\">\n",
              "      Upload widget is only available when the cell has been executed in the\n",
              "      current browser session. Please rerun this cell to enable.\n",
              "      </output>\n",
              "      <script src=\"/nbextensions/google.colab/files.js\"></script> "
            ],
            "text/plain": [
              "<IPython.core.display.HTML object>"
            ]
          },
          "metadata": {
            "tags": []
          }
        },
        {
          "output_type": "stream",
          "text": [
            "Saving Philadelphia Semiconductor Index.csv.txt to Philadelphia Semiconductor Index.csv.txt\n"
          ],
          "name": "stdout"
        }
      ]
    },
    {
      "cell_type": "code",
      "metadata": {
        "id": "vDU3_vCddkfu",
        "colab_type": "code",
        "colab": {
          "base_uri": "https://localhost:8080/",
          "height": 195
        },
        "outputId": "b13fe659-b338-4cb3-9711-ef2ba5b75d47"
      },
      "source": [
        "import io\n",
        "phila=pd.read_csv(io.BytesIO(uploaded['Philadelphia Semiconductor Index.csv.txt']))\n",
        "phila.head()"
      ],
      "execution_count": 7,
      "outputs": [
        {
          "output_type": "execute_result",
          "data": {
            "text/html": [
              "<div>\n",
              "<style scoped>\n",
              "    .dataframe tbody tr th:only-of-type {\n",
              "        vertical-align: middle;\n",
              "    }\n",
              "\n",
              "    .dataframe tbody tr th {\n",
              "        vertical-align: top;\n",
              "    }\n",
              "\n",
              "    .dataframe thead th {\n",
              "        text-align: right;\n",
              "    }\n",
              "</style>\n",
              "<table border=\"1\" class=\"dataframe\">\n",
              "  <thead>\n",
              "    <tr style=\"text-align: right;\">\n",
              "      <th></th>\n",
              "      <th>날짜</th>\n",
              "      <th>종가</th>\n",
              "      <th>오픈</th>\n",
              "      <th>고가</th>\n",
              "      <th>저가</th>\n",
              "      <th>거래량</th>\n",
              "      <th>변동 %</th>\n",
              "    </tr>\n",
              "  </thead>\n",
              "  <tbody>\n",
              "    <tr>\n",
              "      <th>0</th>\n",
              "      <td>2020년 06월 30일</td>\n",
              "      <td>1,996.44</td>\n",
              "      <td>1,954.54</td>\n",
              "      <td>2,002.08</td>\n",
              "      <td>1,953.22</td>\n",
              "      <td>-</td>\n",
              "      <td>2.70%</td>\n",
              "    </tr>\n",
              "    <tr>\n",
              "      <th>1</th>\n",
              "      <td>2020년 06월 29일</td>\n",
              "      <td>1,943.90</td>\n",
              "      <td>1,924.80</td>\n",
              "      <td>1,944.64</td>\n",
              "      <td>1,899.80</td>\n",
              "      <td>-</td>\n",
              "      <td>1.14%</td>\n",
              "    </tr>\n",
              "    <tr>\n",
              "      <th>2</th>\n",
              "      <td>2020년 06월 26일</td>\n",
              "      <td>1,921.92</td>\n",
              "      <td>1,959.50</td>\n",
              "      <td>1,964.01</td>\n",
              "      <td>1,917.83</td>\n",
              "      <td>-</td>\n",
              "      <td>-2.00%</td>\n",
              "    </tr>\n",
              "    <tr>\n",
              "      <th>3</th>\n",
              "      <td>2020년 06월 25일</td>\n",
              "      <td>1,961.05</td>\n",
              "      <td>1,941.59</td>\n",
              "      <td>1,963.72</td>\n",
              "      <td>1,914.30</td>\n",
              "      <td>-</td>\n",
              "      <td>0.86%</td>\n",
              "    </tr>\n",
              "    <tr>\n",
              "      <th>4</th>\n",
              "      <td>2020년 06월 24일</td>\n",
              "      <td>1,944.30</td>\n",
              "      <td>1,976.63</td>\n",
              "      <td>1,988.23</td>\n",
              "      <td>1,930.69</td>\n",
              "      <td>-</td>\n",
              "      <td>-2.18%</td>\n",
              "    </tr>\n",
              "  </tbody>\n",
              "</table>\n",
              "</div>"
            ],
            "text/plain": [
              "              날짜        종가        오픈        고가        저가 거래량    변동 %\n",
              "0  2020년 06월 30일  1,996.44  1,954.54  2,002.08  1,953.22   -   2.70%\n",
              "1  2020년 06월 29일  1,943.90  1,924.80  1,944.64  1,899.80   -   1.14%\n",
              "2  2020년 06월 26일  1,921.92  1,959.50  1,964.01  1,917.83   -  -2.00%\n",
              "3  2020년 06월 25일  1,961.05  1,941.59  1,963.72  1,914.30   -   0.86%\n",
              "4  2020년 06월 24일  1,944.30  1,976.63  1,988.23  1,930.69   -  -2.18%"
            ]
          },
          "metadata": {
            "tags": []
          },
          "execution_count": 7
        }
      ]
    },
    {
      "cell_type": "code",
      "metadata": {
        "id": "6inSL31Adn1I",
        "colab_type": "code",
        "colab": {
          "resources": {
            "http://localhost:8080/nbextensions/google.colab/files.js": {
              "data": "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",
              "ok": true,
              "headers": [
                [
                  "content-type",
                  "application/javascript"
                ]
              ],
              "status": 200,
              "status_text": ""
            }
          },
          "base_uri": "https://localhost:8080/",
          "height": 92
        },
        "outputId": "695a28c6-72b8-40ad-ecd5-d58ff7c47592"
      },
      "source": [
        "from google.colab import files\n",
        "uploaded=files.upload()"
      ],
      "execution_count": 8,
      "outputs": [
        {
          "output_type": "display_data",
          "data": {
            "text/html": [
              "\n",
              "     <input type=\"file\" id=\"files-ad6f3860-738e-449a-8ede-771e29b07360\" name=\"files[]\" multiple disabled\n",
              "        style=\"border:none\" />\n",
              "     <output id=\"result-ad6f3860-738e-449a-8ede-771e29b07360\">\n",
              "      Upload widget is only available when the cell has been executed in the\n",
              "      current browser session. Please rerun this cell to enable.\n",
              "      </output>\n",
              "      <script src=\"/nbextensions/google.colab/files.js\"></script> "
            ],
            "text/plain": [
              "<IPython.core.display.HTML object>"
            ]
          },
          "metadata": {
            "tags": []
          }
        },
        {
          "output_type": "stream",
          "text": [
            "Saving exchange_2017-01-01_2020-06-30.csv.txt to exchange_2017-01-01_2020-06-30.csv.txt\n"
          ],
          "name": "stdout"
        }
      ]
    },
    {
      "cell_type": "code",
      "metadata": {
        "id": "MrV7VW3Qdqaf",
        "colab_type": "code",
        "colab": {
          "base_uri": "https://localhost:8080/",
          "height": 195
        },
        "outputId": "f6c5e72a-8f2f-4d99-c24b-753059b4b0d3"
      },
      "source": [
        "import io\n",
        "exchange=pd.read_csv(io.BytesIO(uploaded['exchange_2017-01-01_2020-06-30.csv.txt']))\n",
        "exchange.head()"
      ],
      "execution_count": 9,
      "outputs": [
        {
          "output_type": "execute_result",
          "data": {
            "text/html": [
              "<div>\n",
              "<style scoped>\n",
              "    .dataframe tbody tr th:only-of-type {\n",
              "        vertical-align: middle;\n",
              "    }\n",
              "\n",
              "    .dataframe tbody tr th {\n",
              "        vertical-align: top;\n",
              "    }\n",
              "\n",
              "    .dataframe thead th {\n",
              "        text-align: right;\n",
              "    }\n",
              "</style>\n",
              "<table border=\"1\" class=\"dataframe\">\n",
              "  <thead>\n",
              "    <tr style=\"text-align: right;\">\n",
              "      <th></th>\n",
              "      <th>Date</th>\n",
              "      <th>Open</th>\n",
              "      <th>High</th>\n",
              "      <th>Low</th>\n",
              "      <th>Close</th>\n",
              "    </tr>\n",
              "  </thead>\n",
              "  <tbody>\n",
              "    <tr>\n",
              "      <th>0</th>\n",
              "      <td>2017-01-02</td>\n",
              "      <td>1,206.85</td>\n",
              "      <td>1,210.20</td>\n",
              "      <td>1,204.42</td>\n",
              "      <td>1,207.64</td>\n",
              "    </tr>\n",
              "    <tr>\n",
              "      <th>1</th>\n",
              "      <td>2017-01-03</td>\n",
              "      <td>1,207.36</td>\n",
              "      <td>1,211.90</td>\n",
              "      <td>1,201.29</td>\n",
              "      <td>1,208.36</td>\n",
              "    </tr>\n",
              "    <tr>\n",
              "      <th>2</th>\n",
              "      <td>2017-01-04</td>\n",
              "      <td>1,209.16</td>\n",
              "      <td>1,211.82</td>\n",
              "      <td>1,196.22</td>\n",
              "      <td>1,198.90</td>\n",
              "    </tr>\n",
              "    <tr>\n",
              "      <th>3</th>\n",
              "      <td>2017-01-05</td>\n",
              "      <td>1,199.38</td>\n",
              "      <td>1,201.48</td>\n",
              "      <td>1,182.63</td>\n",
              "      <td>1,185.78</td>\n",
              "    </tr>\n",
              "    <tr>\n",
              "      <th>4</th>\n",
              "      <td>2017-01-06</td>\n",
              "      <td>1,186.11</td>\n",
              "      <td>1,200.00</td>\n",
              "      <td>1,179.33</td>\n",
              "      <td>1,196.32</td>\n",
              "    </tr>\n",
              "  </tbody>\n",
              "</table>\n",
              "</div>"
            ],
            "text/plain": [
              "         Date      Open      High       Low     Close\n",
              "0  2017-01-02  1,206.85  1,210.20  1,204.42  1,207.64\n",
              "1  2017-01-03  1,207.36  1,211.90  1,201.29  1,208.36\n",
              "2  2017-01-04  1,209.16  1,211.82  1,196.22  1,198.90\n",
              "3  2017-01-05  1,199.38  1,201.48  1,182.63  1,185.78\n",
              "4  2017-01-06  1,186.11  1,200.00  1,179.33  1,196.32"
            ]
          },
          "metadata": {
            "tags": []
          },
          "execution_count": 9
        }
      ]
    },
    {
      "cell_type": "code",
      "metadata": {
        "id": "NKxK3nPqdtuA",
        "colab_type": "code",
        "colab": {
          "resources": {
            "http://localhost:8080/nbextensions/google.colab/files.js": {
              "data": "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",
              "ok": true,
              "headers": [
                [
                  "content-type",
                  "application/javascript"
                ]
              ],
              "status": 200,
              "status_text": ""
            }
          },
          "base_uri": "https://localhost:8080/",
          "height": 75
        },
        "outputId": "2c5be6cc-bde7-4dfc-8bb7-3ef9944ce34f"
      },
      "source": [
        "from google.colab import files\n",
        "uploaded=files.upload()"
      ],
      "execution_count": 10,
      "outputs": [
        {
          "output_type": "display_data",
          "data": {
            "text/html": [
              "\n",
              "     <input type=\"file\" id=\"files-27f4d716-aa64-4ea6-859e-d5a7809fa83f\" name=\"files[]\" multiple disabled\n",
              "        style=\"border:none\" />\n",
              "     <output id=\"result-27f4d716-aa64-4ea6-859e-d5a7809fa83f\">\n",
              "      Upload widget is only available when the cell has been executed in the\n",
              "      current browser session. Please rerun this cell to enable.\n",
              "      </output>\n",
              "      <script src=\"/nbextensions/google.colab/files.js\"></script> "
            ],
            "text/plain": [
              "<IPython.core.display.HTML object>"
            ]
          },
          "metadata": {
            "tags": []
          }
        },
        {
          "output_type": "stream",
          "text": [
            "Saving KOSPI.csv.txt to KOSPI.csv.txt\n"
          ],
          "name": "stdout"
        }
      ]
    },
    {
      "cell_type": "code",
      "metadata": {
        "id": "jBK3jWS9dv-_",
        "colab_type": "code",
        "colab": {
          "base_uri": "https://localhost:8080/",
          "height": 195
        },
        "outputId": "625f4807-d8ad-4532-97c3-463b7c6e6a5e"
      },
      "source": [
        "import io\n",
        "kospi=pd.read_csv(io.BytesIO(uploaded['KOSPI.csv.txt']))\n",
        "kospi.head()"
      ],
      "execution_count": 11,
      "outputs": [
        {
          "output_type": "execute_result",
          "data": {
            "text/html": [
              "<div>\n",
              "<style scoped>\n",
              "    .dataframe tbody tr th:only-of-type {\n",
              "        vertical-align: middle;\n",
              "    }\n",
              "\n",
              "    .dataframe tbody tr th {\n",
              "        vertical-align: top;\n",
              "    }\n",
              "\n",
              "    .dataframe thead th {\n",
              "        text-align: right;\n",
              "    }\n",
              "</style>\n",
              "<table border=\"1\" class=\"dataframe\">\n",
              "  <thead>\n",
              "    <tr style=\"text-align: right;\">\n",
              "      <th></th>\n",
              "      <th>날짜</th>\n",
              "      <th>종가</th>\n",
              "      <th>오픈</th>\n",
              "      <th>고가</th>\n",
              "      <th>저가</th>\n",
              "      <th>거래량</th>\n",
              "      <th>변동 %</th>\n",
              "    </tr>\n",
              "  </thead>\n",
              "  <tbody>\n",
              "    <tr>\n",
              "      <th>0</th>\n",
              "      <td>2020년 06월 30일</td>\n",
              "      <td>2,108.33</td>\n",
              "      <td>2,124.38</td>\n",
              "      <td>2,134.38</td>\n",
              "      <td>2,108.26</td>\n",
              "      <td>708.60M</td>\n",
              "      <td>0.71%</td>\n",
              "    </tr>\n",
              "    <tr>\n",
              "      <th>1</th>\n",
              "      <td>2020년 06월 29일</td>\n",
              "      <td>2,093.48</td>\n",
              "      <td>2,105.54</td>\n",
              "      <td>2,120.50</td>\n",
              "      <td>2,087.84</td>\n",
              "      <td>643.16M</td>\n",
              "      <td>-1.93%</td>\n",
              "    </tr>\n",
              "    <tr>\n",
              "      <th>2</th>\n",
              "      <td>2020년 06월 26일</td>\n",
              "      <td>2,134.65</td>\n",
              "      <td>2,137.47</td>\n",
              "      <td>2,142.04</td>\n",
              "      <td>2,115.25</td>\n",
              "      <td>761.04M</td>\n",
              "      <td>1.05%</td>\n",
              "    </tr>\n",
              "    <tr>\n",
              "      <th>3</th>\n",
              "      <td>2020년 06월 25일</td>\n",
              "      <td>2,112.37</td>\n",
              "      <td>2,130.45</td>\n",
              "      <td>2,143.33</td>\n",
              "      <td>2,112.37</td>\n",
              "      <td>1.02B</td>\n",
              "      <td>-2.27%</td>\n",
              "    </tr>\n",
              "    <tr>\n",
              "      <th>4</th>\n",
              "      <td>2020년 06월 24일</td>\n",
              "      <td>2,161.51</td>\n",
              "      <td>2,145.93</td>\n",
              "      <td>2,171.86</td>\n",
              "      <td>2,143.91</td>\n",
              "      <td>913.90M</td>\n",
              "      <td>1.42%</td>\n",
              "    </tr>\n",
              "  </tbody>\n",
              "</table>\n",
              "</div>"
            ],
            "text/plain": [
              "              날짜        종가        오픈        고가        저가      거래량    변동 %\n",
              "0  2020년 06월 30일  2,108.33  2,124.38  2,134.38  2,108.26  708.60M   0.71%\n",
              "1  2020년 06월 29일  2,093.48  2,105.54  2,120.50  2,087.84  643.16M  -1.93%\n",
              "2  2020년 06월 26일  2,134.65  2,137.47  2,142.04  2,115.25  761.04M   1.05%\n",
              "3  2020년 06월 25일  2,112.37  2,130.45  2,143.33  2,112.37    1.02B  -2.27%\n",
              "4  2020년 06월 24일  2,161.51  2,145.93  2,171.86  2,143.91  913.90M   1.42%"
            ]
          },
          "metadata": {
            "tags": []
          },
          "execution_count": 11
        }
      ]
    },
    {
      "cell_type": "code",
      "metadata": {
        "id": "JkShClzhdy59",
        "colab_type": "code",
        "colab": {
          "resources": {
            "http://localhost:8080/nbextensions/google.colab/files.js": {
              "data": "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",
              "ok": true,
              "headers": [
                [
                  "content-type",
                  "application/javascript"
                ]
              ],
              "status": 200,
              "status_text": ""
            }
          },
          "base_uri": "https://localhost:8080/",
          "height": 75
        },
        "outputId": "9f9db5f3-21e5-49e6-8178-7541a85125e9"
      },
      "source": [
        "from google.colab import files\n",
        "uploaded=files.upload()"
      ],
      "execution_count": 12,
      "outputs": [
        {
          "output_type": "display_data",
          "data": {
            "text/html": [
              "\n",
              "     <input type=\"file\" id=\"files-f372f338-0c58-44e5-bd1c-dce8a48f9a84\" name=\"files[]\" multiple disabled\n",
              "        style=\"border:none\" />\n",
              "     <output id=\"result-f372f338-0c58-44e5-bd1c-dce8a48f9a84\">\n",
              "      Upload widget is only available when the cell has been executed in the\n",
              "      current browser session. Please rerun this cell to enable.\n",
              "      </output>\n",
              "      <script src=\"/nbextensions/google.colab/files.js\"></script> "
            ],
            "text/plain": [
              "<IPython.core.display.HTML object>"
            ]
          },
          "metadata": {
            "tags": []
          }
        },
        {
          "output_type": "stream",
          "text": [
            "Saving sse.csv to sse.csv\n"
          ],
          "name": "stdout"
        }
      ]
    },
    {
      "cell_type": "code",
      "metadata": {
        "id": "1aFpqY-Dd0gr",
        "colab_type": "code",
        "colab": {
          "base_uri": "https://localhost:8080/",
          "height": 195
        },
        "outputId": "a2dd1dd5-6eca-4f28-b973-dde259b52abf"
      },
      "source": [
        "import io\n",
        "sse=pd.read_csv(io.BytesIO(uploaded['sse.csv']))\n",
        "sse.head()"
      ],
      "execution_count": 13,
      "outputs": [
        {
          "output_type": "execute_result",
          "data": {
            "text/html": [
              "<div>\n",
              "<style scoped>\n",
              "    .dataframe tbody tr th:only-of-type {\n",
              "        vertical-align: middle;\n",
              "    }\n",
              "\n",
              "    .dataframe tbody tr th {\n",
              "        vertical-align: top;\n",
              "    }\n",
              "\n",
              "    .dataframe thead th {\n",
              "        text-align: right;\n",
              "    }\n",
              "</style>\n",
              "<table border=\"1\" class=\"dataframe\">\n",
              "  <thead>\n",
              "    <tr style=\"text-align: right;\">\n",
              "      <th></th>\n",
              "      <th>Date</th>\n",
              "      <th>Open</th>\n",
              "      <th>High</th>\n",
              "      <th>Low</th>\n",
              "      <th>Close</th>\n",
              "      <th>Volume</th>\n",
              "      <th>Change</th>\n",
              "    </tr>\n",
              "  </thead>\n",
              "  <tbody>\n",
              "    <tr>\n",
              "      <th>0</th>\n",
              "      <td>2018-01-02</td>\n",
              "      <td>51380</td>\n",
              "      <td>51400</td>\n",
              "      <td>50780</td>\n",
              "      <td>51020</td>\n",
              "      <td>169485</td>\n",
              "      <td>0.001177</td>\n",
              "    </tr>\n",
              "    <tr>\n",
              "      <th>1</th>\n",
              "      <td>2018-01-03</td>\n",
              "      <td>52540</td>\n",
              "      <td>52560</td>\n",
              "      <td>51420</td>\n",
              "      <td>51620</td>\n",
              "      <td>200270</td>\n",
              "      <td>0.011760</td>\n",
              "    </tr>\n",
              "    <tr>\n",
              "      <th>2</th>\n",
              "      <td>2018-01-04</td>\n",
              "      <td>52120</td>\n",
              "      <td>52180</td>\n",
              "      <td>50640</td>\n",
              "      <td>51080</td>\n",
              "      <td>233909</td>\n",
              "      <td>-0.010461</td>\n",
              "    </tr>\n",
              "    <tr>\n",
              "      <th>3</th>\n",
              "      <td>2018-01-05</td>\n",
              "      <td>51300</td>\n",
              "      <td>52120</td>\n",
              "      <td>51200</td>\n",
              "      <td>52120</td>\n",
              "      <td>189623</td>\n",
              "      <td>0.020360</td>\n",
              "    </tr>\n",
              "    <tr>\n",
              "      <th>4</th>\n",
              "      <td>2018-01-08</td>\n",
              "      <td>52400</td>\n",
              "      <td>52520</td>\n",
              "      <td>51500</td>\n",
              "      <td>52020</td>\n",
              "      <td>167673</td>\n",
              "      <td>-0.001919</td>\n",
              "    </tr>\n",
              "  </tbody>\n",
              "</table>\n",
              "</div>"
            ],
            "text/plain": [
              "         Date   Open   High    Low  Close  Volume    Change\n",
              "0  2018-01-02  51380  51400  50780  51020  169485  0.001177\n",
              "1  2018-01-03  52540  52560  51420  51620  200270  0.011760\n",
              "2  2018-01-04  52120  52180  50640  51080  233909 -0.010461\n",
              "3  2018-01-05  51300  52120  51200  52120  189623  0.020360\n",
              "4  2018-01-08  52400  52520  51500  52020  167673 -0.001919"
            ]
          },
          "metadata": {
            "tags": []
          },
          "execution_count": 13
        }
      ]
    },
    {
      "cell_type": "code",
      "metadata": {
        "id": "bjZrCF0Hd5NQ",
        "colab_type": "code",
        "colab": {
          "resources": {
            "http://localhost:8080/nbextensions/google.colab/files.js": {
              "data": "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",
              "ok": true,
              "headers": [
                [
                  "content-type",
                  "application/javascript"
                ]
              ],
              "status": 200,
              "status_text": ""
            }
          },
          "base_uri": "https://localhost:8080/",
          "height": 75
        },
        "outputId": "d971b055-f49b-4750-b207-47a7694d0831"
      },
      "source": [
        "from google.colab import files\n",
        "uploaded=files.upload()"
      ],
      "execution_count": 14,
      "outputs": [
        {
          "output_type": "display_data",
          "data": {
            "text/html": [
              "\n",
              "     <input type=\"file\" id=\"files-2bf992f3-a5c8-4929-920a-febef1030f85\" name=\"files[]\" multiple disabled\n",
              "        style=\"border:none\" />\n",
              "     <output id=\"result-2bf992f3-a5c8-4929-920a-febef1030f85\">\n",
              "      Upload widget is only available when the cell has been executed in the\n",
              "      current browser session. Please rerun this cell to enable.\n",
              "      </output>\n",
              "      <script src=\"/nbextensions/google.colab/files.js\"></script> "
            ],
            "text/plain": [
              "<IPython.core.display.HTML object>"
            ]
          },
          "metadata": {
            "tags": []
          }
        },
        {
          "output_type": "stream",
          "text": [
            "Saving SSEforeign2017-2020.xlsx to SSEforeign2017-2020.xlsx\n"
          ],
          "name": "stdout"
        }
      ]
    },
    {
      "cell_type": "code",
      "metadata": {
        "id": "a7bjdYeFd6dY",
        "colab_type": "code",
        "colab": {
          "base_uri": "https://localhost:8080/",
          "height": 195
        },
        "outputId": "706ee6a6-5014-4bd2-aa6d-1cafc8045f2f"
      },
      "source": [
        "import io\n",
        "foreign=pd.read_excel(io.BytesIO(uploaded['SSEforeign2017-2020.xlsx']))\n",
        "foreign.head()"
      ],
      "execution_count": 15,
      "outputs": [
        {
          "output_type": "execute_result",
          "data": {
            "text/html": [
              "<div>\n",
              "<style scoped>\n",
              "    .dataframe tbody tr th:only-of-type {\n",
              "        vertical-align: middle;\n",
              "    }\n",
              "\n",
              "    .dataframe tbody tr th {\n",
              "        vertical-align: top;\n",
              "    }\n",
              "\n",
              "    .dataframe thead th {\n",
              "        text-align: right;\n",
              "    }\n",
              "</style>\n",
              "<table border=\"1\" class=\"dataframe\">\n",
              "  <thead>\n",
              "    <tr style=\"text-align: right;\">\n",
              "      <th></th>\n",
              "      <th>Date</th>\n",
              "      <th>기관 순매매량</th>\n",
              "      <th>외국인 순매매량</th>\n",
              "      <th>외국인 보유주 수</th>\n",
              "      <th>외국인 보유율</th>\n",
              "    </tr>\n",
              "  </thead>\n",
              "  <tbody>\n",
              "    <tr>\n",
              "      <th>0</th>\n",
              "      <td>2020.09.07</td>\n",
              "      <td>-897885</td>\n",
              "      <td>-75509</td>\n",
              "      <td>3330377694</td>\n",
              "      <td>55.79%</td>\n",
              "    </tr>\n",
              "    <tr>\n",
              "      <th>1</th>\n",
              "      <td>2020.09.04</td>\n",
              "      <td>-2508980</td>\n",
              "      <td>-1959260</td>\n",
              "      <td>3330417203</td>\n",
              "      <td>55.79%</td>\n",
              "    </tr>\n",
              "    <tr>\n",
              "      <th>2</th>\n",
              "      <td>2020.09.03</td>\n",
              "      <td>+265,036</td>\n",
              "      <td>+4,005,421</td>\n",
              "      <td>3332550013</td>\n",
              "      <td>55.82%</td>\n",
              "    </tr>\n",
              "    <tr>\n",
              "      <th>3</th>\n",
              "      <td>2020.09.02</td>\n",
              "      <td>+59,529</td>\n",
              "      <td>-1235282</td>\n",
              "      <td>3328550592</td>\n",
              "      <td>55.76%</td>\n",
              "    </tr>\n",
              "    <tr>\n",
              "      <th>4</th>\n",
              "      <td>2020.09.01</td>\n",
              "      <td>-952340</td>\n",
              "      <td>-1455952</td>\n",
              "      <td>3329332324</td>\n",
              "      <td>55.77%</td>\n",
              "    </tr>\n",
              "  </tbody>\n",
              "</table>\n",
              "</div>"
            ],
            "text/plain": [
              "         Date   기관 순매매량    외국인 순매매량   외국인 보유주 수 외국인 보유율\n",
              "0  2020.09.07   -897885      -75509  3330377694  55.79%\n",
              "1  2020.09.04  -2508980    -1959260  3330417203  55.79%\n",
              "2  2020.09.03  +265,036  +4,005,421  3332550013  55.82%\n",
              "3  2020.09.02   +59,529    -1235282  3328550592  55.76%\n",
              "4  2020.09.01   -952340    -1455952  3329332324  55.77%"
            ]
          },
          "metadata": {
            "tags": []
          },
          "execution_count": 15
        }
      ]
    },
    {
      "cell_type": "code",
      "metadata": {
        "id": "g586z5Bcd-_j",
        "colab_type": "code",
        "colab": {
          "resources": {
            "http://localhost:8080/nbextensions/google.colab/files.js": {
              "data": "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",
              "ok": true,
              "headers": [
                [
                  "content-type",
                  "application/javascript"
                ]
              ],
              "status": 200,
              "status_text": ""
            }
          },
          "base_uri": "https://localhost:8080/",
          "height": 75
        },
        "outputId": "f0a21082-e6f2-4a40-aafd-17188661a334"
      },
      "source": [
        "from google.colab import files\n",
        "uploaded=files.upload()"
      ],
      "execution_count": 16,
      "outputs": [
        {
          "output_type": "display_data",
          "data": {
            "text/html": [
              "\n",
              "     <input type=\"file\" id=\"files-8d367eb6-e065-4856-bb54-9f5c334e5c52\" name=\"files[]\" multiple disabled\n",
              "        style=\"border:none\" />\n",
              "     <output id=\"result-8d367eb6-e065-4856-bb54-9f5c334e5c52\">\n",
              "      Upload widget is only available when the cell has been executed in the\n",
              "      current browser session. Please rerun this cell to enable.\n",
              "      </output>\n",
              "      <script src=\"/nbextensions/google.colab/files.js\"></script> "
            ],
            "text/plain": [
              "<IPython.core.display.HTML object>"
            ]
          },
          "metadata": {
            "tags": []
          }
        },
        {
          "output_type": "stream",
          "text": [
            "Saving KOREA_bond_1year.csv.txt to KOREA_bond_1year.csv.txt\n"
          ],
          "name": "stdout"
        }
      ]
    },
    {
      "cell_type": "code",
      "metadata": {
        "id": "lAfJU45XeB7G",
        "colab_type": "code",
        "colab": {
          "base_uri": "https://localhost:8080/",
          "height": 195
        },
        "outputId": "84938463-d0ef-438b-ad9b-a84b4db6fc5e"
      },
      "source": [
        "import io\n",
        "bond=pd.read_csv(io.BytesIO(uploaded['KOREA_bond_1year.csv.txt']))\n",
        "bond.head()"
      ],
      "execution_count": 17,
      "outputs": [
        {
          "output_type": "execute_result",
          "data": {
            "text/html": [
              "<div>\n",
              "<style scoped>\n",
              "    .dataframe tbody tr th:only-of-type {\n",
              "        vertical-align: middle;\n",
              "    }\n",
              "\n",
              "    .dataframe tbody tr th {\n",
              "        vertical-align: top;\n",
              "    }\n",
              "\n",
              "    .dataframe thead th {\n",
              "        text-align: right;\n",
              "    }\n",
              "</style>\n",
              "<table border=\"1\" class=\"dataframe\">\n",
              "  <thead>\n",
              "    <tr style=\"text-align: right;\">\n",
              "      <th></th>\n",
              "      <th>날짜</th>\n",
              "      <th>종가</th>\n",
              "      <th>오픈</th>\n",
              "      <th>고가</th>\n",
              "      <th>저가</th>\n",
              "      <th>변동 %</th>\n",
              "    </tr>\n",
              "  </thead>\n",
              "  <tbody>\n",
              "    <tr>\n",
              "      <th>0</th>\n",
              "      <td>2020년 06월 30일</td>\n",
              "      <td>0.590</td>\n",
              "      <td>0.591</td>\n",
              "      <td>0.591</td>\n",
              "      <td>0.590</td>\n",
              "      <td>3.15%</td>\n",
              "    </tr>\n",
              "    <tr>\n",
              "      <th>1</th>\n",
              "      <td>2020년 06월 29일</td>\n",
              "      <td>0.572</td>\n",
              "      <td>0.570</td>\n",
              "      <td>0.572</td>\n",
              "      <td>0.570</td>\n",
              "      <td>0.53%</td>\n",
              "    </tr>\n",
              "    <tr>\n",
              "      <th>2</th>\n",
              "      <td>2020년 06월 28일</td>\n",
              "      <td>0.569</td>\n",
              "      <td>0.569</td>\n",
              "      <td>0.569</td>\n",
              "      <td>0.569</td>\n",
              "      <td>0.00%</td>\n",
              "    </tr>\n",
              "    <tr>\n",
              "      <th>3</th>\n",
              "      <td>2020년 06월 27일</td>\n",
              "      <td>0.569</td>\n",
              "      <td>0.569</td>\n",
              "      <td>0.569</td>\n",
              "      <td>0.569</td>\n",
              "      <td>0.00%</td>\n",
              "    </tr>\n",
              "    <tr>\n",
              "      <th>4</th>\n",
              "      <td>2020년 06월 26일</td>\n",
              "      <td>0.569</td>\n",
              "      <td>0.570</td>\n",
              "      <td>0.570</td>\n",
              "      <td>0.568</td>\n",
              "      <td>1.79%</td>\n",
              "    </tr>\n",
              "  </tbody>\n",
              "</table>\n",
              "</div>"
            ],
            "text/plain": [
              "              날짜     종가     오픈     고가     저가   변동 %\n",
              "0  2020년 06월 30일  0.590  0.591  0.591  0.590  3.15%\n",
              "1  2020년 06월 29일  0.572  0.570  0.572  0.570  0.53%\n",
              "2  2020년 06월 28일  0.569  0.569  0.569  0.569  0.00%\n",
              "3  2020년 06월 27일  0.569  0.569  0.569  0.569  0.00%\n",
              "4  2020년 06월 26일  0.569  0.570  0.570  0.568  1.79%"
            ]
          },
          "metadata": {
            "tags": []
          },
          "execution_count": 17
        }
      ]
    },
    {
      "cell_type": "code",
      "metadata": {
        "id": "-xieqnxseFRG",
        "colab_type": "code",
        "colab": {
          "resources": {
            "http://localhost:8080/nbextensions/google.colab/files.js": {
              "data": "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",
              "ok": true,
              "headers": [
                [
                  "content-type",
                  "application/javascript"
                ]
              ],
              "status": 200,
              "status_text": ""
            }
          },
          "base_uri": "https://localhost:8080/",
          "height": 75
        },
        "outputId": "3f43032d-e824-4110-cf99-67b16339fc44"
      },
      "source": [
        "from google.colab import files\n",
        "uploaded=files.upload()"
      ],
      "execution_count": 18,
      "outputs": [
        {
          "output_type": "display_data",
          "data": {
            "text/html": [
              "\n",
              "     <input type=\"file\" id=\"files-c31958c6-86fd-43ef-8ca5-7e0da4ac6e53\" name=\"files[]\" multiple disabled\n",
              "        style=\"border:none\" />\n",
              "     <output id=\"result-c31958c6-86fd-43ef-8ca5-7e0da4ac6e53\">\n",
              "      Upload widget is only available when the cell has been executed in the\n",
              "      current browser session. Please rerun this cell to enable.\n",
              "      </output>\n",
              "      <script src=\"/nbextensions/google.colab/files.js\"></script> "
            ],
            "text/plain": [
              "<IPython.core.display.HTML object>"
            ]
          },
          "metadata": {
            "tags": []
          }
        },
        {
          "output_type": "stream",
          "text": [
            "Saving SSE_PBR_PER_ROE.csv.txt to SSE_PBR_PER_ROE.csv.txt\n"
          ],
          "name": "stdout"
        }
      ]
    },
    {
      "cell_type": "code",
      "metadata": {
        "id": "_B_zbsDeeGla",
        "colab_type": "code",
        "colab": {
          "base_uri": "https://localhost:8080/",
          "height": 195
        },
        "outputId": "2854a7cb-6c5c-4ca8-ca12-ac9eff02e190"
      },
      "source": [
        "import io\n",
        "pbr=pd.read_csv(io.BytesIO(uploaded['SSE_PBR_PER_ROE.csv.txt']))\n",
        "pbr.head()"
      ],
      "execution_count": 19,
      "outputs": [
        {
          "output_type": "execute_result",
          "data": {
            "text/html": [
              "<div>\n",
              "<style scoped>\n",
              "    .dataframe tbody tr th:only-of-type {\n",
              "        vertical-align: middle;\n",
              "    }\n",
              "\n",
              "    .dataframe tbody tr th {\n",
              "        vertical-align: top;\n",
              "    }\n",
              "\n",
              "    .dataframe thead th {\n",
              "        text-align: right;\n",
              "    }\n",
              "</style>\n",
              "<table border=\"1\" class=\"dataframe\">\n",
              "  <thead>\n",
              "    <tr style=\"text-align: right;\">\n",
              "      <th></th>\n",
              "      <th>Date</th>\n",
              "      <th>Close</th>\n",
              "      <th>PBR</th>\n",
              "      <th>PER</th>\n",
              "      <th>ROE</th>\n",
              "    </tr>\n",
              "  </thead>\n",
              "  <tbody>\n",
              "    <tr>\n",
              "      <th>0</th>\n",
              "      <td>2017-01-02</td>\n",
              "      <td>36100.0</td>\n",
              "      <td>0.031289</td>\n",
              "      <td>0.359220</td>\n",
              "      <td>0.087102</td>\n",
              "    </tr>\n",
              "    <tr>\n",
              "      <th>1</th>\n",
              "      <td>2017-01-03</td>\n",
              "      <td>36480.0</td>\n",
              "      <td>0.031618</td>\n",
              "      <td>0.363001</td>\n",
              "      <td>0.087102</td>\n",
              "    </tr>\n",
              "    <tr>\n",
              "      <th>2</th>\n",
              "      <td>2017-01-04</td>\n",
              "      <td>36160.0</td>\n",
              "      <td>0.031341</td>\n",
              "      <td>0.359817</td>\n",
              "      <td>0.087102</td>\n",
              "    </tr>\n",
              "    <tr>\n",
              "      <th>3</th>\n",
              "      <td>2017-01-05</td>\n",
              "      <td>35560.0</td>\n",
              "      <td>0.030821</td>\n",
              "      <td>0.353847</td>\n",
              "      <td>0.087102</td>\n",
              "    </tr>\n",
              "    <tr>\n",
              "      <th>4</th>\n",
              "      <td>2017-01-06</td>\n",
              "      <td>36200.0</td>\n",
              "      <td>0.031376</td>\n",
              "      <td>0.360215</td>\n",
              "      <td>0.087102</td>\n",
              "    </tr>\n",
              "  </tbody>\n",
              "</table>\n",
              "</div>"
            ],
            "text/plain": [
              "         Date    Close       PBR       PER       ROE\n",
              "0  2017-01-02  36100.0  0.031289  0.359220  0.087102\n",
              "1  2017-01-03  36480.0  0.031618  0.363001  0.087102\n",
              "2  2017-01-04  36160.0  0.031341  0.359817  0.087102\n",
              "3  2017-01-05  35560.0  0.030821  0.353847  0.087102\n",
              "4  2017-01-06  36200.0  0.031376  0.360215  0.087102"
            ]
          },
          "metadata": {
            "tags": []
          },
          "execution_count": 19
        }
      ]
    },
    {
      "cell_type": "code",
      "metadata": {
        "id": "_zREs_YIeM2f",
        "colab_type": "code",
        "colab": {
          "base_uri": "https://localhost:8080/",
          "height": 121
        },
        "outputId": "ed0e3ad1-3f64-461c-b619-5e1e6abe3923"
      },
      "source": [
        "samsung=sse\n",
        "samsung.drop('Change', axis=1, inplace=True)\n",
        "samsung = samsung[samsung['Open']!=0]\n",
        "samsung.index = pd.to_datetime(samsung.Date)\n",
        "samsung.drop('Date', axis=1, inplace=True)\n",
        "samsung = samsung['2018-01-01':]"
      ],
      "execution_count": 20,
      "outputs": [
        {
          "output_type": "stream",
          "text": [
            "/usr/local/lib/python3.6/dist-packages/pandas/core/frame.py:3997: SettingWithCopyWarning: \n",
            "A value is trying to be set on a copy of a slice from a DataFrame\n",
            "\n",
            "See the caveats in the documentation: https://pandas.pydata.org/pandas-docs/stable/user_guide/indexing.html#returning-a-view-versus-a-copy\n",
            "  errors=errors,\n"
          ],
          "name": "stderr"
        }
      ]
    },
    {
      "cell_type": "code",
      "metadata": {
        "id": "1Qss6cZeeUUC",
        "colab_type": "code",
        "colab": {
          "base_uri": "https://localhost:8080/",
          "height": 225
        },
        "outputId": "bb0551a5-11fc-4274-8758-32d77bf0b262"
      },
      "source": [
        "samsung.head()"
      ],
      "execution_count": 21,
      "outputs": [
        {
          "output_type": "execute_result",
          "data": {
            "text/html": [
              "<div>\n",
              "<style scoped>\n",
              "    .dataframe tbody tr th:only-of-type {\n",
              "        vertical-align: middle;\n",
              "    }\n",
              "\n",
              "    .dataframe tbody tr th {\n",
              "        vertical-align: top;\n",
              "    }\n",
              "\n",
              "    .dataframe thead th {\n",
              "        text-align: right;\n",
              "    }\n",
              "</style>\n",
              "<table border=\"1\" class=\"dataframe\">\n",
              "  <thead>\n",
              "    <tr style=\"text-align: right;\">\n",
              "      <th></th>\n",
              "      <th>Open</th>\n",
              "      <th>High</th>\n",
              "      <th>Low</th>\n",
              "      <th>Close</th>\n",
              "      <th>Volume</th>\n",
              "    </tr>\n",
              "    <tr>\n",
              "      <th>Date</th>\n",
              "      <th></th>\n",
              "      <th></th>\n",
              "      <th></th>\n",
              "      <th></th>\n",
              "      <th></th>\n",
              "    </tr>\n",
              "  </thead>\n",
              "  <tbody>\n",
              "    <tr>\n",
              "      <th>2018-01-02</th>\n",
              "      <td>51380</td>\n",
              "      <td>51400</td>\n",
              "      <td>50780</td>\n",
              "      <td>51020</td>\n",
              "      <td>169485</td>\n",
              "    </tr>\n",
              "    <tr>\n",
              "      <th>2018-01-03</th>\n",
              "      <td>52540</td>\n",
              "      <td>52560</td>\n",
              "      <td>51420</td>\n",
              "      <td>51620</td>\n",
              "      <td>200270</td>\n",
              "    </tr>\n",
              "    <tr>\n",
              "      <th>2018-01-04</th>\n",
              "      <td>52120</td>\n",
              "      <td>52180</td>\n",
              "      <td>50640</td>\n",
              "      <td>51080</td>\n",
              "      <td>233909</td>\n",
              "    </tr>\n",
              "    <tr>\n",
              "      <th>2018-01-05</th>\n",
              "      <td>51300</td>\n",
              "      <td>52120</td>\n",
              "      <td>51200</td>\n",
              "      <td>52120</td>\n",
              "      <td>189623</td>\n",
              "    </tr>\n",
              "    <tr>\n",
              "      <th>2018-01-08</th>\n",
              "      <td>52400</td>\n",
              "      <td>52520</td>\n",
              "      <td>51500</td>\n",
              "      <td>52020</td>\n",
              "      <td>167673</td>\n",
              "    </tr>\n",
              "  </tbody>\n",
              "</table>\n",
              "</div>"
            ],
            "text/plain": [
              "             Open   High    Low  Close  Volume\n",
              "Date                                          \n",
              "2018-01-02  51380  51400  50780  51020  169485\n",
              "2018-01-03  52540  52560  51420  51620  200270\n",
              "2018-01-04  52120  52180  50640  51080  233909\n",
              "2018-01-05  51300  52120  51200  52120  189623\n",
              "2018-01-08  52400  52520  51500  52020  167673"
            ]
          },
          "metadata": {
            "tags": []
          },
          "execution_count": 21
        }
      ]
    },
    {
      "cell_type": "code",
      "metadata": {
        "id": "UnqVcOfyedIy",
        "colab_type": "code",
        "colab": {}
      },
      "source": [
        "def investing_preprocessing(filepath):\n",
        "    data = pd.read_csv(str(filepath))[::-1].reset_index(drop=True)\n",
        "    if '날짜' in data.keys():\n",
        "        data['날짜'] = data['날짜'].str.replace('([0-9]{4})년 ([0-9]{2})월 ([0-9]{2})일', '\\\\1-\\\\2-\\\\3')\n",
        "        data.rename(columns={'날짜':'Date'}, inplace=True)\n",
        "    data.index = pd.to_datetime(data['Date'])\n",
        "    data.drop('Date', axis=1, inplace=True)\n",
        "    return data\n",
        "\n",
        "def process_Volume(volume):\n",
        "    if volume == '-':\n",
        "        return np.nan\n",
        "    \n",
        "    scale = volume[-1]\n",
        "    val = float(volume[:-1])\n",
        "    \n",
        "    if scale == 'K':\n",
        "        val = val*1e3\n",
        "    elif scale == 'M':\n",
        "        val = val*1e6\n",
        "    elif scale == 'B':\n",
        "        val = val*1e9\n",
        "        \n",
        "    return val"
      ],
      "execution_count": 22,
      "outputs": []
    },
    {
      "cell_type": "code",
      "metadata": {
        "id": "Ji9ckH-6eszm",
        "colab_type": "code",
        "colab": {
          "base_uri": "https://localhost:8080/",
          "height": 84
        },
        "outputId": "fbc02657-796b-4d7e-ccd8-4e2cdd944997"
      },
      "source": [
        "nasdaq = investing_preprocessing('NASDAQ.csv.txt')\n",
        "nasdaq['거래량'] = nasdaq['거래량'].apply(process_Volume)\n",
        "nasdaq.keys()\n",
        "nasdaq = nasdaq['종가'].str.replace(\",\", '').astype(float)\n",
        "nasdaq.head(2)"
      ],
      "execution_count": 23,
      "outputs": [
        {
          "output_type": "execute_result",
          "data": {
            "text/plain": [
              "Date\n",
              "2018-01-02    7006.90\n",
              "2018-01-03    7065.53\n",
              "Name: 종가, dtype: float64"
            ]
          },
          "metadata": {
            "tags": []
          },
          "execution_count": 23
        }
      ]
    },
    {
      "cell_type": "code",
      "metadata": {
        "id": "BDaXgrdve-Qq",
        "colab_type": "code",
        "colab": {
          "base_uri": "https://localhost:8080/",
          "height": 84
        },
        "outputId": "3c771698-cb8c-4b5e-c21b-cacb17af239d"
      },
      "source": [
        "exchange = investing_preprocessing('exchange_2017-01-01_2020-06-30.csv.txt')\n",
        "exchange = exchange['Open'].str.replace(\",\", '').astype(float)[::-1]['2018-01-01':]\n",
        "exchange.head(2)"
      ],
      "execution_count": 24,
      "outputs": [
        {
          "output_type": "execute_result",
          "data": {
            "text/plain": [
              "Date\n",
              "2018-01-01    1067.38\n",
              "2018-01-02    1067.23\n",
              "Name: Open, dtype: float64"
            ]
          },
          "metadata": {
            "tags": []
          },
          "execution_count": 24
        }
      ]
    },
    {
      "cell_type": "code",
      "metadata": {
        "id": "BB2LlnKPfDd8",
        "colab_type": "code",
        "colab": {
          "base_uri": "https://localhost:8080/",
          "height": 84
        },
        "outputId": "91eea80e-a581-4be4-8c87-0ebc19e1bb77"
      },
      "source": [
        "\n",
        "Semiconductor = investing_preprocessing('Philadelphia Semiconductor Index.csv.txt')\n",
        "Semiconductor = Semiconductor['종가'].str.replace(\",\", '').astype(float)['2018-01-01':]\n",
        "Semiconductor.head(2)"
      ],
      "execution_count": 25,
      "outputs": [
        {
          "output_type": "execute_result",
          "data": {
            "text/plain": [
              "Date\n",
              "2018-01-02    1287.70\n",
              "2018-01-03    1309.86\n",
              "Name: 종가, dtype: float64"
            ]
          },
          "metadata": {
            "tags": []
          },
          "execution_count": 25
        }
      ]
    },
    {
      "cell_type": "code",
      "metadata": {
        "id": "ixUvFHNUfqMA",
        "colab_type": "code",
        "colab": {
          "base_uri": "https://localhost:8080/",
          "height": 136
        },
        "outputId": "e0cd598d-c144-4d22-867d-79a040f87d18"
      },
      "source": [
        "foreign = pd.read_excel('SSEforeign2017-2020.xlsx')\n",
        "foreign.index = pd.to_datetime(foreign['Date'])\n",
        "foreign.drop('Date', axis=1, inplace=True)\n",
        "foreign['기관 순매매량'] = foreign['기관 순매매량'].str.replace(\",\", '').astype(float)\n",
        "foreign['외국인 순매매량'] = foreign['외국인 순매매량'].str.replace(\",\", '').astype(float)\n",
        "foreign = foreign[['기관 순매매량', '외국인 순매매량']][::-1]['2018-01-01':]\n",
        "foreign.head(2)"
      ],
      "execution_count": 26,
      "outputs": [
        {
          "output_type": "execute_result",
          "data": {
            "text/html": [
              "<div>\n",
              "<style scoped>\n",
              "    .dataframe tbody tr th:only-of-type {\n",
              "        vertical-align: middle;\n",
              "    }\n",
              "\n",
              "    .dataframe tbody tr th {\n",
              "        vertical-align: top;\n",
              "    }\n",
              "\n",
              "    .dataframe thead th {\n",
              "        text-align: right;\n",
              "    }\n",
              "</style>\n",
              "<table border=\"1\" class=\"dataframe\">\n",
              "  <thead>\n",
              "    <tr style=\"text-align: right;\">\n",
              "      <th></th>\n",
              "      <th>기관 순매매량</th>\n",
              "      <th>외국인 순매매량</th>\n",
              "    </tr>\n",
              "    <tr>\n",
              "      <th>Date</th>\n",
              "      <th></th>\n",
              "      <th></th>\n",
              "    </tr>\n",
              "  </thead>\n",
              "  <tbody>\n",
              "    <tr>\n",
              "      <th>2018-01-02</th>\n",
              "      <td>-23405.0</td>\n",
              "      <td>-18019.0</td>\n",
              "    </tr>\n",
              "    <tr>\n",
              "      <th>2018-01-03</th>\n",
              "      <td>-47563.0</td>\n",
              "      <td>45759.0</td>\n",
              "    </tr>\n",
              "  </tbody>\n",
              "</table>\n",
              "</div>"
            ],
            "text/plain": [
              "            기관 순매매량  외국인 순매매량\n",
              "Date                         \n",
              "2018-01-02 -23405.0  -18019.0\n",
              "2018-01-03 -47563.0   45759.0"
            ]
          },
          "metadata": {
            "tags": []
          },
          "execution_count": 26
        }
      ]
    },
    {
      "cell_type": "code",
      "metadata": {
        "id": "Va5-61pYfy7b",
        "colab_type": "code",
        "colab": {
          "base_uri": "https://localhost:8080/",
          "height": 84
        },
        "outputId": "1ade2435-8f84-4620-d900-aa9f50f3189d"
      },
      "source": [
        "\n",
        "KOSPI = investing_preprocessing('KOSPI.csv.txt')\n",
        "KOSPI = KOSPI['종가'].str.replace(\",\", '').astype(float)\n",
        "KOSPI.head(2)"
      ],
      "execution_count": 27,
      "outputs": [
        {
          "output_type": "execute_result",
          "data": {
            "text/plain": [
              "Date\n",
              "2018-01-02    2479.65\n",
              "2018-01-03    2486.35\n",
              "Name: 종가, dtype: float64"
            ]
          },
          "metadata": {
            "tags": []
          },
          "execution_count": 27
        }
      ]
    },
    {
      "cell_type": "code",
      "metadata": {
        "id": "xEI9_RZ9f7VN",
        "colab_type": "code",
        "colab": {
          "base_uri": "https://localhost:8080/",
          "height": 84
        },
        "outputId": "415443f1-33e0-4023-9111-911f701273a5"
      },
      "source": [
        "Korea_bond_1year = investing_preprocessing('KOREA_bond_1year.csv.txt')\n",
        "Korea_bond_1year = Korea_bond_1year['종가']['2018-01-01':]\n",
        "Korea_bond_1year.head(2)"
      ],
      "execution_count": 28,
      "outputs": [
        {
          "output_type": "execute_result",
          "data": {
            "text/plain": [
              "Date\n",
              "2018-01-02    1.816\n",
              "2018-01-03    1.792\n",
              "Name: 종가, dtype: float64"
            ]
          },
          "metadata": {
            "tags": []
          },
          "execution_count": 28
        }
      ]
    },
    {
      "cell_type": "code",
      "metadata": {
        "id": "4hcOTT0TgDGE",
        "colab_type": "code",
        "colab": {
          "base_uri": "https://localhost:8080/",
          "height": 136
        },
        "outputId": "ab6a34c6-dd90-4279-f72a-0c1440bdd679"
      },
      "source": [
        "PBR_PER_ROE = investing_preprocessing('SSE_PBR_PER_ROE.csv.txt')\n",
        "PBR_PER_ROE = PBR_PER_ROE[['PBR', 'PER', 'ROE']][::-1]['2018-01-01':]\n",
        "PBR_PER_ROE.head(2)"
      ],
      "execution_count": 29,
      "outputs": [
        {
          "output_type": "execute_result",
          "data": {
            "text/html": [
              "<div>\n",
              "<style scoped>\n",
              "    .dataframe tbody tr th:only-of-type {\n",
              "        vertical-align: middle;\n",
              "    }\n",
              "\n",
              "    .dataframe tbody tr th {\n",
              "        vertical-align: top;\n",
              "    }\n",
              "\n",
              "    .dataframe thead th {\n",
              "        text-align: right;\n",
              "    }\n",
              "</style>\n",
              "<table border=\"1\" class=\"dataframe\">\n",
              "  <thead>\n",
              "    <tr style=\"text-align: right;\">\n",
              "      <th></th>\n",
              "      <th>PBR</th>\n",
              "      <th>PER</th>\n",
              "      <th>ROE</th>\n",
              "    </tr>\n",
              "    <tr>\n",
              "      <th>Date</th>\n",
              "      <th></th>\n",
              "      <th></th>\n",
              "      <th></th>\n",
              "    </tr>\n",
              "  </thead>\n",
              "  <tbody>\n",
              "    <tr>\n",
              "      <th>2018-01-02</th>\n",
              "      <td>0.037682</td>\n",
              "      <td>0.265244</td>\n",
              "      <td>0.142064</td>\n",
              "    </tr>\n",
              "    <tr>\n",
              "      <th>2018-01-03</th>\n",
              "      <td>0.038125</td>\n",
              "      <td>0.268364</td>\n",
              "      <td>0.142064</td>\n",
              "    </tr>\n",
              "  </tbody>\n",
              "</table>\n",
              "</div>"
            ],
            "text/plain": [
              "                 PBR       PER       ROE\n",
              "Date                                    \n",
              "2018-01-02  0.037682  0.265244  0.142064\n",
              "2018-01-03  0.038125  0.268364  0.142064"
            ]
          },
          "metadata": {
            "tags": []
          },
          "execution_count": 29
        }
      ]
    },
    {
      "cell_type": "code",
      "metadata": {
        "id": "ofF5CXxogKSr",
        "colab_type": "code",
        "colab": {}
      },
      "source": [
        "inputdata = pd.concat([samsung, nasdaq, exchange, Semiconductor, foreign, KOSPI, Korea_bond_1year, PBR_PER_ROE], axis=1)"
      ],
      "execution_count": 30,
      "outputs": []
    },
    {
      "cell_type": "code",
      "metadata": {
        "id": "AT1gc4srgO9n",
        "colab_type": "code",
        "colab": {}
      },
      "source": [
        "inputdata.columns = [\"Open\", \"High\", \"Low\", \"Close\", \"Volume\", \"nasdaq\", \n",
        "                     \"exchange\", \"Semiconductor\", \"foreign\", \"institution\", \n",
        "                     \"KOSPI\", \"Korea_bond_1year\", \"PBR\", \"PER\", \"ROE\"]"
      ],
      "execution_count": 31,
      "outputs": []
    },
    {
      "cell_type": "code",
      "metadata": {
        "id": "olkvJHABgQyH",
        "colab_type": "code",
        "colab": {}
      },
      "source": [
        "inputdata.dropna(subset=['Close'], inplace=True)"
      ],
      "execution_count": 32,
      "outputs": []
    },
    {
      "cell_type": "code",
      "metadata": {
        "id": "GbsVRm89gSpt",
        "colab_type": "code",
        "colab": {
          "base_uri": "https://localhost:8080/",
          "height": 286
        },
        "outputId": "9d482b82-d42a-4998-d7f1-e8780451649a"
      },
      "source": [
        "inputdata.isnull().sum()"
      ],
      "execution_count": 33,
      "outputs": [
        {
          "output_type": "execute_result",
          "data": {
            "text/plain": [
              "Open                 0\n",
              "High                 0\n",
              "Low                  0\n",
              "Close                0\n",
              "Volume               0\n",
              "nasdaq              19\n",
              "exchange             0\n",
              "Semiconductor       19\n",
              "foreign              0\n",
              "institution          0\n",
              "KOSPI                0\n",
              "Korea_bond_1year     1\n",
              "PBR                  0\n",
              "PER                  0\n",
              "ROE                  0\n",
              "dtype: int64"
            ]
          },
          "metadata": {
            "tags": []
          },
          "execution_count": 33
        }
      ]
    },
    {
      "cell_type": "code",
      "metadata": {
        "id": "PtBF8oeagURv",
        "colab_type": "code",
        "colab": {}
      },
      "source": [
        "inputdata.dropna(inplace=True)"
      ],
      "execution_count": 34,
      "outputs": []
    },
    {
      "cell_type": "code",
      "metadata": {
        "id": "mDZZ1NLwgWLC",
        "colab_type": "code",
        "colab": {
          "base_uri": "https://localhost:8080/",
          "height": 34
        },
        "outputId": "92dac062-7bb3-46f7-8a08-4384ecd7b08a"
      },
      "source": [
        "inputdata[inputdata.nasdaq.isnull()].index == inputdata[inputdata.Semiconductor.isnull()].index"
      ],
      "execution_count": 35,
      "outputs": [
        {
          "output_type": "execute_result",
          "data": {
            "text/plain": [
              "array([], dtype=bool)"
            ]
          },
          "metadata": {
            "tags": []
          },
          "execution_count": 35
        }
      ]
    },
    {
      "cell_type": "code",
      "metadata": {
        "id": "CpTSn1xIgec1",
        "colab_type": "code",
        "colab": {
          "base_uri": "https://localhost:8080/",
          "height": 34
        },
        "outputId": "ad5d19e7-8841-405e-801a-b3c4d3a741e2"
      },
      "source": [
        "inputdata[inputdata.nasdaq.isnull()].index"
      ],
      "execution_count": 36,
      "outputs": [
        {
          "output_type": "execute_result",
          "data": {
            "text/plain": [
              "DatetimeIndex([], dtype='datetime64[ns]', name='Date', freq=None)"
            ]
          },
          "metadata": {
            "tags": []
          },
          "execution_count": 36
        }
      ]
    },
    {
      "cell_type": "code",
      "metadata": {
        "id": "UGFDAlWsgewB",
        "colab_type": "code",
        "colab": {
          "base_uri": "https://localhost:8080/",
          "height": 34
        },
        "outputId": "b53b307a-a162-4c32-8b83-7365a970b165"
      },
      "source": [
        "inputdata[inputdata.nasdaq.isnull()].index.day_name()"
      ],
      "execution_count": 37,
      "outputs": [
        {
          "output_type": "execute_result",
          "data": {
            "text/plain": [
              "Index([], dtype='object', name='Date')"
            ]
          },
          "metadata": {
            "tags": []
          },
          "execution_count": 37
        }
      ]
    },
    {
      "cell_type": "code",
      "metadata": {
        "id": "WTdXhJApggS0",
        "colab_type": "code",
        "colab": {
          "base_uri": "https://localhost:8080/",
          "height": 329
        },
        "outputId": "28b0ac64-c4ae-4ca8-f8f2-fac9498bcb31"
      },
      "source": [
        "inputdata.head()"
      ],
      "execution_count": 38,
      "outputs": [
        {
          "output_type": "execute_result",
          "data": {
            "text/html": [
              "<div>\n",
              "<style scoped>\n",
              "    .dataframe tbody tr th:only-of-type {\n",
              "        vertical-align: middle;\n",
              "    }\n",
              "\n",
              "    .dataframe tbody tr th {\n",
              "        vertical-align: top;\n",
              "    }\n",
              "\n",
              "    .dataframe thead th {\n",
              "        text-align: right;\n",
              "    }\n",
              "</style>\n",
              "<table border=\"1\" class=\"dataframe\">\n",
              "  <thead>\n",
              "    <tr style=\"text-align: right;\">\n",
              "      <th></th>\n",
              "      <th>Open</th>\n",
              "      <th>High</th>\n",
              "      <th>Low</th>\n",
              "      <th>Close</th>\n",
              "      <th>Volume</th>\n",
              "      <th>nasdaq</th>\n",
              "      <th>exchange</th>\n",
              "      <th>Semiconductor</th>\n",
              "      <th>foreign</th>\n",
              "      <th>institution</th>\n",
              "      <th>KOSPI</th>\n",
              "      <th>Korea_bond_1year</th>\n",
              "      <th>PBR</th>\n",
              "      <th>PER</th>\n",
              "      <th>ROE</th>\n",
              "    </tr>\n",
              "    <tr>\n",
              "      <th>Date</th>\n",
              "      <th></th>\n",
              "      <th></th>\n",
              "      <th></th>\n",
              "      <th></th>\n",
              "      <th></th>\n",
              "      <th></th>\n",
              "      <th></th>\n",
              "      <th></th>\n",
              "      <th></th>\n",
              "      <th></th>\n",
              "      <th></th>\n",
              "      <th></th>\n",
              "      <th></th>\n",
              "      <th></th>\n",
              "      <th></th>\n",
              "    </tr>\n",
              "  </thead>\n",
              "  <tbody>\n",
              "    <tr>\n",
              "      <th>2018-01-02</th>\n",
              "      <td>51380.0</td>\n",
              "      <td>51400.0</td>\n",
              "      <td>50780.0</td>\n",
              "      <td>51020.0</td>\n",
              "      <td>169485.0</td>\n",
              "      <td>7006.90</td>\n",
              "      <td>1067.23</td>\n",
              "      <td>1287.70</td>\n",
              "      <td>-23405.0</td>\n",
              "      <td>-18019.0</td>\n",
              "      <td>2479.65</td>\n",
              "      <td>1.816</td>\n",
              "      <td>0.037682</td>\n",
              "      <td>0.265244</td>\n",
              "      <td>0.142064</td>\n",
              "    </tr>\n",
              "    <tr>\n",
              "      <th>2018-01-03</th>\n",
              "      <td>52540.0</td>\n",
              "      <td>52560.0</td>\n",
              "      <td>51420.0</td>\n",
              "      <td>51620.0</td>\n",
              "      <td>200270.0</td>\n",
              "      <td>7065.53</td>\n",
              "      <td>1062.88</td>\n",
              "      <td>1309.86</td>\n",
              "      <td>-47563.0</td>\n",
              "      <td>45759.0</td>\n",
              "      <td>2486.35</td>\n",
              "      <td>1.792</td>\n",
              "      <td>0.038125</td>\n",
              "      <td>0.268364</td>\n",
              "      <td>0.142064</td>\n",
              "    </tr>\n",
              "    <tr>\n",
              "      <th>2018-01-04</th>\n",
              "      <td>52120.0</td>\n",
              "      <td>52180.0</td>\n",
              "      <td>50640.0</td>\n",
              "      <td>51080.0</td>\n",
              "      <td>233909.0</td>\n",
              "      <td>7077.91</td>\n",
              "      <td>1064.84</td>\n",
              "      <td>1317.24</td>\n",
              "      <td>-39755.0</td>\n",
              "      <td>26643.0</td>\n",
              "      <td>2466.46</td>\n",
              "      <td>1.800</td>\n",
              "      <td>0.037726</td>\n",
              "      <td>0.265556</td>\n",
              "      <td>0.142064</td>\n",
              "    </tr>\n",
              "    <tr>\n",
              "      <th>2018-01-05</th>\n",
              "      <td>51300.0</td>\n",
              "      <td>52120.0</td>\n",
              "      <td>51200.0</td>\n",
              "      <td>52120.0</td>\n",
              "      <td>189623.0</td>\n",
              "      <td>7136.56</td>\n",
              "      <td>1063.33</td>\n",
              "      <td>1325.71</td>\n",
              "      <td>5786.0</td>\n",
              "      <td>9550.0</td>\n",
              "      <td>2497.52</td>\n",
              "      <td>1.781</td>\n",
              "      <td>0.038494</td>\n",
              "      <td>0.270963</td>\n",
              "      <td>0.142064</td>\n",
              "    </tr>\n",
              "    <tr>\n",
              "      <th>2018-01-08</th>\n",
              "      <td>52400.0</td>\n",
              "      <td>52520.0</td>\n",
              "      <td>51500.0</td>\n",
              "      <td>52020.0</td>\n",
              "      <td>167673.0</td>\n",
              "      <td>7157.39</td>\n",
              "      <td>1062.27</td>\n",
              "      <td>1335.54</td>\n",
              "      <td>-17940.0</td>\n",
              "      <td>9060.0</td>\n",
              "      <td>2513.28</td>\n",
              "      <td>1.789</td>\n",
              "      <td>0.038420</td>\n",
              "      <td>0.270443</td>\n",
              "      <td>0.142064</td>\n",
              "    </tr>\n",
              "  </tbody>\n",
              "</table>\n",
              "</div>"
            ],
            "text/plain": [
              "               Open     High      Low  ...       PBR       PER       ROE\n",
              "Date                                   ...                              \n",
              "2018-01-02  51380.0  51400.0  50780.0  ...  0.037682  0.265244  0.142064\n",
              "2018-01-03  52540.0  52560.0  51420.0  ...  0.038125  0.268364  0.142064\n",
              "2018-01-04  52120.0  52180.0  50640.0  ...  0.037726  0.265556  0.142064\n",
              "2018-01-05  51300.0  52120.0  51200.0  ...  0.038494  0.270963  0.142064\n",
              "2018-01-08  52400.0  52520.0  51500.0  ...  0.038420  0.270443  0.142064\n",
              "\n",
              "[5 rows x 15 columns]"
            ]
          },
          "metadata": {
            "tags": []
          },
          "execution_count": 38
        }
      ]
    },
    {
      "cell_type": "code",
      "metadata": {
        "id": "qCjceBEngiBD",
        "colab_type": "code",
        "colab": {
          "base_uri": "https://localhost:8080/",
          "height": 195
        },
        "outputId": "4d2692e4-ae80-43d9-9e5f-2b2ef03c2030"
      },
      "source": [
        "scaler = MinMaxScaler()\n",
        "df_scaled = scaler.fit_transform(inputdata)\n",
        "\n",
        "df_scaled = pd.DataFrame(df_scaled)\n",
        "df_scaled.columns = inputdata.keys()\n",
        "\n",
        "df_scaled.head()"
      ],
      "execution_count": null,
      "outputs": [
        {
          "output_type": "execute_result",
          "data": {
            "text/html": [
              "<div>\n",
              "<style scoped>\n",
              "    .dataframe tbody tr th:only-of-type {\n",
              "        vertical-align: middle;\n",
              "    }\n",
              "\n",
              "    .dataframe tbody tr th {\n",
              "        vertical-align: top;\n",
              "    }\n",
              "\n",
              "    .dataframe thead th {\n",
              "        text-align: right;\n",
              "    }\n",
              "</style>\n",
              "<table border=\"1\" class=\"dataframe\">\n",
              "  <thead>\n",
              "    <tr style=\"text-align: right;\">\n",
              "      <th></th>\n",
              "      <th>Open</th>\n",
              "      <th>High</th>\n",
              "      <th>Low</th>\n",
              "      <th>Close</th>\n",
              "      <th>Volume</th>\n",
              "      <th>nasdaq</th>\n",
              "      <th>exchange</th>\n",
              "      <th>Semiconductor</th>\n",
              "      <th>foreign</th>\n",
              "      <th>institution</th>\n",
              "      <th>KOSPI</th>\n",
              "      <th>Korea_bond_1year</th>\n",
              "      <th>PBR</th>\n",
              "      <th>PER</th>\n",
              "      <th>ROE</th>\n",
              "    </tr>\n",
              "  </thead>\n",
              "  <tbody>\n",
              "    <tr>\n",
              "      <th>0</th>\n",
              "      <td>0.567413</td>\n",
              "      <td>0.5520</td>\n",
              "      <td>0.572074</td>\n",
              "      <td>0.546076</td>\n",
              "      <td>0.000429</td>\n",
              "      <td>0.206675</td>\n",
              "      <td>0.058961</td>\n",
              "      <td>0.233419</td>\n",
              "      <td>0.711073</td>\n",
              "      <td>0.339060</td>\n",
              "      <td>0.896068</td>\n",
              "      <td>0.855892</td>\n",
              "      <td>0.003531</td>\n",
              "      <td>0.001045</td>\n",
              "      <td>0.693746</td>\n",
              "    </tr>\n",
              "    <tr>\n",
              "      <th>1</th>\n",
              "      <td>0.614664</td>\n",
              "      <td>0.5984</td>\n",
              "      <td>0.598357</td>\n",
              "      <td>0.570221</td>\n",
              "      <td>0.000915</td>\n",
              "      <td>0.221562</td>\n",
              "      <td>0.037834</td>\n",
              "      <td>0.257113</td>\n",
              "      <td>0.710345</td>\n",
              "      <td>0.340881</td>\n",
              "      <td>0.901942</td>\n",
              "      <td>0.839731</td>\n",
              "      <td>0.003776</td>\n",
              "      <td>0.001080</td>\n",
              "      <td>0.693746</td>\n",
              "    </tr>\n",
              "    <tr>\n",
              "      <th>2</th>\n",
              "      <td>0.597556</td>\n",
              "      <td>0.5832</td>\n",
              "      <td>0.566324</td>\n",
              "      <td>0.548491</td>\n",
              "      <td>0.001446</td>\n",
              "      <td>0.224705</td>\n",
              "      <td>0.047353</td>\n",
              "      <td>0.265004</td>\n",
              "      <td>0.710580</td>\n",
              "      <td>0.340335</td>\n",
              "      <td>0.884503</td>\n",
              "      <td>0.845118</td>\n",
              "      <td>0.003556</td>\n",
              "      <td>0.001048</td>\n",
              "      <td>0.693746</td>\n",
              "    </tr>\n",
              "    <tr>\n",
              "      <th>3</th>\n",
              "      <td>0.564155</td>\n",
              "      <td>0.5808</td>\n",
              "      <td>0.589322</td>\n",
              "      <td>0.590342</td>\n",
              "      <td>0.000747</td>\n",
              "      <td>0.239597</td>\n",
              "      <td>0.040019</td>\n",
              "      <td>0.274060</td>\n",
              "      <td>0.711953</td>\n",
              "      <td>0.339847</td>\n",
              "      <td>0.911736</td>\n",
              "      <td>0.832323</td>\n",
              "      <td>0.003980</td>\n",
              "      <td>0.001110</td>\n",
              "      <td>0.693746</td>\n",
              "    </tr>\n",
              "    <tr>\n",
              "      <th>4</th>\n",
              "      <td>0.608961</td>\n",
              "      <td>0.5968</td>\n",
              "      <td>0.601643</td>\n",
              "      <td>0.586318</td>\n",
              "      <td>0.000400</td>\n",
              "      <td>0.244886</td>\n",
              "      <td>0.034871</td>\n",
              "      <td>0.284570</td>\n",
              "      <td>0.711238</td>\n",
              "      <td>0.339833</td>\n",
              "      <td>0.925553</td>\n",
              "      <td>0.837710</td>\n",
              "      <td>0.003940</td>\n",
              "      <td>0.001104</td>\n",
              "      <td>0.693746</td>\n",
              "    </tr>\n",
              "  </tbody>\n",
              "</table>\n",
              "</div>"
            ],
            "text/plain": [
              "       Open    High       Low  ...       PBR       PER       ROE\n",
              "0  0.567413  0.5520  0.572074  ...  0.003531  0.001045  0.693746\n",
              "1  0.614664  0.5984  0.598357  ...  0.003776  0.001080  0.693746\n",
              "2  0.597556  0.5832  0.566324  ...  0.003556  0.001048  0.693746\n",
              "3  0.564155  0.5808  0.589322  ...  0.003980  0.001110  0.693746\n",
              "4  0.608961  0.5968  0.601643  ...  0.003940  0.001104  0.693746\n",
              "\n",
              "[5 rows x 15 columns]"
            ]
          },
          "metadata": {
            "tags": []
          },
          "execution_count": 50
        }
      ]
    },
    {
      "cell_type": "code",
      "metadata": {
        "id": "K5BiqWV2gptv",
        "colab_type": "code",
        "colab": {
          "base_uri": "https://localhost:8080/",
          "height": 286
        },
        "outputId": "fb975bd7-6fa6-4dcd-b37e-d97cf53ec2c5"
      },
      "source": [
        "df_scaled.isna().sum()"
      ],
      "execution_count": null,
      "outputs": [
        {
          "output_type": "execute_result",
          "data": {
            "text/plain": [
              "Open                0\n",
              "High                0\n",
              "Low                 0\n",
              "Close               0\n",
              "Volume              0\n",
              "nasdaq              0\n",
              "exchange            0\n",
              "Semiconductor       0\n",
              "foreign             0\n",
              "institution         0\n",
              "KOSPI               0\n",
              "Korea_bond_1year    0\n",
              "PBR                 0\n",
              "PER                 0\n",
              "ROE                 0\n",
              "dtype: int64"
            ]
          },
          "metadata": {
            "tags": []
          },
          "execution_count": 51
        }
      ]
    },
    {
      "cell_type": "code",
      "metadata": {
        "id": "n05fTaaKgsEP",
        "colab_type": "code",
        "colab": {}
      },
      "source": [
        "from keras.models import Sequential\n",
        "from keras.layers import Dense, LSTM\n",
        "from sklearn.preprocessing import MinMaxScaler\n",
        "from sklearn.metrics import mean_squared_error"
      ],
      "execution_count": 42,
      "outputs": []
    },
    {
      "cell_type": "code",
      "metadata": {
        "id": "fUeLzF1Kg1Ht",
        "colab_type": "code",
        "colab": {}
      },
      "source": [
        "TEST_SIZE = 100\n",
        "train = df_scaled[:-TEST_SIZE]\n",
        "test = df_scaled[-TEST_SIZE:]"
      ],
      "execution_count": null,
      "outputs": []
    },
    {
      "cell_type": "code",
      "metadata": {
        "id": "TwiF9LOQg6ZI",
        "colab_type": "code",
        "colab": {}
      },
      "source": [
        "def make_dataset(data, label, window_size=20):\n",
        "    feature_list = []\n",
        "    label_list = []\n",
        "    for i in range(len(data) - window_size):\n",
        "        feature_list.append(np.array(data.iloc[i:i+window_size]))\n",
        "        label_list.append(np.array(label.iloc[i+window_size]))\n",
        "    return np.array(feature_list), np.array(label_list)"
      ],
      "execution_count": null,
      "outputs": []
    },
    {
      "cell_type": "code",
      "metadata": {
        "id": "ohAid8PThDtI",
        "colab_type": "code",
        "colab": {
          "base_uri": "https://localhost:8080/",
          "height": 34
        },
        "outputId": "6e312f4f-ff89-48e8-d5da-680ae51fa5c8"
      },
      "source": [
        "feature_cols = inputdata.columns\n",
        "label_cols = ['Close']\n",
        "\n",
        "train_feature = train[feature_cols]\n",
        "train_label = train[label_cols]\n",
        "\n",
        "train_feature, train_label = make_dataset(train_feature, train_label, 20)\n",
        "\n",
        "from sklearn.model_selection import train_test_split\n",
        "x_train, x_valid, y_train, y_valid = train_test_split(train_feature, train_label, test_size=0.2)\n",
        "\n",
        "x_train.shape, x_valid.shape"
      ],
      "execution_count": null,
      "outputs": [
        {
          "output_type": "execute_result",
          "data": {
            "text/plain": [
              "((376, 20, 15), (94, 20, 15))"
            ]
          },
          "metadata": {
            "tags": []
          },
          "execution_count": 55
        }
      ]
    },
    {
      "cell_type": "code",
      "metadata": {
        "id": "cImISVwphj6Y",
        "colab_type": "code",
        "colab": {
          "base_uri": "https://localhost:8080/",
          "height": 34
        },
        "outputId": "d447beef-4a12-401a-e076-a2fc398d249b"
      },
      "source": [
        "test_feature=test[feature_cols]\n",
        "test_label=test[label_cols]\n",
        "\n",
        "test_feature, test_label = make_dataset(test_feature, test_label, 20)\n",
        "test_feature.shape, test_label.shape"
      ],
      "execution_count": null,
      "outputs": [
        {
          "output_type": "execute_result",
          "data": {
            "text/plain": [
              "((80, 20, 15), (80, 1))"
            ]
          },
          "metadata": {
            "tags": []
          },
          "execution_count": 57
        }
      ]
    },
    {
      "cell_type": "code",
      "metadata": {
        "id": "puW7sGjIhnA6",
        "colab_type": "code",
        "colab": {}
      },
      "source": [
        "from keras.models import Sequential\n",
        "from keras.layers import Dense\n",
        "from keras.callbacks import EarlyStopping, ModelCheckpoint\n",
        "from keras.layers import LSTM\n",
        "\n",
        "model = Sequential()\n",
        "model.add(LSTM(16, \n",
        "               input_shape=(train_feature.shape[1], train_feature.shape[2]), \n",
        "               activation='relu', \n",
        "               return_sequences=False)\n",
        "          )\n",
        "model.add(Dense(1))"
      ],
      "execution_count": null,
      "outputs": []
    },
    {
      "cell_type": "code",
      "metadata": {
        "id": "UStuWiMrhr5O",
        "colab_type": "code",
        "colab": {
          "base_uri": "https://localhost:8080/",
          "height": 1000
        },
        "outputId": "61b0b2ab-188b-488e-e016-bed171db63c6"
      },
      "source": [
        "model.compile(loss='mse',optimizer='adam',metrics=['mse'])\n",
        "\n",
        "from keras.callbacks import EarlyStopping\n",
        "early_stopping=EarlyStopping(patience=20)\n",
        "history=model.fit(x_train,y_train,epochs=100,batch_size=1,validation_split=0,callbacks=[early_stopping])\n"
      ],
      "execution_count": null,
      "outputs": [
        {
          "output_type": "stream",
          "text": [
            "Epoch 1/100\n",
            "369/376 [============================>.] - ETA: 0s - loss: 8.2829e-04 - mse: 8.2829e-04WARNING:tensorflow:Early stopping conditioned on metric `val_loss` which is not available. Available metrics are: loss,mse\n",
            "376/376 [==============================] - 2s 4ms/step - loss: 8.2454e-04 - mse: 8.2454e-04\n",
            "Epoch 2/100\n",
            "376/376 [==============================] - ETA: 0s - loss: 9.0361e-04 - mse: 9.0361e-04WARNING:tensorflow:Early stopping conditioned on metric `val_loss` which is not available. Available metrics are: loss,mse\n",
            "376/376 [==============================] - 2s 4ms/step - loss: 9.0361e-04 - mse: 9.0361e-04\n",
            "Epoch 3/100\n",
            "372/376 [============================>.] - ETA: 0s - loss: 8.0816e-04 - mse: 8.0816e-04WARNING:tensorflow:Early stopping conditioned on metric `val_loss` which is not available. Available metrics are: loss,mse\n",
            "376/376 [==============================] - 2s 4ms/step - loss: 8.2507e-04 - mse: 8.2507e-04\n",
            "Epoch 4/100\n",
            "375/376 [============================>.] - ETA: 0s - loss: 9.0891e-04 - mse: 9.0891e-04WARNING:tensorflow:Early stopping conditioned on metric `val_loss` which is not available. Available metrics are: loss,mse\n",
            "376/376 [==============================] - 2s 4ms/step - loss: 9.0868e-04 - mse: 9.0868e-04\n",
            "Epoch 5/100\n",
            "366/376 [============================>.] - ETA: 0s - loss: 8.6011e-04 - mse: 8.6011e-04WARNING:tensorflow:Early stopping conditioned on metric `val_loss` which is not available. Available metrics are: loss,mse\n",
            "376/376 [==============================] - 2s 4ms/step - loss: 8.4611e-04 - mse: 8.4611e-04\n",
            "Epoch 6/100\n",
            "373/376 [============================>.] - ETA: 0s - loss: 7.8871e-04 - mse: 7.8871e-04WARNING:tensorflow:Early stopping conditioned on metric `val_loss` which is not available. Available metrics are: loss,mse\n",
            "376/376 [==============================] - 2s 4ms/step - loss: 7.8683e-04 - mse: 7.8683e-04\n",
            "Epoch 7/100\n",
            "372/376 [============================>.] - ETA: 0s - loss: 8.2863e-04 - mse: 8.2863e-04WARNING:tensorflow:Early stopping conditioned on metric `val_loss` which is not available. Available metrics are: loss,mse\n",
            "376/376 [==============================] - 2s 4ms/step - loss: 8.2932e-04 - mse: 8.2932e-04\n",
            "Epoch 8/100\n",
            "370/376 [============================>.] - ETA: 0s - loss: 8.2407e-04 - mse: 8.2407e-04WARNING:tensorflow:Early stopping conditioned on metric `val_loss` which is not available. Available metrics are: loss,mse\n",
            "376/376 [==============================] - 2s 4ms/step - loss: 8.2016e-04 - mse: 8.2016e-04\n",
            "Epoch 9/100\n",
            "372/376 [============================>.] - ETA: 0s - loss: 8.4378e-04 - mse: 8.4378e-04WARNING:tensorflow:Early stopping conditioned on metric `val_loss` which is not available. Available metrics are: loss,mse\n",
            "376/376 [==============================] - 2s 4ms/step - loss: 8.3888e-04 - mse: 8.3888e-04\n",
            "Epoch 10/100\n",
            "372/376 [============================>.] - ETA: 0s - loss: 8.1137e-04 - mse: 8.1137e-04WARNING:tensorflow:Early stopping conditioned on metric `val_loss` which is not available. Available metrics are: loss,mse\n",
            "376/376 [==============================] - 2s 4ms/step - loss: 8.1439e-04 - mse: 8.1439e-04\n",
            "Epoch 11/100\n",
            "365/376 [============================>.] - ETA: 0s - loss: 7.8133e-04 - mse: 7.8133e-04WARNING:tensorflow:Early stopping conditioned on metric `val_loss` which is not available. Available metrics are: loss,mse\n",
            "376/376 [==============================] - 2s 4ms/step - loss: 7.9676e-04 - mse: 7.9676e-04\n",
            "Epoch 12/100\n",
            "364/376 [============================>.] - ETA: 0s - loss: 8.9107e-04 - mse: 8.9107e-04WARNING:tensorflow:Early stopping conditioned on metric `val_loss` which is not available. Available metrics are: loss,mse\n",
            "376/376 [==============================] - 2s 4ms/step - loss: 8.7585e-04 - mse: 8.7585e-04\n",
            "Epoch 13/100\n",
            "370/376 [============================>.] - ETA: 0s - loss: 8.6097e-04 - mse: 8.6097e-04WARNING:tensorflow:Early stopping conditioned on metric `val_loss` which is not available. Available metrics are: loss,mse\n",
            "376/376 [==============================] - 2s 4ms/step - loss: 8.6139e-04 - mse: 8.6139e-04\n",
            "Epoch 14/100\n",
            "368/376 [============================>.] - ETA: 0s - loss: 8.3078e-04 - mse: 8.3078e-04WARNING:tensorflow:Early stopping conditioned on metric `val_loss` which is not available. Available metrics are: loss,mse\n",
            "376/376 [==============================] - 2s 4ms/step - loss: 8.2895e-04 - mse: 8.2895e-04\n",
            "Epoch 15/100\n",
            "376/376 [==============================] - ETA: 0s - loss: 8.4018e-04 - mse: 8.4018e-04WARNING:tensorflow:Early stopping conditioned on metric `val_loss` which is not available. Available metrics are: loss,mse\n",
            "376/376 [==============================] - 2s 4ms/step - loss: 8.4018e-04 - mse: 8.4018e-04\n",
            "Epoch 16/100\n",
            "373/376 [============================>.] - ETA: 0s - loss: 7.7530e-04 - mse: 7.7530e-04WARNING:tensorflow:Early stopping conditioned on metric `val_loss` which is not available. Available metrics are: loss,mse\n",
            "376/376 [==============================] - 2s 4ms/step - loss: 7.9989e-04 - mse: 7.9989e-04\n",
            "Epoch 17/100\n",
            "375/376 [============================>.] - ETA: 0s - loss: 8.1138e-04 - mse: 8.1138e-04WARNING:tensorflow:Early stopping conditioned on metric `val_loss` which is not available. Available metrics are: loss,mse\n",
            "376/376 [==============================] - 2s 4ms/step - loss: 8.1716e-04 - mse: 8.1716e-04\n",
            "Epoch 18/100\n",
            "369/376 [============================>.] - ETA: 0s - loss: 8.4959e-04 - mse: 8.4959e-04WARNING:tensorflow:Early stopping conditioned on metric `val_loss` which is not available. Available metrics are: loss,mse\n",
            "376/376 [==============================] - 2s 4ms/step - loss: 8.3788e-04 - mse: 8.3788e-04\n",
            "Epoch 19/100\n",
            "364/376 [============================>.] - ETA: 0s - loss: 8.8172e-04 - mse: 8.8172e-04WARNING:tensorflow:Early stopping conditioned on metric `val_loss` which is not available. Available metrics are: loss,mse\n",
            "376/376 [==============================] - 1s 4ms/step - loss: 8.5476e-04 - mse: 8.5476e-04\n",
            "Epoch 20/100\n",
            "370/376 [============================>.] - ETA: 0s - loss: 7.9010e-04 - mse: 7.9010e-04WARNING:tensorflow:Early stopping conditioned on metric `val_loss` which is not available. Available metrics are: loss,mse\n",
            "376/376 [==============================] - 2s 4ms/step - loss: 7.9700e-04 - mse: 7.9700e-04\n",
            "Epoch 21/100\n",
            "366/376 [============================>.] - ETA: 0s - loss: 8.8054e-04 - mse: 8.8054e-04WARNING:tensorflow:Early stopping conditioned on metric `val_loss` which is not available. Available metrics are: loss,mse\n",
            "376/376 [==============================] - 2s 4ms/step - loss: 8.7779e-04 - mse: 8.7779e-04\n",
            "Epoch 22/100\n",
            "374/376 [============================>.] - ETA: 0s - loss: 8.9152e-04 - mse: 8.9152e-04WARNING:tensorflow:Early stopping conditioned on metric `val_loss` which is not available. Available metrics are: loss,mse\n",
            "376/376 [==============================] - 2s 4ms/step - loss: 8.9028e-04 - mse: 8.9028e-04\n",
            "Epoch 23/100\n",
            "368/376 [============================>.] - ETA: 0s - loss: 8.1123e-04 - mse: 8.1123e-04WARNING:tensorflow:Early stopping conditioned on metric `val_loss` which is not available. Available metrics are: loss,mse\n",
            "376/376 [==============================] - 1s 4ms/step - loss: 8.1725e-04 - mse: 8.1725e-04\n",
            "Epoch 24/100\n",
            "370/376 [============================>.] - ETA: 0s - loss: 7.9203e-04 - mse: 7.9203e-04WARNING:tensorflow:Early stopping conditioned on metric `val_loss` which is not available. Available metrics are: loss,mse\n",
            "376/376 [==============================] - 2s 4ms/step - loss: 8.0160e-04 - mse: 8.0160e-04\n",
            "Epoch 25/100\n",
            "366/376 [============================>.] - ETA: 0s - loss: 8.3615e-04 - mse: 8.3615e-04WARNING:tensorflow:Early stopping conditioned on metric `val_loss` which is not available. Available metrics are: loss,mse\n",
            "376/376 [==============================] - 2s 4ms/step - loss: 8.2858e-04 - mse: 8.2858e-04\n",
            "Epoch 26/100\n",
            "372/376 [============================>.] - ETA: 0s - loss: 7.8609e-04 - mse: 7.8609e-04WARNING:tensorflow:Early stopping conditioned on metric `val_loss` which is not available. Available metrics are: loss,mse\n",
            "376/376 [==============================] - 2s 4ms/step - loss: 7.8149e-04 - mse: 7.8149e-04\n",
            "Epoch 27/100\n",
            "371/376 [============================>.] - ETA: 0s - loss: 8.1596e-04 - mse: 8.1596e-04WARNING:tensorflow:Early stopping conditioned on metric `val_loss` which is not available. Available metrics are: loss,mse\n",
            "376/376 [==============================] - 2s 4ms/step - loss: 8.4000e-04 - mse: 8.4000e-04\n",
            "Epoch 28/100\n",
            "369/376 [============================>.] - ETA: 0s - loss: 7.4981e-04 - mse: 7.4981e-04WARNING:tensorflow:Early stopping conditioned on metric `val_loss` which is not available. Available metrics are: loss,mse\n",
            "376/376 [==============================] - 2s 4ms/step - loss: 7.4958e-04 - mse: 7.4958e-04\n",
            "Epoch 29/100\n",
            "370/376 [============================>.] - ETA: 0s - loss: 8.0243e-04 - mse: 8.0243e-04WARNING:tensorflow:Early stopping conditioned on metric `val_loss` which is not available. Available metrics are: loss,mse\n",
            "376/376 [==============================] - 2s 4ms/step - loss: 7.9469e-04 - mse: 7.9469e-04\n",
            "Epoch 30/100\n",
            "369/376 [============================>.] - ETA: 0s - loss: 8.2385e-04 - mse: 8.2385e-04WARNING:tensorflow:Early stopping conditioned on metric `val_loss` which is not available. Available metrics are: loss,mse\n",
            "376/376 [==============================] - 2s 4ms/step - loss: 8.1991e-04 - mse: 8.1991e-04\n",
            "Epoch 31/100\n",
            "375/376 [============================>.] - ETA: 0s - loss: 8.0524e-04 - mse: 8.0524e-04WARNING:tensorflow:Early stopping conditioned on metric `val_loss` which is not available. Available metrics are: loss,mse\n",
            "376/376 [==============================] - 2s 4ms/step - loss: 8.1592e-04 - mse: 8.1592e-04\n",
            "Epoch 32/100\n",
            "368/376 [============================>.] - ETA: 0s - loss: 7.9787e-04 - mse: 7.9787e-04WARNING:tensorflow:Early stopping conditioned on metric `val_loss` which is not available. Available metrics are: loss,mse\n",
            "376/376 [==============================] - 2s 4ms/step - loss: 7.9264e-04 - mse: 7.9264e-04\n",
            "Epoch 33/100\n",
            "365/376 [============================>.] - ETA: 0s - loss: 8.3516e-04 - mse: 8.3516e-04WARNING:tensorflow:Early stopping conditioned on metric `val_loss` which is not available. Available metrics are: loss,mse\n",
            "376/376 [==============================] - 2s 4ms/step - loss: 8.1886e-04 - mse: 8.1886e-04\n",
            "Epoch 34/100\n",
            "371/376 [============================>.] - ETA: 0s - loss: 8.2145e-04 - mse: 8.2145e-04WARNING:tensorflow:Early stopping conditioned on metric `val_loss` which is not available. Available metrics are: loss,mse\n",
            "376/376 [==============================] - 2s 4ms/step - loss: 8.1536e-04 - mse: 8.1536e-04\n",
            "Epoch 35/100\n",
            "373/376 [============================>.] - ETA: 0s - loss: 7.8593e-04 - mse: 7.8593e-04WARNING:tensorflow:Early stopping conditioned on metric `val_loss` which is not available. Available metrics are: loss,mse\n",
            "376/376 [==============================] - 2s 4ms/step - loss: 7.8448e-04 - mse: 7.8448e-04\n",
            "Epoch 36/100\n",
            "374/376 [============================>.] - ETA: 0s - loss: 7.6486e-04 - mse: 7.6486e-04WARNING:tensorflow:Early stopping conditioned on metric `val_loss` which is not available. Available metrics are: loss,mse\n",
            "376/376 [==============================] - 2s 4ms/step - loss: 7.6106e-04 - mse: 7.6106e-04\n",
            "Epoch 37/100\n",
            "367/376 [============================>.] - ETA: 0s - loss: 7.5131e-04 - mse: 7.5131e-04WARNING:tensorflow:Early stopping conditioned on metric `val_loss` which is not available. Available metrics are: loss,mse\n",
            "376/376 [==============================] - 2s 4ms/step - loss: 7.5018e-04 - mse: 7.5018e-04\n",
            "Epoch 38/100\n",
            "372/376 [============================>.] - ETA: 0s - loss: 7.6384e-04 - mse: 7.6384e-04WARNING:tensorflow:Early stopping conditioned on metric `val_loss` which is not available. Available metrics are: loss,mse\n",
            "376/376 [==============================] - 2s 4ms/step - loss: 7.5756e-04 - mse: 7.5756e-04\n",
            "Epoch 39/100\n",
            "372/376 [============================>.] - ETA: 0s - loss: 7.8996e-04 - mse: 7.8996e-04WARNING:tensorflow:Early stopping conditioned on metric `val_loss` which is not available. Available metrics are: loss,mse\n",
            "376/376 [==============================] - 2s 4ms/step - loss: 8.1057e-04 - mse: 8.1057e-04\n",
            "Epoch 40/100\n",
            "375/376 [============================>.] - ETA: 0s - loss: 8.1709e-04 - mse: 8.1709e-04WARNING:tensorflow:Early stopping conditioned on metric `val_loss` which is not available. Available metrics are: loss,mse\n",
            "376/376 [==============================] - 2s 4ms/step - loss: 8.1535e-04 - mse: 8.1535e-04\n",
            "Epoch 41/100\n",
            "365/376 [============================>.] - ETA: 0s - loss: 7.8648e-04 - mse: 7.8648e-04WARNING:tensorflow:Early stopping conditioned on metric `val_loss` which is not available. Available metrics are: loss,mse\n",
            "376/376 [==============================] - 2s 4ms/step - loss: 7.9058e-04 - mse: 7.9058e-04\n",
            "Epoch 42/100\n",
            "365/376 [============================>.] - ETA: 0s - loss: 7.5920e-04 - mse: 7.5920e-04WARNING:tensorflow:Early stopping conditioned on metric `val_loss` which is not available. Available metrics are: loss,mse\n",
            "376/376 [==============================] - 1s 4ms/step - loss: 7.5310e-04 - mse: 7.5310e-04\n",
            "Epoch 43/100\n",
            "367/376 [============================>.] - ETA: 0s - loss: 7.3290e-04 - mse: 7.3290e-04WARNING:tensorflow:Early stopping conditioned on metric `val_loss` which is not available. Available metrics are: loss,mse\n",
            "376/376 [==============================] - 2s 4ms/step - loss: 7.3240e-04 - mse: 7.3240e-04\n",
            "Epoch 44/100\n",
            "374/376 [============================>.] - ETA: 0s - loss: 7.8835e-04 - mse: 7.8835e-04WARNING:tensorflow:Early stopping conditioned on metric `val_loss` which is not available. Available metrics are: loss,mse\n",
            "376/376 [==============================] - 2s 4ms/step - loss: 7.8426e-04 - mse: 7.8426e-04\n",
            "Epoch 45/100\n",
            "368/376 [============================>.] - ETA: 0s - loss: 7.6966e-04 - mse: 7.6966e-04WARNING:tensorflow:Early stopping conditioned on metric `val_loss` which is not available. Available metrics are: loss,mse\n",
            "376/376 [==============================] - 2s 4ms/step - loss: 7.5800e-04 - mse: 7.5800e-04\n",
            "Epoch 46/100\n",
            "371/376 [============================>.] - ETA: 0s - loss: 8.0560e-04 - mse: 8.0560e-04WARNING:tensorflow:Early stopping conditioned on metric `val_loss` which is not available. Available metrics are: loss,mse\n",
            "376/376 [==============================] - 2s 4ms/step - loss: 8.0932e-04 - mse: 8.0932e-04\n",
            "Epoch 47/100\n",
            "375/376 [============================>.] - ETA: 0s - loss: 7.2921e-04 - mse: 7.2921e-04WARNING:tensorflow:Early stopping conditioned on metric `val_loss` which is not available. Available metrics are: loss,mse\n",
            "376/376 [==============================] - 2s 4ms/step - loss: 7.2732e-04 - mse: 7.2732e-04\n",
            "Epoch 48/100\n",
            "371/376 [============================>.] - ETA: 0s - loss: 8.4936e-04 - mse: 8.4936e-04WARNING:tensorflow:Early stopping conditioned on metric `val_loss` which is not available. Available metrics are: loss,mse\n",
            "376/376 [==============================] - 2s 4ms/step - loss: 8.4035e-04 - mse: 8.4035e-04\n",
            "Epoch 49/100\n",
            "376/376 [==============================] - ETA: 0s - loss: 7.2414e-04 - mse: 7.2414e-04WARNING:tensorflow:Early stopping conditioned on metric `val_loss` which is not available. Available metrics are: loss,mse\n",
            "376/376 [==============================] - 2s 4ms/step - loss: 7.2414e-04 - mse: 7.2414e-04\n",
            "Epoch 50/100\n",
            "376/376 [==============================] - ETA: 0s - loss: 7.5385e-04 - mse: 7.5385e-04WARNING:tensorflow:Early stopping conditioned on metric `val_loss` which is not available. Available metrics are: loss,mse\n",
            "376/376 [==============================] - 2s 4ms/step - loss: 7.5385e-04 - mse: 7.5385e-04\n",
            "Epoch 51/100\n",
            "367/376 [============================>.] - ETA: 0s - loss: 7.4847e-04 - mse: 7.4847e-04WARNING:tensorflow:Early stopping conditioned on metric `val_loss` which is not available. Available metrics are: loss,mse\n",
            "376/376 [==============================] - 2s 4ms/step - loss: 7.4447e-04 - mse: 7.4447e-04\n",
            "Epoch 52/100\n",
            "373/376 [============================>.] - ETA: 0s - loss: 7.8285e-04 - mse: 7.8285e-04WARNING:tensorflow:Early stopping conditioned on metric `val_loss` which is not available. Available metrics are: loss,mse\n",
            "376/376 [==============================] - 2s 4ms/step - loss: 7.8699e-04 - mse: 7.8699e-04\n",
            "Epoch 53/100\n",
            "371/376 [============================>.] - ETA: 0s - loss: 7.5036e-04 - mse: 7.5036e-04WARNING:tensorflow:Early stopping conditioned on metric `val_loss` which is not available. Available metrics are: loss,mse\n",
            "376/376 [==============================] - 2s 4ms/step - loss: 7.5026e-04 - mse: 7.5026e-04\n",
            "Epoch 54/100\n",
            "366/376 [============================>.] - ETA: 0s - loss: 6.9675e-04 - mse: 6.9675e-04WARNING:tensorflow:Early stopping conditioned on metric `val_loss` which is not available. Available metrics are: loss,mse\n",
            "376/376 [==============================] - 2s 4ms/step - loss: 6.9235e-04 - mse: 6.9235e-04\n",
            "Epoch 55/100\n",
            "370/376 [============================>.] - ETA: 0s - loss: 6.9080e-04 - mse: 6.9080e-04WARNING:tensorflow:Early stopping conditioned on metric `val_loss` which is not available. Available metrics are: loss,mse\n",
            "376/376 [==============================] - 2s 4ms/step - loss: 6.9762e-04 - mse: 6.9762e-04\n",
            "Epoch 56/100\n",
            "368/376 [============================>.] - ETA: 0s - loss: 8.0109e-04 - mse: 8.0109e-04WARNING:tensorflow:Early stopping conditioned on metric `val_loss` which is not available. Available metrics are: loss,mse\n",
            "376/376 [==============================] - 2s 4ms/step - loss: 7.9124e-04 - mse: 7.9124e-04\n",
            "Epoch 57/100\n",
            "372/376 [============================>.] - ETA: 0s - loss: 7.4348e-04 - mse: 7.4348e-04WARNING:tensorflow:Early stopping conditioned on metric `val_loss` which is not available. Available metrics are: loss,mse\n",
            "376/376 [==============================] - 2s 4ms/step - loss: 7.4025e-04 - mse: 7.4025e-04\n",
            "Epoch 58/100\n",
            "373/376 [============================>.] - ETA: 0s - loss: 7.3661e-04 - mse: 7.3661e-04WARNING:tensorflow:Early stopping conditioned on metric `val_loss` which is not available. Available metrics are: loss,mse\n",
            "376/376 [==============================] - 2s 4ms/step - loss: 7.3702e-04 - mse: 7.3702e-04\n",
            "Epoch 59/100\n",
            "367/376 [============================>.] - ETA: 0s - loss: 8.0301e-04 - mse: 8.0301e-04WARNING:tensorflow:Early stopping conditioned on metric `val_loss` which is not available. Available metrics are: loss,mse\n",
            "376/376 [==============================] - 2s 4ms/step - loss: 7.9247e-04 - mse: 7.9247e-04\n",
            "Epoch 60/100\n",
            "373/376 [============================>.] - ETA: 0s - loss: 7.5840e-04 - mse: 7.5840e-04WARNING:tensorflow:Early stopping conditioned on metric `val_loss` which is not available. Available metrics are: loss,mse\n",
            "376/376 [==============================] - 2s 4ms/step - loss: 7.5295e-04 - mse: 7.5295e-04\n",
            "Epoch 61/100\n",
            "366/376 [============================>.] - ETA: 0s - loss: 7.6297e-04 - mse: 7.6297e-04WARNING:tensorflow:Early stopping conditioned on metric `val_loss` which is not available. Available metrics are: loss,mse\n",
            "376/376 [==============================] - 2s 4ms/step - loss: 7.4846e-04 - mse: 7.4846e-04\n",
            "Epoch 62/100\n",
            "374/376 [============================>.] - ETA: 0s - loss: 7.7264e-04 - mse: 7.7264e-04WARNING:tensorflow:Early stopping conditioned on metric `val_loss` which is not available. Available metrics are: loss,mse\n",
            "376/376 [==============================] - 2s 4ms/step - loss: 7.6941e-04 - mse: 7.6941e-04\n",
            "Epoch 63/100\n",
            "371/376 [============================>.] - ETA: 0s - loss: 7.1772e-04 - mse: 7.1772e-04WARNING:tensorflow:Early stopping conditioned on metric `val_loss` which is not available. Available metrics are: loss,mse\n",
            "376/376 [==============================] - 2s 4ms/step - loss: 7.1764e-04 - mse: 7.1764e-04\n",
            "Epoch 64/100\n",
            "374/376 [============================>.] - ETA: 0s - loss: 7.1976e-04 - mse: 7.1976e-04WARNING:tensorflow:Early stopping conditioned on metric `val_loss` which is not available. Available metrics are: loss,mse\n",
            "376/376 [==============================] - 2s 4ms/step - loss: 7.1636e-04 - mse: 7.1636e-04\n",
            "Epoch 65/100\n",
            "367/376 [============================>.] - ETA: 0s - loss: 7.4603e-04 - mse: 7.4603e-04WARNING:tensorflow:Early stopping conditioned on metric `val_loss` which is not available. Available metrics are: loss,mse\n",
            "376/376 [==============================] - 2s 4ms/step - loss: 7.3621e-04 - mse: 7.3621e-04\n",
            "Epoch 66/100\n",
            "374/376 [============================>.] - ETA: 0s - loss: 7.5971e-04 - mse: 7.5971e-04WARNING:tensorflow:Early stopping conditioned on metric `val_loss` which is not available. Available metrics are: loss,mse\n",
            "376/376 [==============================] - 2s 4ms/step - loss: 7.6011e-04 - mse: 7.6011e-04\n",
            "Epoch 67/100\n",
            "371/376 [============================>.] - ETA: 0s - loss: 7.4984e-04 - mse: 7.4984e-04WARNING:tensorflow:Early stopping conditioned on metric `val_loss` which is not available. Available metrics are: loss,mse\n",
            "376/376 [==============================] - 2s 4ms/step - loss: 7.4498e-04 - mse: 7.4498e-04\n",
            "Epoch 68/100\n",
            "371/376 [============================>.] - ETA: 0s - loss: 6.9545e-04 - mse: 6.9545e-04WARNING:tensorflow:Early stopping conditioned on metric `val_loss` which is not available. Available metrics are: loss,mse\n",
            "376/376 [==============================] - 2s 4ms/step - loss: 6.9425e-04 - mse: 6.9425e-04\n",
            "Epoch 69/100\n",
            "375/376 [============================>.] - ETA: 0s - loss: 7.5092e-04 - mse: 7.5092e-04WARNING:tensorflow:Early stopping conditioned on metric `val_loss` which is not available. Available metrics are: loss,mse\n",
            "376/376 [==============================] - 2s 4ms/step - loss: 7.4892e-04 - mse: 7.4892e-04\n",
            "Epoch 70/100\n",
            "376/376 [==============================] - ETA: 0s - loss: 7.3232e-04 - mse: 7.3232e-04WARNING:tensorflow:Early stopping conditioned on metric `val_loss` which is not available. Available metrics are: loss,mse\n",
            "376/376 [==============================] - 2s 4ms/step - loss: 7.3232e-04 - mse: 7.3232e-04\n",
            "Epoch 71/100\n",
            "375/376 [============================>.] - ETA: 0s - loss: 7.1548e-04 - mse: 7.1548e-04WARNING:tensorflow:Early stopping conditioned on metric `val_loss` which is not available. Available metrics are: loss,mse\n",
            "376/376 [==============================] - 2s 4ms/step - loss: 7.1359e-04 - mse: 7.1359e-04\n",
            "Epoch 72/100\n",
            "375/376 [============================>.] - ETA: 0s - loss: 8.5719e-04 - mse: 8.5719e-04WARNING:tensorflow:Early stopping conditioned on metric `val_loss` which is not available. Available metrics are: loss,mse\n",
            "376/376 [==============================] - 2s 4ms/step - loss: 8.5533e-04 - mse: 8.5533e-04\n",
            "Epoch 73/100\n",
            "364/376 [============================>.] - ETA: 0s - loss: 7.6348e-04 - mse: 7.6348e-04WARNING:tensorflow:Early stopping conditioned on metric `val_loss` which is not available. Available metrics are: loss,mse\n",
            "376/376 [==============================] - 2s 4ms/step - loss: 7.8129e-04 - mse: 7.8129e-04\n",
            "Epoch 74/100\n",
            "370/376 [============================>.] - ETA: 0s - loss: 7.3587e-04 - mse: 7.3587e-04WARNING:tensorflow:Early stopping conditioned on metric `val_loss` which is not available. Available metrics are: loss,mse\n",
            "376/376 [==============================] - 2s 4ms/step - loss: 7.3736e-04 - mse: 7.3736e-04\n",
            "Epoch 75/100\n",
            "368/376 [============================>.] - ETA: 0s - loss: 7.0827e-04 - mse: 7.0827e-04WARNING:tensorflow:Early stopping conditioned on metric `val_loss` which is not available. Available metrics are: loss,mse\n",
            "376/376 [==============================] - 2s 4ms/step - loss: 7.3156e-04 - mse: 7.3156e-04\n",
            "Epoch 76/100\n",
            "376/376 [==============================] - ETA: 0s - loss: 7.1285e-04 - mse: 7.1285e-04WARNING:tensorflow:Early stopping conditioned on metric `val_loss` which is not available. Available metrics are: loss,mse\n",
            "376/376 [==============================] - 2s 4ms/step - loss: 7.1285e-04 - mse: 7.1285e-04\n",
            "Epoch 77/100\n",
            "365/376 [============================>.] - ETA: 0s - loss: 7.6087e-04 - mse: 7.6087e-04WARNING:tensorflow:Early stopping conditioned on metric `val_loss` which is not available. Available metrics are: loss,mse\n",
            "376/376 [==============================] - 2s 4ms/step - loss: 7.5688e-04 - mse: 7.5688e-04\n",
            "Epoch 78/100\n",
            "372/376 [============================>.] - ETA: 0s - loss: 7.6715e-04 - mse: 7.6715e-04WARNING:tensorflow:Early stopping conditioned on metric `val_loss` which is not available. Available metrics are: loss,mse\n",
            "376/376 [==============================] - 2s 4ms/step - loss: 7.6393e-04 - mse: 7.6393e-04\n",
            "Epoch 79/100\n",
            "370/376 [============================>.] - ETA: 0s - loss: 7.2475e-04 - mse: 7.2475e-04WARNING:tensorflow:Early stopping conditioned on metric `val_loss` which is not available. Available metrics are: loss,mse\n",
            "376/376 [==============================] - 2s 4ms/step - loss: 7.1569e-04 - mse: 7.1569e-04\n",
            "Epoch 80/100\n",
            "367/376 [============================>.] - ETA: 0s - loss: 7.0789e-04 - mse: 7.0789e-04WARNING:tensorflow:Early stopping conditioned on metric `val_loss` which is not available. Available metrics are: loss,mse\n",
            "376/376 [==============================] - 2s 5ms/step - loss: 7.1120e-04 - mse: 7.1120e-04\n",
            "Epoch 81/100\n",
            "375/376 [============================>.] - ETA: 0s - loss: 7.2042e-04 - mse: 7.2042e-04WARNING:tensorflow:Early stopping conditioned on metric `val_loss` which is not available. Available metrics are: loss,mse\n",
            "376/376 [==============================] - 2s 4ms/step - loss: 7.2331e-04 - mse: 7.2331e-04\n",
            "Epoch 82/100\n",
            "367/376 [============================>.] - ETA: 0s - loss: 6.9517e-04 - mse: 6.9517e-04WARNING:tensorflow:Early stopping conditioned on metric `val_loss` which is not available. Available metrics are: loss,mse\n",
            "376/376 [==============================] - 2s 4ms/step - loss: 6.8699e-04 - mse: 6.8699e-04\n",
            "Epoch 83/100\n",
            "369/376 [============================>.] - ETA: 0s - loss: 7.0777e-04 - mse: 7.0777e-04WARNING:tensorflow:Early stopping conditioned on metric `val_loss` which is not available. Available metrics are: loss,mse\n",
            "376/376 [==============================] - 2s 4ms/step - loss: 7.1099e-04 - mse: 7.1099e-04\n",
            "Epoch 84/100\n",
            "372/376 [============================>.] - ETA: 0s - loss: 7.3030e-04 - mse: 7.3030e-04WARNING:tensorflow:Early stopping conditioned on metric `val_loss` which is not available. Available metrics are: loss,mse\n",
            "376/376 [==============================] - 2s 4ms/step - loss: 7.2417e-04 - mse: 7.2417e-04\n",
            "Epoch 85/100\n",
            "372/376 [============================>.] - ETA: 0s - loss: 7.2856e-04 - mse: 7.2856e-04WARNING:tensorflow:Early stopping conditioned on metric `val_loss` which is not available. Available metrics are: loss,mse\n",
            "376/376 [==============================] - 2s 4ms/step - loss: 7.3404e-04 - mse: 7.3404e-04\n",
            "Epoch 86/100\n",
            "366/376 [============================>.] - ETA: 0s - loss: 7.1620e-04 - mse: 7.1620e-04WARNING:tensorflow:Early stopping conditioned on metric `val_loss` which is not available. Available metrics are: loss,mse\n",
            "376/376 [==============================] - 2s 4ms/step - loss: 7.1553e-04 - mse: 7.1553e-04\n",
            "Epoch 87/100\n",
            "372/376 [============================>.] - ETA: 0s - loss: 7.2810e-04 - mse: 7.2810e-04WARNING:tensorflow:Early stopping conditioned on metric `val_loss` which is not available. Available metrics are: loss,mse\n",
            "376/376 [==============================] - 2s 4ms/step - loss: 7.2189e-04 - mse: 7.2189e-04\n",
            "Epoch 88/100\n",
            "365/376 [============================>.] - ETA: 0s - loss: 7.0211e-04 - mse: 7.0211e-04WARNING:tensorflow:Early stopping conditioned on metric `val_loss` which is not available. Available metrics are: loss,mse\n",
            "376/376 [==============================] - 2s 4ms/step - loss: 6.9441e-04 - mse: 6.9441e-04\n",
            "Epoch 89/100\n",
            "370/376 [============================>.] - ETA: 0s - loss: 6.9902e-04 - mse: 6.9902e-04WARNING:tensorflow:Early stopping conditioned on metric `val_loss` which is not available. Available metrics are: loss,mse\n",
            "376/376 [==============================] - 2s 4ms/step - loss: 7.0878e-04 - mse: 7.0878e-04\n",
            "Epoch 90/100\n",
            "366/376 [============================>.] - ETA: 0s - loss: 7.3065e-04 - mse: 7.3065e-04WARNING:tensorflow:Early stopping conditioned on metric `val_loss` which is not available. Available metrics are: loss,mse\n",
            "376/376 [==============================] - 2s 4ms/step - loss: 7.2005e-04 - mse: 7.2005e-04\n",
            "Epoch 91/100\n",
            "373/376 [============================>.] - ETA: 0s - loss: 6.7950e-04 - mse: 6.7950e-04WARNING:tensorflow:Early stopping conditioned on metric `val_loss` which is not available. Available metrics are: loss,mse\n",
            "376/376 [==============================] - 2s 4ms/step - loss: 6.7644e-04 - mse: 6.7644e-04\n",
            "Epoch 92/100\n",
            "373/376 [============================>.] - ETA: 0s - loss: 7.6611e-04 - mse: 7.6611e-04WARNING:tensorflow:Early stopping conditioned on metric `val_loss` which is not available. Available metrics are: loss,mse\n",
            "376/376 [==============================] - 2s 4ms/step - loss: 7.6639e-04 - mse: 7.6639e-04\n",
            "Epoch 93/100\n",
            "364/376 [============================>.] - ETA: 0s - loss: 7.3704e-04 - mse: 7.3704e-04WARNING:tensorflow:Early stopping conditioned on metric `val_loss` which is not available. Available metrics are: loss,mse\n",
            "376/376 [==============================] - 2s 4ms/step - loss: 7.2529e-04 - mse: 7.2529e-04\n",
            "Epoch 94/100\n",
            "370/376 [============================>.] - ETA: 0s - loss: 6.9556e-04 - mse: 6.9556e-04WARNING:tensorflow:Early stopping conditioned on metric `val_loss` which is not available. Available metrics are: loss,mse\n",
            "376/376 [==============================] - 2s 4ms/step - loss: 6.9222e-04 - mse: 6.9222e-04\n",
            "Epoch 95/100\n",
            "367/376 [============================>.] - ETA: 0s - loss: 6.9752e-04 - mse: 6.9752e-04WARNING:tensorflow:Early stopping conditioned on metric `val_loss` which is not available. Available metrics are: loss,mse\n",
            "376/376 [==============================] - 2s 4ms/step - loss: 7.0870e-04 - mse: 7.0870e-04\n",
            "Epoch 96/100\n",
            "364/376 [============================>.] - ETA: 0s - loss: 6.4359e-04 - mse: 6.4359e-04WARNING:tensorflow:Early stopping conditioned on metric `val_loss` which is not available. Available metrics are: loss,mse\n",
            "376/376 [==============================] - 2s 5ms/step - loss: 6.5318e-04 - mse: 6.5318e-04\n",
            "Epoch 97/100\n",
            "372/376 [============================>.] - ETA: 0s - loss: 7.2982e-04 - mse: 7.2982e-04WARNING:tensorflow:Early stopping conditioned on metric `val_loss` which is not available. Available metrics are: loss,mse\n",
            "376/376 [==============================] - 2s 4ms/step - loss: 7.2468e-04 - mse: 7.2468e-04\n",
            "Epoch 98/100\n",
            "374/376 [============================>.] - ETA: 0s - loss: 7.0744e-04 - mse: 7.0744e-04WARNING:tensorflow:Early stopping conditioned on metric `val_loss` which is not available. Available metrics are: loss,mse\n",
            "376/376 [==============================] - 2s 4ms/step - loss: 7.0378e-04 - mse: 7.0378e-04\n",
            "Epoch 99/100\n",
            "376/376 [==============================] - ETA: 0s - loss: 7.0863e-04 - mse: 7.0863e-04WARNING:tensorflow:Early stopping conditioned on metric `val_loss` which is not available. Available metrics are: loss,mse\n",
            "376/376 [==============================] - 2s 4ms/step - loss: 7.0863e-04 - mse: 7.0863e-04\n",
            "Epoch 100/100\n",
            "374/376 [============================>.] - ETA: 0s - loss: 6.6577e-04 - mse: 6.6577e-04WARNING:tensorflow:Early stopping conditioned on metric `val_loss` which is not available. Available metrics are: loss,mse\n",
            "376/376 [==============================] - 2s 4ms/step - loss: 6.6366e-04 - mse: 6.6366e-04\n"
          ],
          "name": "stdout"
        }
      ]
    },
    {
      "cell_type": "code",
      "metadata": {
        "id": "e_kmiT_2ht38",
        "colab_type": "code",
        "colab": {
          "base_uri": "https://localhost:8080/",
          "height": 218
        },
        "outputId": "2b2453d5-3c9e-4ea2-87cb-e92d3b5bcaa3"
      },
      "source": [
        "model.summary()"
      ],
      "execution_count": null,
      "outputs": [
        {
          "output_type": "stream",
          "text": [
            "Model: \"sequential\"\n",
            "_________________________________________________________________\n",
            "Layer (type)                 Output Shape              Param #   \n",
            "=================================================================\n",
            "lstm (LSTM)                  (None, 16)                2048      \n",
            "_________________________________________________________________\n",
            "dense (Dense)                (None, 1)                 17        \n",
            "=================================================================\n",
            "Total params: 2,065\n",
            "Trainable params: 2,065\n",
            "Non-trainable params: 0\n",
            "_________________________________________________________________\n"
          ],
          "name": "stdout"
        }
      ]
    },
    {
      "cell_type": "code",
      "metadata": {
        "id": "UyhWDLMDh0kD",
        "colab_type": "code",
        "colab": {}
      },
      "source": [
        "\n",
        "\n",
        "# 예측\n",
        "pred = model.predict(test_feature)"
      ],
      "execution_count": null,
      "outputs": []
    },
    {
      "cell_type": "code",
      "metadata": {
        "id": "MWqzMHHyikBj",
        "colab_type": "code",
        "colab": {
          "base_uri": "https://localhost:8080/",
          "height": 302
        },
        "outputId": "a63dc89c-2025-43f8-edf1-f0e40bb6409f"
      },
      "source": [
        "pd.DataFrame(history.history).plot()"
      ],
      "execution_count": null,
      "outputs": [
        {
          "output_type": "execute_result",
          "data": {
            "text/plain": [
              "<matplotlib.axes._subplots.AxesSubplot at 0x7f986a204fd0>"
            ]
          },
          "metadata": {
            "tags": []
          },
          "execution_count": 66
        },
        {
          "output_type": "stream",
          "text": [
            "findfont: Font family ['NanumbarunGothic'] not found. Falling back to DejaVu Sans.\n"
          ],
          "name": "stderr"
        },
        {
          "output_type": "display_data",
          "data": {
            "image/png": "[encoded data removed]",
            "text/plain": [
              "<Figure size 432x288 with 1 Axes>"
            ]
          },
          "metadata": {
            "tags": [],
            "needs_background": "light"
          }
        }
      ]
    },
    {
      "cell_type": "code",
      "metadata": {
        "id": "pjF0HBUOlEOZ",
        "colab_type": "code",
        "colab": {
          "base_uri": "https://localhost:8080/",
          "height": 481
        },
        "outputId": "3525dd14-309d-4d6f-92f2-89b13243df3b"
      },
      "source": [
        "plt.figure(figsize=(12, 9))\n",
        "plt.plot(test_label, label='actual')\n",
        "plt.plot(pred, label='prediction')\n",
        "plt.legend()\n",
        "plt.show()"
      ],
      "execution_count": null,
      "outputs": [
        {
          "output_type": "display_data",
          "data": {
            "image/png": "[encoded data removed]",
            "text/plain": [
              "<Figure size 864x648 with 1 Axes>"
            ]
          },
          "metadata": {
            "tags": [],
            "needs_background": "light"
          }
        }
      ]
    },
    {
      "cell_type": "code",
      "metadata": {
        "id": "0_p1RjvwlLV-",
        "colab_type": "code",
        "colab": {
          "base_uri": "https://localhost:8080/",
          "height": 374
        },
        "outputId": "367e3420-e525-4503-8f2f-f108accc04cd"
      },
      "source": [
        "plt.figure(figsize=(12, 6))\n",
        "plt.plot(test_label, label='actual')\n",
        "plt.plot(pred, label='prediction')\n",
        "plt.plot(np.sqrt((pred - test_label)**2), label='Difference')\n",
        "plt.legend(frameon=False, fontsize = 18)\n",
        "plt.grid(ls='--')\n",
        "plt.show()"
      ],
      "execution_count": null,
      "outputs": [
        {
          "output_type": "display_data",
          "data": {
            "image/png": "[encoded data removed]",
            "text/plain": [
              "<Figure size 864x432 with 1 Axes>"
            ]
          },
          "metadata": {
            "tags": [],
            "needs_background": "light"
          }
        }
      ]
    },
    {
      "cell_type": "code",
      "metadata": {
        "id": "XFmAnwyNldIf",
        "colab_type": "code",
        "colab": {
          "base_uri": "https://localhost:8080/",
          "height": 34
        },
        "outputId": "36ca1fcc-560e-41b4-868a-e7a5403721eb"
      },
      "source": [
        "mse=mean_squared_error(test_label, pred)\n",
        "rmse=np.sqrt(mse)\n",
        "rmse"
      ],
      "execution_count": null,
      "outputs": [
        {
          "output_type": "execute_result",
          "data": {
            "text/plain": [
              "0.05699898434941082"
            ]
          },
          "metadata": {
            "tags": []
          },
          "execution_count": 76
        }
      ]
    },
    {
      "cell_type": "code",
      "metadata": {
        "id": "MMpu7ks3lyIu",
        "colab_type": "code",
        "colab": {}
      },
      "source": [
        "\n",
        "def Naivemodel(data, predict_range):\n",
        "    \"\"\"\n",
        "    마지막 값을 그대로 예측\n",
        "    \"\"\"\n",
        "    pred = np.empty([len(data), predict_range])\n",
        "    for i, j in enumerate(data):\n",
        "        pred[i,:] = np.full(predict_range, j[-1, 3])\n",
        "    return pred"
      ],
      "execution_count": null,
      "outputs": []
    },
    {
      "cell_type": "code",
      "metadata": {
        "id": "J_fHXwQ-l2cx",
        "colab_type": "code",
        "colab": {}
      },
      "source": [
        "naive_data = Naivemodel(test_feature, 1)"
      ],
      "execution_count": null,
      "outputs": []
    },
    {
      "cell_type": "code",
      "metadata": {
        "id": "o_8QnjWOl4ZT",
        "colab_type": "code",
        "colab": {
          "base_uri": "https://localhost:8080/",
          "height": 34
        },
        "outputId": "a6ba61cc-c460-4984-eaed-0ddf0083de00"
      },
      "source": [
        "np.mean(keras.losses.mean_squared_error(test_label, pred))"
      ],
      "execution_count": null,
      "outputs": [
        {
          "output_type": "execute_result",
          "data": {
            "text/plain": [
              "0.0032488846"
            ]
          },
          "metadata": {
            "tags": []
          },
          "execution_count": 79
        }
      ]
    },
    {
      "cell_type": "code",
      "metadata": {
        "id": "go0Jpydvl6VS",
        "colab_type": "code",
        "colab": {
          "base_uri": "https://localhost:8080/",
          "height": 34
        },
        "outputId": "03f0f3e0-86f3-4b85-c9d4-3a36917f96cb"
      },
      "source": [
        "np.mean(keras.losses.mean_squared_error(test_label, naive_data))"
      ],
      "execution_count": null,
      "outputs": [
        {
          "output_type": "execute_result",
          "data": {
            "text/plain": [
              "0.0027683201826654105"
            ]
          },
          "metadata": {
            "tags": []
          },
          "execution_count": 80
        }
      ]
    },
    {
      "cell_type": "code",
      "metadata": {
        "id": "_Ex5o_GCl7-z",
        "colab_type": "code",
        "colab": {
          "base_uri": "https://localhost:8080/",
          "height": 34
        },
        "outputId": "1c7cd8f9-e25c-4b71-e82b-d612eb1a8700"
      },
      "source": [
        "#정확도\n",
        "test_sign = np.sign(test_label.flatten() - test_feature[:, -1, 3])\n",
        "pred_sign = np.sign(pred.flatten() - test_feature[:, -1, 3])\n",
        "sum(test_sign == pred_sign)/len(pred_sign)"
      ],
      "execution_count": null,
      "outputs": [
        {
          "output_type": "execute_result",
          "data": {
            "text/plain": [
              "0.5625"
            ]
          },
          "metadata": {
            "tags": []
          },
          "execution_count": 81
        }
      ]
    },
    {
      "cell_type": "code",
      "metadata": {
        "id": "LZ3qTk4HrP53",
        "colab_type": "code",
        "colab": {
          "base_uri": "https://localhost:8080/",
          "height": 342
        },
        "outputId": "4cf5ecd3-f55a-4512-f56e-857b8e6ae563"
      },
      "source": [
        "%matplotlib inline\n",
        "import matplotlib.pyplot as plt\n",
        "\n",
        "plt.scatter(test_label, pred)\n",
        "plt.xlabel(\"Price Index: $Y_i$\")\n",
        "plt.ylabel(\"Predicted price Index: $\\hat{Y}_i$\")\n",
        "plt.title(\"Prices vs Predicted price Index: $Y_i$ vs $\\hat{Y}_i$\")\n",
        "\n",
        "#예측값과 원래값이 일치하면 직선에 가깝게 분포됨"
      ],
      "execution_count": null,
      "outputs": [
        {
          "output_type": "execute_result",
          "data": {
            "text/plain": [
              "Text(0.5, 1.0, 'Prices vs Predicted price Index: $Y_i$ vs $\\\\hat{Y}_i$')"
            ]
          },
          "metadata": {
            "tags": []
          },
          "execution_count": 82
        },
        {
          "output_type": "stream",
          "text": [
            "findfont: Font family ['NanumbarunGothic'] not found. Falling back to DejaVu Sans.\n"
          ],
          "name": "stderr"
        },
        {
          "output_type": "display_data",
          "data": {
            "image/png": "[encoded data removed]",
            "text/plain": [
              "<Figure size 432x288 with 1 Axes>"
            ]
          },
          "metadata": {
            "tags": [],
            "needs_background": "light"
          }
        }
      ]
    },
    {
      "cell_type": "markdown",
      "metadata": {
        "id": "wYmpsY7irFfK",
        "colab_type": "text"
      },
      "source": [
        "다른 모델\n"
      ]
    },
    {
      "cell_type": "code",
      "metadata": {
        "id": "efgahuJsmDmI",
        "colab_type": "code",
        "colab": {
          "base_uri": "https://localhost:8080/",
          "height": 215
        },
        "outputId": "eb383040-14bd-47c4-8f31-d2e3a054d322"
      },
      "source": [
        "scaler = MinMaxScaler()\n",
        "df_scaled = scaler.fit_transform(inputdata)\n",
        "\n",
        "df_scaled = pd.DataFrame(df_scaled)\n",
        "df_scaled.columns = inputdata.keys()\n",
        "\n",
        "df_scaled.head()"
      ],
      "execution_count": 40,
      "outputs": [
        {
          "output_type": "execute_result",
          "data": {
            "text/html": [
              "<div>\n",
              "<style scoped>\n",
              "    .dataframe tbody tr th:only-of-type {\n",
              "        vertical-align: middle;\n",
              "    }\n",
              "\n",
              "    .dataframe tbody tr th {\n",
              "        vertical-align: top;\n",
              "    }\n",
              "\n",
              "    .dataframe thead th {\n",
              "        text-align: right;\n",
              "    }\n",
              "</style>\n",
              "<table border=\"1\" class=\"dataframe\">\n",
              "  <thead>\n",
              "    <tr style=\"text-align: right;\">\n",
              "      <th></th>\n",
              "      <th>Open</th>\n",
              "      <th>High</th>\n",
              "      <th>Low</th>\n",
              "      <th>Close</th>\n",
              "      <th>Volume</th>\n",
              "      <th>nasdaq</th>\n",
              "      <th>exchange</th>\n",
              "      <th>Semiconductor</th>\n",
              "      <th>foreign</th>\n",
              "      <th>institution</th>\n",
              "      <th>KOSPI</th>\n",
              "      <th>Korea_bond_1year</th>\n",
              "      <th>PBR</th>\n",
              "      <th>PER</th>\n",
              "      <th>ROE</th>\n",
              "    </tr>\n",
              "  </thead>\n",
              "  <tbody>\n",
              "    <tr>\n",
              "      <th>0</th>\n",
              "      <td>0.567413</td>\n",
              "      <td>0.5520</td>\n",
              "      <td>0.572074</td>\n",
              "      <td>0.546076</td>\n",
              "      <td>0.000429</td>\n",
              "      <td>0.206675</td>\n",
              "      <td>0.058961</td>\n",
              "      <td>0.233419</td>\n",
              "      <td>0.711073</td>\n",
              "      <td>0.339060</td>\n",
              "      <td>0.896068</td>\n",
              "      <td>0.855892</td>\n",
              "      <td>0.003531</td>\n",
              "      <td>0.001045</td>\n",
              "      <td>0.693746</td>\n",
              "    </tr>\n",
              "    <tr>\n",
              "      <th>1</th>\n",
              "      <td>0.614664</td>\n",
              "      <td>0.5984</td>\n",
              "      <td>0.598357</td>\n",
              "      <td>0.570221</td>\n",
              "      <td>0.000915</td>\n",
              "      <td>0.221562</td>\n",
              "      <td>0.037834</td>\n",
              "      <td>0.257113</td>\n",
              "      <td>0.710345</td>\n",
              "      <td>0.340881</td>\n",
              "      <td>0.901942</td>\n",
              "      <td>0.839731</td>\n",
              "      <td>0.003776</td>\n",
              "      <td>0.001080</td>\n",
              "      <td>0.693746</td>\n",
              "    </tr>\n",
              "    <tr>\n",
              "      <th>2</th>\n",
              "      <td>0.597556</td>\n",
              "      <td>0.5832</td>\n",
              "      <td>0.566324</td>\n",
              "      <td>0.548491</td>\n",
              "      <td>0.001446</td>\n",
              "      <td>0.224705</td>\n",
              "      <td>0.047353</td>\n",
              "      <td>0.265004</td>\n",
              "      <td>0.710580</td>\n",
              "      <td>0.340335</td>\n",
              "      <td>0.884503</td>\n",
              "      <td>0.845118</td>\n",
              "      <td>0.003556</td>\n",
              "      <td>0.001048</td>\n",
              "      <td>0.693746</td>\n",
              "    </tr>\n",
              "    <tr>\n",
              "      <th>3</th>\n",
              "      <td>0.564155</td>\n",
              "      <td>0.5808</td>\n",
              "      <td>0.589322</td>\n",
              "      <td>0.590342</td>\n",
              "      <td>0.000747</td>\n",
              "      <td>0.239597</td>\n",
              "      <td>0.040019</td>\n",
              "      <td>0.274060</td>\n",
              "      <td>0.711953</td>\n",
              "      <td>0.339847</td>\n",
              "      <td>0.911736</td>\n",
              "      <td>0.832323</td>\n",
              "      <td>0.003980</td>\n",
              "      <td>0.001110</td>\n",
              "      <td>0.693746</td>\n",
              "    </tr>\n",
              "    <tr>\n",
              "      <th>4</th>\n",
              "      <td>0.608961</td>\n",
              "      <td>0.5968</td>\n",
              "      <td>0.601643</td>\n",
              "      <td>0.586318</td>\n",
              "      <td>0.000400</td>\n",
              "      <td>0.244886</td>\n",
              "      <td>0.034871</td>\n",
              "      <td>0.284570</td>\n",
              "      <td>0.711238</td>\n",
              "      <td>0.339833</td>\n",
              "      <td>0.925553</td>\n",
              "      <td>0.837710</td>\n",
              "      <td>0.003940</td>\n",
              "      <td>0.001104</td>\n",
              "      <td>0.693746</td>\n",
              "    </tr>\n",
              "  </tbody>\n",
              "</table>\n",
              "</div>"
            ],
            "text/plain": [
              "       Open    High       Low  ...       PBR       PER       ROE\n",
              "0  0.567413  0.5520  0.572074  ...  0.003531  0.001045  0.693746\n",
              "1  0.614664  0.5984  0.598357  ...  0.003776  0.001080  0.693746\n",
              "2  0.597556  0.5832  0.566324  ...  0.003556  0.001048  0.693746\n",
              "3  0.564155  0.5808  0.589322  ...  0.003980  0.001110  0.693746\n",
              "4  0.608961  0.5968  0.601643  ...  0.003940  0.001104  0.693746\n",
              "\n",
              "[5 rows x 15 columns]"
            ]
          },
          "metadata": {
            "tags": []
          },
          "execution_count": 40
        }
      ]
    },
    {
      "cell_type": "code",
      "metadata": {
        "id": "sfy3K11zDcKc",
        "colab_type": "code",
        "colab": {}
      },
      "source": [
        "TEST_SIZE = 100\n",
        "train = df_scaled[:-TEST_SIZE]\n",
        "test = df_scaled[-TEST_SIZE:]"
      ],
      "execution_count": 43,
      "outputs": []
    },
    {
      "cell_type": "code",
      "metadata": {
        "id": "N_fF7NQkDjjJ",
        "colab_type": "code",
        "colab": {}
      },
      "source": [
        "def make_dataset(data, label, window_size=20):\n",
        "    feature_list = []\n",
        "    label_list = []\n",
        "    for i in range(len(data) - window_size):\n",
        "        feature_list.append(np.array(data.iloc[i:i+window_size]))\n",
        "        label_list.append(np.array(label.iloc[i+window_size]))\n",
        "    return np.array(feature_list), np.array(label_list)"
      ],
      "execution_count": 45,
      "outputs": []
    },
    {
      "cell_type": "code",
      "metadata": {
        "id": "FT1d5Yz0rCf6",
        "colab_type": "code",
        "colab": {
          "base_uri": "https://localhost:8080/",
          "height": 34
        },
        "outputId": "21fbf6a8-c30b-4ecd-87e3-c36ee22c2c2e"
      },
      "source": [
        "feature_cols = df_scaled.columns\n",
        "label_cols = ['Close']\n",
        "\n",
        "train_feature = train[feature_cols]\n",
        "train_label = train[label_cols]\n",
        "\n",
        "train_feature, train_label = make_dataset(train_feature, train_label, 20)\n",
        "\n",
        "from sklearn.model_selection import train_test_split\n",
        "x_train, x_valid, y_train, y_valid = train_test_split(train_feature, train_label, test_size=0.2)\n",
        "\n",
        "x_train.shape, x_valid.shape"
      ],
      "execution_count": 46,
      "outputs": [
        {
          "output_type": "execute_result",
          "data": {
            "text/plain": [
              "((376, 20, 15), (94, 20, 15))"
            ]
          },
          "metadata": {
            "tags": []
          },
          "execution_count": 46
        }
      ]
    },
    {
      "cell_type": "code",
      "metadata": {
        "id": "7vgKfCJNDUjn",
        "colab_type": "code",
        "colab": {
          "base_uri": "https://localhost:8080/",
          "height": 34
        },
        "outputId": "bf48f283-905a-4f72-94ca-625124f0fd80"
      },
      "source": [
        "test_feature=test[feature_cols]\n",
        "test_label=test[label_cols]\n",
        "\n",
        "test_feature, test_label = make_dataset(test_feature, test_label, 20)\n",
        "test_feature.shape, test_label.shape"
      ],
      "execution_count": 47,
      "outputs": [
        {
          "output_type": "execute_result",
          "data": {
            "text/plain": [
              "((80, 20, 15), (80, 1))"
            ]
          },
          "metadata": {
            "tags": []
          },
          "execution_count": 47
        }
      ]
    },
    {
      "cell_type": "code",
      "metadata": {
        "id": "WfOQWURnDowo",
        "colab_type": "code",
        "colab": {}
      },
      "source": [
        "from keras.models import Sequential\n",
        "from keras.layers import Dense\n",
        "from keras.callbacks import EarlyStopping, ModelCheckpoint\n",
        "from keras.layers import LSTM\n",
        "\n",
        "model = Sequential()\n",
        "model.add(LSTM(16, \n",
        "               input_shape=(train_feature.shape[1], train_feature.shape[2]), \n",
        "               activation='relu', \n",
        "               return_sequences=False)\n",
        "          )\n",
        "model.add(Dense(1))"
      ],
      "execution_count": 48,
      "outputs": []
    },
    {
      "cell_type": "code",
      "metadata": {
        "id": "z91QEFHqD4HC",
        "colab_type": "code",
        "colab": {
          "base_uri": "https://localhost:8080/",
          "height": 218
        },
        "outputId": "b5460de0-b57f-4ebc-87de-f2912bfb6b5d"
      },
      "source": [
        "model.summary()"
      ],
      "execution_count": 49,
      "outputs": [
        {
          "output_type": "stream",
          "text": [
            "Model: \"sequential\"\n",
            "_________________________________________________________________\n",
            "Layer (type)                 Output Shape              Param #   \n",
            "=================================================================\n",
            "lstm (LSTM)                  (None, 16)                2048      \n",
            "_________________________________________________________________\n",
            "dense (Dense)                (None, 1)                 17        \n",
            "=================================================================\n",
            "Total params: 2,065\n",
            "Trainable params: 2,065\n",
            "Non-trainable params: 0\n",
            "_________________________________________________________________\n"
          ],
          "name": "stdout"
        }
      ]
    },
    {
      "cell_type": "code",
      "metadata": {
        "id": "mSg9VTKAD5iN",
        "colab_type": "code",
        "colab": {
          "base_uri": "https://localhost:8080/",
          "height": 1000
        },
        "outputId": "08683e6a-5254-4333-9b8c-08e63a73951b"
      },
      "source": [
        "model.compile(loss='mse',optimizer='adam',metrics=['mse'])\n",
        "\n",
        "from keras.callbacks import EarlyStopping\n",
        "early_stopping=EarlyStopping(patience=20)\n",
        "history=model.fit(x_train,y_train,epochs=100,batch_size=1,validation_split=0,callbacks=[early_stopping])"
      ],
      "execution_count": 50,
      "outputs": [
        {
          "output_type": "stream",
          "text": [
            "Epoch 1/100\n",
            "371/376 [============================>.] - ETA: 0s - loss: 0.0231 - mse: 0.0231WARNING:tensorflow:Early stopping conditioned on metric `val_loss` which is not available. Available metrics are: loss,mse\n",
            "376/376 [==============================] - 1s 3ms/step - loss: 0.0229 - mse: 0.0229\n",
            "Epoch 2/100\n",
            "362/376 [===========================>..] - ETA: 0s - loss: 0.0029 - mse: 0.0029WARNING:tensorflow:Early stopping conditioned on metric `val_loss` which is not available. Available metrics are: loss,mse\n",
            "376/376 [==============================] - 1s 3ms/step - loss: 0.0029 - mse: 0.0029\n",
            "Epoch 3/100\n",
            "361/376 [===========================>..] - ETA: 0s - loss: 0.0024 - mse: 0.0024WARNING:tensorflow:Early stopping conditioned on metric `val_loss` which is not available. Available metrics are: loss,mse\n",
            "376/376 [==============================] - 1s 3ms/step - loss: 0.0024 - mse: 0.0024\n",
            "Epoch 4/100\n",
            "373/376 [============================>.] - ETA: 0s - loss: 0.0024 - mse: 0.0024WARNING:tensorflow:Early stopping conditioned on metric `val_loss` which is not available. Available metrics are: loss,mse\n",
            "376/376 [==============================] - 1s 3ms/step - loss: 0.0024 - mse: 0.0024\n",
            "Epoch 5/100\n",
            "370/376 [============================>.] - ETA: 0s - loss: 0.0020 - mse: 0.0020WARNING:tensorflow:Early stopping conditioned on metric `val_loss` which is not available. Available metrics are: loss,mse\n",
            "376/376 [==============================] - 1s 3ms/step - loss: 0.0020 - mse: 0.0020\n",
            "Epoch 6/100\n",
            "369/376 [============================>.] - ETA: 0s - loss: 0.0021 - mse: 0.0021WARNING:tensorflow:Early stopping conditioned on metric `val_loss` which is not available. Available metrics are: loss,mse\n",
            "376/376 [==============================] - 1s 3ms/step - loss: 0.0021 - mse: 0.0021\n",
            "Epoch 7/100\n",
            "369/376 [============================>.] - ETA: 0s - loss: 0.0017 - mse: 0.0017WARNING:tensorflow:Early stopping conditioned on metric `val_loss` which is not available. Available metrics are: loss,mse\n",
            "376/376 [==============================] - 1s 3ms/step - loss: 0.0017 - mse: 0.0017\n",
            "Epoch 8/100\n",
            "375/376 [============================>.] - ETA: 0s - loss: 0.0018 - mse: 0.0018WARNING:tensorflow:Early stopping conditioned on metric `val_loss` which is not available. Available metrics are: loss,mse\n",
            "376/376 [==============================] - 1s 3ms/step - loss: 0.0018 - mse: 0.0018\n",
            "Epoch 9/100\n",
            "373/376 [============================>.] - ETA: 0s - loss: 0.0017 - mse: 0.0017WARNING:tensorflow:Early stopping conditioned on metric `val_loss` which is not available. Available metrics are: loss,mse\n",
            "376/376 [==============================] - 1s 3ms/step - loss: 0.0017 - mse: 0.0017\n",
            "Epoch 10/100\n",
            "362/376 [===========================>..] - ETA: 0s - loss: 0.0015 - mse: 0.0015WARNING:tensorflow:Early stopping conditioned on metric `val_loss` which is not available. Available metrics are: loss,mse\n",
            "376/376 [==============================] - 1s 3ms/step - loss: 0.0015 - mse: 0.0015\n",
            "Epoch 11/100\n",
            "363/376 [===========================>..] - ETA: 0s - loss: 0.0015 - mse: 0.0015WARNING:tensorflow:Early stopping conditioned on metric `val_loss` which is not available. Available metrics are: loss,mse\n",
            "376/376 [==============================] - 1s 3ms/step - loss: 0.0016 - mse: 0.0016\n",
            "Epoch 12/100\n",
            "365/376 [============================>.] - ETA: 0s - loss: 0.0015 - mse: 0.0015WARNING:tensorflow:Early stopping conditioned on metric `val_loss` which is not available. Available metrics are: loss,mse\n",
            "376/376 [==============================] - 1s 3ms/step - loss: 0.0015 - mse: 0.0015\n",
            "Epoch 13/100\n",
            "373/376 [============================>.] - ETA: 0s - loss: 0.0017 - mse: 0.0017WARNING:tensorflow:Early stopping conditioned on metric `val_loss` which is not available. Available metrics are: loss,mse\n",
            "376/376 [==============================] - 1s 3ms/step - loss: 0.0017 - mse: 0.0017\n",
            "Epoch 14/100\n",
            "368/376 [============================>.] - ETA: 0s - loss: 0.0014 - mse: 0.0014WARNING:tensorflow:Early stopping conditioned on metric `val_loss` which is not available. Available metrics are: loss,mse\n",
            "376/376 [==============================] - 1s 3ms/step - loss: 0.0014 - mse: 0.0014\n",
            "Epoch 15/100\n",
            "375/376 [============================>.] - ETA: 0s - loss: 0.0015 - mse: 0.0015WARNING:tensorflow:Early stopping conditioned on metric `val_loss` which is not available. Available metrics are: loss,mse\n",
            "376/376 [==============================] - 1s 3ms/step - loss: 0.0015 - mse: 0.0015\n",
            "Epoch 16/100\n",
            "374/376 [============================>.] - ETA: 0s - loss: 0.0014 - mse: 0.0014WARNING:tensorflow:Early stopping conditioned on metric `val_loss` which is not available. Available metrics are: loss,mse\n",
            "376/376 [==============================] - 1s 3ms/step - loss: 0.0014 - mse: 0.0014\n",
            "Epoch 17/100\n",
            "368/376 [============================>.] - ETA: 0s - loss: 0.0013 - mse: 0.0013WARNING:tensorflow:Early stopping conditioned on metric `val_loss` which is not available. Available metrics are: loss,mse\n",
            "376/376 [==============================] - 1s 3ms/step - loss: 0.0013 - mse: 0.0013\n",
            "Epoch 18/100\n",
            "374/376 [============================>.] - ETA: 0s - loss: 0.0013 - mse: 0.0013WARNING:tensorflow:Early stopping conditioned on metric `val_loss` which is not available. Available metrics are: loss,mse\n",
            "376/376 [==============================] - 1s 4ms/step - loss: 0.0013 - mse: 0.0013\n",
            "Epoch 19/100\n",
            "367/376 [============================>.] - ETA: 0s - loss: 0.0014 - mse: 0.0014WARNING:tensorflow:Early stopping conditioned on metric `val_loss` which is not available. Available metrics are: loss,mse\n",
            "376/376 [==============================] - 1s 3ms/step - loss: 0.0014 - mse: 0.0014\n",
            "Epoch 20/100\n",
            "371/376 [============================>.] - ETA: 0s - loss: 0.0012 - mse: 0.0012WARNING:tensorflow:Early stopping conditioned on metric `val_loss` which is not available. Available metrics are: loss,mse\n",
            "376/376 [==============================] - 1s 3ms/step - loss: 0.0012 - mse: 0.0012\n",
            "Epoch 21/100\n",
            "362/376 [===========================>..] - ETA: 0s - loss: 0.0014 - mse: 0.0014WARNING:tensorflow:Early stopping conditioned on metric `val_loss` which is not available. Available metrics are: loss,mse\n",
            "376/376 [==============================] - 1s 3ms/step - loss: 0.0014 - mse: 0.0014\n",
            "Epoch 22/100\n",
            "369/376 [============================>.] - ETA: 0s - loss: 0.0014 - mse: 0.0014WARNING:tensorflow:Early stopping conditioned on metric `val_loss` which is not available. Available metrics are: loss,mse\n",
            "376/376 [==============================] - 1s 3ms/step - loss: 0.0014 - mse: 0.0014\n",
            "Epoch 23/100\n",
            "369/376 [============================>.] - ETA: 0s - loss: 0.0012 - mse: 0.0012WARNING:tensorflow:Early stopping conditioned on metric `val_loss` which is not available. Available metrics are: loss,mse\n",
            "376/376 [==============================] - 1s 3ms/step - loss: 0.0012 - mse: 0.0012\n",
            "Epoch 24/100\n",
            "364/376 [============================>.] - ETA: 0s - loss: 0.0013 - mse: 0.0013WARNING:tensorflow:Early stopping conditioned on metric `val_loss` which is not available. Available metrics are: loss,mse\n",
            "376/376 [==============================] - 1s 3ms/step - loss: 0.0013 - mse: 0.0013\n",
            "Epoch 25/100\n",
            "374/376 [============================>.] - ETA: 0s - loss: 0.0012 - mse: 0.0012WARNING:tensorflow:Early stopping conditioned on metric `val_loss` which is not available. Available metrics are: loss,mse\n",
            "376/376 [==============================] - 1s 3ms/step - loss: 0.0012 - mse: 0.0012\n",
            "Epoch 26/100\n",
            "374/376 [============================>.] - ETA: 0s - loss: 0.0013 - mse: 0.0013WARNING:tensorflow:Early stopping conditioned on metric `val_loss` which is not available. Available metrics are: loss,mse\n",
            "376/376 [==============================] - 1s 3ms/step - loss: 0.0013 - mse: 0.0013\n",
            "Epoch 27/100\n",
            "367/376 [============================>.] - ETA: 0s - loss: 0.0012 - mse: 0.0012WARNING:tensorflow:Early stopping conditioned on metric `val_loss` which is not available. Available metrics are: loss,mse\n",
            "376/376 [==============================] - 1s 3ms/step - loss: 0.0012 - mse: 0.0012\n",
            "Epoch 28/100\n",
            "364/376 [============================>.] - ETA: 0s - loss: 0.0013 - mse: 0.0013WARNING:tensorflow:Early stopping conditioned on metric `val_loss` which is not available. Available metrics are: loss,mse\n",
            "376/376 [==============================] - 1s 3ms/step - loss: 0.0013 - mse: 0.0013\n",
            "Epoch 29/100\n",
            "367/376 [============================>.] - ETA: 0s - loss: 0.0012 - mse: 0.0012WARNING:tensorflow:Early stopping conditioned on metric `val_loss` which is not available. Available metrics are: loss,mse\n",
            "376/376 [==============================] - 1s 3ms/step - loss: 0.0012 - mse: 0.0012\n",
            "Epoch 30/100\n",
            "367/376 [============================>.] - ETA: 0s - loss: 0.0012 - mse: 0.0012WARNING:tensorflow:Early stopping conditioned on metric `val_loss` which is not available. Available metrics are: loss,mse\n",
            "376/376 [==============================] - 1s 3ms/step - loss: 0.0012 - mse: 0.0012\n",
            "Epoch 31/100\n",
            "369/376 [============================>.] - ETA: 0s - loss: 0.0013 - mse: 0.0013WARNING:tensorflow:Early stopping conditioned on metric `val_loss` which is not available. Available metrics are: loss,mse\n",
            "376/376 [==============================] - 1s 3ms/step - loss: 0.0013 - mse: 0.0013\n",
            "Epoch 32/100\n",
            "368/376 [============================>.] - ETA: 0s - loss: 0.0011 - mse: 0.0011WARNING:tensorflow:Early stopping conditioned on metric `val_loss` which is not available. Available metrics are: loss,mse\n",
            "376/376 [==============================] - 1s 3ms/step - loss: 0.0011 - mse: 0.0011\n",
            "Epoch 33/100\n",
            "366/376 [============================>.] - ETA: 0s - loss: 0.0012 - mse: 0.0012WARNING:tensorflow:Early stopping conditioned on metric `val_loss` which is not available. Available metrics are: loss,mse\n",
            "376/376 [==============================] - 1s 3ms/step - loss: 0.0012 - mse: 0.0012\n",
            "Epoch 34/100\n",
            "362/376 [===========================>..] - ETA: 0s - loss: 0.0012 - mse: 0.0012WARNING:tensorflow:Early stopping conditioned on metric `val_loss` which is not available. Available metrics are: loss,mse\n",
            "376/376 [==============================] - 1s 3ms/step - loss: 0.0012 - mse: 0.0012\n",
            "Epoch 35/100\n",
            "372/376 [============================>.] - ETA: 0s - loss: 0.0011 - mse: 0.0011WARNING:tensorflow:Early stopping conditioned on metric `val_loss` which is not available. Available metrics are: loss,mse\n",
            "376/376 [==============================] - 1s 3ms/step - loss: 0.0012 - mse: 0.0012\n",
            "Epoch 36/100\n",
            "371/376 [============================>.] - ETA: 0s - loss: 0.0012 - mse: 0.0012WARNING:tensorflow:Early stopping conditioned on metric `val_loss` which is not available. Available metrics are: loss,mse\n",
            "376/376 [==============================] - 1s 3ms/step - loss: 0.0012 - mse: 0.0012\n",
            "Epoch 37/100\n",
            "369/376 [============================>.] - ETA: 0s - loss: 0.0011 - mse: 0.0011WARNING:tensorflow:Early stopping conditioned on metric `val_loss` which is not available. Available metrics are: loss,mse\n",
            "376/376 [==============================] - 1s 3ms/step - loss: 0.0011 - mse: 0.0011\n",
            "Epoch 38/100\n",
            "365/376 [============================>.] - ETA: 0s - loss: 0.0011 - mse: 0.0011WARNING:tensorflow:Early stopping conditioned on metric `val_loss` which is not available. Available metrics are: loss,mse\n",
            "376/376 [==============================] - 1s 3ms/step - loss: 0.0011 - mse: 0.0011\n",
            "Epoch 39/100\n",
            "365/376 [============================>.] - ETA: 0s - loss: 0.0011 - mse: 0.0011WARNING:tensorflow:Early stopping conditioned on metric `val_loss` which is not available. Available metrics are: loss,mse\n",
            "376/376 [==============================] - 1s 3ms/step - loss: 0.0011 - mse: 0.0011\n",
            "Epoch 40/100\n",
            "372/376 [============================>.] - ETA: 0s - loss: 0.0011 - mse: 0.0011WARNING:tensorflow:Early stopping conditioned on metric `val_loss` which is not available. Available metrics are: loss,mse\n",
            "376/376 [==============================] - 1s 3ms/step - loss: 0.0011 - mse: 0.0011\n",
            "Epoch 41/100\n",
            "365/376 [============================>.] - ETA: 0s - loss: 0.0010 - mse: 0.0010WARNING:tensorflow:Early stopping conditioned on metric `val_loss` which is not available. Available metrics are: loss,mse\n",
            "376/376 [==============================] - 1s 3ms/step - loss: 0.0011 - mse: 0.0011\n",
            "Epoch 42/100\n",
            "366/376 [============================>.] - ETA: 0s - loss: 0.0011 - mse: 0.0011WARNING:tensorflow:Early stopping conditioned on metric `val_loss` which is not available. Available metrics are: loss,mse\n",
            "376/376 [==============================] - 1s 3ms/step - loss: 0.0011 - mse: 0.0011\n",
            "Epoch 43/100\n",
            "372/376 [============================>.] - ETA: 0s - loss: 0.0010 - mse: 0.0010WARNING:tensorflow:Early stopping conditioned on metric `val_loss` which is not available. Available metrics are: loss,mse\n",
            "376/376 [==============================] - 1s 4ms/step - loss: 0.0010 - mse: 0.0010\n",
            "Epoch 44/100\n",
            "371/376 [============================>.] - ETA: 0s - loss: 0.0012 - mse: 0.0012WARNING:tensorflow:Early stopping conditioned on metric `val_loss` which is not available. Available metrics are: loss,mse\n",
            "376/376 [==============================] - 1s 3ms/step - loss: 0.0011 - mse: 0.0011\n",
            "Epoch 45/100\n",
            "370/376 [============================>.] - ETA: 0s - loss: 0.0011 - mse: 0.0011WARNING:tensorflow:Early stopping conditioned on metric `val_loss` which is not available. Available metrics are: loss,mse\n",
            "376/376 [==============================] - 1s 3ms/step - loss: 0.0011 - mse: 0.0011\n",
            "Epoch 46/100\n",
            "366/376 [============================>.] - ETA: 0s - loss: 0.0011 - mse: 0.0011WARNING:tensorflow:Early stopping conditioned on metric `val_loss` which is not available. Available metrics are: loss,mse\n",
            "376/376 [==============================] - 1s 3ms/step - loss: 0.0011 - mse: 0.0011\n",
            "Epoch 47/100\n",
            "368/376 [============================>.] - ETA: 0s - loss: 0.0011 - mse: 0.0011WARNING:tensorflow:Early stopping conditioned on metric `val_loss` which is not available. Available metrics are: loss,mse\n",
            "376/376 [==============================] - 1s 4ms/step - loss: 0.0011 - mse: 0.0011\n",
            "Epoch 48/100\n",
            "373/376 [============================>.] - ETA: 0s - loss: 0.0010 - mse: 0.0010WARNING:tensorflow:Early stopping conditioned on metric `val_loss` which is not available. Available metrics are: loss,mse\n",
            "376/376 [==============================] - 1s 3ms/step - loss: 0.0011 - mse: 0.0011\n",
            "Epoch 49/100\n",
            "365/376 [============================>.] - ETA: 0s - loss: 0.0010 - mse: 0.0010        WARNING:tensorflow:Early stopping conditioned on metric `val_loss` which is not available. Available metrics are: loss,mse\n",
            "376/376 [==============================] - 1s 3ms/step - loss: 0.0010 - mse: 0.0010\n",
            "Epoch 50/100\n",
            "374/376 [============================>.] - ETA: 0s - loss: 0.0011 - mse: 0.0011WARNING:tensorflow:Early stopping conditioned on metric `val_loss` which is not available. Available metrics are: loss,mse\n",
            "376/376 [==============================] - 1s 3ms/step - loss: 0.0011 - mse: 0.0011\n",
            "Epoch 51/100\n",
            "369/376 [============================>.] - ETA: 0s - loss: 0.0010 - mse: 0.0010WARNING:tensorflow:Early stopping conditioned on metric `val_loss` which is not available. Available metrics are: loss,mse\n",
            "376/376 [==============================] - 1s 4ms/step - loss: 0.0010 - mse: 0.0010\n",
            "Epoch 52/100\n",
            "372/376 [============================>.] - ETA: 0s - loss: 9.9843e-04 - mse: 9.9843e-04WARNING:tensorflow:Early stopping conditioned on metric `val_loss` which is not available. Available metrics are: loss,mse\n",
            "376/376 [==============================] - 1s 3ms/step - loss: 9.9800e-04 - mse: 9.9800e-04\n",
            "Epoch 53/100\n",
            "370/376 [============================>.] - ETA: 0s - loss: 0.0011 - mse: 0.0011WARNING:tensorflow:Early stopping conditioned on metric `val_loss` which is not available. Available metrics are: loss,mse\n",
            "376/376 [==============================] - 1s 4ms/step - loss: 0.0011 - mse: 0.0011\n",
            "Epoch 54/100\n",
            "363/376 [===========================>..] - ETA: 0s - loss: 9.6583e-04 - mse: 9.6583e-04WARNING:tensorflow:Early stopping conditioned on metric `val_loss` which is not available. Available metrics are: loss,mse\n",
            "376/376 [==============================] - 1s 3ms/step - loss: 9.5402e-04 - mse: 9.5402e-04\n",
            "Epoch 55/100\n",
            "362/376 [===========================>..] - ETA: 0s - loss: 9.8221e-04 - mse: 9.8221e-04WARNING:tensorflow:Early stopping conditioned on metric `val_loss` which is not available. Available metrics are: loss,mse\n",
            "376/376 [==============================] - 1s 3ms/step - loss: 9.9519e-04 - mse: 9.9519e-04\n",
            "Epoch 56/100\n",
            "365/376 [============================>.] - ETA: 0s - loss: 9.9013e-04 - mse: 9.9013e-04WARNING:tensorflow:Early stopping conditioned on metric `val_loss` which is not available. Available metrics are: loss,mse\n",
            "376/376 [==============================] - 1s 3ms/step - loss: 9.7320e-04 - mse: 9.7320e-04\n",
            "Epoch 57/100\n",
            "373/376 [============================>.] - ETA: 0s - loss: 0.0011 - mse: 0.0011WARNING:tensorflow:Early stopping conditioned on metric `val_loss` which is not available. Available metrics are: loss,mse\n",
            "376/376 [==============================] - 1s 3ms/step - loss: 0.0011 - mse: 0.0011\n",
            "Epoch 58/100\n",
            "372/376 [============================>.] - ETA: 0s - loss: 9.6601e-04 - mse: 9.6601e-04WARNING:tensorflow:Early stopping conditioned on metric `val_loss` which is not available. Available metrics are: loss,mse\n",
            "376/376 [==============================] - 1s 3ms/step - loss: 9.6682e-04 - mse: 9.6682e-04\n",
            "Epoch 59/100\n",
            "367/376 [============================>.] - ETA: 0s - loss: 9.8148e-04 - mse: 9.8148e-04WARNING:tensorflow:Early stopping conditioned on metric `val_loss` which is not available. Available metrics are: loss,mse\n",
            "376/376 [==============================] - 1s 3ms/step - loss: 9.9249e-04 - mse: 9.9249e-04\n",
            "Epoch 60/100\n",
            "364/376 [============================>.] - ETA: 0s - loss: 0.0010 - mse: 0.0010WARNING:tensorflow:Early stopping conditioned on metric `val_loss` which is not available. Available metrics are: loss,mse\n",
            "376/376 [==============================] - 1s 3ms/step - loss: 0.0010 - mse: 0.0010\n",
            "Epoch 61/100\n",
            "376/376 [==============================] - ETA: 0s - loss: 0.0010 - mse: 0.0010WARNING:tensorflow:Early stopping conditioned on metric `val_loss` which is not available. Available metrics are: loss,mse\n",
            "376/376 [==============================] - 1s 3ms/step - loss: 0.0010 - mse: 0.0010\n",
            "Epoch 62/100\n",
            "376/376 [==============================] - ETA: 0s - loss: 9.4900e-04 - mse: 9.4900e-04WARNING:tensorflow:Early stopping conditioned on metric `val_loss` which is not available. Available metrics are: loss,mse\n",
            "376/376 [==============================] - 1s 3ms/step - loss: 9.4900e-04 - mse: 9.4900e-04\n",
            "Epoch 63/100\n",
            "374/376 [============================>.] - ETA: 0s - loss: 0.0010 - mse: 0.0010WARNING:tensorflow:Early stopping conditioned on metric `val_loss` which is not available. Available metrics are: loss,mse\n",
            "376/376 [==============================] - 1s 3ms/step - loss: 0.0010 - mse: 0.0010\n",
            "Epoch 64/100\n",
            "362/376 [===========================>..] - ETA: 0s - loss: 9.3723e-04 - mse: 9.3723e-04WARNING:tensorflow:Early stopping conditioned on metric `val_loss` which is not available. Available metrics are: loss,mse\n",
            "376/376 [==============================] - 1s 3ms/step - loss: 9.5241e-04 - mse: 9.5241e-04\n",
            "Epoch 65/100\n",
            "364/376 [============================>.] - ETA: 0s - loss: 9.6795e-04 - mse: 9.6795e-04WARNING:tensorflow:Early stopping conditioned on metric `val_loss` which is not available. Available metrics are: loss,mse\n",
            "376/376 [==============================] - 1s 3ms/step - loss: 9.6769e-04 - mse: 9.6769e-04\n",
            "Epoch 66/100\n",
            "375/376 [============================>.] - ETA: 0s - loss: 9.5893e-04 - mse: 9.5893e-04WARNING:tensorflow:Early stopping conditioned on metric `val_loss` which is not available. Available metrics are: loss,mse\n",
            "376/376 [==============================] - 1s 3ms/step - loss: 9.5689e-04 - mse: 9.5689e-04\n",
            "Epoch 67/100\n",
            "376/376 [==============================] - ETA: 0s - loss: 0.0011 - mse: 0.0011WARNING:tensorflow:Early stopping conditioned on metric `val_loss` which is not available. Available metrics are: loss,mse\n",
            "376/376 [==============================] - 1s 3ms/step - loss: 0.0011 - mse: 0.0011\n",
            "Epoch 68/100\n",
            "373/376 [============================>.] - ETA: 0s - loss: 9.2339e-04 - mse: 9.2339e-04WARNING:tensorflow:Early stopping conditioned on metric `val_loss` which is not available. Available metrics are: loss,mse\n",
            "376/376 [==============================] - 1s 3ms/step - loss: 9.2664e-04 - mse: 9.2664e-04\n",
            "Epoch 69/100\n",
            "364/376 [============================>.] - ETA: 0s - loss: 0.0010 - mse: 0.0010WARNING:tensorflow:Early stopping conditioned on metric `val_loss` which is not available. Available metrics are: loss,mse\n",
            "376/376 [==============================] - 1s 3ms/step - loss: 0.0010 - mse: 0.0010\n",
            "Epoch 70/100\n",
            "365/376 [============================>.] - ETA: 0s - loss: 0.0010 - mse: 0.0010WARNING:tensorflow:Early stopping conditioned on metric `val_loss` which is not available. Available metrics are: loss,mse\n",
            "376/376 [==============================] - 1s 3ms/step - loss: 0.0010 - mse: 0.0010\n",
            "Epoch 71/100\n",
            "363/376 [===========================>..] - ETA: 0s - loss: 0.0010 - mse: 0.0010WARNING:tensorflow:Early stopping conditioned on metric `val_loss` which is not available. Available metrics are: loss,mse\n",
            "376/376 [==============================] - 1s 3ms/step - loss: 0.0010 - mse: 0.0010\n",
            "Epoch 72/100\n",
            "364/376 [============================>.] - ETA: 0s - loss: 9.6933e-04 - mse: 9.6933e-04WARNING:tensorflow:Early stopping conditioned on metric `val_loss` which is not available. Available metrics are: loss,mse\n",
            "376/376 [==============================] - 1s 3ms/step - loss: 9.6015e-04 - mse: 9.6015e-04\n",
            "Epoch 73/100\n",
            "363/376 [===========================>..] - ETA: 0s - loss: 9.9208e-04 - mse: 9.9208e-04WARNING:tensorflow:Early stopping conditioned on metric `val_loss` which is not available. Available metrics are: loss,mse\n",
            "376/376 [==============================] - 1s 3ms/step - loss: 9.9541e-04 - mse: 9.9541e-04\n",
            "Epoch 74/100\n",
            "366/376 [============================>.] - ETA: 0s - loss: 9.9616e-04 - mse: 9.9616e-04WARNING:tensorflow:Early stopping conditioned on metric `val_loss` which is not available. Available metrics are: loss,mse\n",
            "376/376 [==============================] - 1s 3ms/step - loss: 9.8615e-04 - mse: 9.8615e-04\n",
            "Epoch 75/100\n",
            "364/376 [============================>.] - ETA: 0s - loss: 9.6801e-04 - mse: 9.6801e-04WARNING:tensorflow:Early stopping conditioned on metric `val_loss` which is not available. Available metrics are: loss,mse\n",
            "376/376 [==============================] - 1s 3ms/step - loss: 9.5626e-04 - mse: 9.5626e-04\n",
            "Epoch 76/100\n",
            "371/376 [============================>.] - ETA: 0s - loss: 8.8864e-04 - mse: 8.8864e-04WARNING:tensorflow:Early stopping conditioned on metric `val_loss` which is not available. Available metrics are: loss,mse\n",
            "376/376 [==============================] - 1s 3ms/step - loss: 8.9395e-04 - mse: 8.9395e-04\n",
            "Epoch 77/100\n",
            "362/376 [===========================>..] - ETA: 0s - loss: 9.3930e-04 - mse: 9.3930e-04WARNING:tensorflow:Early stopping conditioned on metric `val_loss` which is not available. Available metrics are: loss,mse\n",
            "376/376 [==============================] - 1s 3ms/step - loss: 9.5617e-04 - mse: 9.5617e-04\n",
            "Epoch 78/100\n",
            "375/376 [============================>.] - ETA: 0s - loss: 9.1622e-04 - mse: 9.1622e-04WARNING:tensorflow:Early stopping conditioned on metric `val_loss` which is not available. Available metrics are: loss,mse\n",
            "376/376 [==============================] - 1s 3ms/step - loss: 9.2540e-04 - mse: 9.2540e-04\n",
            "Epoch 79/100\n",
            "374/376 [============================>.] - ETA: 0s - loss: 9.4567e-04 - mse: 9.4567e-04WARNING:tensorflow:Early stopping conditioned on metric `val_loss` which is not available. Available metrics are: loss,mse\n",
            "376/376 [==============================] - 1s 3ms/step - loss: 9.4704e-04 - mse: 9.4704e-04\n",
            "Epoch 80/100\n",
            "364/376 [============================>.] - ETA: 0s - loss: 9.4927e-04 - mse: 9.4927e-04WARNING:tensorflow:Early stopping conditioned on metric `val_loss` which is not available. Available metrics are: loss,mse\n",
            "376/376 [==============================] - 1s 3ms/step - loss: 9.4554e-04 - mse: 9.4554e-04\n",
            "Epoch 81/100\n",
            "376/376 [==============================] - ETA: 0s - loss: 9.2824e-04 - mse: 9.2824e-04WARNING:tensorflow:Early stopping conditioned on metric `val_loss` which is not available. Available metrics are: loss,mse\n",
            "376/376 [==============================] - 1s 3ms/step - loss: 9.2824e-04 - mse: 9.2824e-04\n",
            "Epoch 82/100\n",
            "372/376 [============================>.] - ETA: 0s - loss: 8.8870e-04 - mse: 8.8870e-04WARNING:tensorflow:Early stopping conditioned on metric `val_loss` which is not available. Available metrics are: loss,mse\n",
            "376/376 [==============================] - 1s 3ms/step - loss: 8.8960e-04 - mse: 8.8960e-04\n",
            "Epoch 83/100\n",
            "373/376 [============================>.] - ETA: 0s - loss: 9.0455e-04 - mse: 9.0455e-04WARNING:tensorflow:Early stopping conditioned on metric `val_loss` which is not available. Available metrics are: loss,mse\n",
            "376/376 [==============================] - 1s 3ms/step - loss: 9.0246e-04 - mse: 9.0246e-04\n",
            "Epoch 84/100\n",
            "372/376 [============================>.] - ETA: 0s - loss: 9.5153e-04 - mse: 9.5153e-04WARNING:tensorflow:Early stopping conditioned on metric `val_loss` which is not available. Available metrics are: loss,mse\n",
            "376/376 [==============================] - 1s 3ms/step - loss: 9.4549e-04 - mse: 9.4549e-04\n",
            "Epoch 85/100\n",
            "362/376 [===========================>..] - ETA: 0s - loss: 8.6112e-04 - mse: 8.6112e-04WARNING:tensorflow:Early stopping conditioned on metric `val_loss` which is not available. Available metrics are: loss,mse\n",
            "376/376 [==============================] - 1s 3ms/step - loss: 8.6826e-04 - mse: 8.6826e-04\n",
            "Epoch 86/100\n",
            "375/376 [============================>.] - ETA: 0s - loss: 9.9890e-04 - mse: 9.9890e-04WARNING:tensorflow:Early stopping conditioned on metric `val_loss` which is not available. Available metrics are: loss,mse\n",
            "376/376 [==============================] - 1s 3ms/step - loss: 9.9638e-04 - mse: 9.9638e-04\n",
            "Epoch 87/100\n",
            "366/376 [============================>.] - ETA: 0s - loss: 8.5646e-04 - mse: 8.5646e-04WARNING:tensorflow:Early stopping conditioned on metric `val_loss` which is not available. Available metrics are: loss,mse\n",
            "376/376 [==============================] - 1s 3ms/step - loss: 8.7317e-04 - mse: 8.7317e-04\n",
            "Epoch 88/100\n",
            "375/376 [============================>.] - ETA: 0s - loss: 8.9008e-04 - mse: 8.9008e-04WARNING:tensorflow:Early stopping conditioned on metric `val_loss` which is not available. Available metrics are: loss,mse\n",
            "376/376 [==============================] - 1s 3ms/step - loss: 8.8903e-04 - mse: 8.8903e-04\n",
            "Epoch 89/100\n",
            "364/376 [============================>.] - ETA: 0s - loss: 8.4508e-04 - mse: 8.4508e-04WARNING:tensorflow:Early stopping conditioned on metric `val_loss` which is not available. Available metrics are: loss,mse\n",
            "376/376 [==============================] - 1s 3ms/step - loss: 8.5019e-04 - mse: 8.5019e-04\n",
            "Epoch 90/100\n",
            "374/376 [============================>.] - ETA: 0s - loss: 9.3264e-04 - mse: 9.3264e-04WARNING:tensorflow:Early stopping conditioned on metric `val_loss` which is not available. Available metrics are: loss,mse\n",
            "376/376 [==============================] - 1s 3ms/step - loss: 9.3159e-04 - mse: 9.3159e-04\n",
            "Epoch 91/100\n",
            "364/376 [============================>.] - ETA: 0s - loss: 9.5005e-04 - mse: 9.5005e-04WARNING:tensorflow:Early stopping conditioned on metric `val_loss` which is not available. Available metrics are: loss,mse\n",
            "376/376 [==============================] - 1s 3ms/step - loss: 9.5091e-04 - mse: 9.5091e-04\n",
            "Epoch 92/100\n",
            "364/376 [============================>.] - ETA: 0s - loss: 8.9775e-04 - mse: 8.9775e-04WARNING:tensorflow:Early stopping conditioned on metric `val_loss` which is not available. Available metrics are: loss,mse\n",
            "376/376 [==============================] - 1s 3ms/step - loss: 9.0145e-04 - mse: 9.0145e-04\n",
            "Epoch 93/100\n",
            "371/376 [============================>.] - ETA: 0s - loss: 9.4434e-04 - mse: 9.4434e-04WARNING:tensorflow:Early stopping conditioned on metric `val_loss` which is not available. Available metrics are: loss,mse\n",
            "376/376 [==============================] - 1s 3ms/step - loss: 9.3606e-04 - mse: 9.3606e-04\n",
            "Epoch 94/100\n",
            "363/376 [===========================>..] - ETA: 0s - loss: 8.3905e-04 - mse: 8.3905e-04WARNING:tensorflow:Early stopping conditioned on metric `val_loss` which is not available. Available metrics are: loss,mse\n",
            "376/376 [==============================] - 1s 3ms/step - loss: 8.5253e-04 - mse: 8.5253e-04\n",
            "Epoch 95/100\n",
            "361/376 [===========================>..] - ETA: 0s - loss: 8.3980e-04 - mse: 8.3980e-04WARNING:tensorflow:Early stopping conditioned on metric `val_loss` which is not available. Available metrics are: loss,mse\n",
            "376/376 [==============================] - 1s 3ms/step - loss: 8.2698e-04 - mse: 8.2698e-04\n",
            "Epoch 96/100\n",
            "361/376 [===========================>..] - ETA: 0s - loss: 9.1512e-04 - mse: 9.1512e-04WARNING:tensorflow:Early stopping conditioned on metric `val_loss` which is not available. Available metrics are: loss,mse\n",
            "376/376 [==============================] - 1s 3ms/step - loss: 9.1216e-04 - mse: 9.1216e-04\n",
            "Epoch 97/100\n",
            "362/376 [===========================>..] - ETA: 0s - loss: 8.9138e-04 - mse: 8.9138e-04WARNING:tensorflow:Early stopping conditioned on metric `val_loss` which is not available. Available metrics are: loss,mse\n",
            "376/376 [==============================] - 1s 3ms/step - loss: 8.8221e-04 - mse: 8.8221e-04\n",
            "Epoch 98/100\n",
            "362/376 [===========================>..] - ETA: 0s - loss: 9.0124e-04 - mse: 9.0124e-04WARNING:tensorflow:Early stopping conditioned on metric `val_loss` which is not available. Available metrics are: loss,mse\n",
            "376/376 [==============================] - 1s 3ms/step - loss: 8.9271e-04 - mse: 8.9271e-04\n",
            "Epoch 99/100\n",
            "362/376 [===========================>..] - ETA: 0s - loss: 9.1956e-04 - mse: 9.1956e-04WARNING:tensorflow:Early stopping conditioned on metric `val_loss` which is not available. Available metrics are: loss,mse\n",
            "376/376 [==============================] - 1s 3ms/step - loss: 9.2073e-04 - mse: 9.2073e-04\n",
            "Epoch 100/100\n",
            "365/376 [============================>.] - ETA: 0s - loss: 8.6981e-04 - mse: 8.6981e-04WARNING:tensorflow:Early stopping conditioned on metric `val_loss` which is not available. Available metrics are: loss,mse\n",
            "376/376 [==============================] - 1s 3ms/step - loss: 8.6231e-04 - mse: 8.6231e-04\n"
          ],
          "name": "stdout"
        }
      ]
    },
    {
      "cell_type": "code",
      "metadata": {
        "id": "pj32b2FZD-zJ",
        "colab_type": "code",
        "colab": {}
      },
      "source": [
        "# 예측\n",
        "pred = model.predict(test_feature)"
      ],
      "execution_count": 51,
      "outputs": []
    },
    {
      "cell_type": "code",
      "metadata": {
        "id": "A6r7471FEgHm",
        "colab_type": "code",
        "colab": {
          "base_uri": "https://localhost:8080/",
          "height": 302
        },
        "outputId": "3f8cf445-bac8-472e-d432-833052c85e12"
      },
      "source": [
        "pd.DataFrame(history.history).plot()"
      ],
      "execution_count": 52,
      "outputs": [
        {
          "output_type": "execute_result",
          "data": {
            "text/plain": [
              "<matplotlib.axes._subplots.AxesSubplot at 0x7f3d1785e940>"
            ]
          },
          "metadata": {
            "tags": []
          },
          "execution_count": 52
        },
        {
          "output_type": "stream",
          "text": [
            "findfont: Font family ['NanumbarunGothic'] not found. Falling back to DejaVu Sans.\n"
          ],
          "name": "stderr"
        },
        {
          "output_type": "display_data",
          "data": {
            "image/png": "[encoded data removed]",
            "text/plain": [
              "<Figure size 432x288 with 1 Axes>"
            ]
          },
          "metadata": {
            "tags": [],
            "needs_background": "light"
          }
        }
      ]
    },
    {
      "cell_type": "code",
      "metadata": {
        "id": "q3SUjOJTEiJf",
        "colab_type": "code",
        "colab": {
          "base_uri": "https://localhost:8080/",
          "height": 492
        },
        "outputId": "d4f9dca9-db0a-48e1-8c4d-b106e7c8b21d"
      },
      "source": [
        "plt.figure(figsize=(12, 9))\n",
        "plt.plot(test_label, label='actual')\n",
        "plt.plot(pred, label='prediction')\n",
        "plt.legend()\n",
        "plt.show()"
      ],
      "execution_count": 53,
      "outputs": [
        {
          "output_type": "display_data",
          "data": {
            "image/png": "[encoded data removed]",
            "text/plain": [
              "<Figure size 864x648 with 1 Axes>"
            ]
          },
          "metadata": {
            "tags": [],
            "needs_background": "light"
          }
        }
      ]
    },
    {
      "cell_type": "code",
      "metadata": {
        "id": "JjhEAGbBEj05",
        "colab_type": "code",
        "colab": {
          "base_uri": "https://localhost:8080/",
          "height": 360
        },
        "outputId": "dbc89465-e132-44d6-b295-6dee513222ab"
      },
      "source": [
        "plt.figure(figsize=(12, 6))\n",
        "plt.plot(test_label, label='actual')\n",
        "plt.plot(pred, label='prediction')\n",
        "plt.plot(np.sqrt((pred - test_label)**2), label='Difference')\n",
        "plt.legend(frameon=False, fontsize = 18)\n",
        "plt.grid(ls='--')\n",
        "plt.show()"
      ],
      "execution_count": 54,
      "outputs": [
        {
          "output_type": "stream",
          "text": [
            "findfont: Font family ['NanumbarunGothic'] not found. Falling back to DejaVu Sans.\n"
          ],
          "name": "stderr"
        },
        {
          "output_type": "display_data",
          "data": {
            "image/png": "[encoded data removed]",
            "text/plain": [
              "<Figure size 864x432 with 1 Axes>"
            ]
          },
          "metadata": {
            "tags": [],
            "needs_background": "light"
          }
        }
      ]
    },
    {
      "cell_type": "code",
      "metadata": {
        "id": "eFhFCcjHEmHL",
        "colab_type": "code",
        "colab": {
          "base_uri": "https://localhost:8080/",
          "height": 34
        },
        "outputId": "ad2b18fe-6f45-4e86-ccb3-98226d613f3a"
      },
      "source": [
        "mse=mean_squared_error(test_label, pred)\n",
        "rmse=np.sqrt(mse)\n",
        "rmse"
      ],
      "execution_count": 55,
      "outputs": [
        {
          "output_type": "execute_result",
          "data": {
            "text/plain": [
              "0.07054908734454027"
            ]
          },
          "metadata": {
            "tags": []
          },
          "execution_count": 55
        }
      ]
    },
    {
      "cell_type": "code",
      "metadata": {
        "id": "H3o8CC-NEonh",
        "colab_type": "code",
        "colab": {}
      },
      "source": [
        "def Naivemodel(data, predict_range):\n",
        "    \"\"\"\n",
        "    마지막 값을 그대로 예측\n",
        "    \"\"\"\n",
        "    pred = np.empty([len(data), predict_range])\n",
        "    for i, j in enumerate(data):\n",
        "        pred[i,:] = np.full(predict_range, j[-1, 3])\n",
        "    return pred"
      ],
      "execution_count": 56,
      "outputs": []
    },
    {
      "cell_type": "code",
      "metadata": {
        "id": "JQlwBC7AEqwo",
        "colab_type": "code",
        "colab": {
          "base_uri": "https://localhost:8080/",
          "height": 34
        },
        "outputId": "d4b8e836-1ed8-49e8-cb15-8192579b54d8"
      },
      "source": [
        "naive_data = Naivemodel(test_feature, 1)\n",
        "\n",
        "np.mean(keras.losses.mean_squared_error(test_label, pred))\n",
        "\n"
      ],
      "execution_count": 58,
      "outputs": [
        {
          "output_type": "execute_result",
          "data": {
            "text/plain": [
              "0.004977174"
            ]
          },
          "metadata": {
            "tags": []
          },
          "execution_count": 58
        }
      ]
    },
    {
      "cell_type": "code",
      "metadata": {
        "id": "AMTLuzOqEtjF",
        "colab_type": "code",
        "colab": {
          "base_uri": "https://localhost:8080/",
          "height": 34
        },
        "outputId": "c91473b0-fcf5-4c82-d356-c57d6694c3b2"
      },
      "source": [
        "np.mean(keras.losses.mean_squared_error(test_label, naive_data))"
      ],
      "execution_count": 59,
      "outputs": [
        {
          "output_type": "execute_result",
          "data": {
            "text/plain": [
              "0.0027683201826654105"
            ]
          },
          "metadata": {
            "tags": []
          },
          "execution_count": 59
        }
      ]
    },
    {
      "cell_type": "code",
      "metadata": {
        "id": "9vWj2XTjEx_F",
        "colab_type": "code",
        "colab": {
          "base_uri": "https://localhost:8080/",
          "height": 34
        },
        "outputId": "9ad32e1c-1a1f-448c-f1a5-787a6878738f"
      },
      "source": [
        "#정확도\n",
        "test_sign = np.sign(test_label.flatten() - test_feature[:, -1, 3])\n",
        "pred_sign = np.sign(pred.flatten() - test_feature[:, -1, 3])\n",
        "sum(test_sign == pred_sign)/len(pred_sign)"
      ],
      "execution_count": 60,
      "outputs": [
        {
          "output_type": "execute_result",
          "data": {
            "text/plain": [
              "0.5375"
            ]
          },
          "metadata": {
            "tags": []
          },
          "execution_count": 60
        }
      ]
    },
    {
      "cell_type": "code",
      "metadata": {
        "id": "wlFsRi58E0QS",
        "colab_type": "code",
        "colab": {
          "base_uri": "https://localhost:8080/",
          "height": 342
        },
        "outputId": "58325c5f-f805-41e2-88d2-3d580b448587"
      },
      "source": [
        "%matplotlib inline\n",
        "import matplotlib.pyplot as plt\n",
        "\n",
        "plt.scatter(test_label, pred)\n",
        "plt.xlabel(\"Price Index: $Y_i$\")\n",
        "plt.ylabel(\"Predicted price Index: $\\hat{Y}_i$\")\n",
        "plt.title(\"Prices vs Predicted price Index: $Y_i$ vs $\\hat{Y}_i$\")\n",
        "\n",
        "#예측값과 원래값이 일치하면 직선에 가깝게 분포됨"
      ],
      "execution_count": 61,
      "outputs": [
        {
          "output_type": "execute_result",
          "data": {
            "text/plain": [
              "Text(0.5, 1.0, 'Prices vs Predicted price Index: $Y_i$ vs $\\\\hat{Y}_i$')"
            ]
          },
          "metadata": {
            "tags": []
          },
          "execution_count": 61
        },
        {
          "output_type": "stream",
          "text": [
            "findfont: Font family ['NanumbarunGothic'] not found. Falling back to DejaVu Sans.\n"
          ],
          "name": "stderr"
        },
        {
          "output_type": "display_data",
          "data": {
            "image/png": "[encoded data removed]",
            "text/plain": [
              "<Figure size 432x288 with 1 Axes>"
            ]
          },
          "metadata": {
            "tags": [],
            "needs_background": "light"
          }
        }
      ]
    },
    {
      "cell_type": "markdown",
      "metadata": {
        "id": "cCEa-s5uFKri",
        "colab_type": "text"
      },
      "source": [
        "다른방법2\n"
      ]
    },
    {
      "cell_type": "code",
      "metadata": {
        "id": "yU1Jz0KUKGHl",
        "colab_type": "code",
        "colab": {}
      },
      "source": [
        "import keras\n",
        "from keras.models import Sequential\n",
        "from keras.layers import Dense\n",
        "from keras.utils import np_utils"
      ],
      "execution_count": 73,
      "outputs": []
    },
    {
      "cell_type": "code",
      "metadata": {
        "id": "Gzqn79UBKQ-M",
        "colab_type": "code",
        "colab": {}
      },
      "source": [
        "np.random.seed(5)"
      ],
      "execution_count": 74,
      "outputs": []
    },
    {
      "cell_type": "code",
      "metadata": {
        "id": "TGTCR9pCI9xu",
        "colab_type": "code",
        "colab": {
          "base_uri": "https://localhost:8080/",
          "height": 252
        },
        "outputId": "03d82c90-64cc-4875-e3c8-353afb8879b9"
      },
      "source": [
        "model2 = Sequential()\n",
        "model2.add(LSTM(10,input_shape=(train_feature.shape[1], train_feature.shape[2]),activation='relu',return_sequences=False))\n",
        "model2.add(Dense(5))\n",
        "model2.add(Dense(1))\n",
        "\n",
        "model2.summary()"
      ],
      "execution_count": 83,
      "outputs": [
        {
          "output_type": "stream",
          "text": [
            "Model: \"sequential_4\"\n",
            "_________________________________________________________________\n",
            "Layer (type)                 Output Shape              Param #   \n",
            "=================================================================\n",
            "lstm_3 (LSTM)                (None, 10)                1040      \n",
            "_________________________________________________________________\n",
            "dense_6 (Dense)              (None, 5)                 55        \n",
            "_________________________________________________________________\n",
            "dense_7 (Dense)              (None, 1)                 6         \n",
            "=================================================================\n",
            "Total params: 1,101\n",
            "Trainable params: 1,101\n",
            "Non-trainable params: 0\n",
            "_________________________________________________________________\n"
          ],
          "name": "stdout"
        }
      ]
    },
    {
      "cell_type": "code",
      "metadata": {
        "id": "JegEABJ-K8o8",
        "colab_type": "code",
        "colab": {
          "base_uri": "https://localhost:8080/",
          "height": 1000
        },
        "outputId": "a390030d-7fdd-4524-c8c7-3173b4aeb9c9"
      },
      "source": [
        "model2.compile(loss='mse',optimizer='adam',metrics=['mse'])\n",
        "\n",
        "from keras.callbacks import EarlyStopping\n",
        "early_stopping=EarlyStopping(patience=20)\n",
        "history2=model2.fit(x_train,y_train,epochs=100,batch_size=1,validation_split=0,callbacks=[early_stopping])"
      ],
      "execution_count": 85,
      "outputs": [
        {
          "output_type": "stream",
          "text": [
            "Epoch 1/100\n",
            "366/376 [============================>.] - ETA: 0s - loss: 0.0172 - mse: 0.0172WARNING:tensorflow:Early stopping conditioned on metric `val_loss` which is not available. Available metrics are: loss,mse\n",
            "376/376 [==============================] - 1s 3ms/step - loss: 0.0168 - mse: 0.0168\n",
            "Epoch 2/100\n",
            "365/376 [============================>.] - ETA: 0s - loss: 0.0048 - mse: 0.0048WARNING:tensorflow:Early stopping conditioned on metric `val_loss` which is not available. Available metrics are: loss,mse\n",
            "376/376 [==============================] - 1s 3ms/step - loss: 0.0047 - mse: 0.0047\n",
            "Epoch 3/100\n",
            "376/376 [==============================] - ETA: 0s - loss: 0.0035 - mse: 0.0035WARNING:tensorflow:Early stopping conditioned on metric `val_loss` which is not available. Available metrics are: loss,mse\n",
            "376/376 [==============================] - 1s 3ms/step - loss: 0.0035 - mse: 0.0035\n",
            "Epoch 4/100\n",
            "373/376 [============================>.] - ETA: 0s - loss: 0.0032 - mse: 0.0032WARNING:tensorflow:Early stopping conditioned on metric `val_loss` which is not available. Available metrics are: loss,mse\n",
            "376/376 [==============================] - 1s 3ms/step - loss: 0.0032 - mse: 0.0032\n",
            "Epoch 5/100\n",
            "362/376 [===========================>..] - ETA: 0s - loss: 0.0026 - mse: 0.0026WARNING:tensorflow:Early stopping conditioned on metric `val_loss` which is not available. Available metrics are: loss,mse\n",
            "376/376 [==============================] - 1s 3ms/step - loss: 0.0026 - mse: 0.0026\n",
            "Epoch 6/100\n",
            "374/376 [============================>.] - ETA: 0s - loss: 0.0023 - mse: 0.0023WARNING:tensorflow:Early stopping conditioned on metric `val_loss` which is not available. Available metrics are: loss,mse\n",
            "376/376 [==============================] - 1s 3ms/step - loss: 0.0023 - mse: 0.0023\n",
            "Epoch 7/100\n",
            "363/376 [===========================>..] - ETA: 0s - loss: 0.0022 - mse: 0.0022WARNING:tensorflow:Early stopping conditioned on metric `val_loss` which is not available. Available metrics are: loss,mse\n",
            "376/376 [==============================] - 1s 3ms/step - loss: 0.0021 - mse: 0.0021\n",
            "Epoch 8/100\n",
            "362/376 [===========================>..] - ETA: 0s - loss: 0.0021 - mse: 0.0021WARNING:tensorflow:Early stopping conditioned on metric `val_loss` which is not available. Available metrics are: loss,mse\n",
            "376/376 [==============================] - 1s 3ms/step - loss: 0.0021 - mse: 0.0021\n",
            "Epoch 9/100\n",
            "361/376 [===========================>..] - ETA: 0s - loss: 0.0019 - mse: 0.0019WARNING:tensorflow:Early stopping conditioned on metric `val_loss` which is not available. Available metrics are: loss,mse\n",
            "376/376 [==============================] - 1s 3ms/step - loss: 0.0018 - mse: 0.0018\n",
            "Epoch 10/100\n",
            "371/376 [============================>.] - ETA: 0s - loss: 0.0017 - mse: 0.0017WARNING:tensorflow:Early stopping conditioned on metric `val_loss` which is not available. Available metrics are: loss,mse\n",
            "376/376 [==============================] - 1s 3ms/step - loss: 0.0017 - mse: 0.0017\n",
            "Epoch 11/100\n",
            "368/376 [============================>.] - ETA: 0s - loss: 0.0018 - mse: 0.0018WARNING:tensorflow:Early stopping conditioned on metric `val_loss` which is not available. Available metrics are: loss,mse\n",
            "376/376 [==============================] - 1s 3ms/step - loss: 0.0018 - mse: 0.0018\n",
            "Epoch 12/100\n",
            "368/376 [============================>.] - ETA: 0s - loss: 0.0018 - mse: 0.0018WARNING:tensorflow:Early stopping conditioned on metric `val_loss` which is not available. Available metrics are: loss,mse\n",
            "376/376 [==============================] - 1s 3ms/step - loss: 0.0017 - mse: 0.0017\n",
            "Epoch 13/100\n",
            "371/376 [============================>.] - ETA: 0s - loss: 0.0017 - mse: 0.0017WARNING:tensorflow:Early stopping conditioned on metric `val_loss` which is not available. Available metrics are: loss,mse\n",
            "376/376 [==============================] - 1s 3ms/step - loss: 0.0017 - mse: 0.0017\n",
            "Epoch 14/100\n",
            "369/376 [============================>.] - ETA: 0s - loss: 0.0016 - mse: 0.0016WARNING:tensorflow:Early stopping conditioned on metric `val_loss` which is not available. Available metrics are: loss,mse\n",
            "376/376 [==============================] - 1s 3ms/step - loss: 0.0016 - mse: 0.0016\n",
            "Epoch 15/100\n",
            "373/376 [============================>.] - ETA: 0s - loss: 0.0015 - mse: 0.0015WARNING:tensorflow:Early stopping conditioned on metric `val_loss` which is not available. Available metrics are: loss,mse\n",
            "376/376 [==============================] - 1s 3ms/step - loss: 0.0015 - mse: 0.0015\n",
            "Epoch 16/100\n",
            "366/376 [============================>.] - ETA: 0s - loss: 0.0015 - mse: 0.0015WARNING:tensorflow:Early stopping conditioned on metric `val_loss` which is not available. Available metrics are: loss,mse\n",
            "376/376 [==============================] - 1s 3ms/step - loss: 0.0014 - mse: 0.0014\n",
            "Epoch 17/100\n",
            "370/376 [============================>.] - ETA: 0s - loss: 0.0014 - mse: 0.0014WARNING:tensorflow:Early stopping conditioned on metric `val_loss` which is not available. Available metrics are: loss,mse\n",
            "376/376 [==============================] - 1s 3ms/step - loss: 0.0014 - mse: 0.0014\n",
            "Epoch 18/100\n",
            "373/376 [============================>.] - ETA: 0s - loss: 0.0015 - mse: 0.0015WARNING:tensorflow:Early stopping conditioned on metric `val_loss` which is not available. Available metrics are: loss,mse\n",
            "376/376 [==============================] - 1s 3ms/step - loss: 0.0015 - mse: 0.0015\n",
            "Epoch 19/100\n",
            "373/376 [============================>.] - ETA: 0s - loss: 0.0013 - mse: 0.0013WARNING:tensorflow:Early stopping conditioned on metric `val_loss` which is not available. Available metrics are: loss,mse\n",
            "376/376 [==============================] - 1s 3ms/step - loss: 0.0014 - mse: 0.0014\n",
            "Epoch 20/100\n",
            "363/376 [===========================>..] - ETA: 0s - loss: 0.0015 - mse: 0.0015WARNING:tensorflow:Early stopping conditioned on metric `val_loss` which is not available. Available metrics are: loss,mse\n",
            "376/376 [==============================] - 1s 3ms/step - loss: 0.0016 - mse: 0.0016\n",
            "Epoch 21/100\n",
            "366/376 [============================>.] - ETA: 0s - loss: 0.0014 - mse: 0.0014WARNING:tensorflow:Early stopping conditioned on metric `val_loss` which is not available. Available metrics are: loss,mse\n",
            "376/376 [==============================] - 1s 3ms/step - loss: 0.0014 - mse: 0.0014\n",
            "Epoch 22/100\n",
            "368/376 [============================>.] - ETA: 0s - loss: 0.0014 - mse: 0.0014WARNING:tensorflow:Early stopping conditioned on metric `val_loss` which is not available. Available metrics are: loss,mse\n",
            "376/376 [==============================] - 1s 3ms/step - loss: 0.0014 - mse: 0.0014\n",
            "Epoch 23/100\n",
            "363/376 [===========================>..] - ETA: 0s - loss: 0.0015 - mse: 0.0015WARNING:tensorflow:Early stopping conditioned on metric `val_loss` which is not available. Available metrics are: loss,mse\n",
            "376/376 [==============================] - 1s 3ms/step - loss: 0.0014 - mse: 0.0014\n",
            "Epoch 24/100\n",
            "366/376 [============================>.] - ETA: 0s - loss: 0.0014 - mse: 0.0014WARNING:tensorflow:Early stopping conditioned on metric `val_loss` which is not available. Available metrics are: loss,mse\n",
            "376/376 [==============================] - 1s 3ms/step - loss: 0.0013 - mse: 0.0013\n",
            "Epoch 25/100\n",
            "373/376 [============================>.] - ETA: 0s - loss: 0.0013 - mse: 0.0013WARNING:tensorflow:Early stopping conditioned on metric `val_loss` which is not available. Available metrics are: loss,mse\n",
            "376/376 [==============================] - 1s 3ms/step - loss: 0.0013 - mse: 0.0013\n",
            "Epoch 26/100\n",
            "376/376 [==============================] - ETA: 0s - loss: 0.0013 - mse: 0.0013WARNING:tensorflow:Early stopping conditioned on metric `val_loss` which is not available. Available metrics are: loss,mse\n",
            "376/376 [==============================] - 1s 3ms/step - loss: 0.0013 - mse: 0.0013\n",
            "Epoch 27/100\n",
            "376/376 [==============================] - ETA: 0s - loss: 0.0014 - mse: 0.0014WARNING:tensorflow:Early stopping conditioned on metric `val_loss` which is not available. Available metrics are: loss,mse\n",
            "376/376 [==============================] - 1s 3ms/step - loss: 0.0014 - mse: 0.0014\n",
            "Epoch 28/100\n",
            "368/376 [============================>.] - ETA: 0s - loss: 0.0013 - mse: 0.0013WARNING:tensorflow:Early stopping conditioned on metric `val_loss` which is not available. Available metrics are: loss,mse\n",
            "376/376 [==============================] - 1s 4ms/step - loss: 0.0013 - mse: 0.0013\n",
            "Epoch 29/100\n",
            "371/376 [============================>.] - ETA: 0s - loss: 0.0013 - mse: 0.0013WARNING:tensorflow:Early stopping conditioned on metric `val_loss` which is not available. Available metrics are: loss,mse\n",
            "376/376 [==============================] - 1s 3ms/step - loss: 0.0013 - mse: 0.0013\n",
            "Epoch 30/100\n",
            "362/376 [===========================>..] - ETA: 0s - loss: 0.0014 - mse: 0.0014WARNING:tensorflow:Early stopping conditioned on metric `val_loss` which is not available. Available metrics are: loss,mse\n",
            "376/376 [==============================] - 1s 3ms/step - loss: 0.0013 - mse: 0.0013\n",
            "Epoch 31/100\n",
            "370/376 [============================>.] - ETA: 0s - loss: 0.0013 - mse: 0.0013WARNING:tensorflow:Early stopping conditioned on metric `val_loss` which is not available. Available metrics are: loss,mse\n",
            "376/376 [==============================] - 1s 3ms/step - loss: 0.0012 - mse: 0.0012\n",
            "Epoch 32/100\n",
            "369/376 [============================>.] - ETA: 0s - loss: 0.0013 - mse: 0.0013WARNING:tensorflow:Early stopping conditioned on metric `val_loss` which is not available. Available metrics are: loss,mse\n",
            "376/376 [==============================] - 1s 3ms/step - loss: 0.0013 - mse: 0.0013\n",
            "Epoch 33/100\n",
            "374/376 [============================>.] - ETA: 0s - loss: 0.0012 - mse: 0.0012WARNING:tensorflow:Early stopping conditioned on metric `val_loss` which is not available. Available metrics are: loss,mse\n",
            "376/376 [==============================] - 1s 3ms/step - loss: 0.0012 - mse: 0.0012\n",
            "Epoch 34/100\n",
            "371/376 [============================>.] - ETA: 0s - loss: 0.0013 - mse: 0.0013WARNING:tensorflow:Early stopping conditioned on metric `val_loss` which is not available. Available metrics are: loss,mse\n",
            "376/376 [==============================] - 1s 3ms/step - loss: 0.0013 - mse: 0.0013\n",
            "Epoch 35/100\n",
            "368/376 [============================>.] - ETA: 0s - loss: 0.0013 - mse: 0.0013WARNING:tensorflow:Early stopping conditioned on metric `val_loss` which is not available. Available metrics are: loss,mse\n",
            "376/376 [==============================] - 1s 3ms/step - loss: 0.0013 - mse: 0.0013\n",
            "Epoch 36/100\n",
            "362/376 [===========================>..] - ETA: 0s - loss: 0.0012 - mse: 0.0012WARNING:tensorflow:Early stopping conditioned on metric `val_loss` which is not available. Available metrics are: loss,mse\n",
            "376/376 [==============================] - 1s 3ms/step - loss: 0.0012 - mse: 0.0012\n",
            "Epoch 37/100\n",
            "370/376 [============================>.] - ETA: 0s - loss: 0.0012 - mse: 0.0012WARNING:tensorflow:Early stopping conditioned on metric `val_loss` which is not available. Available metrics are: loss,mse\n",
            "376/376 [==============================] - 1s 3ms/step - loss: 0.0012 - mse: 0.0012\n",
            "Epoch 38/100\n",
            "374/376 [============================>.] - ETA: 0s - loss: 0.0012 - mse: 0.0012WARNING:tensorflow:Early stopping conditioned on metric `val_loss` which is not available. Available metrics are: loss,mse\n",
            "376/376 [==============================] - 1s 3ms/step - loss: 0.0012 - mse: 0.0012\n",
            "Epoch 39/100\n",
            "371/376 [============================>.] - ETA: 0s - loss: 0.0012 - mse: 0.0012WARNING:tensorflow:Early stopping conditioned on metric `val_loss` which is not available. Available metrics are: loss,mse\n",
            "376/376 [==============================] - 1s 3ms/step - loss: 0.0012 - mse: 0.0012\n",
            "Epoch 40/100\n",
            "364/376 [============================>.] - ETA: 0s - loss: 0.0012 - mse: 0.0012WARNING:tensorflow:Early stopping conditioned on metric `val_loss` which is not available. Available metrics are: loss,mse\n",
            "376/376 [==============================] - 1s 3ms/step - loss: 0.0012 - mse: 0.0012\n",
            "Epoch 41/100\n",
            "366/376 [============================>.] - ETA: 0s - loss: 0.0012 - mse: 0.0012WARNING:tensorflow:Early stopping conditioned on metric `val_loss` which is not available. Available metrics are: loss,mse\n",
            "376/376 [==============================] - 1s 3ms/step - loss: 0.0012 - mse: 0.0012\n",
            "Epoch 42/100\n",
            "367/376 [============================>.] - ETA: 0s - loss: 0.0012 - mse: 0.0012WARNING:tensorflow:Early stopping conditioned on metric `val_loss` which is not available. Available metrics are: loss,mse\n",
            "376/376 [==============================] - 1s 3ms/step - loss: 0.0012 - mse: 0.0012\n",
            "Epoch 43/100\n",
            "365/376 [============================>.] - ETA: 0s - loss: 0.0012 - mse: 0.0012WARNING:tensorflow:Early stopping conditioned on metric `val_loss` which is not available. Available metrics are: loss,mse\n",
            "376/376 [==============================] - 1s 3ms/step - loss: 0.0012 - mse: 0.0012\n",
            "Epoch 44/100\n",
            "364/376 [============================>.] - ETA: 0s - loss: 0.0012 - mse: 0.0012WARNING:tensorflow:Early stopping conditioned on metric `val_loss` which is not available. Available metrics are: loss,mse\n",
            "376/376 [==============================] - 1s 3ms/step - loss: 0.0012 - mse: 0.0012\n",
            "Epoch 45/100\n",
            "361/376 [===========================>..] - ETA: 0s - loss: 0.0011 - mse: 0.0011WARNING:tensorflow:Early stopping conditioned on metric `val_loss` which is not available. Available metrics are: loss,mse\n",
            "376/376 [==============================] - 1s 3ms/step - loss: 0.0011 - mse: 0.0011\n",
            "Epoch 46/100\n",
            "372/376 [============================>.] - ETA: 0s - loss: 0.0012 - mse: 0.0012WARNING:tensorflow:Early stopping conditioned on metric `val_loss` which is not available. Available metrics are: loss,mse\n",
            "376/376 [==============================] - 1s 3ms/step - loss: 0.0011 - mse: 0.0011\n",
            "Epoch 47/100\n",
            "363/376 [===========================>..] - ETA: 0s - loss: 0.0012 - mse: 0.0012WARNING:tensorflow:Early stopping conditioned on metric `val_loss` which is not available. Available metrics are: loss,mse\n",
            "376/376 [==============================] - 1s 3ms/step - loss: 0.0013 - mse: 0.0013\n",
            "Epoch 48/100\n",
            "367/376 [============================>.] - ETA: 0s - loss: 0.0012 - mse: 0.0012WARNING:tensorflow:Early stopping conditioned on metric `val_loss` which is not available. Available metrics are: loss,mse\n",
            "376/376 [==============================] - 1s 3ms/step - loss: 0.0012 - mse: 0.0012\n",
            "Epoch 49/100\n",
            "369/376 [============================>.] - ETA: 0s - loss: 0.0011 - mse: 0.0011WARNING:tensorflow:Early stopping conditioned on metric `val_loss` which is not available. Available metrics are: loss,mse\n",
            "376/376 [==============================] - 1s 4ms/step - loss: 0.0011 - mse: 0.0011\n",
            "Epoch 50/100\n",
            "366/376 [============================>.] - ETA: 0s - loss: 0.0013 - mse: 0.0013WARNING:tensorflow:Early stopping conditioned on metric `val_loss` which is not available. Available metrics are: loss,mse\n",
            "376/376 [==============================] - 1s 3ms/step - loss: 0.0013 - mse: 0.0013\n",
            "Epoch 51/100\n",
            "365/376 [============================>.] - ETA: 0s - loss: 0.0011 - mse: 0.0011WARNING:tensorflow:Early stopping conditioned on metric `val_loss` which is not available. Available metrics are: loss,mse\n",
            "376/376 [==============================] - 1s 3ms/step - loss: 0.0011 - mse: 0.0011\n",
            "Epoch 52/100\n",
            "363/376 [===========================>..] - ETA: 0s - loss: 0.0012 - mse: 0.0012WARNING:tensorflow:Early stopping conditioned on metric `val_loss` which is not available. Available metrics are: loss,mse\n",
            "376/376 [==============================] - 1s 3ms/step - loss: 0.0011 - mse: 0.0011\n",
            "Epoch 53/100\n",
            "369/376 [============================>.] - ETA: 0s - loss: 0.0011 - mse: 0.0011WARNING:tensorflow:Early stopping conditioned on metric `val_loss` which is not available. Available metrics are: loss,mse\n",
            "376/376 [==============================] - 1s 3ms/step - loss: 0.0011 - mse: 0.0011\n",
            "Epoch 54/100\n",
            "367/376 [============================>.] - ETA: 0s - loss: 0.0012 - mse: 0.0012WARNING:tensorflow:Early stopping conditioned on metric `val_loss` which is not available. Available metrics are: loss,mse\n",
            "376/376 [==============================] - 1s 3ms/step - loss: 0.0012 - mse: 0.0012\n",
            "Epoch 55/100\n",
            "368/376 [============================>.] - ETA: 0s - loss: 0.0012 - mse: 0.0012WARNING:tensorflow:Early stopping conditioned on metric `val_loss` which is not available. Available metrics are: loss,mse\n",
            "376/376 [==============================] - 1s 3ms/step - loss: 0.0012 - mse: 0.0012\n",
            "Epoch 56/100\n",
            "372/376 [============================>.] - ETA: 0s - loss: 0.0011 - mse: 0.0011WARNING:tensorflow:Early stopping conditioned on metric `val_loss` which is not available. Available metrics are: loss,mse\n",
            "376/376 [==============================] - 1s 3ms/step - loss: 0.0011 - mse: 0.0011\n",
            "Epoch 57/100\n",
            "373/376 [============================>.] - ETA: 0s - loss: 0.0011 - mse: 0.0011WARNING:tensorflow:Early stopping conditioned on metric `val_loss` which is not available. Available metrics are: loss,mse\n",
            "376/376 [==============================] - 1s 3ms/step - loss: 0.0011 - mse: 0.0011\n",
            "Epoch 58/100\n",
            "365/376 [============================>.] - ETA: 0s - loss: 0.0012 - mse: 0.0012WARNING:tensorflow:Early stopping conditioned on metric `val_loss` which is not available. Available metrics are: loss,mse\n",
            "376/376 [==============================] - 1s 3ms/step - loss: 0.0012 - mse: 0.0012\n",
            "Epoch 59/100\n",
            "372/376 [============================>.] - ETA: 0s - loss: 0.0011 - mse: 0.0011WARNING:tensorflow:Early stopping conditioned on metric `val_loss` which is not available. Available metrics are: loss,mse\n",
            "376/376 [==============================] - 1s 3ms/step - loss: 0.0011 - mse: 0.0011\n",
            "Epoch 60/100\n",
            "370/376 [============================>.] - ETA: 0s - loss: 0.0011 - mse: 0.0011WARNING:tensorflow:Early stopping conditioned on metric `val_loss` which is not available. Available metrics are: loss,mse\n",
            "376/376 [==============================] - 1s 3ms/step - loss: 0.0011 - mse: 0.0011\n",
            "Epoch 61/100\n",
            "370/376 [============================>.] - ETA: 0s - loss: 0.0011 - mse: 0.0011WARNING:tensorflow:Early stopping conditioned on metric `val_loss` which is not available. Available metrics are: loss,mse\n",
            "376/376 [==============================] - 1s 3ms/step - loss: 0.0011 - mse: 0.0011\n",
            "Epoch 62/100\n",
            "362/376 [===========================>..] - ETA: 0s - loss: 0.0011 - mse: 0.0011WARNING:tensorflow:Early stopping conditioned on metric `val_loss` which is not available. Available metrics are: loss,mse\n",
            "376/376 [==============================] - 1s 3ms/step - loss: 0.0011 - mse: 0.0011\n",
            "Epoch 63/100\n",
            "366/376 [============================>.] - ETA: 0s - loss: 0.0011 - mse: 0.0011WARNING:tensorflow:Early stopping conditioned on metric `val_loss` which is not available. Available metrics are: loss,mse\n",
            "376/376 [==============================] - 1s 3ms/step - loss: 0.0011 - mse: 0.0011\n",
            "Epoch 64/100\n",
            "375/376 [============================>.] - ETA: 0s - loss: 0.0010 - mse: 0.0010WARNING:tensorflow:Early stopping conditioned on metric `val_loss` which is not available. Available metrics are: loss,mse\n",
            "376/376 [==============================] - 1s 3ms/step - loss: 0.0010 - mse: 0.0010\n",
            "Epoch 65/100\n",
            "363/376 [===========================>..] - ETA: 0s - loss: 0.0010 - mse: 0.0010WARNING:tensorflow:Early stopping conditioned on metric `val_loss` which is not available. Available metrics are: loss,mse\n",
            "376/376 [==============================] - 1s 3ms/step - loss: 0.0010 - mse: 0.0010\n",
            "Epoch 66/100\n",
            "364/376 [============================>.] - ETA: 0s - loss: 0.0012 - mse: 0.0012WARNING:tensorflow:Early stopping conditioned on metric `val_loss` which is not available. Available metrics are: loss,mse\n",
            "376/376 [==============================] - 1s 3ms/step - loss: 0.0012 - mse: 0.0012\n",
            "Epoch 67/100\n",
            "369/376 [============================>.] - ETA: 0s - loss: 0.0010 - mse: 0.0010WARNING:tensorflow:Early stopping conditioned on metric `val_loss` which is not available. Available metrics are: loss,mse\n",
            "376/376 [==============================] - 1s 3ms/step - loss: 0.0011 - mse: 0.0011\n",
            "Epoch 68/100\n",
            "375/376 [============================>.] - ETA: 0s - loss: 0.0011 - mse: 0.0011WARNING:tensorflow:Early stopping conditioned on metric `val_loss` which is not available. Available metrics are: loss,mse\n",
            "376/376 [==============================] - 1s 3ms/step - loss: 0.0011 - mse: 0.0011\n",
            "Epoch 69/100\n",
            "373/376 [============================>.] - ETA: 0s - loss: 0.0010 - mse: 0.0010        WARNING:tensorflow:Early stopping conditioned on metric `val_loss` which is not available. Available metrics are: loss,mse\n",
            "376/376 [==============================] - 1s 3ms/step - loss: 0.0011 - mse: 0.0011\n",
            "Epoch 70/100\n",
            "365/376 [============================>.] - ETA: 0s - loss: 0.0012 - mse: 0.0012WARNING:tensorflow:Early stopping conditioned on metric `val_loss` which is not available. Available metrics are: loss,mse\n",
            "376/376 [==============================] - 1s 3ms/step - loss: 0.0012 - mse: 0.0012\n",
            "Epoch 71/100\n",
            "372/376 [============================>.] - ETA: 0s - loss: 0.0012 - mse: 0.0012WARNING:tensorflow:Early stopping conditioned on metric `val_loss` which is not available. Available metrics are: loss,mse\n",
            "376/376 [==============================] - 1s 3ms/step - loss: 0.0012 - mse: 0.0012\n",
            "Epoch 72/100\n",
            "366/376 [============================>.] - ETA: 0s - loss: 0.0011 - mse: 0.0011WARNING:tensorflow:Early stopping conditioned on metric `val_loss` which is not available. Available metrics are: loss,mse\n",
            "376/376 [==============================] - 1s 3ms/step - loss: 0.0011 - mse: 0.0011\n",
            "Epoch 73/100\n",
            "370/376 [============================>.] - ETA: 0s - loss: 0.0010 - mse: 0.0010WARNING:tensorflow:Early stopping conditioned on metric `val_loss` which is not available. Available metrics are: loss,mse\n",
            "376/376 [==============================] - 1s 3ms/step - loss: 0.0010 - mse: 0.0010\n",
            "Epoch 74/100\n",
            "368/376 [============================>.] - ETA: 0s - loss: 0.0010 - mse: 0.0010WARNING:tensorflow:Early stopping conditioned on metric `val_loss` which is not available. Available metrics are: loss,mse\n",
            "376/376 [==============================] - 1s 3ms/step - loss: 0.0010 - mse: 0.0010\n",
            "Epoch 75/100\n",
            "365/376 [============================>.] - ETA: 0s - loss: 0.0011 - mse: 0.0011WARNING:tensorflow:Early stopping conditioned on metric `val_loss` which is not available. Available metrics are: loss,mse\n",
            "376/376 [==============================] - 1s 3ms/step - loss: 0.0011 - mse: 0.0011\n",
            "Epoch 76/100\n",
            "376/376 [==============================] - ETA: 0s - loss: 0.0010 - mse: 0.0010WARNING:tensorflow:Early stopping conditioned on metric `val_loss` which is not available. Available metrics are: loss,mse\n",
            "376/376 [==============================] - 1s 3ms/step - loss: 0.0010 - mse: 0.0010\n",
            "Epoch 77/100\n",
            "369/376 [============================>.] - ETA: 0s - loss: 0.0011 - mse: 0.0011WARNING:tensorflow:Early stopping conditioned on metric `val_loss` which is not available. Available metrics are: loss,mse\n",
            "376/376 [==============================] - 1s 3ms/step - loss: 0.0011 - mse: 0.0011\n",
            "Epoch 78/100\n",
            "368/376 [============================>.] - ETA: 0s - loss: 0.0011 - mse: 0.0011WARNING:tensorflow:Early stopping conditioned on metric `val_loss` which is not available. Available metrics are: loss,mse\n",
            "376/376 [==============================] - 1s 3ms/step - loss: 0.0011 - mse: 0.0011\n",
            "Epoch 79/100\n",
            "366/376 [============================>.] - ETA: 0s - loss: 9.9859e-04 - mse: 9.9859e-04WARNING:tensorflow:Early stopping conditioned on metric `val_loss` which is not available. Available metrics are: loss,mse\n",
            "376/376 [==============================] - 1s 3ms/step - loss: 0.0010 - mse: 0.0010    \n",
            "Epoch 80/100\n",
            "373/376 [============================>.] - ETA: 0s - loss: 0.0011 - mse: 0.0011WARNING:tensorflow:Early stopping conditioned on metric `val_loss` which is not available. Available metrics are: loss,mse\n",
            "376/376 [==============================] - 1s 3ms/step - loss: 0.0011 - mse: 0.0011\n",
            "Epoch 81/100\n",
            "364/376 [============================>.] - ETA: 0s - loss: 0.0011 - mse: 0.0011WARNING:tensorflow:Early stopping conditioned on metric `val_loss` which is not available. Available metrics are: loss,mse\n",
            "376/376 [==============================] - 1s 3ms/step - loss: 0.0010 - mse: 0.0010\n",
            "Epoch 82/100\n",
            "369/376 [============================>.] - ETA: 0s - loss: 0.0011 - mse: 0.0011WARNING:tensorflow:Early stopping conditioned on metric `val_loss` which is not available. Available metrics are: loss,mse\n",
            "376/376 [==============================] - 1s 3ms/step - loss: 0.0011 - mse: 0.0011\n",
            "Epoch 83/100\n",
            "368/376 [============================>.] - ETA: 0s - loss: 0.0011 - mse: 0.0011WARNING:tensorflow:Early stopping conditioned on metric `val_loss` which is not available. Available metrics are: loss,mse\n",
            "376/376 [==============================] - 1s 3ms/step - loss: 0.0011 - mse: 0.0011\n",
            "Epoch 84/100\n",
            "371/376 [============================>.] - ETA: 0s - loss: 0.0011 - mse: 0.0011WARNING:tensorflow:Early stopping conditioned on metric `val_loss` which is not available. Available metrics are: loss,mse\n",
            "376/376 [==============================] - 1s 3ms/step - loss: 0.0011 - mse: 0.0011\n",
            "Epoch 85/100\n",
            "363/376 [===========================>..] - ETA: 0s - loss: 0.0011 - mse: 0.0011WARNING:tensorflow:Early stopping conditioned on metric `val_loss` which is not available. Available metrics are: loss,mse\n",
            "376/376 [==============================] - 1s 3ms/step - loss: 0.0011 - mse: 0.0011\n",
            "Epoch 86/100\n",
            "364/376 [============================>.] - ETA: 0s - loss: 9.9092e-04 - mse: 9.9092e-04WARNING:tensorflow:Early stopping conditioned on metric `val_loss` which is not available. Available metrics are: loss,mse\n",
            "376/376 [==============================] - 1s 3ms/step - loss: 0.0010 - mse: 0.0010    \n",
            "Epoch 87/100\n",
            "365/376 [============================>.] - ETA: 0s - loss: 0.0010 - mse: 0.0010WARNING:tensorflow:Early stopping conditioned on metric `val_loss` which is not available. Available metrics are: loss,mse\n",
            "376/376 [==============================] - 1s 3ms/step - loss: 0.0010 - mse: 0.0010\n",
            "Epoch 88/100\n",
            "374/376 [============================>.] - ETA: 0s - loss: 0.0011 - mse: 0.0011WARNING:tensorflow:Early stopping conditioned on metric `val_loss` which is not available. Available metrics are: loss,mse\n",
            "376/376 [==============================] - 1s 3ms/step - loss: 0.0011 - mse: 0.0011\n",
            "Epoch 89/100\n",
            "364/376 [============================>.] - ETA: 0s - loss: 0.0011 - mse: 0.0011WARNING:tensorflow:Early stopping conditioned on metric `val_loss` which is not available. Available metrics are: loss,mse\n",
            "376/376 [==============================] - 1s 3ms/step - loss: 0.0011 - mse: 0.0011\n",
            "Epoch 90/100\n",
            "368/376 [============================>.] - ETA: 0s - loss: 9.9706e-04 - mse: 9.9706e-04WARNING:tensorflow:Early stopping conditioned on metric `val_loss` which is not available. Available metrics are: loss,mse\n",
            "376/376 [==============================] - 1s 3ms/step - loss: 9.9035e-04 - mse: 9.9035e-04\n",
            "Epoch 91/100\n",
            "365/376 [============================>.] - ETA: 0s - loss: 0.0011 - mse: 0.0011WARNING:tensorflow:Early stopping conditioned on metric `val_loss` which is not available. Available metrics are: loss,mse\n",
            "376/376 [==============================] - 1s 3ms/step - loss: 0.0010 - mse: 0.0010\n",
            "Epoch 92/100\n",
            "362/376 [===========================>..] - ETA: 0s - loss: 0.0011 - mse: 0.0011WARNING:tensorflow:Early stopping conditioned on metric `val_loss` which is not available. Available metrics are: loss,mse\n",
            "376/376 [==============================] - 1s 3ms/step - loss: 0.0010 - mse: 0.0010\n",
            "Epoch 93/100\n",
            "375/376 [============================>.] - ETA: 0s - loss: 0.0011 - mse: 0.0011WARNING:tensorflow:Early stopping conditioned on metric `val_loss` which is not available. Available metrics are: loss,mse\n",
            "376/376 [==============================] - 1s 3ms/step - loss: 0.0011 - mse: 0.0011\n",
            "Epoch 94/100\n",
            "365/376 [============================>.] - ETA: 0s - loss: 0.0010 - mse: 0.0010WARNING:tensorflow:Early stopping conditioned on metric `val_loss` which is not available. Available metrics are: loss,mse\n",
            "376/376 [==============================] - 1s 3ms/step - loss: 0.0010 - mse: 0.0010\n",
            "Epoch 95/100\n",
            "372/376 [============================>.] - ETA: 0s - loss: 0.0010 - mse: 0.0010WARNING:tensorflow:Early stopping conditioned on metric `val_loss` which is not available. Available metrics are: loss,mse\n",
            "376/376 [==============================] - 1s 3ms/step - loss: 0.0010 - mse: 0.0010\n",
            "Epoch 96/100\n",
            "368/376 [============================>.] - ETA: 0s - loss: 0.0010 - mse: 0.0010WARNING:tensorflow:Early stopping conditioned on metric `val_loss` which is not available. Available metrics are: loss,mse\n",
            "376/376 [==============================] - 1s 3ms/step - loss: 0.0010 - mse: 0.0010\n",
            "Epoch 97/100\n",
            "367/376 [============================>.] - ETA: 0s - loss: 9.8258e-04 - mse: 9.8258e-04WARNING:tensorflow:Early stopping conditioned on metric `val_loss` which is not available. Available metrics are: loss,mse\n",
            "376/376 [==============================] - 1s 3ms/step - loss: 9.8948e-04 - mse: 9.8948e-04\n",
            "Epoch 98/100\n",
            "363/376 [===========================>..] - ETA: 0s - loss: 0.0010 - mse: 0.0010WARNING:tensorflow:Early stopping conditioned on metric `val_loss` which is not available. Available metrics are: loss,mse\n",
            "376/376 [==============================] - 1s 3ms/step - loss: 0.0010 - mse: 0.0010\n",
            "Epoch 99/100\n",
            "369/376 [============================>.] - ETA: 0s - loss: 0.0010 - mse: 0.0010WARNING:tensorflow:Early stopping conditioned on metric `val_loss` which is not available. Available metrics are: loss,mse\n",
            "376/376 [==============================] - 1s 3ms/step - loss: 0.0010 - mse: 0.0010\n",
            "Epoch 100/100\n",
            "369/376 [============================>.] - ETA: 0s - loss: 9.2887e-04 - mse: 9.2887e-04WARNING:tensorflow:Early stopping conditioned on metric `val_loss` which is not available. Available metrics are: loss,mse\n",
            "376/376 [==============================] - 1s 3ms/step - loss: 9.3420e-04 - mse: 9.3420e-04\n"
          ],
          "name": "stdout"
        }
      ]
    },
    {
      "cell_type": "code",
      "metadata": {
        "id": "QeukJmgbLvCK",
        "colab_type": "code",
        "colab": {}
      },
      "source": [
        "# 예측\n",
        "pred = model2.predict(test_feature)"
      ],
      "execution_count": 86,
      "outputs": []
    },
    {
      "cell_type": "code",
      "metadata": {
        "id": "lw1YwRgONPBM",
        "colab_type": "code",
        "colab": {
          "base_uri": "https://localhost:8080/",
          "height": 343
        },
        "outputId": "35423ca5-d87d-4fe6-be01-6d8c2b722e63"
      },
      "source": [
        "plt.figure(figsize=(12, 6))\n",
        "plt.plot(test_label, label='actual')\n",
        "plt.plot(pred, label='prediction')\n",
        "plt.plot(np.sqrt((pred - test_label)**2), label='Difference')\n",
        "plt.legend(frameon=False, fontsize = 18)\n",
        "plt.grid(ls='--')\n",
        "plt.show()"
      ],
      "execution_count": 88,
      "outputs": [
        {
          "output_type": "display_data",
          "data": {
            "image/png": "[encoded data removed]",
            "text/plain": [
              "<Figure size 864x432 with 1 Axes>"
            ]
          },
          "metadata": {
            "tags": [],
            "needs_background": "light"
          }
        }
      ]
    },
    {
      "cell_type": "code",
      "metadata": {
        "id": "sK6JEJApNTif",
        "colab_type": "code",
        "colab": {
          "base_uri": "https://localhost:8080/",
          "height": 34
        },
        "outputId": "a17b46a1-73af-4a4f-f9d5-5fa20ff099b5"
      },
      "source": [
        "mse=mean_squared_error(test_label, pred)\n",
        "rmse=np.sqrt(mse)\n",
        "rmse\n"
      ],
      "execution_count": 89,
      "outputs": [
        {
          "output_type": "execute_result",
          "data": {
            "text/plain": [
              "0.053810217355238325"
            ]
          },
          "metadata": {
            "tags": []
          },
          "execution_count": 89
        }
      ]
    },
    {
      "cell_type": "code",
      "metadata": {
        "id": "JIYjvt4pNbmN",
        "colab_type": "code",
        "colab": {}
      },
      "source": [
        "def Naivemodel(data, predict_range):\n",
        "    \"\"\"\n",
        "    마지막 값을 그대로 예측\n",
        "    \"\"\"\n",
        "    pred = np.empty([len(data), predict_range])\n",
        "    for i, j in enumerate(data):\n",
        "        pred[i,:] = np.full(predict_range, j[-1, 3])\n",
        "    return pred"
      ],
      "execution_count": 90,
      "outputs": []
    },
    {
      "cell_type": "code",
      "metadata": {
        "id": "3lpOaU95NgEF",
        "colab_type": "code",
        "colab": {}
      },
      "source": [
        "naive_data = Naivemodel(test_feature, 1)"
      ],
      "execution_count": 91,
      "outputs": []
    },
    {
      "cell_type": "code",
      "metadata": {
        "id": "ZWbHs2YCNhU6",
        "colab_type": "code",
        "colab": {
          "base_uri": "https://localhost:8080/",
          "height": 34
        },
        "outputId": "2d80f51c-2338-45cf-f3dd-17d7e03369a7"
      },
      "source": [
        "np.mean(keras.losses.mean_squared_error(test_label, pred))"
      ],
      "execution_count": 92,
      "outputs": [
        {
          "output_type": "execute_result",
          "data": {
            "text/plain": [
              "0.00289554"
            ]
          },
          "metadata": {
            "tags": []
          },
          "execution_count": 92
        }
      ]
    },
    {
      "cell_type": "code",
      "metadata": {
        "id": "wCBLYupQNjBk",
        "colab_type": "code",
        "colab": {
          "base_uri": "https://localhost:8080/",
          "height": 34
        },
        "outputId": "a69b7bde-ee3a-4586-f5ea-19ee1645231d"
      },
      "source": [
        "np.mean(keras.losses.mean_squared_error(test_label, naive_data))"
      ],
      "execution_count": 93,
      "outputs": [
        {
          "output_type": "execute_result",
          "data": {
            "text/plain": [
              "0.0027683201826654105"
            ]
          },
          "metadata": {
            "tags": []
          },
          "execution_count": 93
        }
      ]
    },
    {
      "cell_type": "code",
      "metadata": {
        "id": "0zKZjf_hNkke",
        "colab_type": "code",
        "colab": {
          "base_uri": "https://localhost:8080/",
          "height": 34
        },
        "outputId": "8a216cf6-7be5-49ee-bd3b-0ef5bbdb4861"
      },
      "source": [
        "#정확도\n",
        "test_sign = np.sign(test_label.flatten() - test_feature[:, -1, 3])\n",
        "pred_sign = np.sign(pred.flatten() - test_feature[:, -1, 3])\n",
        "sum(test_sign == pred_sign)/len(pred_sign)"
      ],
      "execution_count": 94,
      "outputs": [
        {
          "output_type": "execute_result",
          "data": {
            "text/plain": [
              "0.5625"
            ]
          },
          "metadata": {
            "tags": []
          },
          "execution_count": 94
        }
      ]
    },
    {
      "cell_type": "code",
      "metadata": {
        "id": "1KzhYgyJNm6z",
        "colab_type": "code",
        "colab": {
          "base_uri": "https://localhost:8080/",
          "height": 322
        },
        "outputId": "e1c99524-0cae-4a27-c0b3-9d2774a76d41"
      },
      "source": [
        "%matplotlib inline\n",
        "import matplotlib.pyplot as plt\n",
        "\n",
        "plt.scatter(test_label, pred)\n",
        "plt.xlabel(\"Price Index: $Y_i$\")\n",
        "plt.ylabel(\"Predicted price Index: $\\hat{Y}_i$\")\n",
        "plt.title(\"Prices vs Predicted price Index: $Y_i$ vs $\\hat{Y}_i$\")\n",
        "\n",
        "#예측값과 원래값이 일치하면 직선에 가깝게 분포됨"
      ],
      "execution_count": 95,
      "outputs": [
        {
          "output_type": "execute_result",
          "data": {
            "text/plain": [
              "Text(0.5, 1.0, 'Prices vs Predicted price Index: $Y_i$ vs $\\\\hat{Y}_i$')"
            ]
          },
          "metadata": {
            "tags": []
          },
          "execution_count": 95
        },
        {
          "output_type": "display_data",
          "data": {
            "image/png": "[encoded data removed]",
            "text/plain": [
              "<Figure size 432x288 with 1 Axes>"
            ]
          },
          "metadata": {
            "tags": [],
            "needs_background": "light"
          }
        }
      ]
    },
    {
      "cell_type": "code",
      "metadata": {
        "id": "XYY02ILvNqb-",
        "colab_type": "code",
        "colab": {
          "base_uri": "https://localhost:8080/",
          "height": 279
        },
        "outputId": "3d93a9ea-3b29-4f18-a363-ffa3410fa931"
      },
      "source": [
        "#훈련 손실값\n",
        "fig, loss_ax=plt.subplots()\n",
        "loss_ax.plot(history2.history['loss'], 'b', label='train loss')\n",
        "loss_ax.set_xlabel('epoch')\n",
        "loss_ax.set_ylabel('loss')\n",
        "plt.show()"
      ],
      "execution_count": 98,
      "outputs": [
        {
          "output_type": "display_data",
          "data": {
            "image/png": "[encoded data removed]",
            "text/plain": [
              "<Figure size 432x288 with 1 Axes>"
            ]
          },
          "metadata": {
            "tags": [],
            "needs_background": "light"
          }
        }
      ]
    },
    {
      "cell_type": "markdown",
      "metadata": {
        "id": "cYTq-uuZPNOK",
        "colab_type": "text"
      },
      "source": [
        "모델3(모델2랑 같음)\n"
      ]
    },
    {
      "cell_type": "markdown",
      "metadata": {
        "id": "tmJI4qZqPn8a",
        "colab_type": "text"
      },
      "source": [
        ""
      ]
    },
    {
      "cell_type": "code",
      "metadata": {
        "id": "yUAjd-vxPbGd",
        "colab_type": "code",
        "colab": {}
      },
      "source": [
        "model3=Sequential()\n",
        "model3.add(Dense(units=2,activation='relu'))\n",
        "model3.add(Dense(units=10,activation='softmax'))"
      ],
      "execution_count": 101,
      "outputs": []
    },
    {
      "cell_type": "code",
      "metadata": {
        "id": "tOflIoDYPrLP",
        "colab_type": "code",
        "colab": {}
      },
      "source": [
        "model3.compile(loss='mse', optimizer='adam', metrics=['accuracy'])"
      ],
      "execution_count": 102,
      "outputs": []
    },
    {
      "cell_type": "code",
      "metadata": {
        "id": "yapYSyAFRFw9",
        "colab_type": "code",
        "colab": {
          "base_uri": "https://localhost:8080/",
          "height": 34
        },
        "outputId": "0360d6d1-e312-4ae0-be09-a2a4da4626a9"
      },
      "source": [
        "print(len(x_train))"
      ],
      "execution_count": 111,
      "outputs": [
        {
          "output_type": "stream",
          "text": [
            "376\n"
          ],
          "name": "stdout"
        }
      ]
    },
    {
      "cell_type": "code",
      "metadata": {
        "id": "RgYm60j1P80A",
        "colab_type": "code",
        "colab": {}
      },
      "source": [
        "X_val = x_train[120:]\n",
        "Y_val = y_train[120:]"
      ],
      "execution_count": 112,
      "outputs": []
    },
    {
      "cell_type": "code",
      "metadata": {
        "id": "fFNG_IWDQRzm",
        "colab_type": "code",
        "colab": {
          "base_uri": "https://localhost:8080/",
          "height": 1000
        },
        "outputId": "7a2bed43-9efb-4e69-8471-e2578c728b0a"
      },
      "source": [
        "history3 = model3.fit(x_train, y_train, epochs=100, batch_size=1, validation_data=(x_valid, y_valid))"
      ],
      "execution_count": 117,
      "outputs": [
        {
          "output_type": "stream",
          "text": [
            "Epoch 1/100\n",
            "376/376 [==============================] - 1s 2ms/step - loss: 0.1142 - accuracy: 0.0000e+00 - val_loss: 0.0981 - val_accuracy: 0.0000e+00\n",
            "Epoch 2/100\n",
            "376/376 [==============================] - 1s 1ms/step - loss: 0.1142 - accuracy: 0.0000e+00 - val_loss: 0.0981 - val_accuracy: 0.0000e+00\n",
            "Epoch 3/100\n",
            "376/376 [==============================] - 1s 1ms/step - loss: 0.1142 - accuracy: 0.0027 - val_loss: 0.0981 - val_accuracy: 0.0000e+00\n",
            "Epoch 4/100\n",
            "376/376 [==============================] - 1s 1ms/step - loss: 0.1142 - accuracy: 0.0027 - val_loss: 0.0981 - val_accuracy: 0.0000e+00\n",
            "Epoch 5/100\n",
            "376/376 [==============================] - 1s 1ms/step - loss: 0.1142 - accuracy: 0.0000e+00 - val_loss: 0.0981 - val_accuracy: 0.0000e+00\n",
            "Epoch 6/100\n",
            "376/376 [==============================] - 1s 1ms/step - loss: 0.1142 - accuracy: 0.0000e+00 - val_loss: 0.0981 - val_accuracy: 0.0000e+00\n",
            "Epoch 7/100\n",
            "376/376 [==============================] - 1s 1ms/step - loss: 0.1142 - accuracy: 0.0000e+00 - val_loss: 0.0981 - val_accuracy: 0.0000e+00\n",
            "Epoch 8/100\n",
            "376/376 [==============================] - 1s 1ms/step - loss: 0.1142 - accuracy: 0.0000e+00 - val_loss: 0.0981 - val_accuracy: 0.0000e+00\n",
            "Epoch 9/100\n",
            "376/376 [==============================] - 1s 1ms/step - loss: 0.1142 - accuracy: 0.0000e+00 - val_loss: 0.0981 - val_accuracy: 0.0000e+00\n",
            "Epoch 10/100\n",
            "376/376 [==============================] - 1s 1ms/step - loss: 0.1142 - accuracy: 0.0000e+00 - val_loss: 0.0981 - val_accuracy: 0.0000e+00\n",
            "Epoch 11/100\n",
            "376/376 [==============================] - 1s 1ms/step - loss: 0.1142 - accuracy: 0.0000e+00 - val_loss: 0.0981 - val_accuracy: 0.0000e+00\n",
            "Epoch 12/100\n",
            "376/376 [==============================] - 1s 1ms/step - loss: 0.1142 - accuracy: 0.0000e+00 - val_loss: 0.0981 - val_accuracy: 0.0000e+00\n",
            "Epoch 13/100\n",
            "376/376 [==============================] - 1s 1ms/step - loss: 0.1142 - accuracy: 0.0000e+00 - val_loss: 0.0981 - val_accuracy: 0.0000e+00\n",
            "Epoch 14/100\n",
            "376/376 [==============================] - 1s 1ms/step - loss: 0.1142 - accuracy: 0.0000e+00 - val_loss: 0.0981 - val_accuracy: 0.0000e+00\n",
            "Epoch 15/100\n",
            "376/376 [==============================] - 1s 1ms/step - loss: 0.1142 - accuracy: 0.0000e+00 - val_loss: 0.0981 - val_accuracy: 0.0000e+00\n",
            "Epoch 16/100\n",
            "376/376 [==============================] - 1s 1ms/step - loss: 0.1142 - accuracy: 0.0000e+00 - val_loss: 0.0981 - val_accuracy: 0.0000e+00\n",
            "Epoch 17/100\n",
            "376/376 [==============================] - 1s 1ms/step - loss: 0.1142 - accuracy: 0.0027 - val_loss: 0.0981 - val_accuracy: 0.0000e+00\n",
            "Epoch 18/100\n",
            "376/376 [==============================] - 1s 1ms/step - loss: 0.1142 - accuracy: 0.0000e+00 - val_loss: 0.0981 - val_accuracy: 0.0000e+00\n",
            "Epoch 19/100\n",
            "376/376 [==============================] - 1s 1ms/step - loss: 0.1142 - accuracy: 0.0027 - val_loss: 0.0981 - val_accuracy: 0.0000e+00\n",
            "Epoch 20/100\n",
            "376/376 [==============================] - 1s 1ms/step - loss: 0.1142 - accuracy: 0.0027 - val_loss: 0.0981 - val_accuracy: 0.0000e+00\n",
            "Epoch 21/100\n",
            "376/376 [==============================] - 1s 1ms/step - loss: 0.1142 - accuracy: 0.0027 - val_loss: 0.0981 - val_accuracy: 0.0000e+00\n",
            "Epoch 22/100\n",
            "376/376 [==============================] - 1s 1ms/step - loss: 0.1142 - accuracy: 0.0000e+00 - val_loss: 0.0981 - val_accuracy: 0.0000e+00\n",
            "Epoch 23/100\n",
            "376/376 [==============================] - 1s 1ms/step - loss: 0.1142 - accuracy: 0.0000e+00 - val_loss: 0.0981 - val_accuracy: 0.0000e+00\n",
            "Epoch 24/100\n",
            "376/376 [==============================] - 1s 1ms/step - loss: 0.1142 - accuracy: 0.0027 - val_loss: 0.0981 - val_accuracy: 0.0000e+00\n",
            "Epoch 25/100\n",
            "376/376 [==============================] - 1s 1ms/step - loss: 0.1142 - accuracy: 0.0000e+00 - val_loss: 0.0981 - val_accuracy: 0.0000e+00\n",
            "Epoch 26/100\n",
            "376/376 [==============================] - 1s 1ms/step - loss: 0.1142 - accuracy: 0.0000e+00 - val_loss: 0.0981 - val_accuracy: 0.0000e+00\n",
            "Epoch 27/100\n",
            "376/376 [==============================] - 1s 1ms/step - loss: 0.1142 - accuracy: 0.0000e+00 - val_loss: 0.0981 - val_accuracy: 0.0000e+00\n",
            "Epoch 28/100\n",
            "376/376 [==============================] - 1s 1ms/step - loss: 0.1142 - accuracy: 0.0027 - val_loss: 0.0981 - val_accuracy: 0.0000e+00\n",
            "Epoch 29/100\n",
            "376/376 [==============================] - 1s 1ms/step - loss: 0.1142 - accuracy: 0.0000e+00 - val_loss: 0.0981 - val_accuracy: 0.0000e+00\n",
            "Epoch 30/100\n",
            "376/376 [==============================] - 1s 1ms/step - loss: 0.1142 - accuracy: 0.0027 - val_loss: 0.0981 - val_accuracy: 0.0000e+00\n",
            "Epoch 31/100\n",
            "376/376 [==============================] - 1s 1ms/step - loss: 0.1142 - accuracy: 0.0000e+00 - val_loss: 0.0981 - val_accuracy: 0.0000e+00\n",
            "Epoch 32/100\n",
            "376/376 [==============================] - 1s 1ms/step - loss: 0.1142 - accuracy: 0.0000e+00 - val_loss: 0.0981 - val_accuracy: 0.0000e+00\n",
            "Epoch 33/100\n",
            "376/376 [==============================] - 1s 1ms/step - loss: 0.1142 - accuracy: 0.0000e+00 - val_loss: 0.0981 - val_accuracy: 0.0000e+00\n",
            "Epoch 34/100\n",
            "376/376 [==============================] - 1s 1ms/step - loss: 0.1142 - accuracy: 0.0000e+00 - val_loss: 0.0981 - val_accuracy: 0.0000e+00\n",
            "Epoch 35/100\n",
            "376/376 [==============================] - 1s 1ms/step - loss: 0.1142 - accuracy: 0.0000e+00 - val_loss: 0.0981 - val_accuracy: 0.0000e+00\n",
            "Epoch 36/100\n",
            "376/376 [==============================] - 1s 1ms/step - loss: 0.1142 - accuracy: 0.0000e+00 - val_loss: 0.0981 - val_accuracy: 0.0000e+00\n",
            "Epoch 37/100\n",
            "376/376 [==============================] - 1s 1ms/step - loss: 0.1142 - accuracy: 0.0000e+00 - val_loss: 0.0981 - val_accuracy: 0.0000e+00\n",
            "Epoch 38/100\n",
            "376/376 [==============================] - 1s 1ms/step - loss: 0.1142 - accuracy: 0.0000e+00 - val_loss: 0.0981 - val_accuracy: 0.0000e+00\n",
            "Epoch 39/100\n",
            "376/376 [==============================] - 1s 1ms/step - loss: 0.1142 - accuracy: 0.0000e+00 - val_loss: 0.0981 - val_accuracy: 0.0000e+00\n",
            "Epoch 40/100\n",
            "376/376 [==============================] - 1s 1ms/step - loss: 0.1142 - accuracy: 0.0000e+00 - val_loss: 0.0981 - val_accuracy: 0.0000e+00\n",
            "Epoch 41/100\n",
            "376/376 [==============================] - 1s 1ms/step - loss: 0.1142 - accuracy: 0.0000e+00 - val_loss: 0.0981 - val_accuracy: 0.0000e+00\n",
            "Epoch 42/100\n",
            "376/376 [==============================] - 1s 1ms/step - loss: 0.1142 - accuracy: 0.0000e+00 - val_loss: 0.0981 - val_accuracy: 0.0000e+00\n",
            "Epoch 43/100\n",
            "376/376 [==============================] - 1s 1ms/step - loss: 0.1142 - accuracy: 0.0027 - val_loss: 0.0981 - val_accuracy: 0.0000e+00\n",
            "Epoch 44/100\n",
            "376/376 [==============================] - 1s 1ms/step - loss: 0.1142 - accuracy: 0.0027 - val_loss: 0.0981 - val_accuracy: 0.0000e+00\n",
            "Epoch 45/100\n",
            "376/376 [==============================] - 1s 1ms/step - loss: 0.1142 - accuracy: 0.0000e+00 - val_loss: 0.0981 - val_accuracy: 0.0000e+00\n",
            "Epoch 46/100\n",
            "376/376 [==============================] - 1s 1ms/step - loss: 0.1142 - accuracy: 0.0027 - val_loss: 0.0981 - val_accuracy: 0.0000e+00\n",
            "Epoch 47/100\n",
            "376/376 [==============================] - 1s 1ms/step - loss: 0.1142 - accuracy: 0.0000e+00 - val_loss: 0.0981 - val_accuracy: 0.0000e+00\n",
            "Epoch 48/100\n",
            "376/376 [==============================] - 1s 1ms/step - loss: 0.1142 - accuracy: 0.0000e+00 - val_loss: 0.0981 - val_accuracy: 0.0000e+00\n",
            "Epoch 49/100\n",
            "376/376 [==============================] - 1s 1ms/step - loss: 0.1142 - accuracy: 0.0000e+00 - val_loss: 0.0981 - val_accuracy: 0.0000e+00\n",
            "Epoch 50/100\n",
            "376/376 [==============================] - 1s 1ms/step - loss: 0.1142 - accuracy: 0.0000e+00 - val_loss: 0.0981 - val_accuracy: 0.0000e+00\n",
            "Epoch 51/100\n",
            "376/376 [==============================] - 1s 1ms/step - loss: 0.1142 - accuracy: 0.0027 - val_loss: 0.0981 - val_accuracy: 0.0000e+00\n",
            "Epoch 52/100\n",
            "376/376 [==============================] - 1s 1ms/step - loss: 0.1142 - accuracy: 0.0000e+00 - val_loss: 0.0981 - val_accuracy: 0.0000e+00\n",
            "Epoch 53/100\n",
            "376/376 [==============================] - 1s 1ms/step - loss: 0.1142 - accuracy: 0.0027 - val_loss: 0.0981 - val_accuracy: 0.0000e+00\n",
            "Epoch 54/100\n",
            "376/376 [==============================] - 1s 1ms/step - loss: 0.1142 - accuracy: 0.0000e+00 - val_loss: 0.0981 - val_accuracy: 0.0000e+00\n",
            "Epoch 55/100\n",
            "376/376 [==============================] - 1s 1ms/step - loss: 0.1142 - accuracy: 0.0000e+00 - val_loss: 0.0981 - val_accuracy: 0.0000e+00\n",
            "Epoch 56/100\n",
            "376/376 [==============================] - 1s 1ms/step - loss: 0.1142 - accuracy: 0.0000e+00 - val_loss: 0.0981 - val_accuracy: 0.0000e+00\n",
            "Epoch 57/100\n",
            "376/376 [==============================] - 1s 1ms/step - loss: 0.1142 - accuracy: 0.0000e+00 - val_loss: 0.0981 - val_accuracy: 0.0000e+00\n",
            "Epoch 58/100\n",
            "376/376 [==============================] - 1s 1ms/step - loss: 0.1142 - accuracy: 0.0000e+00 - val_loss: 0.0981 - val_accuracy: 0.0000e+00\n",
            "Epoch 59/100\n",
            "376/376 [==============================] - 1s 1ms/step - loss: 0.1142 - accuracy: 0.0000e+00 - val_loss: 0.0981 - val_accuracy: 0.0000e+00\n",
            "Epoch 60/100\n",
            "376/376 [==============================] - 1s 1ms/step - loss: 0.1142 - accuracy: 0.0000e+00 - val_loss: 0.0981 - val_accuracy: 0.0000e+00\n",
            "Epoch 61/100\n",
            "376/376 [==============================] - 1s 1ms/step - loss: 0.1142 - accuracy: 0.0000e+00 - val_loss: 0.0981 - val_accuracy: 0.0000e+00\n",
            "Epoch 62/100\n",
            "376/376 [==============================] - 1s 1ms/step - loss: 0.1142 - accuracy: 0.0000e+00 - val_loss: 0.0981 - val_accuracy: 0.0000e+00\n",
            "Epoch 63/100\n",
            "376/376 [==============================] - 1s 1ms/step - loss: 0.1142 - accuracy: 0.0000e+00 - val_loss: 0.0981 - val_accuracy: 0.0000e+00\n",
            "Epoch 64/100\n",
            "376/376 [==============================] - 1s 1ms/step - loss: 0.1142 - accuracy: 0.0027 - val_loss: 0.0981 - val_accuracy: 0.0000e+00\n",
            "Epoch 65/100\n",
            "376/376 [==============================] - 1s 1ms/step - loss: 0.1142 - accuracy: 0.0000e+00 - val_loss: 0.0981 - val_accuracy: 0.0000e+00\n",
            "Epoch 66/100\n",
            "376/376 [==============================] - 1s 1ms/step - loss: 0.1142 - accuracy: 0.0000e+00 - val_loss: 0.0981 - val_accuracy: 0.0000e+00\n",
            "Epoch 67/100\n",
            "376/376 [==============================] - 1s 1ms/step - loss: 0.1142 - accuracy: 0.0000e+00 - val_loss: 0.0981 - val_accuracy: 0.0000e+00\n",
            "Epoch 68/100\n",
            "376/376 [==============================] - 1s 1ms/step - loss: 0.1142 - accuracy: 0.0000e+00 - val_loss: 0.0981 - val_accuracy: 0.0000e+00\n",
            "Epoch 69/100\n",
            "376/376 [==============================] - 1s 1ms/step - loss: 0.1142 - accuracy: 0.0027 - val_loss: 0.0981 - val_accuracy: 0.0000e+00\n",
            "Epoch 70/100\n",
            "376/376 [==============================] - 1s 1ms/step - loss: 0.1142 - accuracy: 0.0000e+00 - val_loss: 0.0981 - val_accuracy: 0.0000e+00\n",
            "Epoch 71/100\n",
            "376/376 [==============================] - 1s 1ms/step - loss: 0.1142 - accuracy: 0.0000e+00 - val_loss: 0.0981 - val_accuracy: 0.0000e+00\n",
            "Epoch 72/100\n",
            "376/376 [==============================] - 1s 1ms/step - loss: 0.1142 - accuracy: 0.0000e+00 - val_loss: 0.0981 - val_accuracy: 0.0000e+00\n",
            "Epoch 73/100\n",
            "376/376 [==============================] - 1s 1ms/step - loss: 0.1142 - accuracy: 0.0027 - val_loss: 0.0981 - val_accuracy: 0.0000e+00\n",
            "Epoch 74/100\n",
            "376/376 [==============================] - 1s 1ms/step - loss: 0.1142 - accuracy: 0.0000e+00 - val_loss: 0.0981 - val_accuracy: 0.0000e+00\n",
            "Epoch 75/100\n",
            "376/376 [==============================] - 1s 1ms/step - loss: 0.1142 - accuracy: 0.0000e+00 - val_loss: 0.0981 - val_accuracy: 0.0000e+00\n",
            "Epoch 76/100\n",
            "376/376 [==============================] - 1s 1ms/step - loss: 0.1142 - accuracy: 0.0027 - val_loss: 0.0981 - val_accuracy: 0.0000e+00\n",
            "Epoch 77/100\n",
            "376/376 [==============================] - 1s 1ms/step - loss: 0.1142 - accuracy: 0.0027 - val_loss: 0.0981 - val_accuracy: 0.0000e+00\n",
            "Epoch 78/100\n",
            "376/376 [==============================] - 1s 2ms/step - loss: 0.1142 - accuracy: 0.0000e+00 - val_loss: 0.0981 - val_accuracy: 0.0000e+00\n",
            "Epoch 79/100\n",
            "376/376 [==============================] - 1s 2ms/step - loss: 0.1142 - accuracy: 0.0000e+00 - val_loss: 0.0981 - val_accuracy: 0.0000e+00\n",
            "Epoch 80/100\n",
            "376/376 [==============================] - 1s 2ms/step - loss: 0.1142 - accuracy: 0.0027 - val_loss: 0.0981 - val_accuracy: 0.0000e+00\n",
            "Epoch 81/100\n",
            "376/376 [==============================] - 1s 2ms/step - loss: 0.1142 - accuracy: 0.0000e+00 - val_loss: 0.0981 - val_accuracy: 0.0000e+00\n",
            "Epoch 82/100\n",
            "376/376 [==============================] - 1s 2ms/step - loss: 0.1142 - accuracy: 0.0000e+00 - val_loss: 0.0981 - val_accuracy: 0.0000e+00\n",
            "Epoch 83/100\n",
            "376/376 [==============================] - 1s 2ms/step - loss: 0.1142 - accuracy: 0.0000e+00 - val_loss: 0.0981 - val_accuracy: 0.0000e+00\n",
            "Epoch 84/100\n",
            "376/376 [==============================] - 1s 2ms/step - loss: 0.1142 - accuracy: 0.0000e+00 - val_loss: 0.0981 - val_accuracy: 0.0000e+00\n",
            "Epoch 85/100\n",
            "376/376 [==============================] - 1s 2ms/step - loss: 0.1142 - accuracy: 0.0000e+00 - val_loss: 0.0981 - val_accuracy: 0.0000e+00\n",
            "Epoch 86/100\n",
            "376/376 [==============================] - 1s 1ms/step - loss: 0.1142 - accuracy: 0.0000e+00 - val_loss: 0.0981 - val_accuracy: 0.0000e+00\n",
            "Epoch 87/100\n",
            "376/376 [==============================] - 1s 1ms/step - loss: 0.1142 - accuracy: 0.0000e+00 - val_loss: 0.0981 - val_accuracy: 0.0000e+00\n",
            "Epoch 88/100\n",
            "376/376 [==============================] - 1s 1ms/step - loss: 0.1142 - accuracy: 0.0027 - val_loss: 0.0981 - val_accuracy: 0.0000e+00\n",
            "Epoch 89/100\n",
            "376/376 [==============================] - 1s 1ms/step - loss: 0.1142 - accuracy: 0.0000e+00 - val_loss: 0.0981 - val_accuracy: 0.0000e+00\n",
            "Epoch 90/100\n",
            "376/376 [==============================] - 1s 1ms/step - loss: 0.1142 - accuracy: 0.0000e+00 - val_loss: 0.0981 - val_accuracy: 0.0000e+00\n",
            "Epoch 91/100\n",
            "376/376 [==============================] - 1s 1ms/step - loss: 0.1142 - accuracy: 0.0027 - val_loss: 0.0981 - val_accuracy: 0.0000e+00\n",
            "Epoch 92/100\n",
            "376/376 [==============================] - 1s 2ms/step - loss: 0.1142 - accuracy: 0.0000e+00 - val_loss: 0.0981 - val_accuracy: 0.0000e+00\n",
            "Epoch 93/100\n",
            "376/376 [==============================] - 1s 1ms/step - loss: 0.1142 - accuracy: 0.0000e+00 - val_loss: 0.0981 - val_accuracy: 0.0000e+00\n",
            "Epoch 94/100\n",
            "376/376 [==============================] - 1s 1ms/step - loss: 0.1142 - accuracy: 0.0000e+00 - val_loss: 0.0981 - val_accuracy: 0.0000e+00\n",
            "Epoch 95/100\n",
            "376/376 [==============================] - 1s 1ms/step - loss: 0.1142 - accuracy: 0.0000e+00 - val_loss: 0.0981 - val_accuracy: 0.0000e+00\n",
            "Epoch 96/100\n",
            "376/376 [==============================] - 1s 1ms/step - loss: 0.1142 - accuracy: 0.0027 - val_loss: 0.0981 - val_accuracy: 0.0000e+00\n",
            "Epoch 97/100\n",
            "376/376 [==============================] - 1s 1ms/step - loss: 0.1142 - accuracy: 0.0000e+00 - val_loss: 0.0981 - val_accuracy: 0.0000e+00\n",
            "Epoch 98/100\n",
            "376/376 [==============================] - 1s 1ms/step - loss: 0.1142 - accuracy: 0.0000e+00 - val_loss: 0.0981 - val_accuracy: 0.0000e+00\n",
            "Epoch 99/100\n",
            "376/376 [==============================] - 1s 1ms/step - loss: 0.1142 - accuracy: 0.0000e+00 - val_loss: 0.0981 - val_accuracy: 0.0000e+00\n",
            "Epoch 100/100\n",
            "376/376 [==============================] - 1s 1ms/step - loss: 0.1142 - accuracy: 0.0000e+00 - val_loss: 0.0981 - val_accuracy: 0.0000e+00\n"
          ],
          "name": "stdout"
        }
      ]
    },
    {
      "cell_type": "code",
      "metadata": {
        "id": "HI4UTtbEQ3s4",
        "colab_type": "code",
        "colab": {
          "base_uri": "https://localhost:8080/",
          "height": 218
        },
        "outputId": "b279b7f3-7787-4de1-fbd8-099391d8b147"
      },
      "source": [
        "model3.summary()"
      ],
      "execution_count": 118,
      "outputs": [
        {
          "output_type": "stream",
          "text": [
            "Model: \"sequential_6\"\n",
            "_________________________________________________________________\n",
            "Layer (type)                 Output Shape              Param #   \n",
            "=================================================================\n",
            "dense_10 (Dense)             (None, 20, 2)             32        \n",
            "_________________________________________________________________\n",
            "dense_11 (Dense)             (None, 20, 10)            30        \n",
            "=================================================================\n",
            "Total params: 62\n",
            "Trainable params: 62\n",
            "Non-trainable params: 0\n",
            "_________________________________________________________________\n"
          ],
          "name": "stdout"
        }
      ]
    },
    {
      "cell_type": "code",
      "metadata": {
        "id": "fJOZ4UNKS12J",
        "colab_type": "code",
        "colab": {}
      },
      "source": [
        "# 예측\n",
        "pred = model2.predict(test_feature)"
      ],
      "execution_count": 119,
      "outputs": []
    },
    {
      "cell_type": "code",
      "metadata": {
        "id": "kApd23z9S3lm",
        "colab_type": "code",
        "colab": {
          "base_uri": "https://localhost:8080/",
          "height": 34
        },
        "outputId": "8759fb67-bf36-4fa3-e820-049d9a6135c2"
      },
      "source": [
        "mse=mean_squared_error(test_label, pred)\n",
        "rmse=np.sqrt(mse)\n",
        "rmse"
      ],
      "execution_count": 120,
      "outputs": [
        {
          "output_type": "execute_result",
          "data": {
            "text/plain": [
              "0.053810217355238325"
            ]
          },
          "metadata": {
            "tags": []
          },
          "execution_count": 120
        }
      ]
    },
    {
      "cell_type": "code",
      "metadata": {
        "id": "H9BkevXCS4w4",
        "colab_type": "code",
        "colab": {
          "base_uri": "https://localhost:8080/",
          "height": 34
        },
        "outputId": "c77b00e1-ef84-4623-b7bb-6a78483b06a3"
      },
      "source": [
        "#정확도\n",
        "test_sign = np.sign(test_label.flatten() - test_feature[:, -1, 3])\n",
        "pred_sign = np.sign(pred.flatten() - test_feature[:, -1, 3])\n",
        "sum(test_sign == pred_sign)/len(pred_sign)"
      ],
      "execution_count": 121,
      "outputs": [
        {
          "output_type": "execute_result",
          "data": {
            "text/plain": [
              "0.5625"
            ]
          },
          "metadata": {
            "tags": []
          },
          "execution_count": 121
        }
      ]
    }
  ]
}